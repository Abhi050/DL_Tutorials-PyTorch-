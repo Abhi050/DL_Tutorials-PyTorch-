{
  "nbformat": 4,
  "nbformat_minor": 0,
  "metadata": {
    "kernelspec": {
      "display_name": "Python 3",
      "language": "python",
      "name": "python3"
    },
    "language_info": {
      "codemirror_mode": {
        "name": "ipython",
        "version": 3
      },
      "file_extension": ".py",
      "mimetype": "text/x-python",
      "name": "python",
      "nbconvert_exporter": "python",
      "pygments_lexer": "ipython3",
      "version": "3.7.6"
    },
    "colab": {
      "name": "01-tensor-operations.ipynb",
      "provenance": [],
      "include_colab_link": true
    }
  },
  "cells": [
    {
      "cell_type": "markdown",
      "metadata": {
        "id": "view-in-github",
        "colab_type": "text"
      },
      "source": [
        "<a href=\"https://colab.research.google.com/github/Abhi050/DL_Tutorials-PyTorch-/blob/master/01_tensor_operations.ipynb\" target=\"_parent\"><img src=\"https://colab.research.google.com/assets/colab-badge.svg\" alt=\"Open In Colab\"/></a>"
      ]
    },
    {
      "cell_type": "markdown",
      "metadata": {
        "id": "hPRJjZrtaWfG",
        "colab_type": "text"
      },
      "source": [
        "# Assignment - 1(Introduction to Tensors in Pytorch and some of their interesting function)\n",
        "\n",
        "Pytorch is an open source machine learning library based on the torch package. It was primarily developed by FaceBook's AI research team. They provide with end to end research framework. In addition to the framework they allow chaining of high-level nueral network modules since it supports Keras like API in its torch.nn (help in creating and training of the neural network) package. Pytorch is mainly employed for application such as the Computer Vision (use of image processing algorithms to gain high-level understanding from digital images or videos) and Natural Language Processing (ability of a computer program to understand human language).\n",
        "\n",
        "- new_full(size, fill_value, dtype=None, device=None, requires_grad=False)\n",
        "- torch.ne(input, other, out=None) → Tensor\n",
        "- torch.cat()\n",
        "- gather()\n",
        "- torch.flatten()"
      ]
    },
    {
      "cell_type": "code",
      "metadata": {
        "id": "LCmUGkGuaWfK",
        "colab_type": "code",
        "colab": {}
      },
      "source": [
        "# Import torch and other required modules\n",
        "import torch\n",
        "import numpy as np"
      ],
      "execution_count": 0,
      "outputs": []
    },
    {
      "cell_type": "markdown",
      "metadata": {
        "id": "I2xXns5paWfX",
        "colab_type": "text"
      },
      "source": [
        "## Function 1 -new_full(size, fill_value, dtype=None, device=None, requires_grad=False)\n",
        "\n",
        "This function is used to return a tensor with a specified size and is filled with a specific value given as input. The output tensor will have the default datatype which can be also be manipulated.\n",
        "\n",
        "The parameters of the function are :-\n",
        "\n",
        "(i) device (torch.device, optional) – the desired device of returned tensor. By default the value is set as if None, same torch.device as this tensor.\n",
        "\n",
        "(ii) requires_grad (bool, optional) – If autograd should record operations on the returned tensor. By default the value is set as False.\n",
        "\n",
        "(iii) fill_value (scalar) – the number to fill the output tensor with.\n",
        "\n",
        "(iv) dtype (torch.dtype, optional) – the desired type of returned tensor. By default the value is if None, same torch.dtype as this tensor.\n",
        "\n"
      ]
    },
    {
      "cell_type": "code",
      "metadata": {
        "id": "BtTSNztYaWfZ",
        "colab_type": "code",
        "colab": {},
        "outputId": "251b7b76-97dd-400d-f3d2-03baaeaad54a"
      },
      "source": [
        "# Example 1 - working\n",
        "t=torch.zeros([3, 3],dtype=torch.float64)\n",
        "print(t)\n",
        "t.new_full([2,4],0.112)\n"
      ],
      "execution_count": 0,
      "outputs": [
        {
          "output_type": "stream",
          "text": [
            "tensor([[0., 0., 0.],\n",
            "        [0., 0., 0.],\n",
            "        [0., 0., 0.]], dtype=torch.float64)\n"
          ],
          "name": "stdout"
        },
        {
          "output_type": "execute_result",
          "data": {
            "text/plain": [
              "tensor([[0.1120, 0.1120, 0.1120, 0.1120],\n",
              "        [0.1120, 0.1120, 0.1120, 0.1120]], dtype=torch.float64)"
            ]
          },
          "metadata": {
            "tags": []
          },
          "execution_count": 10
        }
      ]
    },
    {
      "cell_type": "markdown",
      "metadata": {
        "id": "UEsAzPrgaWfn",
        "colab_type": "text"
      },
      "source": [
        "In above example we can see that first we created a tensor which has three columns and rows and is filled with zeros using the function torch.zeros() it is also specified that it has the datatype torch.float64. Now we use this tensor to create a new one with a different size and is filled its elements with a scalar quantity."
      ]
    },
    {
      "cell_type": "code",
      "metadata": {
        "id": "4jzB9giGaWfq",
        "colab_type": "code",
        "colab": {},
        "outputId": "451ca260-f198-4b45-e39d-2fd046cf8022"
      },
      "source": [
        "# Example 2 - working\n",
        "t=torch.ones([4, 4],dtype=torch.int64)\n",
        "t.new_full([3,3],999)"
      ],
      "execution_count": 0,
      "outputs": [
        {
          "output_type": "execute_result",
          "data": {
            "text/plain": [
              "tensor([[999, 999, 999],\n",
              "        [999, 999, 999],\n",
              "        [999, 999, 999]])"
            ]
          },
          "metadata": {
            "tags": []
          },
          "execution_count": 18
        }
      ]
    },
    {
      "cell_type": "markdown",
      "metadata": {
        "id": "j0xP4UboaWf1",
        "colab_type": "text"
      },
      "source": [
        "In above example we can see that first we created a tensor which has four columns and rows and is filled with ones using the function torch.ones() it is also specified that it has the datatype torch.int64. Now we use this tensor to create a new one with a different size and is filled its elements with a scalar quantity."
      ]
    },
    {
      "cell_type": "code",
      "metadata": {
        "id": "cWo2H6lHaWf3",
        "colab_type": "code",
        "colab": {},
        "outputId": "1e3f2711-a3cd-4b02-dce2-9698eb160ad8"
      },
      "source": [
        "# Example 3 - breaking (to illustrate when it breaks)\n",
        "t=torch.ones([4, 4],dtype=torch.float64)\n",
        "t.new_full([3,3],0.11234)"
      ],
      "execution_count": 0,
      "outputs": [
        {
          "output_type": "execute_result",
          "data": {
            "text/plain": [
              "tensor([[0.1123, 0.1123, 0.1123],\n",
              "        [0.1123, 0.1123, 0.1123],\n",
              "        [0.1123, 0.1123, 0.1123]], dtype=torch.float64)"
            ]
          },
          "metadata": {
            "tags": []
          },
          "execution_count": 19
        }
      ]
    },
    {
      "cell_type": "markdown",
      "metadata": {
        "id": "nQzLlLYlaWgD",
        "colab_type": "text"
      },
      "source": [
        "in doing so it dont consider or round off ant value after 4th decimal place"
      ]
    },
    {
      "cell_type": "markdown",
      "metadata": {
        "id": "kEHbR5MQaWgF",
        "colab_type": "text"
      },
      "source": [
        "This functon is really is useful in creating a new tensor of any shape and datatype from a pre-defined tensor."
      ]
    },
    {
      "cell_type": "markdown",
      "metadata": {
        "id": "DYMZGqr0aWgI",
        "colab_type": "text"
      },
      "source": [
        "## Function 2 - torch.ne(input, other, out=None) → Tensor\n",
        "\n",
        "This function is used for element-wise comparing the two tensors. Returns False at the tensor positions where the elements match and True at the other places\n"
      ]
    },
    {
      "cell_type": "code",
      "metadata": {
        "id": "6AQ0Kc4UaWgK",
        "colab_type": "code",
        "colab": {},
        "outputId": "368f98a0-a521-455b-cf39-66c05755b982"
      },
      "source": [
        "# Example 1 - working\n",
        "torch.ne(torch.tensor([[1,2,3],[1,2,3]]),torch.tensor([[1,2,2],[1,1,3]]))"
      ],
      "execution_count": 0,
      "outputs": [
        {
          "output_type": "execute_result",
          "data": {
            "text/plain": [
              "tensor([[False, False,  True],\n",
              "        [False,  True, False]])"
            ]
          },
          "metadata": {
            "tags": []
          },
          "execution_count": 20
        }
      ]
    },
    {
      "cell_type": "markdown",
      "metadata": {
        "id": "BBtx25bBaWgV",
        "colab_type": "text"
      },
      "source": [
        "Element wise comparison is done and False is returned for not same values and True is returned for same values."
      ]
    },
    {
      "cell_type": "code",
      "metadata": {
        "id": "KmcwRdhOaWgX",
        "colab_type": "code",
        "colab": {},
        "outputId": "04178c7e-997b-43fa-e2a7-7b097034575b"
      },
      "source": [
        "# Example 2 - working\n",
        "torch.ne(torch.tensor([[1.,2,3],[1.,2,3]]),torch.tensor([[1,2,2],[1,1,False]]))"
      ],
      "execution_count": 0,
      "outputs": [
        {
          "output_type": "execute_result",
          "data": {
            "text/plain": [
              "tensor([[False, False,  True],\n",
              "        [False,  True,  True]])"
            ]
          },
          "metadata": {
            "tags": []
          },
          "execution_count": 21
        }
      ]
    },
    {
      "cell_type": "markdown",
      "metadata": {
        "id": "3EyqLQz0aWgl",
        "colab_type": "text"
      },
      "source": [
        "During comparison 1. is equal to 1 and True."
      ]
    },
    {
      "cell_type": "code",
      "metadata": {
        "id": "Dv3cJqHgaWgm",
        "colab_type": "code",
        "colab": {},
        "outputId": "4ca39a20-f89c-4901-af8c-ac04c2b02ea7"
      },
      "source": [
        "# Example 3 - breaking (to illustrate when it breaks)\n",
        "torch.ne(torch.tensor([[1,2,3],[1,2,3]]),torch.tensor([[1,2,2,2],[1,1,3,2]]))"
      ],
      "execution_count": 0,
      "outputs": [
        {
          "output_type": "error",
          "ename": "RuntimeError",
          "evalue": "The size of tensor a (3) must match the size of tensor b (4) at non-singleton dimension 1",
          "traceback": [
            "\u001b[0;31m---------------------------------------------------------------------------\u001b[0m",
            "\u001b[0;31mRuntimeError\u001b[0m                              Traceback (most recent call last)",
            "\u001b[0;32m<ipython-input-22-892ea048b952>\u001b[0m in \u001b[0;36m<module>\u001b[0;34m\u001b[0m\n\u001b[1;32m      1\u001b[0m \u001b[0;31m# Example 3 - breaking (to illustrate when it breaks)\u001b[0m\u001b[0;34m\u001b[0m\u001b[0;34m\u001b[0m\u001b[0;34m\u001b[0m\u001b[0m\n\u001b[0;32m----> 2\u001b[0;31m \u001b[0mtorch\u001b[0m\u001b[0;34m.\u001b[0m\u001b[0mne\u001b[0m\u001b[0;34m(\u001b[0m\u001b[0mtorch\u001b[0m\u001b[0;34m.\u001b[0m\u001b[0mtensor\u001b[0m\u001b[0;34m(\u001b[0m\u001b[0;34m[\u001b[0m\u001b[0;34m[\u001b[0m\u001b[0;36m1\u001b[0m\u001b[0;34m,\u001b[0m\u001b[0;36m2\u001b[0m\u001b[0;34m,\u001b[0m\u001b[0;36m3\u001b[0m\u001b[0;34m]\u001b[0m\u001b[0;34m,\u001b[0m\u001b[0;34m[\u001b[0m\u001b[0;36m1\u001b[0m\u001b[0;34m,\u001b[0m\u001b[0;36m2\u001b[0m\u001b[0;34m,\u001b[0m\u001b[0;36m3\u001b[0m\u001b[0;34m]\u001b[0m\u001b[0;34m]\u001b[0m\u001b[0;34m)\u001b[0m\u001b[0;34m,\u001b[0m\u001b[0mtorch\u001b[0m\u001b[0;34m.\u001b[0m\u001b[0mtensor\u001b[0m\u001b[0;34m(\u001b[0m\u001b[0;34m[\u001b[0m\u001b[0;34m[\u001b[0m\u001b[0;36m1\u001b[0m\u001b[0;34m,\u001b[0m\u001b[0;36m2\u001b[0m\u001b[0;34m,\u001b[0m\u001b[0;36m2\u001b[0m\u001b[0;34m,\u001b[0m\u001b[0;36m2\u001b[0m\u001b[0;34m]\u001b[0m\u001b[0;34m,\u001b[0m\u001b[0;34m[\u001b[0m\u001b[0;36m1\u001b[0m\u001b[0;34m,\u001b[0m\u001b[0;36m1\u001b[0m\u001b[0;34m,\u001b[0m\u001b[0;36m3\u001b[0m\u001b[0;34m,\u001b[0m\u001b[0;36m2\u001b[0m\u001b[0;34m]\u001b[0m\u001b[0;34m]\u001b[0m\u001b[0;34m)\u001b[0m\u001b[0;34m)\u001b[0m\u001b[0;34m\u001b[0m\u001b[0;34m\u001b[0m\u001b[0m\n\u001b[0m",
            "\u001b[0;31mRuntimeError\u001b[0m: The size of tensor a (3) must match the size of tensor b (4) at non-singleton dimension 1"
          ]
        }
      ]
    },
    {
      "cell_type": "markdown",
      "metadata": {
        "id": "sGONdoCSaWgs",
        "colab_type": "text"
      },
      "source": [
        "Here arguments input and other do not have same dimesnions and hence can't be compared elementwise."
      ]
    },
    {
      "cell_type": "markdown",
      "metadata": {
        "id": "RXazhJ5FaWgu",
        "colab_type": "text"
      },
      "source": [
        "This function can be used to comapre if the two tensors have same value at resective positions"
      ]
    },
    {
      "cell_type": "markdown",
      "metadata": {
        "id": "5A0j7uPsaWgw",
        "colab_type": "text"
      },
      "source": [
        "## Function 3 - torch.cat()\n",
        "\n",
        "This function is used to concatenate tensors along the required axis to create new tensors.Two tensors of the same size on all the dimensions except one, if required, can be concatenated using this function."
      ]
    },
    {
      "cell_type": "code",
      "metadata": {
        "id": "38cKFVIhaWgy",
        "colab_type": "code",
        "colab": {},
        "outputId": "d551c0a0-0f66-4fac-fd55-5d138a92c19e"
      },
      "source": [
        "# Example 1 - working\n",
        "a = torch.tensor([[1,1,1],[2,2,2]])\n",
        "b = torch.tensor([[3,3,3],[4,4,4]])\n",
        "c = torch.cat((a,b),dim=0)\n",
        "print(c)\n",
        "print(a.shape)\n",
        "print(b.shape)\n",
        "print(c.shape)"
      ],
      "execution_count": 0,
      "outputs": [
        {
          "output_type": "stream",
          "text": [
            "tensor([[1, 1, 1],\n",
            "        [2, 2, 2],\n",
            "        [3, 3, 3],\n",
            "        [4, 4, 4]])\n",
            "torch.Size([2, 3])\n",
            "torch.Size([2, 3])\n",
            "torch.Size([4, 3])\n"
          ],
          "name": "stdout"
        }
      ]
    },
    {
      "cell_type": "markdown",
      "metadata": {
        "id": "VJxiEwzuaWg7",
        "colab_type": "text"
      },
      "source": [
        "The two tensors are joined along the axis 1 forming a 4 x 3 matrix"
      ]
    },
    {
      "cell_type": "code",
      "metadata": {
        "id": "ro_uTSuRaWg9",
        "colab_type": "code",
        "colab": {},
        "outputId": "ced6ddf4-9c15-473e-b0f0-2d3b8c27ba48"
      },
      "source": [
        "# Example 2 - working\n",
        "a = torch.tensor(data = [i for i in range(9)]).reshape(3,3) #Create a 3x3 matrix ie a tensor of rank 2\n",
        "b = torch.tensor(data = [i for i in range(9,18)]).reshape(3,3)\n",
        "\n",
        "c = torch.cat((a,b),dim=1)\n",
        "c\n",
        "c.shape\n"
      ],
      "execution_count": 0,
      "outputs": [
        {
          "output_type": "execute_result",
          "data": {
            "text/plain": [
              "torch.Size([3, 6])"
            ]
          },
          "metadata": {
            "tags": []
          },
          "execution_count": 28
        }
      ]
    },
    {
      "cell_type": "markdown",
      "metadata": {
        "id": "E9f-vqxlaWhH",
        "colab_type": "text"
      },
      "source": [
        "The two tensors are joined along the axis 1 forming a 3 x 6 matrix"
      ]
    },
    {
      "cell_type": "code",
      "metadata": {
        "id": "x3FCH_InaWhJ",
        "colab_type": "code",
        "colab": {},
        "outputId": "fe8769dc-5132-4f3c-f901-4a12d0f16fd6"
      },
      "source": [
        "# Example 3 - breaking (to illustrate when it breaks)\n",
        "#Create a 3x3 matrix ie a tensor of rank 2\n",
        "a = torch.tensor(data = [i for i in range(6)]).reshape(2,3) \n",
        "b = torch.tensor(data = [1,1,1]).reshape(3,1)\n",
        "\n",
        "c = torch.cat((a,b),dim=0)"
      ],
      "execution_count": 0,
      "outputs": [
        {
          "output_type": "error",
          "ename": "RuntimeError",
          "evalue": "Sizes of tensors must match except in dimension 0. Got 3 and 1 in dimension 1",
          "traceback": [
            "\u001b[0;31m---------------------------------------------------------------------------\u001b[0m",
            "\u001b[0;31mRuntimeError\u001b[0m                              Traceback (most recent call last)",
            "\u001b[0;32m<ipython-input-29-6a5f898dde24>\u001b[0m in \u001b[0;36m<module>\u001b[0;34m\u001b[0m\n\u001b[1;32m      4\u001b[0m \u001b[0mb\u001b[0m \u001b[0;34m=\u001b[0m \u001b[0mtorch\u001b[0m\u001b[0;34m.\u001b[0m\u001b[0mtensor\u001b[0m\u001b[0;34m(\u001b[0m\u001b[0mdata\u001b[0m \u001b[0;34m=\u001b[0m \u001b[0;34m[\u001b[0m\u001b[0;36m1\u001b[0m\u001b[0;34m,\u001b[0m\u001b[0;36m1\u001b[0m\u001b[0;34m,\u001b[0m\u001b[0;36m1\u001b[0m\u001b[0;34m]\u001b[0m\u001b[0;34m)\u001b[0m\u001b[0;34m.\u001b[0m\u001b[0mreshape\u001b[0m\u001b[0;34m(\u001b[0m\u001b[0;36m3\u001b[0m\u001b[0;34m,\u001b[0m\u001b[0;36m1\u001b[0m\u001b[0;34m)\u001b[0m\u001b[0;34m\u001b[0m\u001b[0;34m\u001b[0m\u001b[0m\n\u001b[1;32m      5\u001b[0m \u001b[0;34m\u001b[0m\u001b[0m\n\u001b[0;32m----> 6\u001b[0;31m \u001b[0mc\u001b[0m \u001b[0;34m=\u001b[0m \u001b[0mtorch\u001b[0m\u001b[0;34m.\u001b[0m\u001b[0mcat\u001b[0m\u001b[0;34m(\u001b[0m\u001b[0;34m(\u001b[0m\u001b[0ma\u001b[0m\u001b[0;34m,\u001b[0m\u001b[0mb\u001b[0m\u001b[0;34m)\u001b[0m\u001b[0;34m,\u001b[0m\u001b[0mdim\u001b[0m\u001b[0;34m=\u001b[0m\u001b[0;36m0\u001b[0m\u001b[0;34m)\u001b[0m\u001b[0;34m\u001b[0m\u001b[0;34m\u001b[0m\u001b[0m\n\u001b[0m",
            "\u001b[0;31mRuntimeError\u001b[0m: Sizes of tensors must match except in dimension 0. Got 3 and 1 in dimension 1"
          ]
        }
      ]
    },
    {
      "cell_type": "markdown",
      "metadata": {
        "id": "IFpBCKy-aWhT",
        "colab_type": "text"
      },
      "source": [
        "There we are trying to concatenate a 3 x 3 matrix with 3 x 1 matix along axis 0 which results in shape mismatch.This operation will work if we change the axis to 1,because the the new tensor will have a valid mathematical shape.\n",
        "\n"
      ]
    },
    {
      "cell_type": "markdown",
      "metadata": {
        "id": "ZGEnifyLaWhV",
        "colab_type": "text"
      },
      "source": [
        "can be used to concatenate two or more tensors"
      ]
    },
    {
      "cell_type": "markdown",
      "metadata": {
        "id": "RrkR_MA5aWhX",
        "colab_type": "text"
      },
      "source": [
        "## Function 4 - torch.gather(input, dim, index)\n",
        "\n",
        "For a 2-D Tensor, the output matrix will be\n",
        "\n",
        "    (i)if dim = 0\n",
        "        outi = inputindex[i][j]\n",
        "\n",
        "    (ii)if dim = 1\n",
        "        outi = inputiindexi]"
      ]
    },
    {
      "cell_type": "code",
      "metadata": {
        "id": "shg_uXLFaWhZ",
        "colab_type": "code",
        "colab": {},
        "outputId": "06dc287a-28d2-4778-bee6-eed8a7804e3d"
      },
      "source": [
        "# Example 1 - working\n",
        "a = torch.tensor([[1,2],[3,4]])\n",
        "b = torch.tensor([[0,0],[1,0]])\n",
        "\n",
        "print(torch.gather(a,0, b))\n",
        "print(torch.gather(a,1, b))"
      ],
      "execution_count": 0,
      "outputs": [
        {
          "output_type": "stream",
          "text": [
            "tensor([[1, 2],\n",
            "        [3, 2]])\n",
            "tensor([[1, 1],\n",
            "        [4, 3]])\n"
          ],
          "name": "stdout"
        }
      ]
    },
    {
      "cell_type": "markdown",
      "metadata": {
        "id": "O9Pim422aWhj",
        "colab_type": "text"
      },
      "source": [
        " "
      ]
    },
    {
      "cell_type": "code",
      "metadata": {
        "id": "KtAAPXi3aWhl",
        "colab_type": "code",
        "colab": {},
        "outputId": "8988c85f-e5a1-414f-8eab-bb80988528dd"
      },
      "source": [
        "# Example 2 - working\n",
        "a = torch.randint(1,10, (3,3,3))\n",
        "b = torch.randint(0,3,(3,3,3))\n",
        "torch.gather(a,2,b)"
      ],
      "execution_count": 0,
      "outputs": [
        {
          "output_type": "execute_result",
          "data": {
            "text/plain": [
              "tensor([[[1, 1, 1],\n",
              "         [8, 8, 8],\n",
              "         [5, 4, 4]],\n",
              "\n",
              "        [[3, 6, 3],\n",
              "         [7, 7, 7],\n",
              "         [4, 6, 4]],\n",
              "\n",
              "        [[3, 3, 9],\n",
              "         [7, 6, 7],\n",
              "         [5, 5, 4]]])"
            ]
          },
          "metadata": {
            "tags": []
          },
          "execution_count": 36
        }
      ]
    },
    {
      "cell_type": "markdown",
      "metadata": {
        "id": "cWAKW35caWhv",
        "colab_type": "text"
      },
      "source": [
        " "
      ]
    },
    {
      "cell_type": "code",
      "metadata": {
        "id": "SjFukV5OaWhx",
        "colab_type": "code",
        "colab": {},
        "outputId": "42f8f1de-42c9-4706-9932-b006f3ace878"
      },
      "source": [
        "# Example 3 - breaking (to illustrate when it breaks)\n",
        "b = torch.randint(0,4, (3,3,3))\n",
        "torch.gather(a,2,b)"
      ],
      "execution_count": 0,
      "outputs": [
        {
          "output_type": "error",
          "ename": "RuntimeError",
          "evalue": "index 3 is out of bounds for dimension 2 with size 3",
          "traceback": [
            "\u001b[0;31m---------------------------------------------------------------------------\u001b[0m",
            "\u001b[0;31mRuntimeError\u001b[0m                              Traceback (most recent call last)",
            "\u001b[0;32m<ipython-input-37-6998a62d13af>\u001b[0m in \u001b[0;36m<module>\u001b[0;34m\u001b[0m\n\u001b[1;32m      1\u001b[0m \u001b[0;31m# Example 3 - breaking (to illustrate when it breaks)\u001b[0m\u001b[0;34m\u001b[0m\u001b[0;34m\u001b[0m\u001b[0;34m\u001b[0m\u001b[0m\n\u001b[1;32m      2\u001b[0m \u001b[0mb\u001b[0m \u001b[0;34m=\u001b[0m \u001b[0mtorch\u001b[0m\u001b[0;34m.\u001b[0m\u001b[0mrandint\u001b[0m\u001b[0;34m(\u001b[0m\u001b[0;36m0\u001b[0m\u001b[0;34m,\u001b[0m\u001b[0;36m4\u001b[0m\u001b[0;34m,\u001b[0m \u001b[0;34m(\u001b[0m\u001b[0;36m3\u001b[0m\u001b[0;34m,\u001b[0m\u001b[0;36m3\u001b[0m\u001b[0;34m,\u001b[0m\u001b[0;36m3\u001b[0m\u001b[0;34m)\u001b[0m\u001b[0;34m)\u001b[0m\u001b[0;34m\u001b[0m\u001b[0;34m\u001b[0m\u001b[0m\n\u001b[0;32m----> 3\u001b[0;31m \u001b[0mtorch\u001b[0m\u001b[0;34m.\u001b[0m\u001b[0mgather\u001b[0m\u001b[0;34m(\u001b[0m\u001b[0ma\u001b[0m\u001b[0;34m,\u001b[0m\u001b[0;36m2\u001b[0m\u001b[0;34m,\u001b[0m\u001b[0mb\u001b[0m\u001b[0;34m)\u001b[0m\u001b[0;34m\u001b[0m\u001b[0;34m\u001b[0m\u001b[0m\n\u001b[0m",
            "\u001b[0;31mRuntimeError\u001b[0m: index 3 is out of bounds for dimension 2 with size 3"
          ]
        }
      ]
    },
    {
      "cell_type": "markdown",
      "metadata": {
        "id": "4MzTBOClaWh7",
        "colab_type": "text"
      },
      "source": [
        "The index matrix should contain only the index values of the input tensor. The dimensions of the input tensor is (3,3,3), hence the index tensor must consist values from 0 to 2."
      ]
    },
    {
      "cell_type": "markdown",
      "metadata": {
        "id": "6cNU3bQPaWh9",
        "colab_type": "text"
      },
      "source": [
        "  "
      ]
    },
    {
      "cell_type": "markdown",
      "metadata": {
        "id": "giSIQX0QaWh-",
        "colab_type": "text"
      },
      "source": [
        "## Function 5 - torch.flatten(input, start_dim=0, end_dim=-1)\n",
        "\n",
        "This function flattens a contiguous range of dims in a tensor. The first arguement ('input') refers to the input tensor. The second arguement ('start_dim') should be an integer which refers to the first dim to flatten. The third arguement ('end_dim') should be an integer which refers to the last dim to flatten."
      ]
    },
    {
      "cell_type": "code",
      "metadata": {
        "id": "6ivoIJi2aWiB",
        "colab_type": "code",
        "colab": {},
        "outputId": "60ee6eff-1544-472f-eb2b-cd04743f1916"
      },
      "source": [
        "# Example 1 - working\n",
        "a = torch.tensor(data = [i for i in range(6)]).reshape(2,3) \n",
        "f = torch.flatten(a)\n",
        "f"
      ],
      "execution_count": 0,
      "outputs": [
        {
          "output_type": "execute_result",
          "data": {
            "text/plain": [
              "tensor([0, 1, 2, 3, 4, 5])"
            ]
          },
          "metadata": {
            "tags": []
          },
          "execution_count": 44
        }
      ]
    },
    {
      "cell_type": "markdown",
      "metadata": {
        "id": "MEcf3uixaWiK",
        "colab_type": "text"
      },
      "source": [
        "tensor a is flatten into singular dimension"
      ]
    },
    {
      "cell_type": "code",
      "metadata": {
        "id": "f2LyG31ZaWiM",
        "colab_type": "code",
        "colab": {},
        "outputId": "ab377cec-44da-4434-91cc-6c34ec4e9396"
      },
      "source": [
        "# Example 2 - working\n",
        "a = torch.randn(4,5)\n",
        "print(a)\n",
        "\n",
        "b = torch.flatten(a)\n",
        "b"
      ],
      "execution_count": 0,
      "outputs": [
        {
          "output_type": "stream",
          "text": [
            "tensor([[-0.2039,  0.5800, -0.5503,  0.9636, -0.4586],\n",
            "        [-0.9590,  0.7324, -1.4858, -1.4612,  0.2740],\n",
            "        [-0.2636,  0.0457,  0.5671,  0.7687,  0.9013],\n",
            "        [ 0.1521,  1.0148,  1.2017,  0.2834,  0.1323]])\n"
          ],
          "name": "stdout"
        },
        {
          "output_type": "execute_result",
          "data": {
            "text/plain": [
              "tensor([-0.2039,  0.5800, -0.5503,  0.9636, -0.4586, -0.9590,  0.7324, -1.4858,\n",
              "        -1.4612,  0.2740, -0.2636,  0.0457,  0.5671,  0.7687,  0.9013,  0.1521,\n",
              "         1.0148,  1.2017,  0.2834,  0.1323])"
            ]
          },
          "metadata": {
            "tags": []
          },
          "execution_count": 47
        }
      ]
    },
    {
      "cell_type": "markdown",
      "metadata": {
        "id": "xvBqLO3RaWiW",
        "colab_type": "text"
      },
      "source": [
        "tensor a is flatten into singular dimension"
      ]
    },
    {
      "cell_type": "code",
      "metadata": {
        "id": "suZbyu2xaWiY",
        "colab_type": "code",
        "colab": {},
        "outputId": "6f8bc3fd-5e3d-4179-e84c-32b957d3d5c7"
      },
      "source": [
        "# Example 3 - breaking (to illustrate when it breaks)\n",
        "a = torch.randn(4,5)\n",
        "print(a)\n",
        "\n",
        "b = torch.flatten(a,end_dim=1.2)\n",
        "b"
      ],
      "execution_count": 0,
      "outputs": [
        {
          "output_type": "stream",
          "text": [
            "tensor([[-0.7782,  1.7946,  1.4016, -0.1922,  0.3915],\n",
            "        [-1.4406,  0.8352, -0.9240, -1.9324, -0.0682],\n",
            "        [ 2.9219, -0.3419, -0.6033, -2.1383,  0.3881],\n",
            "        [-0.6565,  0.8472, -0.3417, -0.4257, -0.1671]])\n"
          ],
          "name": "stdout"
        },
        {
          "output_type": "error",
          "ename": "TypeError",
          "evalue": "flatten(): argument 'end_dim' must be int, not float",
          "traceback": [
            "\u001b[0;31m---------------------------------------------------------------------------\u001b[0m",
            "\u001b[0;31mTypeError\u001b[0m                                 Traceback (most recent call last)",
            "\u001b[0;32m<ipython-input-48-27555a3831a4>\u001b[0m in \u001b[0;36m<module>\u001b[0;34m\u001b[0m\n\u001b[1;32m      3\u001b[0m \u001b[0mprint\u001b[0m\u001b[0;34m(\u001b[0m\u001b[0ma\u001b[0m\u001b[0;34m)\u001b[0m\u001b[0;34m\u001b[0m\u001b[0;34m\u001b[0m\u001b[0m\n\u001b[1;32m      4\u001b[0m \u001b[0;34m\u001b[0m\u001b[0m\n\u001b[0;32m----> 5\u001b[0;31m \u001b[0mb\u001b[0m \u001b[0;34m=\u001b[0m \u001b[0mtorch\u001b[0m\u001b[0;34m.\u001b[0m\u001b[0mflatten\u001b[0m\u001b[0;34m(\u001b[0m\u001b[0ma\u001b[0m\u001b[0;34m,\u001b[0m\u001b[0mend_dim\u001b[0m\u001b[0;34m=\u001b[0m\u001b[0;36m1.2\u001b[0m\u001b[0;34m)\u001b[0m\u001b[0;34m\u001b[0m\u001b[0;34m\u001b[0m\u001b[0m\n\u001b[0m\u001b[1;32m      6\u001b[0m \u001b[0mb\u001b[0m\u001b[0;34m\u001b[0m\u001b[0;34m\u001b[0m\u001b[0m\n",
            "\u001b[0;31mTypeError\u001b[0m: flatten(): argument 'end_dim' must be int, not float"
          ]
        }
      ]
    },
    {
      "cell_type": "markdown",
      "metadata": {
        "id": "9qmlYmQpaWih",
        "colab_type": "text"
      },
      "source": [
        "the second argument (start_dim) needs to be an integer."
      ]
    },
    {
      "cell_type": "markdown",
      "metadata": {
        "id": "77p4V23daWij",
        "colab_type": "text"
      },
      "source": [
        "This function is useful when we want to flatten a contiguous range of dims in a tensor\n",
        "\n"
      ]
    },
    {
      "cell_type": "markdown",
      "metadata": {
        "id": "vEhuPhjUaWik",
        "colab_type": "text"
      },
      "source": [
        "## Conclusion\n",
        "\n",
        "This notebook encompass the brief introduction to the Pytorch package its application in the field of machine-learning. This notebook also include some of the functions used in torch package which I found interesting. There is a brief decription of each function along with its parameter description. This is followed by the two working and one broken scenario of each function along with a brief description."
      ]
    },
    {
      "cell_type": "markdown",
      "metadata": {
        "id": "pWnvLoidaWim",
        "colab_type": "text"
      },
      "source": [
        "## Reference Links\n",
        "Provide links to your references and other interesting articles about tensors\n",
        "* Official documentation for `torch.Tensor`: https://pytorch.org/docs/stable/tensors.html\n",
        "* ..."
      ]
    },
    {
      "cell_type": "code",
      "metadata": {
        "id": "rRS-GY3daWio",
        "colab_type": "code",
        "colab": {}
      },
      "source": [
        "!pip install jovian --upgrade --quiet"
      ],
      "execution_count": 0,
      "outputs": []
    },
    {
      "cell_type": "code",
      "metadata": {
        "id": "M_YsPDdiaWiw",
        "colab_type": "code",
        "colab": {}
      },
      "source": [
        "import jovian"
      ],
      "execution_count": 0,
      "outputs": []
    },
    {
      "cell_type": "code",
      "metadata": {
        "id": "4YCj8TdFaWi5",
        "colab_type": "code",
        "colab": {},
        "outputId": "01f3c92d-7fde-4c8a-f925-1ed50a0f3b4f"
      },
      "source": [
        "jovian.commit()"
      ],
      "execution_count": 0,
      "outputs": [
        {
          "output_type": "display_data",
          "data": {
            "application/javascript": [
              "window.require && require([\"base/js/namespace\"],function(Jupyter){Jupyter.notebook.save_checkpoint()})"
            ],
            "text/plain": [
              "<IPython.core.display.Javascript object>"
            ]
          },
          "metadata": {
            "tags": []
          }
        },
        {
          "output_type": "stream",
          "text": [
            "[jovian] Attempting to save notebook..\u001b[0m\n",
            "[jovian] Please enter your API key ( from https://jovian.ml/ ):\u001b[0m\n",
            "API KEY: "
          ],
          "name": "stdout"
        }
      ]
    },
    {
      "cell_type": "code",
      "metadata": {
        "id": "xnFxeYiVaWjC",
        "colab_type": "code",
        "colab": {}
      },
      "source": [
        ""
      ],
      "execution_count": 0,
      "outputs": []
    }
  ]
}