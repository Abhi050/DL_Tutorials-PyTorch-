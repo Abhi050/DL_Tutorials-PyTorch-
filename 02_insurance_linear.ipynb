{
  "nbformat": 4,
  "nbformat_minor": 0,
  "metadata": {
    "kernelspec": {
      "display_name": "Python 3",
      "language": "python",
      "name": "python3"
    },
    "language_info": {
      "codemirror_mode": {
        "name": "ipython",
        "version": 3
      },
      "file_extension": ".py",
      "mimetype": "text/x-python",
      "name": "python",
      "nbconvert_exporter": "python",
      "pygments_lexer": "ipython3",
      "version": "3.7.6"
    },
    "colab": {
      "name": "02-insurance-linear.ipynb",
      "provenance": [],
      "include_colab_link": true
    }
  },
  "cells": [
    {
      "cell_type": "markdown",
      "metadata": {
        "id": "view-in-github",
        "colab_type": "text"
      },
      "source": [
        "<a href=\"https://colab.research.google.com/github/Abhi050/DL_Tutorials-PyTorch-/blob/master/02_insurance_linear.ipynb\" target=\"_parent\"><img src=\"https://colab.research.google.com/assets/colab-badge.svg\" alt=\"Open In Colab\"/></a>"
      ]
    },
    {
      "cell_type": "markdown",
      "metadata": {
        "_cell_guid": "b1076dfc-b9ad-4769-8c92-a6c4dae69d19",
        "_uuid": "8f2839f25d086af736a60e9eeb907d3b93b6e0e5",
        "id": "6N1kbedxb2MC",
        "colab_type": "text"
      },
      "source": [
        "# Insurance cost prediction using linear regression\n",
        "\n",
        "In this assignment we're going to use information like a person's age, sex, BMI, no. of children and smoking habit to predict the price of yearly medical bills. This kind of model is useful for insurance companies to determine the yearly insurance premium for a person. The dataset for this problem is taken from: https://www.kaggle.com/mirichoi0218/insurance\n",
        "\n",
        "\n",
        "We will create a model with the following steps:\n",
        "1. Download and explore the dataset\n",
        "2. Prepare the dataset for training\n",
        "3. Create a linear regression model\n",
        "4. Train the model to fit the data\n",
        "5. Make predictions using the trained model\n",
        "\n",
        "\n",
        "This assignment builds upon the concepts from the first 2 lectures. It will help to review these Jupyter notebooks:\n",
        "- PyTorch basics: https://jovian.ml/aakashns/01-pytorch-basics\n",
        "- Linear Regression: https://jovian.ml/aakashns/02-linear-regression\n",
        "- Logistic Regression: https://jovian.ml/aakashns/03-logistic-regression\n",
        "- Linear regression (minimal): https://jovian.ml/aakashns/housing-linear-minimal\n",
        "- Logistic regression (minimal): https://jovian.ml/aakashns/mnist-logistic-minimal\n",
        "\n",
        "As you go through this notebook, you will find a **???** in certain places. Your job is to replace the **???** with appropriate code or values, to ensure that the notebook runs properly end-to-end . In some cases, you'll be required to choose some hyperparameters (learning rate, batch size etc.). Try to experiment with the hypeparameters to get the lowest loss.\n"
      ]
    },
    {
      "cell_type": "code",
      "metadata": {
        "id": "26otY8zHb2MI",
        "colab_type": "code",
        "colab": {},
        "outputId": "c3638474-7f46-446a-f78f-d48e827f6779"
      },
      "source": [
        "# Uncomment and run the commands below if imports fail\n",
        "!conda install numpy pytorch torchvision cpuonly -c pytorch -y\n",
        "!pip install matplotlib --upgrade --quiet\n",
        "!pip install jovian --upgrade --quiet\n"
      ],
      "execution_count": 0,
      "outputs": [
        {
          "output_type": "stream",
          "text": [
            "Collecting package metadata (current_repodata.json): done\n",
            "Solving environment: done\n",
            "\n",
            "\n",
            "==> WARNING: A newer version of conda exists. <==\n",
            "  current version: 4.8.2\n",
            "  latest version: 4.8.3\n",
            "\n",
            "Please update conda by running\n",
            "\n",
            "    $ conda update -n base conda\n",
            "\n",
            "\n",
            "\n",
            "## Package Plan ##\n",
            "\n",
            "  environment location: /srv/conda/envs/notebook\n",
            "\n",
            "  added / updated specs:\n",
            "    - cpuonly\n",
            "    - numpy\n",
            "    - pytorch\n",
            "    - torchvision\n",
            "\n",
            "\n",
            "The following packages will be downloaded:\n",
            "\n",
            "    package                    |            build\n",
            "    ---------------------------|-----------------\n",
            "    blas-2.15                  |              mkl          10 KB  conda-forge\n",
            "    cpuonly-1.0                |                0           2 KB  pytorch\n",
            "    freetype-2.10.2            |       he06d7ca_0         905 KB  conda-forge\n",
            "    intel-openmp-2020.1        |              217         780 KB  defaults\n",
            "    jpeg-9d                    |       h516909a_0         266 KB  conda-forge\n",
            "    libblas-3.8.0              |           15_mkl          10 KB  conda-forge\n",
            "    libcblas-3.8.0             |           15_mkl          10 KB  conda-forge\n",
            "    libgfortran-ng-7.5.0       |       hdf63c60_6         1.7 MB  conda-forge\n",
            "    liblapack-3.8.0            |           15_mkl          10 KB  conda-forge\n",
            "    liblapacke-3.8.0           |           15_mkl          10 KB  conda-forge\n",
            "    libpng-1.6.37              |       hed695b0_1         308 KB  conda-forge\n",
            "    libtiff-4.1.0              |       hc7e4089_6         668 KB  conda-forge\n",
            "    libwebp-base-1.1.0         |       h516909a_3         845 KB  conda-forge\n",
            "    lz4-c-1.9.2                |       he1b5a44_1         226 KB  conda-forge\n",
            "    mkl-2020.1                 |              217       129.0 MB  defaults\n",
            "    ninja-1.10.0               |       hc9558a2_0         1.9 MB  conda-forge\n",
            "    numpy-1.18.4               |   py37h8960a57_0         5.2 MB  conda-forge\n",
            "    olefile-0.46               |             py_0          31 KB  conda-forge\n",
            "    pillow-7.1.2               |   py37h718be6c_0         658 KB  conda-forge\n",
            "    pytorch-1.5.0              |      py3.7_cpu_0        90.5 MB  pytorch\n",
            "    torchvision-0.6.0          |         py37_cpu        11.0 MB  pytorch\n",
            "    zstd-1.4.4                 |       h6597ccf_3         991 KB  conda-forge\n",
            "    ------------------------------------------------------------\n",
            "                                           Total:       244.8 MB\n",
            "\n",
            "The following NEW packages will be INSTALLED:\n",
            "\n",
            "  blas               conda-forge/linux-64::blas-2.15-mkl\n",
            "  cpuonly            pytorch/noarch::cpuonly-1.0-0\n",
            "  freetype           conda-forge/linux-64::freetype-2.10.2-he06d7ca_0\n",
            "  intel-openmp       pkgs/main/linux-64::intel-openmp-2020.1-217\n",
            "  jpeg               conda-forge/linux-64::jpeg-9d-h516909a_0\n",
            "  libblas            conda-forge/linux-64::libblas-3.8.0-15_mkl\n",
            "  libcblas           conda-forge/linux-64::libcblas-3.8.0-15_mkl\n",
            "  libgfortran-ng     conda-forge/linux-64::libgfortran-ng-7.5.0-hdf63c60_6\n",
            "  liblapack          conda-forge/linux-64::liblapack-3.8.0-15_mkl\n",
            "  liblapacke         conda-forge/linux-64::liblapacke-3.8.0-15_mkl\n",
            "  libpng             conda-forge/linux-64::libpng-1.6.37-hed695b0_1\n",
            "  libtiff            conda-forge/linux-64::libtiff-4.1.0-hc7e4089_6\n",
            "  libwebp-base       conda-forge/linux-64::libwebp-base-1.1.0-h516909a_3\n",
            "  lz4-c              conda-forge/linux-64::lz4-c-1.9.2-he1b5a44_1\n",
            "  mkl                pkgs/main/linux-64::mkl-2020.1-217\n",
            "  ninja              conda-forge/linux-64::ninja-1.10.0-hc9558a2_0\n",
            "  numpy              conda-forge/linux-64::numpy-1.18.4-py37h8960a57_0\n",
            "  olefile            conda-forge/noarch::olefile-0.46-py_0\n",
            "  pillow             conda-forge/linux-64::pillow-7.1.2-py37h718be6c_0\n",
            "  pytorch            pytorch/linux-64::pytorch-1.5.0-py3.7_cpu_0\n",
            "  torchvision        pytorch/linux-64::torchvision-0.6.0-py37_cpu\n",
            "  zstd               conda-forge/linux-64::zstd-1.4.4-h6597ccf_3\n",
            "\n",
            "\n",
            "\n",
            "Downloading and Extracting Packages\n",
            "pytorch-1.5.0        | 90.5 MB   | ##################################### | 100% \n",
            "libpng-1.6.37        | 308 KB    | ##################################### | 100% \n",
            "blas-2.15            | 10 KB     | ##################################### | 100% \n",
            "numpy-1.18.4         | 5.2 MB    | ##################################### | 100% \n",
            "freetype-2.10.2      | 905 KB    | ##################################### | 100% \n",
            "libblas-3.8.0        | 10 KB     | ##################################### | 100% \n",
            "zstd-1.4.4           | 991 KB    | ##################################### | 100% \n",
            "lz4-c-1.9.2          | 226 KB    | ##################################### | 100% \n",
            "pillow-7.1.2         | 658 KB    | ##################################### | 100% \n",
            "torchvision-0.6.0    | 11.0 MB   | ##################################### | 100% \n",
            "intel-openmp-2020.1  | 780 KB    | ##################################### | 100% \n",
            "cpuonly-1.0          | 2 KB      | ##################################### | 100% \n",
            "libcblas-3.8.0       | 10 KB     | ##################################### | 100% \n",
            "mkl-2020.1           | 129.0 MB  | ##################################### | 100% \n",
            "ninja-1.10.0         | 1.9 MB    | ##################################### | 100% \n",
            "olefile-0.46         | 31 KB     | ##################################### | 100% \n",
            "libtiff-4.1.0        | 668 KB    | ##################################### | 100% \n",
            "liblapacke-3.8.0     | 10 KB     | ##################################### | 100% \n",
            "jpeg-9d              | 266 KB    | ##################################### | 100% \n",
            "libwebp-base-1.1.0   | 845 KB    | ##################################### | 100% \n",
            "liblapack-3.8.0      | 10 KB     | ##################################### | 100% \n",
            "libgfortran-ng-7.5.0 | 1.7 MB    | ##################################### | 100% \n",
            "Preparing transaction: done\n",
            "Verifying transaction: done\n",
            "Executing transaction: done\n"
          ],
          "name": "stdout"
        }
      ]
    },
    {
      "cell_type": "code",
      "metadata": {
        "id": "XM_VFpQab2Me",
        "colab_type": "code",
        "colab": {}
      },
      "source": [
        "!pip install pandas --upgrade --quiet"
      ],
      "execution_count": 0,
      "outputs": []
    },
    {
      "cell_type": "code",
      "metadata": {
        "id": "953nw-Ppb2Mn",
        "colab_type": "code",
        "colab": {}
      },
      "source": [
        "!pip install seaborn --upgrade --quiet"
      ],
      "execution_count": 0,
      "outputs": []
    },
    {
      "cell_type": "code",
      "metadata": {
        "id": "_7-f-Zlqb2Mx",
        "colab_type": "code",
        "colab": {}
      },
      "source": [
        "import torch\n",
        "import jovian\n",
        "import torchvision\n",
        "import torch.nn as nn\n",
        "import pandas as pd\n",
        "import matplotlib.pyplot as plt\n",
        "import torch.nn.functional as F\n",
        "from torchvision.datasets.utils import download_url\n",
        "from torch.utils.data import DataLoader, TensorDataset, random_split"
      ],
      "execution_count": 0,
      "outputs": []
    },
    {
      "cell_type": "code",
      "metadata": {
        "id": "iTw33P0cb2M4",
        "colab_type": "code",
        "colab": {}
      },
      "source": [
        "project_name='02-insurance-linear-regression' # will be used by jovian.commit"
      ],
      "execution_count": 0,
      "outputs": []
    },
    {
      "cell_type": "markdown",
      "metadata": {
        "id": "vZTAEHamb2M_",
        "colab_type": "text"
      },
      "source": [
        "## Step 1: Download and explore the data\n",
        "\n",
        "Let us begin by downloading the data. We'll use the `download_url` function from PyTorch to get the data as a CSV (comma-separated values) file. "
      ]
    },
    {
      "cell_type": "code",
      "metadata": {
        "_cell_guid": "79c7e3d0-c299-4dcb-8224-4455121ee9b0",
        "_uuid": "d629ff2d2480ee46fbb7e2d37f6b5fab8052498a",
        "id": "xODk3Yk3b2NC",
        "colab_type": "code",
        "colab": {},
        "outputId": "2f459e3e-2faf-45bf-c27d-f97ded22c61c"
      },
      "source": [
        "DATASET_URL = \"https://hub.jovian.ml/wp-content/uploads/2020/05/insurance.csv\"\n",
        "DATA_FILENAME = \"insurance.csv\"\n",
        "download_url(DATASET_URL, '.')"
      ],
      "execution_count": 0,
      "outputs": [
        {
          "output_type": "stream",
          "text": [
            "Downloading https://hub.jovian.ml/wp-content/uploads/2020/05/insurance.csv to ./insurance.csv\n"
          ],
          "name": "stdout"
        },
        {
          "output_type": "stream",
          "text": [
            "103.1%"
          ],
          "name": "stderr"
        }
      ]
    },
    {
      "cell_type": "markdown",
      "metadata": {
        "id": "7v3B0JRhb2NP",
        "colab_type": "text"
      },
      "source": [
        "To load the dataset into memory, we'll use the `read_csv` function from the `pandas` library. The data will be loaded as a Pandas dataframe. See this short tutorial to learn more: https://data36.com/pandas-tutorial-1-basics-reading-data-files-dataframes-data-selection/"
      ]
    },
    {
      "cell_type": "code",
      "metadata": {
        "id": "INXpydOeb2NP",
        "colab_type": "code",
        "colab": {},
        "outputId": "308227b5-4974-43c0-84cc-b509a6b860b8"
      },
      "source": [
        "dataframe_raw = pd.read_csv(DATA_FILENAME)\n",
        "dataframe_raw.head()"
      ],
      "execution_count": 0,
      "outputs": [
        {
          "output_type": "execute_result",
          "data": {
            "text/html": [
              "<div>\n",
              "<style scoped>\n",
              "    .dataframe tbody tr th:only-of-type {\n",
              "        vertical-align: middle;\n",
              "    }\n",
              "\n",
              "    .dataframe tbody tr th {\n",
              "        vertical-align: top;\n",
              "    }\n",
              "\n",
              "    .dataframe thead th {\n",
              "        text-align: right;\n",
              "    }\n",
              "</style>\n",
              "<table border=\"1\" class=\"dataframe\">\n",
              "  <thead>\n",
              "    <tr style=\"text-align: right;\">\n",
              "      <th></th>\n",
              "      <th>age</th>\n",
              "      <th>sex</th>\n",
              "      <th>bmi</th>\n",
              "      <th>children</th>\n",
              "      <th>smoker</th>\n",
              "      <th>region</th>\n",
              "      <th>charges</th>\n",
              "    </tr>\n",
              "  </thead>\n",
              "  <tbody>\n",
              "    <tr>\n",
              "      <th>0</th>\n",
              "      <td>19</td>\n",
              "      <td>female</td>\n",
              "      <td>27.900</td>\n",
              "      <td>0</td>\n",
              "      <td>yes</td>\n",
              "      <td>southwest</td>\n",
              "      <td>16884.92400</td>\n",
              "    </tr>\n",
              "    <tr>\n",
              "      <th>1</th>\n",
              "      <td>18</td>\n",
              "      <td>male</td>\n",
              "      <td>33.770</td>\n",
              "      <td>1</td>\n",
              "      <td>no</td>\n",
              "      <td>southeast</td>\n",
              "      <td>1725.55230</td>\n",
              "    </tr>\n",
              "    <tr>\n",
              "      <th>2</th>\n",
              "      <td>28</td>\n",
              "      <td>male</td>\n",
              "      <td>33.000</td>\n",
              "      <td>3</td>\n",
              "      <td>no</td>\n",
              "      <td>southeast</td>\n",
              "      <td>4449.46200</td>\n",
              "    </tr>\n",
              "    <tr>\n",
              "      <th>3</th>\n",
              "      <td>33</td>\n",
              "      <td>male</td>\n",
              "      <td>22.705</td>\n",
              "      <td>0</td>\n",
              "      <td>no</td>\n",
              "      <td>northwest</td>\n",
              "      <td>21984.47061</td>\n",
              "    </tr>\n",
              "    <tr>\n",
              "      <th>4</th>\n",
              "      <td>32</td>\n",
              "      <td>male</td>\n",
              "      <td>28.880</td>\n",
              "      <td>0</td>\n",
              "      <td>no</td>\n",
              "      <td>northwest</td>\n",
              "      <td>3866.85520</td>\n",
              "    </tr>\n",
              "  </tbody>\n",
              "</table>\n",
              "</div>"
            ],
            "text/plain": [
              "   age     sex     bmi  children smoker     region      charges\n",
              "0   19  female  27.900         0    yes  southwest  16884.92400\n",
              "1   18    male  33.770         1     no  southeast   1725.55230\n",
              "2   28    male  33.000         3     no  southeast   4449.46200\n",
              "3   33    male  22.705         0     no  northwest  21984.47061\n",
              "4   32    male  28.880         0     no  northwest   3866.85520"
            ]
          },
          "metadata": {
            "tags": []
          },
          "execution_count": 16
        }
      ]
    },
    {
      "cell_type": "markdown",
      "metadata": {
        "id": "g7DlmO-kb2NX",
        "colab_type": "text"
      },
      "source": [
        "We're going to do a slight customization of the data, so that you every participant receives a slightly different version of the dataset. Fill in your name below as a string (enter at least 5 characters)"
      ]
    },
    {
      "cell_type": "code",
      "metadata": {
        "id": "6-BRDIQLb2NY",
        "colab_type": "code",
        "colab": {}
      },
      "source": [
        "your_name = \"Abhi050\"# at least 5 characters"
      ],
      "execution_count": 0,
      "outputs": []
    },
    {
      "cell_type": "markdown",
      "metadata": {
        "id": "c1iJYxl2b2Nb",
        "colab_type": "text"
      },
      "source": [
        "The `customize_dataset` function will customize the dataset slightly using your name as a source of random numbers."
      ]
    },
    {
      "cell_type": "code",
      "metadata": {
        "id": "RdQPuJGPb2Nc",
        "colab_type": "code",
        "colab": {}
      },
      "source": [
        "def customize_dataset(dataframe_raw, rand_str):\n",
        "    dataframe = dataframe_raw.copy(deep=True)\n",
        "    # drop some rows\n",
        "    dataframe = dataframe.sample(int(0.95*len(dataframe)), random_state=int(ord(rand_str[0])))\n",
        "    # scale input\n",
        "    dataframe.bmi = dataframe.bmi * ord(rand_str[1])/100.\n",
        "    # scale target\n",
        "    dataframe.charges = dataframe.charges * ord(rand_str[2])/100.\n",
        "    # drop column\n",
        "    if ord(rand_str[3]) % 2 == 1:\n",
        "        dataframe = dataframe.drop(['region'], axis=1)\n",
        "    return dataframe"
      ],
      "execution_count": 0,
      "outputs": []
    },
    {
      "cell_type": "code",
      "metadata": {
        "id": "dPtVLLknb2Nf",
        "colab_type": "code",
        "colab": {},
        "outputId": "9d529c8a-5eeb-45f6-85c4-a8886c5f2117"
      },
      "source": [
        "dataframe = customize_dataset(dataframe_raw, your_name)\n",
        "dataframe.head()"
      ],
      "execution_count": 0,
      "outputs": [
        {
          "output_type": "execute_result",
          "data": {
            "text/html": [
              "<div>\n",
              "<style scoped>\n",
              "    .dataframe tbody tr th:only-of-type {\n",
              "        vertical-align: middle;\n",
              "    }\n",
              "\n",
              "    .dataframe tbody tr th {\n",
              "        vertical-align: top;\n",
              "    }\n",
              "\n",
              "    .dataframe thead th {\n",
              "        text-align: right;\n",
              "    }\n",
              "</style>\n",
              "<table border=\"1\" class=\"dataframe\">\n",
              "  <thead>\n",
              "    <tr style=\"text-align: right;\">\n",
              "      <th></th>\n",
              "      <th>age</th>\n",
              "      <th>sex</th>\n",
              "      <th>bmi</th>\n",
              "      <th>children</th>\n",
              "      <th>smoker</th>\n",
              "      <th>charges</th>\n",
              "    </tr>\n",
              "  </thead>\n",
              "  <tbody>\n",
              "    <tr>\n",
              "      <th>27</th>\n",
              "      <td>55</td>\n",
              "      <td>female</td>\n",
              "      <td>32.1195</td>\n",
              "      <td>2</td>\n",
              "      <td>no</td>\n",
              "      <td>12759.377540</td>\n",
              "    </tr>\n",
              "    <tr>\n",
              "      <th>752</th>\n",
              "      <td>64</td>\n",
              "      <td>male</td>\n",
              "      <td>37.1469</td>\n",
              "      <td>0</td>\n",
              "      <td>no</td>\n",
              "      <td>14778.957388</td>\n",
              "    </tr>\n",
              "    <tr>\n",
              "      <th>1258</th>\n",
              "      <td>55</td>\n",
              "      <td>male</td>\n",
              "      <td>36.9607</td>\n",
              "      <td>3</td>\n",
              "      <td>no</td>\n",
              "      <td>31266.123772</td>\n",
              "    </tr>\n",
              "    <tr>\n",
              "      <th>384</th>\n",
              "      <td>44</td>\n",
              "      <td>male</td>\n",
              "      <td>21.6923</td>\n",
              "      <td>2</td>\n",
              "      <td>no</td>\n",
              "      <td>8634.637076</td>\n",
              "    </tr>\n",
              "    <tr>\n",
              "      <th>406</th>\n",
              "      <td>33</td>\n",
              "      <td>female</td>\n",
              "      <td>23.8238</td>\n",
              "      <td>0</td>\n",
              "      <td>no</td>\n",
              "      <td>4352.501816</td>\n",
              "    </tr>\n",
              "  </tbody>\n",
              "</table>\n",
              "</div>"
            ],
            "text/plain": [
              "      age     sex      bmi  children smoker       charges\n",
              "27     55  female  32.1195         2     no  12759.377540\n",
              "752    64    male  37.1469         0     no  14778.957388\n",
              "1258   55    male  36.9607         3     no  31266.123772\n",
              "384    44    male  21.6923         2     no   8634.637076\n",
              "406    33  female  23.8238         0     no   4352.501816"
            ]
          },
          "metadata": {
            "tags": []
          },
          "execution_count": 19
        }
      ]
    },
    {
      "cell_type": "markdown",
      "metadata": {
        "id": "Sfauz3YOb2Nj",
        "colab_type": "text"
      },
      "source": [
        "Let us answer some basic questions about the dataset. \n",
        "\n",
        "\n",
        "**Q: How many rows does the dataset have?**"
      ]
    },
    {
      "cell_type": "code",
      "metadata": {
        "id": "36ri9Z2db2Nk",
        "colab_type": "code",
        "colab": {},
        "outputId": "64f0d558-be5c-4fb8-a255-931ff1591bf9"
      },
      "source": [
        "num_rows = len(dataframe.index)\n",
        "print(num_rows)"
      ],
      "execution_count": 0,
      "outputs": [
        {
          "output_type": "stream",
          "text": [
            "1271\n"
          ],
          "name": "stdout"
        }
      ]
    },
    {
      "cell_type": "markdown",
      "metadata": {
        "id": "_lq9WOwSb2Np",
        "colab_type": "text"
      },
      "source": [
        "**Q: How many columns doe the dataset have**"
      ]
    },
    {
      "cell_type": "code",
      "metadata": {
        "id": "GWkASIHub2Nq",
        "colab_type": "code",
        "colab": {},
        "outputId": "7dc3dd2d-01e6-41d8-a573-32fdb44a3a8d"
      },
      "source": [
        "num_cols =len(dataframe.columns)\n",
        "print(num_cols)"
      ],
      "execution_count": 0,
      "outputs": [
        {
          "output_type": "stream",
          "text": [
            "6\n"
          ],
          "name": "stdout"
        }
      ]
    },
    {
      "cell_type": "markdown",
      "metadata": {
        "id": "N4TCm_qQb2Nt",
        "colab_type": "text"
      },
      "source": [
        "**Q: What are the column titles of the input variables?**"
      ]
    },
    {
      "cell_type": "code",
      "metadata": {
        "id": "poC6NIvcb2Nu",
        "colab_type": "code",
        "colab": {}
      },
      "source": [
        "input_cols = [i for i in dataframe.columns[:-1]]"
      ],
      "execution_count": 0,
      "outputs": []
    },
    {
      "cell_type": "markdown",
      "metadata": {
        "id": "2X5v0vmyb2Nx",
        "colab_type": "text"
      },
      "source": [
        "**Q: Which of the input columns are non-numeric or categorial variables ?**\n",
        "\n",
        "Hint: `sex` is one of them. List the columns that are not numbers."
      ]
    },
    {
      "cell_type": "code",
      "metadata": {
        "id": "hfUzX9c_b2Ny",
        "colab_type": "code",
        "colab": {},
        "outputId": "37009ce8-2ec7-482a-f784-147377209712"
      },
      "source": [
        "categorical_cols = [i for i in dataframe.columns if dataframe[i].dtype == 'object']\n",
        "print(categorical_cols)"
      ],
      "execution_count": 0,
      "outputs": [
        {
          "output_type": "stream",
          "text": [
            "['sex', 'smoker']\n"
          ],
          "name": "stdout"
        }
      ]
    },
    {
      "cell_type": "markdown",
      "metadata": {
        "id": "mK-7VDOEb2N5",
        "colab_type": "text"
      },
      "source": [
        "**Q: What are the column titles of output/target variable(s)?**"
      ]
    },
    {
      "cell_type": "code",
      "metadata": {
        "id": "DkNrLSMsb2N6",
        "colab_type": "code",
        "colab": {}
      },
      "source": [
        "output_cols = [dataframe.columns[-1]]"
      ],
      "execution_count": 0,
      "outputs": []
    },
    {
      "cell_type": "markdown",
      "metadata": {
        "id": "MOFLN3ehb2N9",
        "colab_type": "text"
      },
      "source": [
        "**Q: (Optional) What is the minimum, maximum and average value of the `charges` column? Can you show the distribution of values in a graph?**\n",
        "Use this data visualization cheatsheet for referece: https://jovian.ml/aakashns/dataviz-cheatsheet"
      ]
    },
    {
      "cell_type": "code",
      "metadata": {
        "id": "HmVqR_OBb2N-",
        "colab_type": "code",
        "colab": {},
        "outputId": "d5805d90-138a-430f-9c4b-47085412006b"
      },
      "source": [
        "%matplotlib inline\n",
        "ch_max = dataframe[output_cols].max()\n",
        "ch_min = dataframe[output_cols].min()\n",
        "ch_mean = dataframe[output_cols].mean()\n",
        "\n",
        "import seaborn as sns\n",
        "sns.set_style('whitegrid')\n",
        "\n",
        "dataframe[output_cols].hist()"
      ],
      "execution_count": 0,
      "outputs": [
        {
          "output_type": "execute_result",
          "data": {
            "text/plain": [
              "array([[<matplotlib.axes._subplots.AxesSubplot object at 0x7fe28998c150>]],\n",
              "      dtype=object)"
            ]
          },
          "metadata": {
            "tags": []
          },
          "execution_count": 25
        },
        {
          "output_type": "display_data",
          "data": {
            "image/png": "[encoded data removed]",
            "text/plain": [
              "<Figure size 432x288 with 1 Axes>"
            ]
          },
          "metadata": {
            "tags": []
          }
        }
      ]
    },
    {
      "cell_type": "code",
      "metadata": {
        "id": "scoQxTfjb2OE",
        "colab_type": "code",
        "colab": {},
        "outputId": "383e18d0-00e9-4243-99bc-483c8d04f27d"
      },
      "source": [
        "#Inspired from the notebook of \"undefined-none\"\n",
        "minimum = dataframe.charges.min()\n",
        "maximum = dataframe.charges.max()\n",
        "average = dataframe.charges.mean()\n",
        "\n",
        "\n",
        "plt.title(\"Insurance charges\")\n",
        "sns.distplot(dataframe.charges)\n",
        "\n",
        "print(\"Minimum: \" + str(minimum))\n",
        "print(\"Maximum: \" + str(maximum))\n",
        "print(\"Average: \" + str(average))"
      ],
      "execution_count": 0,
      "outputs": [
        {
          "output_type": "stream",
          "text": [
            "Minimum: 1166.7488560000002\n",
            "Maximum: 66321.2451304\n",
            "Average: 13824.97305043443\n"
          ],
          "name": "stdout"
        },
        {
          "output_type": "display_data",
          "data": {
            "image/png": "[encoded data removed]",
            "text/plain": [
              "<Figure size 432x288 with 1 Axes>"
            ]
          },
          "metadata": {
            "tags": []
          }
        }
      ]
    },
    {
      "cell_type": "markdown",
      "metadata": {
        "id": "MqMqSiwhb2OI",
        "colab_type": "text"
      },
      "source": [
        "Remember to commit your notebook to Jovian after every step, so that you don't lose your work."
      ]
    },
    {
      "cell_type": "code",
      "metadata": {
        "id": "E5SWkNrxb2OI",
        "colab_type": "code",
        "colab": {},
        "outputId": "a744d736-0475-4993-99c1-bde93db7c48a"
      },
      "source": [
        "jovian.commit(project=project_name, environment=None)"
      ],
      "execution_count": 0,
      "outputs": [
        {
          "output_type": "display_data",
          "data": {
            "application/javascript": [
              "window.require && require([\"base/js/namespace\"],function(Jupyter){Jupyter.notebook.save_checkpoint()})"
            ],
            "text/plain": [
              "<IPython.core.display.Javascript object>"
            ]
          },
          "metadata": {
            "tags": []
          }
        },
        {
          "output_type": "stream",
          "text": [
            "[jovian] Attempting to save notebook..\u001b[0m\n",
            "[jovian] Please enter your API key ( from https://jovian.ml/ ):\u001b[0m\n",
            "API KEY: ········\n",
            "[jovian] Updating notebook \"abhi050/02-insurance-linear-regression\" on https://jovian.ml/\u001b[0m\n",
            "[jovian] Uploading notebook..\u001b[0m\n",
            "[jovian] Committed successfully! https://jovian.ml/abhi050/02-insurance-linear-regression\u001b[0m\n"
          ],
          "name": "stdout"
        },
        {
          "output_type": "execute_result",
          "data": {
            "text/plain": [
              "'https://jovian.ml/abhi050/02-insurance-linear-regression'"
            ]
          },
          "metadata": {
            "tags": []
          },
          "execution_count": 27
        }
      ]
    },
    {
      "cell_type": "markdown",
      "metadata": {
        "id": "fsgso8bhb2OL",
        "colab_type": "text"
      },
      "source": [
        "## Step 2: Prepare the dataset for training\n",
        "\n",
        "We need to convert the data from the Pandas dataframe into a PyTorch tensors for training. To do this, the first step is to convert it numpy arrays. If you've filled out `input_cols`, `categorial_cols` and `output_cols` correctly, this following function will perform the conversion to numpy arrays."
      ]
    },
    {
      "cell_type": "code",
      "metadata": {
        "id": "W_eUKJ7hb2OM",
        "colab_type": "code",
        "colab": {}
      },
      "source": [
        "def dataframe_to_arrays(dataframe):\n",
        "    # Make a copy of the original dataframe\n",
        "    dataframe1 = dataframe.copy(deep=True)\n",
        "    # Convert non-numeric categorical columns to numbers\n",
        "    for col in categorical_cols:\n",
        "        dataframe1[col] = dataframe1[col].astype('category').cat.codes\n",
        "    # Extract input & outupts as numpy arrays\n",
        "    inputs_array = dataframe1[input_cols].to_numpy()\n",
        "    targets_array = dataframe1[output_cols].to_numpy()\n",
        "    return inputs_array, targets_array"
      ],
      "execution_count": 0,
      "outputs": []
    },
    {
      "cell_type": "markdown",
      "metadata": {
        "id": "hJ-ZetCXb2OR",
        "colab_type": "text"
      },
      "source": [
        "Read through the [Pandas documentation](https://pandas.pydata.org/pandas-docs/stable/user_guide/categorical.html) to understand how we're converting categorical variables into numbers."
      ]
    },
    {
      "cell_type": "code",
      "metadata": {
        "id": "hGJvnhIib2OS",
        "colab_type": "code",
        "colab": {},
        "outputId": "1d4951ab-04b5-4fd7-90df-5c467d1c685f"
      },
      "source": [
        "inputs_array, targets_array = dataframe_to_arrays(dataframe)\n",
        "inputs_array, targets_array"
      ],
      "execution_count": 0,
      "outputs": [
        {
          "output_type": "execute_result",
          "data": {
            "text/plain": [
              "(array([[55.    ,  0.    , 32.1195,  2.    ,  0.    ],\n",
              "        [64.    ,  1.    , 37.1469,  0.    ,  0.    ],\n",
              "        [55.    ,  1.    , 36.9607,  3.    ,  0.    ],\n",
              "        ...,\n",
              "        [56.    ,  1.    , 25.4163,  0.    ,  0.    ],\n",
              "        [18.    ,  0.    , 29.6989,  0.    ,  0.    ],\n",
              "        [43.    ,  1.    , 25.5094,  0.    ,  0.    ]]),\n",
              " array([[12759.37754 ],\n",
              "        [14778.957388],\n",
              "        [31266.123772],\n",
              "        ...,\n",
              "        [11612.034356],\n",
              "        [ 2291.885388],\n",
              "        [ 7110.863448]]))"
            ]
          },
          "metadata": {
            "tags": []
          },
          "execution_count": 29
        }
      ]
    },
    {
      "cell_type": "markdown",
      "metadata": {
        "id": "c0JKv_Kfb2OY",
        "colab_type": "text"
      },
      "source": [
        "**Q: Convert the numpy arrays `inputs_array` and `targets_array` into PyTorch tensors. Make sure that the data type is `torch.float32`.**"
      ]
    },
    {
      "cell_type": "code",
      "metadata": {
        "id": "_KxeWws2b2Oa",
        "colab_type": "code",
        "colab": {}
      },
      "source": [
        "inputs = torch.tensor(inputs_array, dtype=torch.float32)\n",
        "targets = torch.tensor(targets_array, dtype=torch.float32)"
      ],
      "execution_count": 0,
      "outputs": []
    },
    {
      "cell_type": "code",
      "metadata": {
        "id": "RkdB0fqrb2Og",
        "colab_type": "code",
        "colab": {},
        "outputId": "561fdfd7-bc46-43f3-8963-1e44038120a6"
      },
      "source": [
        "inputs.dtype, targets.dtype"
      ],
      "execution_count": 0,
      "outputs": [
        {
          "output_type": "execute_result",
          "data": {
            "text/plain": [
              "(torch.float32, torch.float32)"
            ]
          },
          "metadata": {
            "tags": []
          },
          "execution_count": 31
        }
      ]
    },
    {
      "cell_type": "markdown",
      "metadata": {
        "id": "4sHz7-g1b2Om",
        "colab_type": "text"
      },
      "source": [
        "Next, we need to create PyTorch datasets & data loaders for training & validation. We'll start by creating a `TensorDataset`."
      ]
    },
    {
      "cell_type": "code",
      "metadata": {
        "id": "I0G_Uuynb2On",
        "colab_type": "code",
        "colab": {}
      },
      "source": [
        "dataset = TensorDataset(inputs, targets)"
      ],
      "execution_count": 0,
      "outputs": []
    },
    {
      "cell_type": "markdown",
      "metadata": {
        "id": "JGTDRfNgb2Ot",
        "colab_type": "text"
      },
      "source": [
        "**Q: Pick a number between `0.1` and `0.2` to determine the fraction of data that will be used for creating the validation set. Then use `random_split` to create training & validation datasets. **"
      ]
    },
    {
      "cell_type": "code",
      "metadata": {
        "id": "OoV3Zva4b2Ov",
        "colab_type": "code",
        "colab": {}
      },
      "source": [
        "val_percent = 0.15 # between 0.1 and 0.2\n",
        "val_size = int(num_rows * val_percent)\n",
        "train_size = num_rows - val_size\n",
        "\n",
        "\n",
        "train_ds, val_ds = random_split(dataset, [train_size, val_size]) # Use the random_split function to split dataset into 2 parts of the desired length"
      ],
      "execution_count": 0,
      "outputs": []
    },
    {
      "cell_type": "markdown",
      "metadata": {
        "id": "JShBGYnCb2O1",
        "colab_type": "text"
      },
      "source": [
        "Finally, we can create data loaders for training & validation.\n",
        "\n",
        "**Q: Pick a batch size for the data loader.**"
      ]
    },
    {
      "cell_type": "code",
      "metadata": {
        "id": "ZzYa0xaGb2O2",
        "colab_type": "code",
        "colab": {}
      },
      "source": [
        "batch_size = 128"
      ],
      "execution_count": 0,
      "outputs": []
    },
    {
      "cell_type": "code",
      "metadata": {
        "id": "Ha6X2_a8b2O6",
        "colab_type": "code",
        "colab": {}
      },
      "source": [
        "train_loader = DataLoader(train_ds, batch_size, shuffle=True)\n",
        "val_loader = DataLoader(val_ds, batch_size)"
      ],
      "execution_count": 0,
      "outputs": []
    },
    {
      "cell_type": "markdown",
      "metadata": {
        "id": "8cMzNpIub2O-",
        "colab_type": "text"
      },
      "source": [
        "Let's look at a batch of data to verify everything is working fine so far."
      ]
    },
    {
      "cell_type": "code",
      "metadata": {
        "id": "N56YjYsgb2O-",
        "colab_type": "code",
        "colab": {},
        "outputId": "bd626178-ffb9-4146-e563-a203f07e2535"
      },
      "source": [
        "for xb, yb in train_loader:\n",
        "    print(\"inputs:\", xb)\n",
        "    print(\"targets:\", yb)\n",
        "    break"
      ],
      "execution_count": 0,
      "outputs": [
        {
          "output_type": "stream",
          "text": [
            "inputs: tensor([[34.0000,  0.0000, 18.6200,  3.0000,  0.0000],\n",
            "        [21.0000,  1.0000, 21.8540,  1.0000,  0.0000],\n",
            "        [58.0000,  0.0000, 22.3146,  0.0000,  0.0000],\n",
            "        [64.0000,  1.0000, 25.0880,  2.0000,  0.0000],\n",
            "        [61.0000,  1.0000, 30.9386,  0.0000,  0.0000],\n",
            "        [18.0000,  1.0000, 42.1498,  0.0000,  0.0000],\n",
            "        [42.0000,  1.0000, 25.5486,  1.0000,  1.0000],\n",
            "        [20.0000,  0.0000, 32.6340,  0.0000,  0.0000],\n",
            "        [21.0000,  1.0000, 19.8303,  3.0000,  0.0000],\n",
            "        [19.0000,  0.0000, 32.2420,  0.0000,  0.0000],\n",
            "        [46.0000,  0.0000, 27.1656,  1.0000,  0.0000],\n",
            "        [46.0000,  1.0000, 19.4579,  0.0000,  0.0000],\n",
            "        [60.0000,  1.0000, 28.3220,  0.0000,  0.0000],\n",
            "        [60.0000,  1.0000, 30.7230,  3.0000,  1.0000],\n",
            "        [59.0000,  0.0000, 30.7230,  0.0000,  0.0000],\n",
            "        [19.0000,  1.0000, 25.0439,  0.0000,  0.0000],\n",
            "        [45.0000,  1.0000, 35.7504,  2.0000,  1.0000],\n",
            "        [47.0000,  1.0000, 27.6507,  3.0000,  1.0000],\n",
            "        [20.0000,  0.0000, 36.2600,  5.0000,  0.0000],\n",
            "        [19.0000,  0.0000, 27.3714,  3.0000,  0.0000],\n",
            "        [27.0000,  1.0000, 41.2874,  0.0000,  1.0000],\n",
            "        [61.0000,  0.0000, 35.1918,  0.0000,  0.0000],\n",
            "        [39.0000,  1.0000, 29.0080,  4.0000,  0.0000],\n",
            "        [30.0000,  0.0000, 27.8124,  1.0000,  1.0000],\n",
            "        [25.0000,  1.0000, 26.1611,  4.0000,  0.0000],\n",
            "        [27.0000,  1.0000, 30.5074,  1.0000,  1.0000],\n",
            "        [28.0000,  1.0000, 34.7263,  0.0000,  0.0000],\n",
            "        [31.0000,  1.0000, 29.2138,  0.0000,  1.0000],\n",
            "        [44.0000,  1.0000, 37.2988,  1.0000,  0.0000],\n",
            "        [39.0000,  0.0000, 31.2816,  2.0000,  0.0000],\n",
            "        [35.0000,  0.0000, 35.1428,  2.0000,  0.0000],\n",
            "        [18.0000,  0.0000, 38.3768,  0.0000,  0.0000],\n",
            "        [22.0000,  1.0000, 19.5510,  3.0000,  0.0000],\n",
            "        [19.0000,  0.0000, 38.8227,  1.0000,  0.0000],\n",
            "        [25.0000,  1.0000, 29.9782,  0.0000,  0.0000],\n",
            "        [31.0000,  0.0000, 32.1195,  2.0000,  0.0000],\n",
            "        [32.0000,  1.0000, 27.5576,  4.0000,  1.0000],\n",
            "        [42.0000,  0.0000, 25.6564,  1.0000,  0.0000],\n",
            "        [45.0000,  1.0000, 23.0888,  2.0000,  0.0000],\n",
            "        [45.0000,  1.0000, 22.4371,  0.0000,  1.0000],\n",
            "        [48.0000,  1.0000, 33.6140,  3.0000,  0.0000],\n",
            "        [34.0000,  0.0000, 26.9500,  1.0000,  0.0000],\n",
            "        [57.0000,  0.0000, 22.7164,  0.0000,  0.0000],\n",
            "        [20.0000,  1.0000, 32.3400,  1.0000,  0.0000],\n",
            "        [21.0000,  0.0000, 16.4787,  1.0000,  0.0000],\n",
            "        [28.0000,  1.0000, 23.5004,  3.0000,  1.0000],\n",
            "        [18.0000,  1.0000, 25.6564,  2.0000,  0.0000],\n",
            "        [57.0000,  0.0000, 23.5004,  1.0000,  0.0000],\n",
            "        [39.0000,  0.0000, 22.8095,  3.0000,  0.0000],\n",
            "        [39.0000,  0.0000, 23.3926,  5.0000,  0.0000],\n",
            "        [38.0000,  0.0000, 27.4400,  3.0000,  0.0000],\n",
            "        [49.0000,  1.0000, 36.1130,  0.0000,  0.0000],\n",
            "        [26.0000,  1.0000, 23.2260,  2.0000,  0.0000],\n",
            "        [61.0000,  1.0000, 37.6124,  0.0000,  0.0000],\n",
            "        [59.0000,  0.0000, 26.1611,  3.0000,  0.0000],\n",
            "        [55.0000,  0.0000, 29.5372,  2.0000,  0.0000],\n",
            "        [42.0000,  1.0000, 24.1129,  2.0000,  1.0000],\n",
            "        [24.0000,  1.0000, 27.9300,  2.0000,  0.0000],\n",
            "        [45.0000,  1.0000, 39.0089,  0.0000,  0.0000],\n",
            "        [49.0000,  1.0000, 29.6940,  0.0000,  0.0000],\n",
            "        [28.0000,  1.0000, 36.3580,  1.0000,  0.0000],\n",
            "        [47.0000,  0.0000, 28.7826,  1.0000,  0.0000],\n",
            "        [19.0000,  0.0000, 31.8402,  0.0000,  1.0000],\n",
            "        [22.0000,  0.0000, 23.8140,  0.0000,  0.0000],\n",
            "        [64.0000,  0.0000, 38.9060,  0.0000,  0.0000],\n",
            "        [29.0000,  0.0000, 38.0534,  3.0000,  0.0000],\n",
            "        [33.0000,  1.0000, 34.5401,  0.0000,  0.0000],\n",
            "        [19.0000,  0.0000, 39.6900,  0.0000,  0.0000],\n",
            "        [56.0000,  1.0000, 31.4678,  1.0000,  0.0000],\n",
            "        [42.0000,  1.0000, 26.3620,  0.0000,  0.0000],\n",
            "        [22.0000,  1.0000, 31.0954,  0.0000,  0.0000],\n",
            "        [52.0000,  0.0000, 36.6520,  0.0000,  0.0000],\n",
            "        [50.0000,  1.0000, 35.4760,  0.0000,  0.0000],\n",
            "        [38.0000,  0.0000, 34.1040,  2.0000,  0.0000],\n",
            "        [45.0000,  0.0000, 35.0987,  0.0000,  0.0000],\n",
            "        [37.0000,  0.0000, 25.8720,  0.0000,  1.0000],\n",
            "        [54.0000,  1.0000, 23.5543,  0.0000,  0.0000],\n",
            "        [19.0000,  1.0000, 26.7197,  2.0000,  0.0000],\n",
            "        [23.0000,  0.0000, 27.5576,  0.0000,  0.0000],\n",
            "        [35.0000,  0.0000, 37.3331,  2.0000,  0.0000],\n",
            "        [48.0000,  1.0000, 29.1060,  0.0000,  0.0000],\n",
            "        [27.0000,  0.0000, 19.6441,  3.0000,  1.0000],\n",
            "        [19.0000,  1.0000, 27.0480,  0.0000,  0.0000],\n",
            "        [21.0000,  1.0000, 25.1860,  4.0000,  1.0000],\n",
            "        [20.0000,  1.0000, 39.6606,  0.0000,  0.0000],\n",
            "        [46.0000,  1.0000, 21.8540,  0.0000,  0.0000],\n",
            "        [47.0000,  1.0000, 46.5696,  1.0000,  0.0000],\n",
            "        [57.0000,  0.0000, 25.2252,  2.0000,  0.0000],\n",
            "        [36.0000,  0.0000, 25.3820,  1.0000,  0.0000],\n",
            "        [48.0000,  0.0000, 35.8435,  0.0000,  0.0000],\n",
            "        [26.0000,  0.0000, 19.4040,  1.0000,  0.0000],\n",
            "        [20.0000,  0.0000, 31.2816,  0.0000,  0.0000],\n",
            "        [45.0000,  0.0000, 39.1951,  3.0000,  0.0000],\n",
            "        [47.0000,  0.0000, 25.6025,  1.0000,  1.0000],\n",
            "        [25.0000,  1.0000, 44.6292,  2.0000,  1.0000],\n",
            "        [28.0000,  1.0000, 35.6720,  1.0000,  1.0000],\n",
            "        [44.0000,  0.0000, 38.1710,  0.0000,  1.0000],\n",
            "        [24.0000,  0.0000, 22.7458,  0.0000,  0.0000],\n",
            "        [25.0000,  1.0000, 32.6634,  2.0000,  1.0000],\n",
            "        [53.0000,  0.0000, 22.1578,  3.0000,  1.0000],\n",
            "        [63.0000,  0.0000, 35.5740,  0.0000,  0.0000],\n",
            "        [19.0000,  0.0000, 22.0647,  0.0000,  0.0000],\n",
            "        [42.0000,  0.0000, 24.4853,  2.0000,  0.0000],\n",
            "        [64.0000,  1.0000, 37.1469,  0.0000,  0.0000],\n",
            "        [53.0000,  0.0000, 38.8080,  1.0000,  0.0000],\n",
            "        [60.0000,  1.0000, 28.0231,  0.0000,  0.0000],\n",
            "        [59.0000,  1.0000, 31.1542,  2.0000,  0.0000],\n",
            "        [29.0000,  1.0000, 34.7900,  2.0000,  1.0000],\n",
            "        [29.0000,  0.0000, 19.8303,  2.0000,  0.0000],\n",
            "        [26.0000,  0.0000, 29.3216,  1.0000,  0.0000],\n",
            "        [33.0000,  0.0000, 18.7131,  2.0000,  1.0000],\n",
            "        [18.0000,  0.0000, 30.7230,  0.0000,  0.0000],\n",
            "        [29.0000,  0.0000, 30.5368,  0.0000,  0.0000],\n",
            "        [42.0000,  0.0000, 32.2126,  0.0000,  0.0000],\n",
            "        [58.0000,  0.0000, 31.1885,  2.0000,  0.0000],\n",
            "        [37.0000,  1.0000, 29.2334,  2.0000,  0.0000],\n",
            "        [54.0000,  0.0000, 31.6540,  1.0000,  0.0000],\n",
            "        [21.0000,  0.0000, 25.2840,  0.0000,  0.0000],\n",
            "        [31.0000,  0.0000, 21.3199,  0.0000,  0.0000],\n",
            "        [59.0000,  0.0000, 26.9500,  0.0000,  0.0000],\n",
            "        [36.0000,  1.0000, 29.1060,  0.0000,  0.0000],\n",
            "        [32.0000,  0.0000, 30.9092,  1.0000,  0.0000],\n",
            "        [58.0000,  0.0000, 32.3057,  0.0000,  0.0000],\n",
            "        [40.0000,  1.0000, 34.5940,  3.0000,  0.0000],\n",
            "        [64.0000,  0.0000, 38.5434,  0.0000,  0.0000],\n",
            "        [23.0000,  0.0000, 22.7164,  2.0000,  0.0000],\n",
            "        [34.0000,  1.0000, 35.0987,  0.0000,  0.0000],\n",
            "        [59.0000,  1.0000, 25.8720,  0.0000,  0.0000]])\n",
            "targets: tensor([[ 7023.1597],\n",
            "        [ 2187.2031],\n",
            "        [12307.1338],\n",
            "        [15587.9697],\n",
            "        [13059.9092],\n",
            "        [ 1195.3717],\n",
            "        [39775.4180],\n",
            "        [ 1955.7064],\n",
            "        [ 4015.6580],\n",
            "        [ 1818.7250],\n",
            "        [ 8561.9443],\n",
            "        [ 7827.7749],\n",
            "        [12632.8496],\n",
            "        [47975.7461],\n",
            "        [13127.0664],\n",
            "        [ 1697.8671],\n",
            "        [44470.9219],\n",
            "        [25911.8301],\n",
            "        [ 5023.8550],\n",
            "        [19592.2520],\n",
            "        [41196.2266],\n",
            "        [14181.0635],\n",
            "        [ 7812.7578],\n",
            "        [20302.8477],\n",
            "        [ 5073.1001],\n",
            "        [36198.7266],\n",
            "        [ 3399.6006],\n",
            "        [20124.3828],\n",
            "        [ 7438.7783],\n",
            "        [ 7497.8716],\n",
            "        [ 6069.9814],\n",
            "        [ 1698.3662],\n",
            "        [ 4165.6392],\n",
            "        [ 2839.3123],\n",
            "        [ 2836.4910],\n",
            "        [ 5540.4961],\n",
            "        [22331.3789],\n",
            "        [ 7328.5913],\n",
            "        [ 8947.9766],\n",
            "        [36472.1484],\n",
            "        [ 9945.5498],\n",
            "        [ 5204.0073],\n",
            "        [12303.8311],\n",
            "        [ 2059.2727],\n",
            "        [ 3294.1541],\n",
            "        [18369.6699],\n",
            "        [ 2396.1624],\n",
            "        [23080.1348],\n",
            "        [ 8305.9346],\n",
            "        [ 8925.5947],\n",
            "        [ 7437.1357],\n",
            "        [ 8450.8154],\n",
            "        [ 3623.7043],\n",
            "        [13468.0742],\n",
            "        [14958.0176],\n",
            "        [12357.2480],\n",
            "        [22109.7539],\n",
            "        [ 3679.2112],\n",
            "        [ 7746.3403],\n",
            "        [ 8441.3477],\n",
            "        [ 3408.2476],\n",
            "        [ 8889.5986],\n",
            "        [38374.6836],\n",
            "        [ 2236.4878],\n",
            "        [14891.7920],\n",
            "        [ 5343.7871],\n",
            "        [12901.0742],\n",
            "        [ 1829.7115],\n",
            "        [12233.5205],\n",
            "        [ 6208.5117],\n",
            "        [ 2344.9885],\n",
            "        [10019.9199],\n",
            "        [ 8796.1309],\n",
            "        [ 6834.4058],\n",
            "        [ 8041.1323],\n",
            "        [20320.8125],\n",
            "        [10839.8330],\n",
            "        [23393.4062],\n",
            "        [ 2797.7183],\n",
            "        [25911.6484],\n",
            "        [ 8101.2202],\n",
            "        [17077.3145],\n",
            "        [ 1302.5033],\n",
            "        [18659.7910],\n",
            "        [ 2063.8315],\n",
            "        [ 7432.9893],\n",
            "        [ 8407.2764],\n",
            "        [13134.3320],\n",
            "        [ 5691.3472],\n",
            "        [ 9018.0391],\n",
            "        [ 3514.0664],\n",
            "        [ 2352.0315],\n",
            "        [10092.8545],\n",
            "        [24337.3574],\n",
            "        [43796.7266],\n",
            "        [53242.3398],\n",
            "        [44702.7969],\n",
            "        [26085.0391],\n",
            "        [37569.5586],\n",
            "        [25868.3203],\n",
            "        [14442.6924],\n",
            "        [ 2202.0325],\n",
            "        [ 8337.7432],\n",
            "        [14778.9570],\n",
            "        [11002.8994],\n",
            "        [31470.3945],\n",
            "        [13445.9424],\n",
            "        [46368.8750],\n",
            "        [ 5102.6660],\n",
            "        [ 3528.6958],\n",
            "        [17447.3555],\n",
            "        [ 1687.0760],\n",
            "        [ 4101.3394],\n",
            "        [ 7332.0220],\n",
            "        [14151.6631],\n",
            "        [ 6662.6670],\n",
            "        [11972.9014],\n",
            "        [ 2088.2627],\n",
            "        [ 4299.4458],\n",
            "        [12723.1807],\n",
            "        [ 4575.7202],\n",
            "        [ 5354.4946],\n",
            "        [12928.1914],\n",
            "        [ 7484.7417],\n",
            "        [15497.5771],\n",
            "        [15003.1172],\n",
            "        [ 4493.2271],\n",
            "        [12213.0312]])\n"
          ],
          "name": "stdout"
        }
      ]
    },
    {
      "cell_type": "markdown",
      "metadata": {
        "id": "ODOZlX6Gb2PD",
        "colab_type": "text"
      },
      "source": [
        "Let's save our work by committing to Jovian."
      ]
    },
    {
      "cell_type": "code",
      "metadata": {
        "id": "gRDoaj4vb2PE",
        "colab_type": "code",
        "colab": {},
        "outputId": "8f605101-aff9-488b-9bb8-cf682934a4d8"
      },
      "source": [
        "jovian.commit(project=project_name, environment=None)"
      ],
      "execution_count": 0,
      "outputs": [
        {
          "output_type": "display_data",
          "data": {
            "application/javascript": [
              "window.require && require([\"base/js/namespace\"],function(Jupyter){Jupyter.notebook.save_checkpoint()})"
            ],
            "text/plain": [
              "<IPython.core.display.Javascript object>"
            ]
          },
          "metadata": {
            "tags": []
          }
        },
        {
          "output_type": "stream",
          "text": [
            "[jovian] Attempting to save notebook..\u001b[0m\n",
            "[jovian] Updating notebook \"abhi050/02-insurance-linear-regression\" on https://jovian.ml/\u001b[0m\n",
            "[jovian] Uploading notebook..\u001b[0m\n",
            "[jovian] Committed successfully! https://jovian.ml/abhi050/02-insurance-linear-regression\u001b[0m\n"
          ],
          "name": "stdout"
        },
        {
          "output_type": "execute_result",
          "data": {
            "text/plain": [
              "'https://jovian.ml/abhi050/02-insurance-linear-regression'"
            ]
          },
          "metadata": {
            "tags": []
          },
          "execution_count": 37
        }
      ]
    },
    {
      "cell_type": "markdown",
      "metadata": {
        "id": "AwfDuoyjb2PI",
        "colab_type": "text"
      },
      "source": [
        "## Step 3: Create a Linear Regression Model\n",
        "\n",
        "Our model itself is a fairly straightforward linear regression (we'll build more complex models in the next assignment). \n"
      ]
    },
    {
      "cell_type": "code",
      "metadata": {
        "id": "IfjmPMO6b2PJ",
        "colab_type": "code",
        "colab": {}
      },
      "source": [
        "input_size = len(input_cols)\n",
        "output_size = len(output_cols)"
      ],
      "execution_count": 0,
      "outputs": []
    },
    {
      "cell_type": "markdown",
      "metadata": {
        "id": "ZvTzOj3lb2PM",
        "colab_type": "text"
      },
      "source": [
        "**Q: Complete the class definition below by filling out the constructor (`__init__`), `forward`, `training_step` and `validation_step` methods.**\n",
        "\n",
        "Hint: Think carefully about picking a good loss fuction (it's not cross entropy). Maybe try 2-3 of them and see which one works best. See https://pytorch.org/docs/stable/nn.functional.html#loss-functions"
      ]
    },
    {
      "cell_type": "code",
      "metadata": {
        "id": "LZS28FNHb2PM",
        "colab_type": "code",
        "colab": {}
      },
      "source": [
        "class InsuranceModel(nn.Module):\n",
        "    def __init__(self):\n",
        "        super().__init__()\n",
        "        self.linear = nn.Linear(input_size, output_size)                  # fill this (hint: use input_size & output_size defined above)\n",
        "        \n",
        "    def forward(self, xb):\n",
        "        out = self.linear(xb)                          # fill this\n",
        "        return out\n",
        "    \n",
        "    def training_step(self, batch):\n",
        "        inputs, targets = batch \n",
        "        # Generate predictions\n",
        "        out = self(inputs)          \n",
        "        # Calcuate loss\n",
        "        loss = F.smooth_l1_loss(out, targets)                          # fill this\n",
        "        return loss\n",
        "    \n",
        "    def validation_step(self, batch):\n",
        "        inputs, targets = batch\n",
        "        # Generate predictions\n",
        "        out = self(inputs)\n",
        "        # Calculate loss\n",
        "        loss = F.smooth_l1_loss(out, targets)                           # fill this    \n",
        "        return {'val_loss': loss.detach()}\n",
        "        \n",
        "    def validation_epoch_end(self, outputs):\n",
        "        batch_losses = [x['val_loss'] for x in outputs]\n",
        "        epoch_loss = torch.stack(batch_losses).mean()   # Combine losses\n",
        "        return {'val_loss': epoch_loss.item()}\n",
        "    \n",
        "    def epoch_end(self, epoch, result, num_epochs):\n",
        "        # Print result every 20th epoch\n",
        "        if (epoch+1) % 20 == 0 or epoch == num_epochs-1:\n",
        "            print(\"Epoch [{}], val_loss: {:.4f}\".format(epoch+1, result['val_loss']))"
      ],
      "execution_count": 0,
      "outputs": []
    },
    {
      "cell_type": "markdown",
      "metadata": {
        "id": "ZTJP44pBb2PQ",
        "colab_type": "text"
      },
      "source": [
        "Let us create a model using the `InsuranceModel` class. You may need to come back later and re-run the next cell to reinitialize the model, in case the loss becomes `nan` or `infinity`."
      ]
    },
    {
      "cell_type": "code",
      "metadata": {
        "id": "wP0q8naUb2PR",
        "colab_type": "code",
        "colab": {}
      },
      "source": [
        "model = InsuranceModel()"
      ],
      "execution_count": 0,
      "outputs": []
    },
    {
      "cell_type": "markdown",
      "metadata": {
        "id": "6osL-_K6b2PU",
        "colab_type": "text"
      },
      "source": [
        "Let's check out the weights and biases of the model using `model.parameters`."
      ]
    },
    {
      "cell_type": "code",
      "metadata": {
        "id": "a0VZlV3xb2PV",
        "colab_type": "code",
        "colab": {},
        "outputId": "e054982c-6a21-4c4d-c306-8e01cd02c060"
      },
      "source": [
        "list(model.parameters())"
      ],
      "execution_count": 0,
      "outputs": [
        {
          "output_type": "execute_result",
          "data": {
            "text/plain": [
              "[Parameter containing:\n",
              " tensor([[ 0.0156, -0.0551, -0.1346, -0.3016, -0.1110]], requires_grad=True),\n",
              " Parameter containing:\n",
              " tensor([0.4051], requires_grad=True)]"
            ]
          },
          "metadata": {
            "tags": []
          },
          "execution_count": 41
        }
      ]
    },
    {
      "cell_type": "markdown",
      "metadata": {
        "id": "ERGsOnYgb2PZ",
        "colab_type": "text"
      },
      "source": [
        "One final commit before we train the model."
      ]
    },
    {
      "cell_type": "code",
      "metadata": {
        "id": "vZO0SXqBb2Pb",
        "colab_type": "code",
        "colab": {},
        "outputId": "1f8c6d47-3597-4708-e913-c499084756a3"
      },
      "source": [
        "jovian.commit(project=project_name, environment=None)"
      ],
      "execution_count": 0,
      "outputs": [
        {
          "output_type": "display_data",
          "data": {
            "application/javascript": [
              "window.require && require([\"base/js/namespace\"],function(Jupyter){Jupyter.notebook.save_checkpoint()})"
            ],
            "text/plain": [
              "<IPython.core.display.Javascript object>"
            ]
          },
          "metadata": {
            "tags": []
          }
        },
        {
          "output_type": "stream",
          "text": [
            "[jovian] Attempting to save notebook..\u001b[0m\n",
            "[jovian] Updating notebook \"abhi050/02-insurance-linear-regression\" on https://jovian.ml/\u001b[0m\n",
            "[jovian] Uploading notebook..\u001b[0m\n",
            "[jovian] Committed successfully! https://jovian.ml/abhi050/02-insurance-linear-regression\u001b[0m\n"
          ],
          "name": "stdout"
        },
        {
          "output_type": "execute_result",
          "data": {
            "text/plain": [
              "'https://jovian.ml/abhi050/02-insurance-linear-regression'"
            ]
          },
          "metadata": {
            "tags": []
          },
          "execution_count": 42
        }
      ]
    },
    {
      "cell_type": "markdown",
      "metadata": {
        "id": "w8rorihAb2Pg",
        "colab_type": "text"
      },
      "source": [
        "## Step 4: Train the model to fit the data\n",
        "\n",
        "To train our model, we'll use the same `fit` function explained in the lecture. That's the benefit of defining a generic training loop - you can use it for any problem."
      ]
    },
    {
      "cell_type": "code",
      "metadata": {
        "id": "ixrueqkUb2Ph",
        "colab_type": "code",
        "colab": {}
      },
      "source": [
        "def evaluate(model, val_loader):\n",
        "    outputs = [model.validation_step(batch) for batch in val_loader]\n",
        "    return model.validation_epoch_end(outputs)\n",
        "\n",
        "def fit(epochs, lr, model, train_loader, val_loader, opt_func=torch.optim.SGD):\n",
        "    history = []\n",
        "    optimizer = opt_func(model.parameters(), lr)\n",
        "    for epoch in range(epochs):\n",
        "        # Training Phase \n",
        "        for batch in train_loader:\n",
        "            loss = model.training_step(batch)\n",
        "            loss.backward()\n",
        "            optimizer.step()\n",
        "            optimizer.zero_grad()\n",
        "        # Validation phase\n",
        "        result = evaluate(model, val_loader)\n",
        "        model.epoch_end(epoch, result, epochs)\n",
        "        history.append(result)\n",
        "    return history"
      ],
      "execution_count": 0,
      "outputs": []
    },
    {
      "cell_type": "markdown",
      "metadata": {
        "id": "tVAGPPgDb2Pk",
        "colab_type": "text"
      },
      "source": [
        "**Q: Use the `evaluate` function to calculate the loss on the validation set before training.**"
      ]
    },
    {
      "cell_type": "code",
      "metadata": {
        "id": "yEo1sabnb2Pl",
        "colab_type": "code",
        "colab": {},
        "outputId": "af33f4c1-5978-4c59-d64f-7a7fdc89118d"
      },
      "source": [
        "result = evaluate(model, val_loader) # Use the the evaluate function\n",
        "print(result)"
      ],
      "execution_count": 0,
      "outputs": [
        {
          "output_type": "stream",
          "text": [
            "{'val_loss': 15079.1708984375}\n"
          ],
          "name": "stdout"
        }
      ]
    },
    {
      "cell_type": "markdown",
      "metadata": {
        "id": "TZ7VO_4vb2Pp",
        "colab_type": "text"
      },
      "source": [
        "\n",
        "We are now ready to train the model. You may need to run the training loop many times, for different number of epochs and with different learning rates, to get a good result. Also, if your loss becomes too large (or `nan`), you may have to re-initialize the model by running the cell `model = InsuranceModel()`. Experiment with this for a while, and try to get to as low a loss as possible."
      ]
    },
    {
      "cell_type": "markdown",
      "metadata": {
        "id": "7wAOKzeBb2Pq",
        "colab_type": "text"
      },
      "source": [
        "**Q: Train the model 4-5 times with different learning rates & for different number of epochs.**\n",
        "\n",
        "Hint: Vary learning rates by orders of 10 (e.g. `1e-2`, `1e-3`, `1e-4`, `1e-5`, `1e-6`) to figure out what works."
      ]
    },
    {
      "cell_type": "code",
      "metadata": {
        "id": "5QzH4p0Kb2Ps",
        "colab_type": "code",
        "colab": {},
        "outputId": "95c8c468-1b33-4739-b01e-d240dd971e1d"
      },
      "source": [
        "e=[50,100,150,200,250,300,500]\n",
        "l=[1e-2,1e-3,1e-4,1e-5,1e-6,1e-7]\n",
        "a=[]\n",
        "for epochs in e:\n",
        "    for lr in l:\n",
        "        h = fit(epochs, lr, model, train_loader, val_loader)\n",
        "        a.append(h)\n",
        "        print(h)"
      ],
      "execution_count": 0,
      "outputs": [
        {
          "output_type": "stream",
          "text": [
            "Epoch [20], val_loss: 8427.3408\n",
            "Epoch [40], val_loss: 8406.0977\n",
            "Epoch [50], val_loss: 8394.9844\n",
            "[{'val_loss': 8451.2265625}, {'val_loss': 8449.80078125}, {'val_loss': 8448.775390625}, {'val_loss': 8447.19140625}, {'val_loss': 8445.462890625}, {'val_loss': 8444.18359375}, {'val_loss': 8442.78515625}, {'val_loss': 8441.75390625}, {'val_loss': 8440.5849609375}, {'val_loss': 8439.513671875}, {'val_loss': 8438.04296875}, {'val_loss': 8436.82421875}, {'val_loss': 8435.4853515625}, {'val_loss': 8434.123046875}, {'val_loss': 8432.63671875}, {'val_loss': 8431.59765625}, {'val_loss': 8430.568359375}, {'val_loss': 8429.5400390625}, {'val_loss': 8428.400390625}, {'val_loss': 8427.3408203125}, {'val_loss': 8426.076171875}, {'val_loss': 8425.0654296875}, {'val_loss': 8424.013671875}, {'val_loss': 8423.02734375}, {'val_loss': 8421.904296875}, {'val_loss': 8421.091796875}, {'val_loss': 8420.048828125}, {'val_loss': 8418.96875}, {'val_loss': 8418.154296875}, {'val_loss': 8417.49609375}, {'val_loss': 8416.501953125}, {'val_loss': 8415.509765625}, {'val_loss': 8414.2275390625}, {'val_loss': 8412.9560546875}, {'val_loss': 8412.14453125}, {'val_loss': 8411.109375}, {'val_loss': 8409.67578125}, {'val_loss': 8408.447265625}, {'val_loss': 8407.2158203125}, {'val_loss': 8406.09765625}, {'val_loss': 8405.275390625}, {'val_loss': 8404.2568359375}, {'val_loss': 8403.076171875}, {'val_loss': 8401.8447265625}, {'val_loss': 8400.84765625}, {'val_loss': 8399.732421875}, {'val_loss': 8398.65625}, {'val_loss': 8397.46875}, {'val_loss': 8396.3671875}, {'val_loss': 8394.984375}]\n",
            "Epoch [20], val_loss: 8392.9043\n",
            "Epoch [40], val_loss: 8390.6006\n",
            "Epoch [50], val_loss: 8389.5332\n",
            "[{'val_loss': 8394.890625}, {'val_loss': 8394.7724609375}, {'val_loss': 8394.6533203125}, {'val_loss': 8394.55078125}, {'val_loss': 8394.490234375}, {'val_loss': 8394.4052734375}, {'val_loss': 8394.27734375}, {'val_loss': 8394.185546875}, {'val_loss': 8394.08984375}, {'val_loss': 8394.0}, {'val_loss': 8393.89453125}, {'val_loss': 8393.7958984375}, {'val_loss': 8393.7041015625}, {'val_loss': 8393.5927734375}, {'val_loss': 8393.490234375}, {'val_loss': 8393.380859375}, {'val_loss': 8393.25}, {'val_loss': 8393.123046875}, {'val_loss': 8393.0068359375}, {'val_loss': 8392.904296875}, {'val_loss': 8392.7890625}, {'val_loss': 8392.662109375}, {'val_loss': 8392.548828125}, {'val_loss': 8392.4287109375}, {'val_loss': 8392.328125}, {'val_loss': 8392.19921875}, {'val_loss': 8392.0537109375}, {'val_loss': 8391.9365234375}, {'val_loss': 8391.830078125}, {'val_loss': 8391.7275390625}, {'val_loss': 8391.60546875}, {'val_loss': 8391.47265625}, {'val_loss': 8391.345703125}, {'val_loss': 8391.25}, {'val_loss': 8391.115234375}, {'val_loss': 8391.01171875}, {'val_loss': 8390.90625}, {'val_loss': 8390.80078125}, {'val_loss': 8390.712890625}, {'val_loss': 8390.6005859375}, {'val_loss': 8390.4873046875}, {'val_loss': 8390.359375}, {'val_loss': 8390.26953125}, {'val_loss': 8390.1640625}, {'val_loss': 8390.0673828125}, {'val_loss': 8389.9521484375}, {'val_loss': 8389.84375}, {'val_loss': 8389.748046875}, {'val_loss': 8389.640625}, {'val_loss': 8389.533203125}]\n",
            "Epoch [20], val_loss: 8389.3145\n",
            "Epoch [40], val_loss: 8389.0898\n",
            "Epoch [50], val_loss: 8388.9717\n",
            "[{'val_loss': 8389.5234375}, {'val_loss': 8389.51171875}, {'val_loss': 8389.5}, {'val_loss': 8389.490234375}, {'val_loss': 8389.4765625}, {'val_loss': 8389.462890625}, {'val_loss': 8389.455078125}, {'val_loss': 8389.4453125}, {'val_loss': 8389.4375}, {'val_loss': 8389.42578125}, {'val_loss': 8389.4140625}, {'val_loss': 8389.404296875}, {'val_loss': 8389.3935546875}, {'val_loss': 8389.3828125}, {'val_loss': 8389.37109375}, {'val_loss': 8389.359375}, {'val_loss': 8389.3466796875}, {'val_loss': 8389.333984375}, {'val_loss': 8389.3203125}, {'val_loss': 8389.314453125}, {'val_loss': 8389.30078125}, {'val_loss': 8389.2890625}, {'val_loss': 8389.2783203125}, {'val_loss': 8389.267578125}, {'val_loss': 8389.255859375}, {'val_loss': 8389.248046875}, {'val_loss': 8389.2373046875}, {'val_loss': 8389.2265625}, {'val_loss': 8389.212890625}, {'val_loss': 8389.19921875}, {'val_loss': 8389.1923828125}, {'val_loss': 8389.1826171875}, {'val_loss': 8389.1708984375}, {'val_loss': 8389.15625}, {'val_loss': 8389.146484375}, {'val_loss': 8389.134765625}, {'val_loss': 8389.123046875}, {'val_loss': 8389.1103515625}, {'val_loss': 8389.1005859375}, {'val_loss': 8389.08984375}, {'val_loss': 8389.078125}, {'val_loss': 8389.064453125}, {'val_loss': 8389.0517578125}, {'val_loss': 8389.0400390625}, {'val_loss': 8389.03125}, {'val_loss': 8389.01953125}, {'val_loss': 8389.0068359375}, {'val_loss': 8388.9951171875}, {'val_loss': 8388.984375}, {'val_loss': 8388.9716796875}]\n",
            "Epoch [20], val_loss: 8388.9492\n",
            "Epoch [40], val_loss: 8388.9258\n",
            "Epoch [50], val_loss: 8388.9180\n",
            "[{'val_loss': 8388.970703125}, {'val_loss': 8388.96875}, {'val_loss': 8388.9677734375}, {'val_loss': 8388.966796875}, {'val_loss': 8388.966796875}, {'val_loss': 8388.96484375}, {'val_loss': 8388.9638671875}, {'val_loss': 8388.962890625}, {'val_loss': 8388.9609375}, {'val_loss': 8388.958984375}, {'val_loss': 8388.958984375}, {'val_loss': 8388.95703125}, {'val_loss': 8388.95703125}, {'val_loss': 8388.9560546875}, {'val_loss': 8388.955078125}, {'val_loss': 8388.9541015625}, {'val_loss': 8388.953125}, {'val_loss': 8388.9521484375}, {'val_loss': 8388.951171875}, {'val_loss': 8388.94921875}, {'val_loss': 8388.9482421875}, {'val_loss': 8388.947265625}, {'val_loss': 8388.9462890625}, {'val_loss': 8388.9453125}, {'val_loss': 8388.9443359375}, {'val_loss': 8388.9423828125}, {'val_loss': 8388.94140625}, {'val_loss': 8388.939453125}, {'val_loss': 8388.939453125}, {'val_loss': 8388.9384765625}, {'val_loss': 8388.9375}, {'val_loss': 8388.9375}, {'val_loss': 8388.935546875}, {'val_loss': 8388.9345703125}, {'val_loss': 8388.9326171875}, {'val_loss': 8388.9306640625}, {'val_loss': 8388.9296875}, {'val_loss': 8388.927734375}, {'val_loss': 8388.9267578125}, {'val_loss': 8388.92578125}, {'val_loss': 8388.92578125}, {'val_loss': 8388.9248046875}, {'val_loss': 8388.923828125}, {'val_loss': 8388.921875}, {'val_loss': 8388.921875}, {'val_loss': 8388.919921875}, {'val_loss': 8388.919921875}, {'val_loss': 8388.91796875}, {'val_loss': 8388.91796875}, {'val_loss': 8388.91796875}]\n",
            "Epoch [20], val_loss: 8388.9160\n",
            "Epoch [40], val_loss: 8388.9150\n",
            "Epoch [50], val_loss: 8388.9141\n",
            "[{'val_loss': 8388.91796875}, {'val_loss': 8388.91796875}, {'val_loss': 8388.91796875}, {'val_loss': 8388.91796875}, {'val_loss': 8388.9169921875}, {'val_loss': 8388.9169921875}, {'val_loss': 8388.9169921875}, {'val_loss': 8388.9169921875}, {'val_loss': 8388.9169921875}, {'val_loss': 8388.9169921875}, {'val_loss': 8388.916015625}, {'val_loss': 8388.916015625}, {'val_loss': 8388.916015625}, {'val_loss': 8388.916015625}, {'val_loss': 8388.916015625}, {'val_loss': 8388.916015625}, {'val_loss': 8388.916015625}, {'val_loss': 8388.916015625}, {'val_loss': 8388.916015625}, {'val_loss': 8388.916015625}, {'val_loss': 8388.916015625}, {'val_loss': 8388.916015625}, {'val_loss': 8388.916015625}, {'val_loss': 8388.916015625}, {'val_loss': 8388.9140625}, {'val_loss': 8388.9140625}, {'val_loss': 8388.9140625}, {'val_loss': 8388.9140625}, {'val_loss': 8388.9140625}, {'val_loss': 8388.9150390625}, {'val_loss': 8388.916015625}, {'val_loss': 8388.9150390625}, {'val_loss': 8388.916015625}, {'val_loss': 8388.916015625}, {'val_loss': 8388.9150390625}, {'val_loss': 8388.9150390625}, {'val_loss': 8388.9150390625}, {'val_loss': 8388.9150390625}, {'val_loss': 8388.9150390625}, {'val_loss': 8388.9150390625}, {'val_loss': 8388.9150390625}, {'val_loss': 8388.9150390625}, {'val_loss': 8388.9150390625}, {'val_loss': 8388.9140625}, {'val_loss': 8388.9150390625}, {'val_loss': 8388.9150390625}, {'val_loss': 8388.9140625}, {'val_loss': 8388.9140625}, {'val_loss': 8388.9140625}, {'val_loss': 8388.9140625}]\n",
            "Epoch [20], val_loss: 8388.9141\n",
            "Epoch [40], val_loss: 8388.9141\n",
            "Epoch [50], val_loss: 8388.9141\n",
            "[{'val_loss': 8388.9140625}, {'val_loss': 8388.9140625}, {'val_loss': 8388.9140625}, {'val_loss': 8388.9140625}, {'val_loss': 8388.9140625}, {'val_loss': 8388.9140625}, {'val_loss': 8388.9140625}, {'val_loss': 8388.9140625}, {'val_loss': 8388.9140625}, {'val_loss': 8388.9140625}, {'val_loss': 8388.9140625}, {'val_loss': 8388.9140625}, {'val_loss': 8388.9140625}, {'val_loss': 8388.9140625}, {'val_loss': 8388.9140625}, {'val_loss': 8388.9140625}, {'val_loss': 8388.9140625}, {'val_loss': 8388.9140625}, {'val_loss': 8388.9140625}, {'val_loss': 8388.9140625}, {'val_loss': 8388.9140625}, {'val_loss': 8388.9140625}, {'val_loss': 8388.9140625}, {'val_loss': 8388.9140625}, {'val_loss': 8388.9140625}, {'val_loss': 8388.9140625}, {'val_loss': 8388.9140625}, {'val_loss': 8388.9140625}, {'val_loss': 8388.9140625}, {'val_loss': 8388.9140625}, {'val_loss': 8388.9140625}, {'val_loss': 8388.9140625}, {'val_loss': 8388.9140625}, {'val_loss': 8388.9140625}, {'val_loss': 8388.9140625}, {'val_loss': 8388.9140625}, {'val_loss': 8388.9140625}, {'val_loss': 8388.9140625}, {'val_loss': 8388.9140625}, {'val_loss': 8388.9140625}, {'val_loss': 8388.9140625}, {'val_loss': 8388.9140625}, {'val_loss': 8388.9140625}, {'val_loss': 8388.9140625}, {'val_loss': 8388.9140625}, {'val_loss': 8388.9140625}, {'val_loss': 8388.9140625}, {'val_loss': 8388.9140625}, {'val_loss': 8388.9140625}, {'val_loss': 8388.9140625}]\n"
          ],
          "name": "stdout"
        },
        {
          "output_type": "stream",
          "text": [
            "Epoch [20], val_loss: 8367.4912\n",
            "Epoch [40], val_loss: 8346.4844\n",
            "Epoch [60], val_loss: 8327.8770\n",
            "Epoch [80], val_loss: 8309.2881\n",
            "Epoch [100], val_loss: 8290.3418\n",
            "[{'val_loss': 8387.876953125}, {'val_loss': 8386.845703125}, {'val_loss': 8385.63671875}, {'val_loss': 8384.431640625}, {'val_loss': 8382.8984375}, {'val_loss': 8381.9609375}, {'val_loss': 8380.69140625}, {'val_loss': 8379.599609375}, {'val_loss': 8378.650390625}, {'val_loss': 8377.4541015625}, {'val_loss': 8376.3447265625}, {'val_loss': 8375.38671875}, {'val_loss': 8374.2373046875}, {'val_loss': 8373.486328125}, {'val_loss': 8372.177734375}, {'val_loss': 8371.271484375}, {'val_loss': 8370.369140625}, {'val_loss': 8369.447265625}, {'val_loss': 8368.3984375}, {'val_loss': 8367.4912109375}, {'val_loss': 8366.2080078125}, {'val_loss': 8365.064453125}, {'val_loss': 8364.48046875}, {'val_loss': 8363.62109375}, {'val_loss': 8362.86328125}, {'val_loss': 8361.80859375}, {'val_loss': 8360.423828125}, {'val_loss': 8359.2001953125}, {'val_loss': 8358.1376953125}, {'val_loss': 8356.94921875}, {'val_loss': 8355.7294921875}, {'val_loss': 8354.638671875}, {'val_loss': 8353.6142578125}, {'val_loss': 8352.681640625}, {'val_loss': 8351.896484375}, {'val_loss': 8350.806640625}, {'val_loss': 8349.703125}, {'val_loss': 8348.70703125}, {'val_loss': 8347.640625}, {'val_loss': 8346.484375}, {'val_loss': 8345.603515625}, {'val_loss': 8344.544921875}, {'val_loss': 8343.806640625}, {'val_loss': 8342.7763671875}, {'val_loss': 8342.1201171875}, {'val_loss': 8340.9130859375}, {'val_loss': 8339.876953125}, {'val_loss': 8339.048828125}, {'val_loss': 8338.2412109375}, {'val_loss': 8337.283203125}, {'val_loss': 8336.1943359375}, {'val_loss': 8335.09765625}, {'val_loss': 8334.193359375}, {'val_loss': 8333.2041015625}, {'val_loss': 8332.546875}, {'val_loss': 8331.76171875}, {'val_loss': 8330.673828125}, {'val_loss': 8329.4453125}, {'val_loss': 8328.50390625}, {'val_loss': 8327.876953125}, {'val_loss': 8326.94921875}, {'val_loss': 8326.0625}, {'val_loss': 8325.0478515625}, {'val_loss': 8324.09765625}, {'val_loss': 8323.2177734375}, {'val_loss': 8322.068359375}, {'val_loss': 8321.1123046875}, {'val_loss': 8320.26171875}, {'val_loss': 8319.28515625}, {'val_loss': 8317.986328125}, {'val_loss': 8317.11328125}, {'val_loss': 8316.08984375}, {'val_loss': 8314.9326171875}, {'val_loss': 8314.5625}, {'val_loss': 8313.6640625}, {'val_loss': 8312.8828125}, {'val_loss': 8312.1572265625}, {'val_loss': 8311.0087890625}, {'val_loss': 8310.2421875}, {'val_loss': 8309.2880859375}, {'val_loss': 8308.693359375}, {'val_loss': 8307.669921875}, {'val_loss': 8306.83984375}, {'val_loss': 8305.947265625}, {'val_loss': 8304.875}, {'val_loss': 8303.9169921875}, {'val_loss': 8302.8876953125}, {'val_loss': 8301.8203125}, {'val_loss': 8300.771484375}, {'val_loss': 8300.142578125}, {'val_loss': 8299.029296875}, {'val_loss': 8297.9921875}, {'val_loss': 8297.16015625}, {'val_loss': 8296.294921875}, {'val_loss': 8295.470703125}, {'val_loss': 8294.501953125}, {'val_loss': 8293.4609375}, {'val_loss': 8292.58203125}, {'val_loss': 8291.5654296875}, {'val_loss': 8290.341796875}]\n",
            "Epoch [20], val_loss: 8288.4375\n",
            "Epoch [40], val_loss: 8286.5527\n",
            "Epoch [60], val_loss: 8284.7500\n",
            "Epoch [80], val_loss: 8282.8320\n",
            "Epoch [100], val_loss: 8280.8955\n",
            "[{'val_loss': 8290.248046875}, {'val_loss': 8290.171875}, {'val_loss': 8290.09375}, {'val_loss': 8289.994140625}, {'val_loss': 8289.89453125}, {'val_loss': 8289.8359375}, {'val_loss': 8289.7412109375}, {'val_loss': 8289.666015625}, {'val_loss': 8289.5849609375}, {'val_loss': 8289.48046875}, {'val_loss': 8289.40625}, {'val_loss': 8289.287109375}, {'val_loss': 8289.16796875}, {'val_loss': 8289.072265625}, {'val_loss': 8288.978515625}, {'val_loss': 8288.8427734375}, {'val_loss': 8288.7314453125}, {'val_loss': 8288.611328125}, {'val_loss': 8288.5234375}, {'val_loss': 8288.4375}, {'val_loss': 8288.328125}, {'val_loss': 8288.2529296875}, {'val_loss': 8288.1708984375}, {'val_loss': 8288.0673828125}, {'val_loss': 8287.9990234375}, {'val_loss': 8287.8857421875}, {'val_loss': 8287.7705078125}, {'val_loss': 8287.693359375}, {'val_loss': 8287.58984375}, {'val_loss': 8287.50390625}, {'val_loss': 8287.3994140625}, {'val_loss': 8287.306640625}, {'val_loss': 8287.197265625}, {'val_loss': 8287.1298828125}, {'val_loss': 8287.017578125}, {'val_loss': 8286.9130859375}, {'val_loss': 8286.837890625}, {'val_loss': 8286.751953125}, {'val_loss': 8286.6650390625}, {'val_loss': 8286.552734375}, {'val_loss': 8286.462890625}, {'val_loss': 8286.3681640625}, {'val_loss': 8286.283203125}, {'val_loss': 8286.2138671875}, {'val_loss': 8286.109375}, {'val_loss': 8286.0341796875}, {'val_loss': 8285.943359375}, {'val_loss': 8285.8466796875}, {'val_loss': 8285.7705078125}, {'val_loss': 8285.6796875}, {'val_loss': 8285.5927734375}, {'val_loss': 8285.5087890625}, {'val_loss': 8285.42578125}, {'val_loss': 8285.328125}, {'val_loss': 8285.23828125}, {'val_loss': 8285.1484375}, {'val_loss': 8285.05859375}, {'val_loss': 8284.95703125}, {'val_loss': 8284.8564453125}, {'val_loss': 8284.75}, {'val_loss': 8284.650390625}, {'val_loss': 8284.544921875}, {'val_loss': 8284.4560546875}, {'val_loss': 8284.380859375}, {'val_loss': 8284.275390625}, {'val_loss': 8284.1708984375}, {'val_loss': 8284.068359375}, {'val_loss': 8283.978515625}, {'val_loss': 8283.876953125}, {'val_loss': 8283.783203125}, {'val_loss': 8283.72265625}, {'val_loss': 8283.6201171875}, {'val_loss': 8283.51953125}, {'val_loss': 8283.3984375}, {'val_loss': 8283.275390625}, {'val_loss': 8283.1953125}, {'val_loss': 8283.12890625}, {'val_loss': 8283.0166015625}, {'val_loss': 8282.943359375}, {'val_loss': 8282.83203125}, {'val_loss': 8282.728515625}, {'val_loss': 8282.6455078125}, {'val_loss': 8282.5234375}, {'val_loss': 8282.4228515625}, {'val_loss': 8282.3564453125}, {'val_loss': 8282.27734375}, {'val_loss': 8282.169921875}, {'val_loss': 8282.0732421875}, {'val_loss': 8281.96875}, {'val_loss': 8281.85546875}, {'val_loss': 8281.7763671875}, {'val_loss': 8281.67578125}, {'val_loss': 8281.5576171875}, {'val_loss': 8281.44921875}, {'val_loss': 8281.349609375}, {'val_loss': 8281.25390625}, {'val_loss': 8281.166015625}, {'val_loss': 8281.091796875}, {'val_loss': 8280.9921875}, {'val_loss': 8280.8955078125}]\n",
            "Epoch [20], val_loss: 8280.7031\n",
            "Epoch [40], val_loss: 8280.5146\n",
            "Epoch [60], val_loss: 8280.3311\n",
            "Epoch [80], val_loss: 8280.1445\n",
            "Epoch [100], val_loss: 8279.9570\n",
            "[{'val_loss': 8280.884765625}, {'val_loss': 8280.875}, {'val_loss': 8280.869140625}, {'val_loss': 8280.8603515625}, {'val_loss': 8280.8486328125}, {'val_loss': 8280.8388671875}, {'val_loss': 8280.8310546875}, {'val_loss': 8280.8193359375}, {'val_loss': 8280.810546875}, {'val_loss': 8280.796875}, {'val_loss': 8280.787109375}, {'val_loss': 8280.779296875}, {'val_loss': 8280.76953125}, {'val_loss': 8280.7548828125}, {'val_loss': 8280.7490234375}, {'val_loss': 8280.73828125}, {'val_loss': 8280.7314453125}, {'val_loss': 8280.720703125}, {'val_loss': 8280.7109375}, {'val_loss': 8280.703125}, {'val_loss': 8280.69140625}, {'val_loss': 8280.681640625}, {'val_loss': 8280.673828125}, {'val_loss': 8280.6650390625}, {'val_loss': 8280.658203125}, {'val_loss': 8280.6484375}, {'val_loss': 8280.6396484375}, {'val_loss': 8280.630859375}, {'val_loss': 8280.619140625}, {'val_loss': 8280.6123046875}, {'val_loss': 8280.6044921875}, {'val_loss': 8280.595703125}, {'val_loss': 8280.5849609375}, {'val_loss': 8280.57421875}, {'val_loss': 8280.564453125}, {'val_loss': 8280.556640625}, {'val_loss': 8280.544921875}, {'val_loss': 8280.53515625}, {'val_loss': 8280.5234375}, {'val_loss': 8280.5146484375}, {'val_loss': 8280.505859375}, {'val_loss': 8280.4931640625}, {'val_loss': 8280.486328125}, {'val_loss': 8280.478515625}, {'val_loss': 8280.4658203125}, {'val_loss': 8280.45703125}, {'val_loss': 8280.44921875}, {'val_loss': 8280.4404296875}, {'val_loss': 8280.43359375}, {'val_loss': 8280.4228515625}, {'val_loss': 8280.4130859375}, {'val_loss': 8280.4033203125}, {'val_loss': 8280.396484375}, {'val_loss': 8280.388671875}, {'val_loss': 8280.376953125}, {'val_loss': 8280.369140625}, {'val_loss': 8280.359375}, {'val_loss': 8280.3515625}, {'val_loss': 8280.33984375}, {'val_loss': 8280.3310546875}, {'val_loss': 8280.3212890625}, {'val_loss': 8280.30859375}, {'val_loss': 8280.30078125}, {'val_loss': 8280.2919921875}, {'val_loss': 8280.28515625}, {'val_loss': 8280.27734375}, {'val_loss': 8280.2646484375}, {'val_loss': 8280.25390625}, {'val_loss': 8280.2431640625}, {'val_loss': 8280.236328125}, {'val_loss': 8280.2265625}, {'val_loss': 8280.2177734375}, {'val_loss': 8280.208984375}, {'val_loss': 8280.197265625}, {'val_loss': 8280.19140625}, {'val_loss': 8280.181640625}, {'val_loss': 8280.1708984375}, {'val_loss': 8280.16015625}, {'val_loss': 8280.15234375}, {'val_loss': 8280.14453125}, {'val_loss': 8280.1328125}, {'val_loss': 8280.126953125}, {'val_loss': 8280.1181640625}, {'val_loss': 8280.1083984375}, {'val_loss': 8280.099609375}, {'val_loss': 8280.0908203125}, {'val_loss': 8280.08203125}, {'val_loss': 8280.0732421875}, {'val_loss': 8280.0634765625}, {'val_loss': 8280.05078125}, {'val_loss': 8280.041015625}, {'val_loss': 8280.03125}, {'val_loss': 8280.01953125}, {'val_loss': 8280.0107421875}, {'val_loss': 8280.001953125}, {'val_loss': 8279.9921875}, {'val_loss': 8279.98046875}, {'val_loss': 8279.9736328125}, {'val_loss': 8279.9658203125}, {'val_loss': 8279.95703125}]\n"
          ],
          "name": "stdout"
        },
        {
          "output_type": "stream",
          "text": [
            "Epoch [20], val_loss: 8279.9355\n",
            "Epoch [40], val_loss: 8279.9180\n",
            "Epoch [60], val_loss: 8279.8984\n",
            "Epoch [80], val_loss: 8279.8789\n",
            "Epoch [100], val_loss: 8279.8594\n",
            "[{'val_loss': 8279.9560546875}, {'val_loss': 8279.955078125}, {'val_loss': 8279.9541015625}, {'val_loss': 8279.953125}, {'val_loss': 8279.951171875}, {'val_loss': 8279.9501953125}, {'val_loss': 8279.94921875}, {'val_loss': 8279.94921875}, {'val_loss': 8279.9482421875}, {'val_loss': 8279.947265625}, {'val_loss': 8279.9453125}, {'val_loss': 8279.9443359375}, {'val_loss': 8279.943359375}, {'val_loss': 8279.94140625}, {'val_loss': 8279.94140625}, {'val_loss': 8279.9404296875}, {'val_loss': 8279.939453125}, {'val_loss': 8279.9375}, {'val_loss': 8279.9375}, {'val_loss': 8279.935546875}, {'val_loss': 8279.935546875}, {'val_loss': 8279.935546875}, {'val_loss': 8279.93359375}, {'val_loss': 8279.9326171875}, {'val_loss': 8279.931640625}, {'val_loss': 8279.9306640625}, {'val_loss': 8279.9296875}, {'val_loss': 8279.9287109375}, {'val_loss': 8279.927734375}, {'val_loss': 8279.9267578125}, {'val_loss': 8279.9267578125}, {'val_loss': 8279.92578125}, {'val_loss': 8279.923828125}, {'val_loss': 8279.923828125}, {'val_loss': 8279.921875}, {'val_loss': 8279.921875}, {'val_loss': 8279.9208984375}, {'val_loss': 8279.9189453125}, {'val_loss': 8279.9189453125}, {'val_loss': 8279.91796875}, {'val_loss': 8279.91796875}, {'val_loss': 8279.9169921875}, {'val_loss': 8279.9140625}, {'val_loss': 8279.912109375}, {'val_loss': 8279.912109375}, {'val_loss': 8279.912109375}, {'val_loss': 8279.91015625}, {'val_loss': 8279.908203125}, {'val_loss': 8279.91015625}, {'val_loss': 8279.908203125}, {'val_loss': 8279.908203125}, {'val_loss': 8279.90625}, {'val_loss': 8279.9052734375}, {'val_loss': 8279.904296875}, {'val_loss': 8279.90234375}, {'val_loss': 8279.90234375}, {'val_loss': 8279.900390625}, {'val_loss': 8279.900390625}, {'val_loss': 8279.8994140625}, {'val_loss': 8279.8984375}, {'val_loss': 8279.8974609375}, {'val_loss': 8279.896484375}, {'val_loss': 8279.896484375}, {'val_loss': 8279.89453125}, {'val_loss': 8279.8935546875}, {'val_loss': 8279.892578125}, {'val_loss': 8279.892578125}, {'val_loss': 8279.8916015625}, {'val_loss': 8279.890625}, {'val_loss': 8279.8896484375}, {'val_loss': 8279.8876953125}, {'val_loss': 8279.88671875}, {'val_loss': 8279.88671875}, {'val_loss': 8279.884765625}, {'val_loss': 8279.884765625}, {'val_loss': 8279.8828125}, {'val_loss': 8279.8828125}, {'val_loss': 8279.880859375}, {'val_loss': 8279.880859375}, {'val_loss': 8279.87890625}, {'val_loss': 8279.87890625}, {'val_loss': 8279.876953125}, {'val_loss': 8279.876953125}, {'val_loss': 8279.876953125}, {'val_loss': 8279.875}, {'val_loss': 8279.8740234375}, {'val_loss': 8279.873046875}, {'val_loss': 8279.8720703125}, {'val_loss': 8279.87109375}, {'val_loss': 8279.869140625}, {'val_loss': 8279.869140625}, {'val_loss': 8279.8671875}, {'val_loss': 8279.8671875}, {'val_loss': 8279.865234375}, {'val_loss': 8279.8642578125}, {'val_loss': 8279.86328125}, {'val_loss': 8279.861328125}, {'val_loss': 8279.861328125}, {'val_loss': 8279.8603515625}, {'val_loss': 8279.859375}]\n",
            "Epoch [20], val_loss: 8279.8594\n",
            "Epoch [40], val_loss: 8279.8574\n",
            "Epoch [60], val_loss: 8279.8574\n",
            "Epoch [80], val_loss: 8279.8555\n",
            "Epoch [100], val_loss: 8279.8555\n",
            "[{'val_loss': 8279.859375}, {'val_loss': 8279.859375}, {'val_loss': 8279.859375}, {'val_loss': 8279.859375}, {'val_loss': 8279.859375}, {'val_loss': 8279.859375}, {'val_loss': 8279.859375}, {'val_loss': 8279.8583984375}, {'val_loss': 8279.8583984375}, {'val_loss': 8279.859375}, {'val_loss': 8279.859375}, {'val_loss': 8279.859375}, {'val_loss': 8279.859375}, {'val_loss': 8279.859375}, {'val_loss': 8279.859375}, {'val_loss': 8279.859375}, {'val_loss': 8279.859375}, {'val_loss': 8279.859375}, {'val_loss': 8279.859375}, {'val_loss': 8279.859375}, {'val_loss': 8279.859375}, {'val_loss': 8279.859375}, {'val_loss': 8279.859375}, {'val_loss': 8279.859375}, {'val_loss': 8279.859375}, {'val_loss': 8279.859375}, {'val_loss': 8279.859375}, {'val_loss': 8279.859375}, {'val_loss': 8279.859375}, {'val_loss': 8279.8583984375}, {'val_loss': 8279.8583984375}, {'val_loss': 8279.8583984375}, {'val_loss': 8279.8583984375}, {'val_loss': 8279.8583984375}, {'val_loss': 8279.859375}, {'val_loss': 8279.857421875}, {'val_loss': 8279.857421875}, {'val_loss': 8279.857421875}, {'val_loss': 8279.857421875}, {'val_loss': 8279.857421875}, {'val_loss': 8279.857421875}, {'val_loss': 8279.857421875}, {'val_loss': 8279.857421875}, {'val_loss': 8279.8583984375}, {'val_loss': 8279.857421875}, {'val_loss': 8279.8583984375}, {'val_loss': 8279.857421875}, {'val_loss': 8279.857421875}, {'val_loss': 8279.857421875}, {'val_loss': 8279.857421875}, {'val_loss': 8279.857421875}, {'val_loss': 8279.857421875}, {'val_loss': 8279.857421875}, {'val_loss': 8279.857421875}, {'val_loss': 8279.857421875}, {'val_loss': 8279.857421875}, {'val_loss': 8279.857421875}, {'val_loss': 8279.857421875}, {'val_loss': 8279.8564453125}, {'val_loss': 8279.857421875}, {'val_loss': 8279.8564453125}, {'val_loss': 8279.857421875}, {'val_loss': 8279.8564453125}, {'val_loss': 8279.8564453125}, {'val_loss': 8279.85546875}, {'val_loss': 8279.85546875}, {'val_loss': 8279.85546875}, {'val_loss': 8279.8564453125}, {'val_loss': 8279.85546875}, {'val_loss': 8279.85546875}, {'val_loss': 8279.8564453125}, {'val_loss': 8279.85546875}, {'val_loss': 8279.85546875}, {'val_loss': 8279.85546875}, {'val_loss': 8279.85546875}, {'val_loss': 8279.85546875}, {'val_loss': 8279.85546875}, {'val_loss': 8279.85546875}, {'val_loss': 8279.85546875}, {'val_loss': 8279.85546875}, {'val_loss': 8279.85546875}, {'val_loss': 8279.85546875}, {'val_loss': 8279.85546875}, {'val_loss': 8279.8544921875}, {'val_loss': 8279.85546875}, {'val_loss': 8279.85546875}, {'val_loss': 8279.85546875}, {'val_loss': 8279.85546875}, {'val_loss': 8279.85546875}, {'val_loss': 8279.85546875}, {'val_loss': 8279.85546875}, {'val_loss': 8279.85546875}, {'val_loss': 8279.85546875}, {'val_loss': 8279.85546875}, {'val_loss': 8279.85546875}, {'val_loss': 8279.85546875}, {'val_loss': 8279.85546875}, {'val_loss': 8279.85546875}, {'val_loss': 8279.85546875}, {'val_loss': 8279.85546875}]\n",
            "Epoch [20], val_loss: 8279.8555\n",
            "Epoch [40], val_loss: 8279.8555\n",
            "Epoch [60], val_loss: 8279.8555\n",
            "Epoch [80], val_loss: 8279.8555\n",
            "Epoch [100], val_loss: 8279.8555\n",
            "[{'val_loss': 8279.85546875}, {'val_loss': 8279.85546875}, {'val_loss': 8279.85546875}, {'val_loss': 8279.85546875}, {'val_loss': 8279.85546875}, {'val_loss': 8279.85546875}, {'val_loss': 8279.85546875}, {'val_loss': 8279.85546875}, {'val_loss': 8279.85546875}, {'val_loss': 8279.85546875}, {'val_loss': 8279.85546875}, {'val_loss': 8279.85546875}, {'val_loss': 8279.85546875}, {'val_loss': 8279.85546875}, {'val_loss': 8279.85546875}, {'val_loss': 8279.85546875}, {'val_loss': 8279.85546875}, {'val_loss': 8279.85546875}, {'val_loss': 8279.85546875}, {'val_loss': 8279.85546875}, {'val_loss': 8279.85546875}, {'val_loss': 8279.85546875}, {'val_loss': 8279.85546875}, {'val_loss': 8279.85546875}, {'val_loss': 8279.85546875}, {'val_loss': 8279.85546875}, {'val_loss': 8279.85546875}, {'val_loss': 8279.85546875}, {'val_loss': 8279.85546875}, {'val_loss': 8279.85546875}, {'val_loss': 8279.85546875}, {'val_loss': 8279.85546875}, {'val_loss': 8279.85546875}, {'val_loss': 8279.85546875}, {'val_loss': 8279.85546875}, {'val_loss': 8279.85546875}, {'val_loss': 8279.85546875}, {'val_loss': 8279.85546875}, {'val_loss': 8279.85546875}, {'val_loss': 8279.85546875}, {'val_loss': 8279.85546875}, {'val_loss': 8279.85546875}, {'val_loss': 8279.85546875}, {'val_loss': 8279.85546875}, {'val_loss': 8279.85546875}, {'val_loss': 8279.85546875}, {'val_loss': 8279.85546875}, {'val_loss': 8279.85546875}, {'val_loss': 8279.85546875}, {'val_loss': 8279.85546875}, {'val_loss': 8279.85546875}, {'val_loss': 8279.85546875}, {'val_loss': 8279.85546875}, {'val_loss': 8279.85546875}, {'val_loss': 8279.85546875}, {'val_loss': 8279.85546875}, {'val_loss': 8279.85546875}, {'val_loss': 8279.85546875}, {'val_loss': 8279.85546875}, {'val_loss': 8279.85546875}, {'val_loss': 8279.85546875}, {'val_loss': 8279.85546875}, {'val_loss': 8279.85546875}, {'val_loss': 8279.85546875}, {'val_loss': 8279.85546875}, {'val_loss': 8279.85546875}, {'val_loss': 8279.85546875}, {'val_loss': 8279.85546875}, {'val_loss': 8279.85546875}, {'val_loss': 8279.85546875}, {'val_loss': 8279.85546875}, {'val_loss': 8279.85546875}, {'val_loss': 8279.85546875}, {'val_loss': 8279.85546875}, {'val_loss': 8279.85546875}, {'val_loss': 8279.85546875}, {'val_loss': 8279.85546875}, {'val_loss': 8279.85546875}, {'val_loss': 8279.85546875}, {'val_loss': 8279.85546875}, {'val_loss': 8279.85546875}, {'val_loss': 8279.85546875}, {'val_loss': 8279.85546875}, {'val_loss': 8279.85546875}, {'val_loss': 8279.85546875}, {'val_loss': 8279.85546875}, {'val_loss': 8279.85546875}, {'val_loss': 8279.85546875}, {'val_loss': 8279.85546875}, {'val_loss': 8279.85546875}, {'val_loss': 8279.85546875}, {'val_loss': 8279.85546875}, {'val_loss': 8279.85546875}, {'val_loss': 8279.85546875}, {'val_loss': 8279.85546875}, {'val_loss': 8279.85546875}, {'val_loss': 8279.85546875}, {'val_loss': 8279.85546875}, {'val_loss': 8279.85546875}, {'val_loss': 8279.85546875}]\n"
          ],
          "name": "stdout"
        },
        {
          "output_type": "stream",
          "text": [
            "Epoch [20], val_loss: 8260.7725\n",
            "Epoch [40], val_loss: 8243.3027\n",
            "Epoch [60], val_loss: 8226.4873\n",
            "Epoch [80], val_loss: 8210.4531\n",
            "Epoch [100], val_loss: 8194.6113\n",
            "Epoch [120], val_loss: 8179.4883\n",
            "Epoch [140], val_loss: 8163.1211\n",
            "Epoch [150], val_loss: 8155.2939\n",
            "[{'val_loss': 8278.8818359375}, {'val_loss': 8278.146484375}, {'val_loss': 8277.287109375}, {'val_loss': 8276.423828125}, {'val_loss': 8275.466796875}, {'val_loss': 8274.48828125}, {'val_loss': 8273.423828125}, {'val_loss': 8272.181640625}, {'val_loss': 8271.251953125}, {'val_loss': 8270.251953125}, {'val_loss': 8269.39453125}, {'val_loss': 8268.3984375}, {'val_loss': 8267.3408203125}, {'val_loss': 8266.5478515625}, {'val_loss': 8265.681640625}, {'val_loss': 8264.560546875}, {'val_loss': 8263.685546875}, {'val_loss': 8262.66015625}, {'val_loss': 8261.623046875}, {'val_loss': 8260.7724609375}, {'val_loss': 8259.8671875}, {'val_loss': 8258.779296875}, {'val_loss': 8258.015625}, {'val_loss': 8257.177734375}, {'val_loss': 8256.21875}, {'val_loss': 8255.560546875}, {'val_loss': 8254.505859375}, {'val_loss': 8253.564453125}, {'val_loss': 8252.595703125}, {'val_loss': 8251.7294921875}, {'val_loss': 8250.9423828125}, {'val_loss': 8250.033203125}, {'val_loss': 8249.1884765625}, {'val_loss': 8248.3720703125}, {'val_loss': 8247.48046875}, {'val_loss': 8246.6630859375}, {'val_loss': 8245.732421875}, {'val_loss': 8244.951171875}, {'val_loss': 8244.1328125}, {'val_loss': 8243.302734375}, {'val_loss': 8242.5400390625}, {'val_loss': 8241.66796875}, {'val_loss': 8240.7822265625}, {'val_loss': 8239.916015625}, {'val_loss': 8239.1435546875}, {'val_loss': 8238.4189453125}, {'val_loss': 8237.44921875}, {'val_loss': 8236.5556640625}, {'val_loss': 8235.791015625}, {'val_loss': 8234.892578125}, {'val_loss': 8234.076171875}, {'val_loss': 8233.330078125}, {'val_loss': 8232.5029296875}, {'val_loss': 8231.646484375}, {'val_loss': 8230.82421875}, {'val_loss': 8230.0107421875}, {'val_loss': 8229.0673828125}, {'val_loss': 8228.2314453125}, {'val_loss': 8227.318359375}, {'val_loss': 8226.4873046875}, {'val_loss': 8225.6962890625}, {'val_loss': 8224.849609375}, {'val_loss': 8223.998046875}, {'val_loss': 8223.3115234375}, {'val_loss': 8222.4921875}, {'val_loss': 8221.66796875}, {'val_loss': 8220.822265625}, {'val_loss': 8220.0791015625}, {'val_loss': 8219.306640625}, {'val_loss': 8218.5390625}, {'val_loss': 8217.7587890625}, {'val_loss': 8216.962890625}, {'val_loss': 8216.1767578125}, {'val_loss': 8215.380859375}, {'val_loss': 8214.517578125}, {'val_loss': 8213.8076171875}, {'val_loss': 8212.888671875}, {'val_loss': 8212.0732421875}, {'val_loss': 8211.216796875}, {'val_loss': 8210.453125}, {'val_loss': 8209.646484375}, {'val_loss': 8208.982421875}, {'val_loss': 8208.25}, {'val_loss': 8207.36328125}, {'val_loss': 8206.53515625}, {'val_loss': 8205.654296875}, {'val_loss': 8204.9375}, {'val_loss': 8204.0390625}, {'val_loss': 8203.259765625}, {'val_loss': 8202.4375}, {'val_loss': 8201.7158203125}, {'val_loss': 8200.9189453125}, {'val_loss': 8200.197265625}, {'val_loss': 8199.337890625}, {'val_loss': 8198.369140625}, {'val_loss': 8197.6044921875}, {'val_loss': 8196.951171875}, {'val_loss': 8196.1630859375}, {'val_loss': 8195.4677734375}, {'val_loss': 8194.611328125}, {'val_loss': 8193.8759765625}, {'val_loss': 8193.08984375}, {'val_loss': 8192.408203125}, {'val_loss': 8191.65576171875}, {'val_loss': 8190.82470703125}, {'val_loss': 8190.142578125}, {'val_loss': 8189.28076171875}, {'val_loss': 8188.6376953125}, {'val_loss': 8187.859375}, {'val_loss': 8187.1962890625}, {'val_loss': 8186.40869140625}, {'val_loss': 8185.724609375}, {'val_loss': 8184.884765625}, {'val_loss': 8184.01318359375}, {'val_loss': 8183.15673828125}, {'val_loss': 8182.4306640625}, {'val_loss': 8181.52880859375}, {'val_loss': 8181.021484375}, {'val_loss': 8180.28515625}, {'val_loss': 8179.48828125}, {'val_loss': 8178.73046875}, {'val_loss': 8177.6845703125}, {'val_loss': 8176.71484375}, {'val_loss': 8176.1025390625}, {'val_loss': 8175.3896484375}, {'val_loss': 8174.4658203125}, {'val_loss': 8173.642578125}, {'val_loss': 8172.609375}, {'val_loss': 8171.79345703125}, {'val_loss': 8170.9541015625}, {'val_loss': 8170.134765625}, {'val_loss': 8169.3017578125}, {'val_loss': 8168.6259765625}, {'val_loss': 8167.7607421875}, {'val_loss': 8166.943359375}, {'val_loss': 8166.162109375}, {'val_loss': 8165.4150390625}, {'val_loss': 8164.56005859375}, {'val_loss': 8163.79296875}, {'val_loss': 8163.12109375}, {'val_loss': 8162.375}, {'val_loss': 8161.521484375}, {'val_loss': 8160.8681640625}, {'val_loss': 8160.2333984375}, {'val_loss': 8159.375}, {'val_loss': 8158.6728515625}, {'val_loss': 8157.8115234375}, {'val_loss': 8156.908203125}, {'val_loss': 8156.173828125}, {'val_loss': 8155.2939453125}]\n",
            "Epoch [20], val_loss: 8153.6284\n",
            "Epoch [40], val_loss: 8151.9990\n",
            "Epoch [60], val_loss: 8150.3848\n",
            "Epoch [80], val_loss: 8148.7529\n",
            "Epoch [100], val_loss: 8147.2036\n",
            "Epoch [120], val_loss: 8145.6182\n",
            "Epoch [140], val_loss: 8144.0537\n",
            "Epoch [150], val_loss: 8143.3252\n",
            "[{'val_loss': 8155.21142578125}, {'val_loss': 8155.1279296875}, {'val_loss': 8155.033203125}, {'val_loss': 8154.9599609375}, {'val_loss': 8154.892578125}, {'val_loss': 8154.79296875}, {'val_loss': 8154.724609375}, {'val_loss': 8154.650390625}, {'val_loss': 8154.54541015625}, {'val_loss': 8154.4580078125}, {'val_loss': 8154.3896484375}, {'val_loss': 8154.298828125}, {'val_loss': 8154.21923828125}, {'val_loss': 8154.1337890625}, {'val_loss': 8154.04150390625}, {'val_loss': 8153.96533203125}, {'val_loss': 8153.876953125}, {'val_loss': 8153.7890625}, {'val_loss': 8153.7138671875}, {'val_loss': 8153.62841796875}, {'val_loss': 8153.55322265625}, {'val_loss': 8153.4765625}, {'val_loss': 8153.400390625}, {'val_loss': 8153.3154296875}, {'val_loss': 8153.23583984375}, {'val_loss': 8153.15283203125}, {'val_loss': 8153.0546875}, {'val_loss': 8152.9619140625}, {'val_loss': 8152.8876953125}, {'val_loss': 8152.80078125}, {'val_loss': 8152.71435546875}, {'val_loss': 8152.6396484375}, {'val_loss': 8152.55517578125}, {'val_loss': 8152.478515625}, {'val_loss': 8152.3984375}, {'val_loss': 8152.322265625}, {'val_loss': 8152.2470703125}, {'val_loss': 8152.1552734375}, {'val_loss': 8152.0703125}, {'val_loss': 8151.9990234375}, {'val_loss': 8151.916015625}, {'val_loss': 8151.84619140625}, {'val_loss': 8151.76025390625}, {'val_loss': 8151.6748046875}, {'val_loss': 8151.59521484375}, {'val_loss': 8151.509765625}, {'val_loss': 8151.42822265625}, {'val_loss': 8151.359375}, {'val_loss': 8151.283203125}, {'val_loss': 8151.1904296875}, {'val_loss': 8151.11962890625}, {'val_loss': 8151.0322265625}, {'val_loss': 8150.9462890625}, {'val_loss': 8150.8564453125}, {'val_loss': 8150.7724609375}, {'val_loss': 8150.7080078125}, {'val_loss': 8150.62939453125}, {'val_loss': 8150.548828125}, {'val_loss': 8150.4609375}, {'val_loss': 8150.384765625}, {'val_loss': 8150.3037109375}, {'val_loss': 8150.2255859375}, {'val_loss': 8150.1416015625}, {'val_loss': 8150.0546875}, {'val_loss': 8149.9609375}, {'val_loss': 8149.8818359375}, {'val_loss': 8149.79638671875}, {'val_loss': 8149.7158203125}, {'val_loss': 8149.63134765625}, {'val_loss': 8149.55126953125}, {'val_loss': 8149.4560546875}, {'val_loss': 8149.3681640625}, {'val_loss': 8149.2783203125}, {'val_loss': 8149.21044921875}, {'val_loss': 8149.1259765625}, {'val_loss': 8149.05078125}, {'val_loss': 8148.98681640625}, {'val_loss': 8148.91064453125}, {'val_loss': 8148.8232421875}, {'val_loss': 8148.7529296875}, {'val_loss': 8148.68994140625}, {'val_loss': 8148.6181640625}, {'val_loss': 8148.5322265625}, {'val_loss': 8148.462890625}, {'val_loss': 8148.3798828125}, {'val_loss': 8148.3056640625}, {'val_loss': 8148.22265625}, {'val_loss': 8148.1328125}, {'val_loss': 8148.044921875}, {'val_loss': 8147.9609375}, {'val_loss': 8147.869140625}, {'val_loss': 8147.787109375}, {'val_loss': 8147.71044921875}, {'val_loss': 8147.6357421875}, {'val_loss': 8147.556640625}, {'val_loss': 8147.48046875}, {'val_loss': 8147.4091796875}, {'val_loss': 8147.3271484375}, {'val_loss': 8147.2646484375}, {'val_loss': 8147.20361328125}, {'val_loss': 8147.1259765625}, {'val_loss': 8147.044921875}, {'val_loss': 8146.95703125}, {'val_loss': 8146.8720703125}, {'val_loss': 8146.8076171875}, {'val_loss': 8146.7265625}, {'val_loss': 8146.654296875}, {'val_loss': 8146.58056640625}, {'val_loss': 8146.49951171875}, {'val_loss': 8146.419921875}, {'val_loss': 8146.3466796875}, {'val_loss': 8146.2587890625}, {'val_loss': 8146.169921875}, {'val_loss': 8146.0859375}, {'val_loss': 8146.0087890625}, {'val_loss': 8145.93212890625}, {'val_loss': 8145.8447265625}, {'val_loss': 8145.7724609375}, {'val_loss': 8145.69580078125}, {'val_loss': 8145.6181640625}, {'val_loss': 8145.54248046875}, {'val_loss': 8145.4541015625}, {'val_loss': 8145.375}, {'val_loss': 8145.302734375}, {'val_loss': 8145.2177734375}, {'val_loss': 8145.13818359375}, {'val_loss': 8145.06884765625}, {'val_loss': 8144.98681640625}, {'val_loss': 8144.9091796875}, {'val_loss': 8144.82275390625}, {'val_loss': 8144.7421875}, {'val_loss': 8144.662109375}, {'val_loss': 8144.587890625}, {'val_loss': 8144.5048828125}, {'val_loss': 8144.43212890625}, {'val_loss': 8144.353515625}, {'val_loss': 8144.27783203125}, {'val_loss': 8144.2001953125}, {'val_loss': 8144.12890625}, {'val_loss': 8144.0537109375}, {'val_loss': 8143.984375}, {'val_loss': 8143.91455078125}, {'val_loss': 8143.8408203125}, {'val_loss': 8143.76806640625}, {'val_loss': 8143.69091796875}, {'val_loss': 8143.6201171875}, {'val_loss': 8143.5390625}, {'val_loss': 8143.47265625}, {'val_loss': 8143.3984375}, {'val_loss': 8143.3251953125}]\n"
          ],
          "name": "stdout"
        },
        {
          "output_type": "stream",
          "text": [
            "Epoch [20], val_loss: 8143.1777\n",
            "Epoch [40], val_loss: 8143.0308\n",
            "Epoch [60], val_loss: 8142.8818\n",
            "Epoch [80], val_loss: 8142.7373\n",
            "Epoch [100], val_loss: 8142.5850\n",
            "Epoch [120], val_loss: 8142.4355\n",
            "Epoch [140], val_loss: 8142.2925\n",
            "Epoch [150], val_loss: 8142.2173\n",
            "[{'val_loss': 8143.3193359375}, {'val_loss': 8143.3115234375}, {'val_loss': 8143.30517578125}, {'val_loss': 8143.296875}, {'val_loss': 8143.2900390625}, {'val_loss': 8143.28125}, {'val_loss': 8143.2734375}, {'val_loss': 8143.2666015625}, {'val_loss': 8143.2568359375}, {'val_loss': 8143.25}, {'val_loss': 8143.24365234375}, {'val_loss': 8143.236328125}, {'val_loss': 8143.2275390625}, {'val_loss': 8143.2216796875}, {'val_loss': 8143.2138671875}, {'val_loss': 8143.205078125}, {'val_loss': 8143.1982421875}, {'val_loss': 8143.1904296875}, {'val_loss': 8143.1845703125}, {'val_loss': 8143.177734375}, {'val_loss': 8143.169921875}, {'val_loss': 8143.162109375}, {'val_loss': 8143.15478515625}, {'val_loss': 8143.146484375}, {'val_loss': 8143.13916015625}, {'val_loss': 8143.13134765625}, {'val_loss': 8143.1240234375}, {'val_loss': 8143.115234375}, {'val_loss': 8143.1083984375}, {'val_loss': 8143.103515625}, {'val_loss': 8143.095703125}, {'val_loss': 8143.087890625}, {'val_loss': 8143.080078125}, {'val_loss': 8143.0732421875}, {'val_loss': 8143.0625}, {'val_loss': 8143.0576171875}, {'val_loss': 8143.05126953125}, {'val_loss': 8143.044921875}, {'val_loss': 8143.0361328125}, {'val_loss': 8143.03076171875}, {'val_loss': 8143.0224609375}, {'val_loss': 8143.015625}, {'val_loss': 8143.0078125}, {'val_loss': 8143.0}, {'val_loss': 8142.9921875}, {'val_loss': 8142.984375}, {'val_loss': 8142.9765625}, {'val_loss': 8142.96923828125}, {'val_loss': 8142.96142578125}, {'val_loss': 8142.9541015625}, {'val_loss': 8142.9453125}, {'val_loss': 8142.9384765625}, {'val_loss': 8142.9326171875}, {'val_loss': 8142.92529296875}, {'val_loss': 8142.91748046875}, {'val_loss': 8142.9111328125}, {'val_loss': 8142.90478515625}, {'val_loss': 8142.89697265625}, {'val_loss': 8142.8896484375}, {'val_loss': 8142.8818359375}, {'val_loss': 8142.8759765625}, {'val_loss': 8142.86767578125}, {'val_loss': 8142.86083984375}, {'val_loss': 8142.8525390625}, {'val_loss': 8142.8447265625}, {'val_loss': 8142.8388671875}, {'val_loss': 8142.8310546875}, {'val_loss': 8142.8232421875}, {'val_loss': 8142.8173828125}, {'val_loss': 8142.8095703125}, {'val_loss': 8142.80322265625}, {'val_loss': 8142.7939453125}, {'val_loss': 8142.78759765625}, {'val_loss': 8142.7802734375}, {'val_loss': 8142.7724609375}, {'val_loss': 8142.76513671875}, {'val_loss': 8142.7587890625}, {'val_loss': 8142.75146484375}, {'val_loss': 8142.7431640625}, {'val_loss': 8142.7373046875}, {'val_loss': 8142.7294921875}, {'val_loss': 8142.72265625}, {'val_loss': 8142.71484375}, {'val_loss': 8142.70703125}, {'val_loss': 8142.69921875}, {'val_loss': 8142.693359375}, {'val_loss': 8142.68408203125}, {'val_loss': 8142.67578125}, {'val_loss': 8142.66845703125}, {'val_loss': 8142.6611328125}, {'val_loss': 8142.65380859375}, {'val_loss': 8142.646484375}, {'val_loss': 8142.63916015625}, {'val_loss': 8142.63134765625}, {'val_loss': 8142.623046875}, {'val_loss': 8142.6171875}, {'val_loss': 8142.607421875}, {'val_loss': 8142.599609375}, {'val_loss': 8142.59326171875}, {'val_loss': 8142.5849609375}, {'val_loss': 8142.576171875}, {'val_loss': 8142.5703125}, {'val_loss': 8142.564453125}, {'val_loss': 8142.5556640625}, {'val_loss': 8142.548828125}, {'val_loss': 8142.541015625}, {'val_loss': 8142.5341796875}, {'val_loss': 8142.525390625}, {'val_loss': 8142.517578125}, {'val_loss': 8142.5107421875}, {'val_loss': 8142.50390625}, {'val_loss': 8142.4970703125}, {'val_loss': 8142.48828125}, {'val_loss': 8142.4814453125}, {'val_loss': 8142.47265625}, {'val_loss': 8142.46533203125}, {'val_loss': 8142.45703125}, {'val_loss': 8142.44970703125}, {'val_loss': 8142.4423828125}, {'val_loss': 8142.435546875}, {'val_loss': 8142.42919921875}, {'val_loss': 8142.42333984375}, {'val_loss': 8142.416015625}, {'val_loss': 8142.40869140625}, {'val_loss': 8142.4013671875}, {'val_loss': 8142.3935546875}, {'val_loss': 8142.3857421875}, {'val_loss': 8142.37890625}, {'val_loss': 8142.3720703125}, {'val_loss': 8142.3662109375}, {'val_loss': 8142.359375}, {'val_loss': 8142.35205078125}, {'val_loss': 8142.345703125}, {'val_loss': 8142.3388671875}, {'val_loss': 8142.3310546875}, {'val_loss': 8142.3232421875}, {'val_loss': 8142.3154296875}, {'val_loss': 8142.3076171875}, {'val_loss': 8142.30029296875}, {'val_loss': 8142.29248046875}, {'val_loss': 8142.28515625}, {'val_loss': 8142.27783203125}, {'val_loss': 8142.2705078125}, {'val_loss': 8142.2626953125}, {'val_loss': 8142.25439453125}, {'val_loss': 8142.24755859375}, {'val_loss': 8142.240234375}, {'val_loss': 8142.2314453125}, {'val_loss': 8142.2255859375}, {'val_loss': 8142.21728515625}]\n",
            "Epoch [20], val_loss: 8142.2021\n",
            "Epoch [40], val_loss: 8142.1875\n",
            "Epoch [60], val_loss: 8142.1729\n",
            "Epoch [80], val_loss: 8142.1572\n",
            "Epoch [100], val_loss: 8142.1436\n",
            "Epoch [120], val_loss: 8142.1289\n",
            "Epoch [140], val_loss: 8142.1143\n",
            "Epoch [150], val_loss: 8142.1064\n",
            "[{'val_loss': 8142.216796875}, {'val_loss': 8142.2158203125}, {'val_loss': 8142.21484375}, {'val_loss': 8142.2138671875}, {'val_loss': 8142.2138671875}, {'val_loss': 8142.212890625}, {'val_loss': 8142.212890625}, {'val_loss': 8142.2119140625}, {'val_loss': 8142.2109375}, {'val_loss': 8142.2099609375}, {'val_loss': 8142.20849609375}, {'val_loss': 8142.2080078125}, {'val_loss': 8142.2080078125}, {'val_loss': 8142.20703125}, {'val_loss': 8142.2060546875}, {'val_loss': 8142.205078125}, {'val_loss': 8142.2041015625}, {'val_loss': 8142.203125}, {'val_loss': 8142.203125}, {'val_loss': 8142.2021484375}, {'val_loss': 8142.201171875}, {'val_loss': 8142.201171875}, {'val_loss': 8142.2001953125}, {'val_loss': 8142.1982421875}, {'val_loss': 8142.197265625}, {'val_loss': 8142.19677734375}, {'val_loss': 8142.197265625}, {'val_loss': 8142.1953125}, {'val_loss': 8142.1953125}, {'val_loss': 8142.1943359375}, {'val_loss': 8142.193359375}, {'val_loss': 8142.193359375}, {'val_loss': 8142.19287109375}, {'val_loss': 8142.19140625}, {'val_loss': 8142.19091796875}, {'val_loss': 8142.189453125}, {'val_loss': 8142.18994140625}, {'val_loss': 8142.189453125}, {'val_loss': 8142.1884765625}, {'val_loss': 8142.1875}, {'val_loss': 8142.1875}, {'val_loss': 8142.185546875}, {'val_loss': 8142.185546875}, {'val_loss': 8142.1845703125}, {'val_loss': 8142.18359375}, {'val_loss': 8142.18310546875}, {'val_loss': 8142.181640625}, {'val_loss': 8142.1806640625}, {'val_loss': 8142.1806640625}, {'val_loss': 8142.1796875}, {'val_loss': 8142.1787109375}, {'val_loss': 8142.17822265625}, {'val_loss': 8142.1767578125}, {'val_loss': 8142.1767578125}, {'val_loss': 8142.17578125}, {'val_loss': 8142.17529296875}, {'val_loss': 8142.1748046875}, {'val_loss': 8142.17431640625}, {'val_loss': 8142.173828125}, {'val_loss': 8142.1728515625}, {'val_loss': 8142.1728515625}, {'val_loss': 8142.171875}, {'val_loss': 8142.169921875}, {'val_loss': 8142.16845703125}, {'val_loss': 8142.16845703125}, {'val_loss': 8142.16748046875}, {'val_loss': 8142.1669921875}, {'val_loss': 8142.1669921875}, {'val_loss': 8142.1650390625}, {'val_loss': 8142.1640625}, {'val_loss': 8142.1640625}, {'val_loss': 8142.1630859375}, {'val_loss': 8142.16259765625}, {'val_loss': 8142.162109375}, {'val_loss': 8142.16162109375}, {'val_loss': 8142.16064453125}, {'val_loss': 8142.15966796875}, {'val_loss': 8142.1591796875}, {'val_loss': 8142.158203125}, {'val_loss': 8142.1572265625}, {'val_loss': 8142.15673828125}, {'val_loss': 8142.15625}, {'val_loss': 8142.15625}, {'val_loss': 8142.1552734375}, {'val_loss': 8142.154296875}, {'val_loss': 8142.1533203125}, {'val_loss': 8142.15234375}, {'val_loss': 8142.15185546875}, {'val_loss': 8142.15185546875}, {'val_loss': 8142.150390625}, {'val_loss': 8142.14990234375}, {'val_loss': 8142.14892578125}, {'val_loss': 8142.1484375}, {'val_loss': 8142.1474609375}, {'val_loss': 8142.146484375}, {'val_loss': 8142.1455078125}, {'val_loss': 8142.1455078125}, {'val_loss': 8142.14453125}, {'val_loss': 8142.1435546875}, {'val_loss': 8142.1435546875}, {'val_loss': 8142.14208984375}, {'val_loss': 8142.1416015625}, {'val_loss': 8142.14111328125}, {'val_loss': 8142.14013671875}, {'val_loss': 8142.1396484375}, {'val_loss': 8142.138671875}, {'val_loss': 8142.1376953125}, {'val_loss': 8142.13671875}, {'val_loss': 8142.13623046875}, {'val_loss': 8142.13671875}, {'val_loss': 8142.134765625}, {'val_loss': 8142.134765625}, {'val_loss': 8142.1337890625}, {'val_loss': 8142.13330078125}, {'val_loss': 8142.13232421875}, {'val_loss': 8142.130859375}, {'val_loss': 8142.130859375}, {'val_loss': 8142.1298828125}, {'val_loss': 8142.12890625}, {'val_loss': 8142.12890625}, {'val_loss': 8142.1279296875}, {'val_loss': 8142.126953125}, {'val_loss': 8142.1259765625}, {'val_loss': 8142.1259765625}, {'val_loss': 8142.125}, {'val_loss': 8142.1240234375}, {'val_loss': 8142.1240234375}, {'val_loss': 8142.123046875}, {'val_loss': 8142.12255859375}, {'val_loss': 8142.1220703125}, {'val_loss': 8142.12060546875}, {'val_loss': 8142.11962890625}, {'val_loss': 8142.11865234375}, {'val_loss': 8142.1181640625}, {'val_loss': 8142.1171875}, {'val_loss': 8142.1171875}, {'val_loss': 8142.1162109375}, {'val_loss': 8142.115234375}, {'val_loss': 8142.1142578125}, {'val_loss': 8142.1142578125}, {'val_loss': 8142.11328125}, {'val_loss': 8142.1123046875}, {'val_loss': 8142.11181640625}, {'val_loss': 8142.111328125}, {'val_loss': 8142.111328125}, {'val_loss': 8142.109375}, {'val_loss': 8142.109375}, {'val_loss': 8142.1083984375}, {'val_loss': 8142.10791015625}, {'val_loss': 8142.1064453125}]\n"
          ],
          "name": "stdout"
        },
        {
          "output_type": "stream",
          "text": [
            "Epoch [20], val_loss: 8142.1055\n",
            "Epoch [40], val_loss: 8142.1050\n",
            "Epoch [60], val_loss: 8142.1035\n",
            "Epoch [80], val_loss: 8142.1016\n",
            "Epoch [100], val_loss: 8142.1006\n",
            "Epoch [120], val_loss: 8142.1006\n",
            "Epoch [140], val_loss: 8142.0996\n",
            "Epoch [150], val_loss: 8142.0986\n",
            "[{'val_loss': 8142.1064453125}, {'val_loss': 8142.1064453125}, {'val_loss': 8142.1064453125}, {'val_loss': 8142.1064453125}, {'val_loss': 8142.1064453125}, {'val_loss': 8142.10595703125}, {'val_loss': 8142.10595703125}, {'val_loss': 8142.10546875}, {'val_loss': 8142.10595703125}, {'val_loss': 8142.10546875}, {'val_loss': 8142.10546875}, {'val_loss': 8142.10595703125}, {'val_loss': 8142.10595703125}, {'val_loss': 8142.10546875}, {'val_loss': 8142.10546875}, {'val_loss': 8142.10546875}, {'val_loss': 8142.10546875}, {'val_loss': 8142.10546875}, {'val_loss': 8142.10546875}, {'val_loss': 8142.10546875}, {'val_loss': 8142.1044921875}, {'val_loss': 8142.1044921875}, {'val_loss': 8142.1044921875}, {'val_loss': 8142.1044921875}, {'val_loss': 8142.10546875}, {'val_loss': 8142.1044921875}, {'val_loss': 8142.10546875}, {'val_loss': 8142.10546875}, {'val_loss': 8142.10546875}, {'val_loss': 8142.10498046875}, {'val_loss': 8142.10498046875}, {'val_loss': 8142.1044921875}, {'val_loss': 8142.10498046875}, {'val_loss': 8142.10498046875}, {'val_loss': 8142.10498046875}, {'val_loss': 8142.10498046875}, {'val_loss': 8142.10498046875}, {'val_loss': 8142.10498046875}, {'val_loss': 8142.10546875}, {'val_loss': 8142.10498046875}, {'val_loss': 8142.10498046875}, {'val_loss': 8142.1044921875}, {'val_loss': 8142.1044921875}, {'val_loss': 8142.1044921875}, {'val_loss': 8142.1044921875}, {'val_loss': 8142.1044921875}, {'val_loss': 8142.1044921875}, {'val_loss': 8142.1044921875}, {'val_loss': 8142.1044921875}, {'val_loss': 8142.10498046875}, {'val_loss': 8142.10498046875}, {'val_loss': 8142.1044921875}, {'val_loss': 8142.1044921875}, {'val_loss': 8142.1044921875}, {'val_loss': 8142.1044921875}, {'val_loss': 8142.1044921875}, {'val_loss': 8142.1044921875}, {'val_loss': 8142.103515625}, {'val_loss': 8142.103515625}, {'val_loss': 8142.103515625}, {'val_loss': 8142.103515625}, {'val_loss': 8142.1025390625}, {'val_loss': 8142.1025390625}, {'val_loss': 8142.103515625}, {'val_loss': 8142.103515625}, {'val_loss': 8142.1025390625}, {'val_loss': 8142.10302734375}, {'val_loss': 8142.1025390625}, {'val_loss': 8142.1025390625}, {'val_loss': 8142.1025390625}, {'val_loss': 8142.1025390625}, {'val_loss': 8142.1025390625}, {'val_loss': 8142.1025390625}, {'val_loss': 8142.10205078125}, {'val_loss': 8142.1025390625}, {'val_loss': 8142.1025390625}, {'val_loss': 8142.1015625}, {'val_loss': 8142.1015625}, {'val_loss': 8142.1015625}, {'val_loss': 8142.1015625}, {'val_loss': 8142.1015625}, {'val_loss': 8142.1015625}, {'val_loss': 8142.1015625}, {'val_loss': 8142.1015625}, {'val_loss': 8142.1015625}, {'val_loss': 8142.10107421875}, {'val_loss': 8142.1015625}, {'val_loss': 8142.10107421875}, {'val_loss': 8142.1015625}, {'val_loss': 8142.1015625}, {'val_loss': 8142.1015625}, {'val_loss': 8142.1015625}, {'val_loss': 8142.1015625}, {'val_loss': 8142.1015625}, {'val_loss': 8142.10107421875}, {'val_loss': 8142.10107421875}, {'val_loss': 8142.10107421875}, {'val_loss': 8142.10107421875}, {'val_loss': 8142.10107421875}, {'val_loss': 8142.1005859375}, {'val_loss': 8142.10107421875}, {'val_loss': 8142.1015625}, {'val_loss': 8142.10107421875}, {'val_loss': 8142.1015625}, {'val_loss': 8142.1015625}, {'val_loss': 8142.1015625}, {'val_loss': 8142.1015625}, {'val_loss': 8142.1015625}, {'val_loss': 8142.10205078125}, {'val_loss': 8142.10205078125}, {'val_loss': 8142.1015625}, {'val_loss': 8142.1015625}, {'val_loss': 8142.1015625}, {'val_loss': 8142.1005859375}, {'val_loss': 8142.1005859375}, {'val_loss': 8142.10107421875}, {'val_loss': 8142.10107421875}, {'val_loss': 8142.1005859375}, {'val_loss': 8142.1005859375}, {'val_loss': 8142.1005859375}, {'val_loss': 8142.1005859375}, {'val_loss': 8142.1005859375}, {'val_loss': 8142.1005859375}, {'val_loss': 8142.1015625}, {'val_loss': 8142.1005859375}, {'val_loss': 8142.1015625}, {'val_loss': 8142.1015625}, {'val_loss': 8142.1005859375}, {'val_loss': 8142.10107421875}, {'val_loss': 8142.1005859375}, {'val_loss': 8142.1005859375}, {'val_loss': 8142.1005859375}, {'val_loss': 8142.1005859375}, {'val_loss': 8142.1005859375}, {'val_loss': 8142.1005859375}, {'val_loss': 8142.1005859375}, {'val_loss': 8142.099609375}, {'val_loss': 8142.10009765625}, {'val_loss': 8142.099609375}, {'val_loss': 8142.099609375}, {'val_loss': 8142.099609375}, {'val_loss': 8142.099609375}, {'val_loss': 8142.099609375}, {'val_loss': 8142.099609375}, {'val_loss': 8142.099609375}, {'val_loss': 8142.099609375}, {'val_loss': 8142.09912109375}, {'val_loss': 8142.0986328125}, {'val_loss': 8142.0986328125}, {'val_loss': 8142.0986328125}]\n",
            "Epoch [20], val_loss: 8142.0986\n",
            "Epoch [40], val_loss: 8142.0986\n",
            "Epoch [60], val_loss: 8142.0977\n",
            "Epoch [80], val_loss: 8142.0981\n",
            "Epoch [100], val_loss: 8142.0986\n",
            "Epoch [120], val_loss: 8142.0986\n",
            "Epoch [140], val_loss: 8142.0986\n",
            "Epoch [150], val_loss: 8142.0986\n",
            "[{'val_loss': 8142.0986328125}, {'val_loss': 8142.0986328125}, {'val_loss': 8142.0986328125}, {'val_loss': 8142.0986328125}, {'val_loss': 8142.0986328125}, {'val_loss': 8142.0986328125}, {'val_loss': 8142.0986328125}, {'val_loss': 8142.0986328125}, {'val_loss': 8142.0986328125}, {'val_loss': 8142.0986328125}, {'val_loss': 8142.0986328125}, {'val_loss': 8142.0986328125}, {'val_loss': 8142.0986328125}, {'val_loss': 8142.0986328125}, {'val_loss': 8142.0986328125}, {'val_loss': 8142.0986328125}, {'val_loss': 8142.0986328125}, {'val_loss': 8142.0986328125}, {'val_loss': 8142.0986328125}, {'val_loss': 8142.0986328125}, {'val_loss': 8142.0986328125}, {'val_loss': 8142.0986328125}, {'val_loss': 8142.0986328125}, {'val_loss': 8142.0986328125}, {'val_loss': 8142.0986328125}, {'val_loss': 8142.0986328125}, {'val_loss': 8142.0986328125}, {'val_loss': 8142.0986328125}, {'val_loss': 8142.0986328125}, {'val_loss': 8142.0986328125}, {'val_loss': 8142.0986328125}, {'val_loss': 8142.0986328125}, {'val_loss': 8142.0986328125}, {'val_loss': 8142.0986328125}, {'val_loss': 8142.0986328125}, {'val_loss': 8142.0986328125}, {'val_loss': 8142.0986328125}, {'val_loss': 8142.0986328125}, {'val_loss': 8142.0986328125}, {'val_loss': 8142.0986328125}, {'val_loss': 8142.0986328125}, {'val_loss': 8142.0986328125}, {'val_loss': 8142.0986328125}, {'val_loss': 8142.0986328125}, {'val_loss': 8142.0986328125}, {'val_loss': 8142.0986328125}, {'val_loss': 8142.0986328125}, {'val_loss': 8142.0986328125}, {'val_loss': 8142.0986328125}, {'val_loss': 8142.0986328125}, {'val_loss': 8142.0986328125}, {'val_loss': 8142.0986328125}, {'val_loss': 8142.0986328125}, {'val_loss': 8142.0986328125}, {'val_loss': 8142.0986328125}, {'val_loss': 8142.0986328125}, {'val_loss': 8142.0986328125}, {'val_loss': 8142.0986328125}, {'val_loss': 8142.0986328125}, {'val_loss': 8142.09765625}, {'val_loss': 8142.09765625}, {'val_loss': 8142.09765625}, {'val_loss': 8142.09765625}, {'val_loss': 8142.09765625}, {'val_loss': 8142.09765625}, {'val_loss': 8142.09814453125}, {'val_loss': 8142.09814453125}, {'val_loss': 8142.09814453125}, {'val_loss': 8142.09814453125}, {'val_loss': 8142.09814453125}, {'val_loss': 8142.09814453125}, {'val_loss': 8142.09814453125}, {'val_loss': 8142.09814453125}, {'val_loss': 8142.09814453125}, {'val_loss': 8142.09814453125}, {'val_loss': 8142.09814453125}, {'val_loss': 8142.09814453125}, {'val_loss': 8142.09814453125}, {'val_loss': 8142.09814453125}, {'val_loss': 8142.09814453125}, {'val_loss': 8142.09814453125}, {'val_loss': 8142.0986328125}, {'val_loss': 8142.0986328125}, {'val_loss': 8142.0986328125}, {'val_loss': 8142.0986328125}, {'val_loss': 8142.0986328125}, {'val_loss': 8142.0986328125}, {'val_loss': 8142.0986328125}, {'val_loss': 8142.0986328125}, {'val_loss': 8142.0986328125}, {'val_loss': 8142.0986328125}, {'val_loss': 8142.0986328125}, {'val_loss': 8142.0986328125}, {'val_loss': 8142.0986328125}, {'val_loss': 8142.0986328125}, {'val_loss': 8142.0986328125}, {'val_loss': 8142.0986328125}, {'val_loss': 8142.0986328125}, {'val_loss': 8142.0986328125}, {'val_loss': 8142.0986328125}, {'val_loss': 8142.0986328125}, {'val_loss': 8142.0986328125}, {'val_loss': 8142.0986328125}, {'val_loss': 8142.0986328125}, {'val_loss': 8142.0986328125}, {'val_loss': 8142.0986328125}, {'val_loss': 8142.0986328125}, {'val_loss': 8142.0986328125}, {'val_loss': 8142.0986328125}, {'val_loss': 8142.0986328125}, {'val_loss': 8142.0986328125}, {'val_loss': 8142.0986328125}, {'val_loss': 8142.09912109375}, {'val_loss': 8142.09912109375}, {'val_loss': 8142.09912109375}, {'val_loss': 8142.09912109375}, {'val_loss': 8142.09912109375}, {'val_loss': 8142.099609375}, {'val_loss': 8142.0986328125}, {'val_loss': 8142.0986328125}, {'val_loss': 8142.0986328125}, {'val_loss': 8142.0986328125}, {'val_loss': 8142.0986328125}, {'val_loss': 8142.0986328125}, {'val_loss': 8142.0986328125}, {'val_loss': 8142.0986328125}, {'val_loss': 8142.0986328125}, {'val_loss': 8142.0986328125}, {'val_loss': 8142.0986328125}, {'val_loss': 8142.0986328125}, {'val_loss': 8142.0986328125}, {'val_loss': 8142.0986328125}, {'val_loss': 8142.0986328125}, {'val_loss': 8142.0986328125}, {'val_loss': 8142.0986328125}, {'val_loss': 8142.0986328125}, {'val_loss': 8142.0986328125}, {'val_loss': 8142.0986328125}, {'val_loss': 8142.0986328125}, {'val_loss': 8142.0986328125}, {'val_loss': 8142.0986328125}, {'val_loss': 8142.0986328125}, {'val_loss': 8142.0986328125}, {'val_loss': 8142.0986328125}, {'val_loss': 8142.0986328125}, {'val_loss': 8142.0986328125}, {'val_loss': 8142.0986328125}, {'val_loss': 8142.0986328125}, {'val_loss': 8142.0986328125}, {'val_loss': 8142.0986328125}]\n"
          ],
          "name": "stdout"
        },
        {
          "output_type": "stream",
          "text": [
            "Epoch [20], val_loss: 8128.6387\n",
            "Epoch [40], val_loss: 8116.5879\n",
            "Epoch [60], val_loss: 8104.9839\n",
            "Epoch [80], val_loss: 8093.9180\n",
            "Epoch [100], val_loss: 8083.3945\n",
            "Epoch [120], val_loss: 8073.4370\n",
            "Epoch [140], val_loss: 8063.6045\n",
            "Epoch [160], val_loss: 8054.3779\n",
            "Epoch [180], val_loss: 8045.9492\n",
            "Epoch [200], val_loss: 8039.0439\n",
            "[{'val_loss': 8141.3427734375}, {'val_loss': 8140.5654296875}, {'val_loss': 8139.8427734375}, {'val_loss': 8139.1494140625}, {'val_loss': 8138.4677734375}, {'val_loss': 8137.7607421875}, {'val_loss': 8137.06884765625}, {'val_loss': 8136.32763671875}, {'val_loss': 8135.6689453125}, {'val_loss': 8135.01171875}, {'val_loss': 8134.384765625}, {'val_loss': 8133.7705078125}, {'val_loss': 8133.1181640625}, {'val_loss': 8132.50244140625}, {'val_loss': 8131.828125}, {'val_loss': 8131.181640625}, {'val_loss': 8130.533203125}, {'val_loss': 8129.8994140625}, {'val_loss': 8129.2646484375}, {'val_loss': 8128.638671875}, {'val_loss': 8128.02783203125}, {'val_loss': 8127.4169921875}, {'val_loss': 8126.80517578125}, {'val_loss': 8126.193359375}, {'val_loss': 8125.5927734375}, {'val_loss': 8124.9833984375}, {'val_loss': 8124.40283203125}, {'val_loss': 8123.787109375}, {'val_loss': 8123.1806640625}, {'val_loss': 8122.57421875}, {'val_loss': 8121.962890625}, {'val_loss': 8121.37890625}, {'val_loss': 8120.7958984375}, {'val_loss': 8120.2119140625}, {'val_loss': 8119.60693359375}, {'val_loss': 8118.9912109375}, {'val_loss': 8118.3828125}, {'val_loss': 8117.783203125}, {'val_loss': 8117.1845703125}, {'val_loss': 8116.587890625}, {'val_loss': 8115.98291015625}, {'val_loss': 8115.40087890625}, {'val_loss': 8114.826171875}, {'val_loss': 8114.2548828125}, {'val_loss': 8113.65478515625}, {'val_loss': 8113.0625}, {'val_loss': 8112.5009765625}, {'val_loss': 8111.9384765625}, {'val_loss': 8111.3623046875}, {'val_loss': 8110.77490234375}, {'val_loss': 8110.20361328125}, {'val_loss': 8109.6328125}, {'val_loss': 8109.0693359375}, {'val_loss': 8108.423828125}, {'val_loss': 8107.8642578125}, {'val_loss': 8107.33203125}, {'val_loss': 8106.716796875}, {'val_loss': 8106.12939453125}, {'val_loss': 8105.568359375}, {'val_loss': 8104.98388671875}, {'val_loss': 8104.4248046875}, {'val_loss': 8103.87646484375}, {'val_loss': 8103.36328125}, {'val_loss': 8102.826171875}, {'val_loss': 8102.296875}, {'val_loss': 8101.7412109375}, {'val_loss': 8101.2548828125}, {'val_loss': 8100.662109375}, {'val_loss': 8100.1298828125}, {'val_loss': 8099.619140625}, {'val_loss': 8099.0546875}, {'val_loss': 8098.46875}, {'val_loss': 8097.8740234375}, {'val_loss': 8097.3291015625}, {'val_loss': 8096.7578125}, {'val_loss': 8096.17919921875}, {'val_loss': 8095.61474609375}, {'val_loss': 8095.0234375}, {'val_loss': 8094.48486328125}, {'val_loss': 8093.91796875}, {'val_loss': 8093.3662109375}, {'val_loss': 8092.78955078125}, {'val_loss': 8092.2060546875}, {'val_loss': 8091.66748046875}, {'val_loss': 8091.12109375}, {'val_loss': 8090.59912109375}, {'val_loss': 8090.0810546875}, {'val_loss': 8089.57080078125}, {'val_loss': 8089.021484375}, {'val_loss': 8088.5263671875}, {'val_loss': 8088.0322265625}, {'val_loss': 8087.5478515625}, {'val_loss': 8087.0498046875}, {'val_loss': 8086.544921875}, {'val_loss': 8086.0166015625}, {'val_loss': 8085.47412109375}, {'val_loss': 8084.9677734375}, {'val_loss': 8084.4580078125}, {'val_loss': 8083.94384765625}, {'val_loss': 8083.39453125}, {'val_loss': 8082.8994140625}, {'val_loss': 8082.41650390625}, {'val_loss': 8081.908203125}, {'val_loss': 8081.4013671875}, {'val_loss': 8080.89697265625}, {'val_loss': 8080.404296875}, {'val_loss': 8079.93603515625}, {'val_loss': 8079.4365234375}, {'val_loss': 8078.939453125}, {'val_loss': 8078.482421875}, {'val_loss': 8077.9482421875}, {'val_loss': 8077.416015625}, {'val_loss': 8076.9345703125}, {'val_loss': 8076.4462890625}, {'val_loss': 8075.962890625}, {'val_loss': 8075.44287109375}, {'val_loss': 8074.951171875}, {'val_loss': 8074.4375}, {'val_loss': 8073.9365234375}, {'val_loss': 8073.43701171875}, {'val_loss': 8072.939453125}, {'val_loss': 8072.419921875}, {'val_loss': 8071.9208984375}, {'val_loss': 8071.419921875}, {'val_loss': 8070.91796875}, {'val_loss': 8070.396484375}, {'val_loss': 8069.900390625}, {'val_loss': 8069.3896484375}, {'val_loss': 8068.916015625}, {'val_loss': 8068.4580078125}, {'val_loss': 8067.9619140625}, {'val_loss': 8067.453125}, {'val_loss': 8066.94921875}, {'val_loss': 8066.4609375}, {'val_loss': 8066.02880859375}, {'val_loss': 8065.5390625}, {'val_loss': 8065.03564453125}, {'val_loss': 8064.5498046875}, {'val_loss': 8064.0908203125}, {'val_loss': 8063.6044921875}, {'val_loss': 8063.1396484375}, {'val_loss': 8062.654296875}, {'val_loss': 8062.16845703125}, {'val_loss': 8061.689453125}, {'val_loss': 8061.24658203125}, {'val_loss': 8060.76171875}, {'val_loss': 8060.3046875}, {'val_loss': 8059.8330078125}, {'val_loss': 8059.33984375}, {'val_loss': 8058.876953125}, {'val_loss': 8058.41015625}, {'val_loss': 8057.9580078125}, {'val_loss': 8057.48828125}, {'val_loss': 8057.0625}, {'val_loss': 8056.60546875}, {'val_loss': 8056.154296875}, {'val_loss': 8055.69921875}, {'val_loss': 8055.26318359375}, {'val_loss': 8054.8076171875}, {'val_loss': 8054.3779296875}, {'val_loss': 8053.908203125}, {'val_loss': 8053.43798828125}, {'val_loss': 8052.96142578125}, {'val_loss': 8052.51611328125}, {'val_loss': 8052.0712890625}, {'val_loss': 8051.64599609375}, {'val_loss': 8051.21337890625}, {'val_loss': 8050.7763671875}, {'val_loss': 8050.3212890625}, {'val_loss': 8049.869140625}, {'val_loss': 8049.4267578125}, {'val_loss': 8049.06103515625}, {'val_loss': 8048.6904296875}, {'val_loss': 8048.2412109375}, {'val_loss': 8047.8486328125}, {'val_loss': 8047.4580078125}, {'val_loss': 8047.052734375}, {'val_loss': 8046.6494140625}, {'val_loss': 8046.29931640625}, {'val_loss': 8045.94921875}, {'val_loss': 8045.60498046875}, {'val_loss': 8045.25244140625}, {'val_loss': 8044.9072265625}, {'val_loss': 8044.5478515625}, {'val_loss': 8044.2041015625}, {'val_loss': 8043.86474609375}, {'val_loss': 8043.5}, {'val_loss': 8043.17919921875}, {'val_loss': 8042.8388671875}, {'val_loss': 8042.47265625}, {'val_loss': 8042.1416015625}, {'val_loss': 8041.79638671875}, {'val_loss': 8041.4296875}, {'val_loss': 8041.07421875}, {'val_loss': 8040.73828125}, {'val_loss': 8040.38818359375}, {'val_loss': 8040.0517578125}, {'val_loss': 8039.7236328125}, {'val_loss': 8039.38671875}, {'val_loss': 8039.0439453125}]\n",
            "Epoch [20], val_loss: 8038.3657\n",
            "Epoch [40], val_loss: 8037.6841\n",
            "Epoch [60], val_loss: 8037.0425\n",
            "Epoch [80], val_loss: 8036.3989\n",
            "Epoch [100], val_loss: 8035.7515\n",
            "Epoch [120], val_loss: 8035.0972\n",
            "Epoch [140], val_loss: 8034.4521\n",
            "Epoch [160], val_loss: 8033.7993\n",
            "Epoch [180], val_loss: 8033.1738\n",
            "Epoch [200], val_loss: 8032.5391\n",
            "[{'val_loss': 8039.009765625}, {'val_loss': 8038.9736328125}, {'val_loss': 8038.93994140625}, {'val_loss': 8038.90625}, {'val_loss': 8038.873046875}, {'val_loss': 8038.84033203125}, {'val_loss': 8038.806640625}, {'val_loss': 8038.7724609375}, {'val_loss': 8038.73974609375}, {'val_loss': 8038.70751953125}, {'val_loss': 8038.6728515625}, {'val_loss': 8038.638671875}, {'val_loss': 8038.607421875}, {'val_loss': 8038.57275390625}, {'val_loss': 8038.537109375}, {'val_loss': 8038.50390625}, {'val_loss': 8038.46923828125}, {'val_loss': 8038.4345703125}, {'val_loss': 8038.400390625}, {'val_loss': 8038.36572265625}, {'val_loss': 8038.330078125}, {'val_loss': 8038.296875}, {'val_loss': 8038.2626953125}, {'val_loss': 8038.23046875}, {'val_loss': 8038.1953125}, {'val_loss': 8038.16015625}, {'val_loss': 8038.1259765625}, {'val_loss': 8038.091796875}, {'val_loss': 8038.060546875}, {'val_loss': 8038.0283203125}, {'val_loss': 8037.99462890625}, {'val_loss': 8037.958984375}, {'val_loss': 8037.9228515625}, {'val_loss': 8037.8876953125}, {'val_loss': 8037.85546875}, {'val_loss': 8037.8232421875}, {'val_loss': 8037.7880859375}, {'val_loss': 8037.75341796875}, {'val_loss': 8037.720703125}, {'val_loss': 8037.68408203125}, {'val_loss': 8037.65283203125}, {'val_loss': 8037.62109375}, {'val_loss': 8037.5888671875}, {'val_loss': 8037.556640625}, {'val_loss': 8037.52734375}, {'val_loss': 8037.49462890625}, {'val_loss': 8037.4638671875}, {'val_loss': 8037.431640625}, {'val_loss': 8037.3984375}, {'val_loss': 8037.3662109375}, {'val_loss': 8037.3310546875}, {'val_loss': 8037.29638671875}, {'val_loss': 8037.26318359375}, {'val_loss': 8037.2314453125}, {'val_loss': 8037.205078125}, {'val_loss': 8037.171875}, {'val_loss': 8037.13818359375}, {'val_loss': 8037.107421875}, {'val_loss': 8037.07421875}, {'val_loss': 8037.04248046875}, {'val_loss': 8037.009765625}, {'val_loss': 8036.9765625}, {'val_loss': 8036.93896484375}, {'val_loss': 8036.90478515625}, {'val_loss': 8036.876953125}, {'val_loss': 8036.845703125}, {'val_loss': 8036.81689453125}, {'val_loss': 8036.78515625}, {'val_loss': 8036.75}, {'val_loss': 8036.71875}, {'val_loss': 8036.6865234375}, {'val_loss': 8036.654296875}, {'val_loss': 8036.62451171875}, {'val_loss': 8036.58984375}, {'val_loss': 8036.55712890625}, {'val_loss': 8036.5234375}, {'val_loss': 8036.4921875}, {'val_loss': 8036.458984375}, {'val_loss': 8036.42919921875}, {'val_loss': 8036.39892578125}, {'val_loss': 8036.3662109375}, {'val_loss': 8036.33251953125}, {'val_loss': 8036.29931640625}, {'val_loss': 8036.26708984375}, {'val_loss': 8036.2353515625}, {'val_loss': 8036.2021484375}, {'val_loss': 8036.1689453125}, {'val_loss': 8036.134765625}, {'val_loss': 8036.1015625}, {'val_loss': 8036.0634765625}, {'val_loss': 8036.0341796875}, {'val_loss': 8036.0029296875}, {'val_loss': 8035.9716796875}, {'val_loss': 8035.93994140625}, {'val_loss': 8035.9091796875}, {'val_loss': 8035.875}, {'val_loss': 8035.84326171875}, {'val_loss': 8035.8134765625}, {'val_loss': 8035.78125}, {'val_loss': 8035.75146484375}, {'val_loss': 8035.71875}, {'val_loss': 8035.6865234375}, {'val_loss': 8035.654296875}, {'val_loss': 8035.62109375}, {'val_loss': 8035.5869140625}, {'val_loss': 8035.552734375}, {'val_loss': 8035.5244140625}, {'val_loss': 8035.48974609375}, {'val_loss': 8035.4619140625}, {'val_loss': 8035.427734375}, {'val_loss': 8035.39697265625}, {'val_loss': 8035.3642578125}, {'val_loss': 8035.3291015625}, {'val_loss': 8035.2958984375}, {'val_loss': 8035.2626953125}, {'val_loss': 8035.22705078125}, {'val_loss': 8035.19482421875}, {'val_loss': 8035.1640625}, {'val_loss': 8035.1298828125}, {'val_loss': 8035.09716796875}, {'val_loss': 8035.06787109375}, {'val_loss': 8035.0322265625}, {'val_loss': 8035.00146484375}, {'val_loss': 8034.96875}, {'val_loss': 8034.9345703125}, {'val_loss': 8034.9033203125}, {'val_loss': 8034.87109375}, {'val_loss': 8034.8369140625}, {'val_loss': 8034.8046875}, {'val_loss': 8034.775390625}, {'val_loss': 8034.740234375}, {'val_loss': 8034.7099609375}, {'val_loss': 8034.677734375}, {'val_loss': 8034.6474609375}, {'val_loss': 8034.6171875}, {'val_loss': 8034.583984375}, {'val_loss': 8034.55078125}, {'val_loss': 8034.5166015625}, {'val_loss': 8034.482421875}, {'val_loss': 8034.4521484375}, {'val_loss': 8034.4169921875}, {'val_loss': 8034.38134765625}, {'val_loss': 8034.3505859375}, {'val_loss': 8034.3203125}, {'val_loss': 8034.2880859375}, {'val_loss': 8034.25390625}, {'val_loss': 8034.2197265625}, {'val_loss': 8034.18701171875}, {'val_loss': 8034.15966796875}, {'val_loss': 8034.1220703125}, {'val_loss': 8034.0927734375}, {'val_loss': 8034.056640625}, {'val_loss': 8034.0234375}, {'val_loss': 8033.99072265625}, {'val_loss': 8033.9580078125}, {'val_loss': 8033.92626953125}, {'val_loss': 8033.8935546875}, {'val_loss': 8033.86181640625}, {'val_loss': 8033.83203125}, {'val_loss': 8033.79931640625}, {'val_loss': 8033.7685546875}, {'val_loss': 8033.73974609375}, {'val_loss': 8033.70703125}, {'val_loss': 8033.677734375}, {'val_loss': 8033.64404296875}, {'val_loss': 8033.61083984375}, {'val_loss': 8033.583984375}, {'val_loss': 8033.552734375}, {'val_loss': 8033.5205078125}, {'val_loss': 8033.4921875}, {'val_loss': 8033.4609375}, {'val_loss': 8033.43310546875}, {'val_loss': 8033.39892578125}, {'val_loss': 8033.3662109375}, {'val_loss': 8033.33642578125}, {'val_loss': 8033.30419921875}, {'val_loss': 8033.271484375}, {'val_loss': 8033.23828125}, {'val_loss': 8033.20703125}, {'val_loss': 8033.173828125}, {'val_loss': 8033.1416015625}, {'val_loss': 8033.10986328125}, {'val_loss': 8033.076171875}, {'val_loss': 8033.0419921875}, {'val_loss': 8033.0078125}, {'val_loss': 8032.9775390625}, {'val_loss': 8032.947265625}, {'val_loss': 8032.9150390625}, {'val_loss': 8032.88525390625}, {'val_loss': 8032.85546875}, {'val_loss': 8032.8251953125}, {'val_loss': 8032.796875}, {'val_loss': 8032.7626953125}, {'val_loss': 8032.7333984375}, {'val_loss': 8032.7021484375}, {'val_loss': 8032.66748046875}, {'val_loss': 8032.63671875}, {'val_loss': 8032.60009765625}, {'val_loss': 8032.5673828125}, {'val_loss': 8032.5390625}]\n"
          ],
          "name": "stdout"
        },
        {
          "output_type": "stream",
          "text": [
            "Epoch [20], val_loss: 8032.4775\n",
            "Epoch [40], val_loss: 8032.4121\n",
            "Epoch [60], val_loss: 8032.3486\n",
            "Epoch [80], val_loss: 8032.2856\n",
            "Epoch [100], val_loss: 8032.2227\n",
            "Epoch [120], val_loss: 8032.1602\n",
            "Epoch [140], val_loss: 8032.0967\n",
            "Epoch [160], val_loss: 8032.0322\n",
            "Epoch [180], val_loss: 8031.9678\n",
            "Epoch [200], val_loss: 8031.9043\n",
            "[{'val_loss': 8032.537109375}, {'val_loss': 8032.53515625}, {'val_loss': 8032.53125}, {'val_loss': 8032.52783203125}, {'val_loss': 8032.5244140625}, {'val_loss': 8032.52197265625}, {'val_loss': 8032.51904296875}, {'val_loss': 8032.5146484375}, {'val_loss': 8032.51171875}, {'val_loss': 8032.50830078125}, {'val_loss': 8032.505859375}, {'val_loss': 8032.5029296875}, {'val_loss': 8032.5}, {'val_loss': 8032.49609375}, {'val_loss': 8032.4931640625}, {'val_loss': 8032.490234375}, {'val_loss': 8032.4873046875}, {'val_loss': 8032.4833984375}, {'val_loss': 8032.48046875}, {'val_loss': 8032.4775390625}, {'val_loss': 8032.474609375}, {'val_loss': 8032.470703125}, {'val_loss': 8032.466796875}, {'val_loss': 8032.46484375}, {'val_loss': 8032.46142578125}, {'val_loss': 8032.45703125}, {'val_loss': 8032.453125}, {'val_loss': 8032.451171875}, {'val_loss': 8032.4482421875}, {'val_loss': 8032.44580078125}, {'val_loss': 8032.4423828125}, {'val_loss': 8032.4384765625}, {'val_loss': 8032.435546875}, {'val_loss': 8032.43212890625}, {'val_loss': 8032.4296875}, {'val_loss': 8032.4267578125}, {'val_loss': 8032.42236328125}, {'val_loss': 8032.41943359375}, {'val_loss': 8032.4169921875}, {'val_loss': 8032.412109375}, {'val_loss': 8032.40966796875}, {'val_loss': 8032.40625}, {'val_loss': 8032.4033203125}, {'val_loss': 8032.400390625}, {'val_loss': 8032.396484375}, {'val_loss': 8032.39306640625}, {'val_loss': 8032.39013671875}, {'val_loss': 8032.3876953125}, {'val_loss': 8032.38427734375}, {'val_loss': 8032.380859375}, {'val_loss': 8032.3779296875}, {'val_loss': 8032.37548828125}, {'val_loss': 8032.3720703125}, {'val_loss': 8032.3681640625}, {'val_loss': 8032.36474609375}, {'val_loss': 8032.36083984375}, {'val_loss': 8032.357421875}, {'val_loss': 8032.35498046875}, {'val_loss': 8032.35205078125}, {'val_loss': 8032.3486328125}, {'val_loss': 8032.345703125}, {'val_loss': 8032.341796875}, {'val_loss': 8032.3388671875}, {'val_loss': 8032.3349609375}, {'val_loss': 8032.33154296875}, {'val_loss': 8032.32861328125}, {'val_loss': 8032.326171875}, {'val_loss': 8032.32275390625}, {'val_loss': 8032.3212890625}, {'val_loss': 8032.3173828125}, {'val_loss': 8032.314453125}, {'val_loss': 8032.310546875}, {'val_loss': 8032.3076171875}, {'val_loss': 8032.3037109375}, {'val_loss': 8032.30078125}, {'val_loss': 8032.296875}, {'val_loss': 8032.2939453125}, {'val_loss': 8032.29150390625}, {'val_loss': 8032.2880859375}, {'val_loss': 8032.28564453125}, {'val_loss': 8032.28125}, {'val_loss': 8032.279296875}, {'val_loss': 8032.275390625}, {'val_loss': 8032.2724609375}, {'val_loss': 8032.2685546875}, {'val_loss': 8032.265625}, {'val_loss': 8032.2626953125}, {'val_loss': 8032.259765625}, {'val_loss': 8032.2568359375}, {'val_loss': 8032.2529296875}, {'val_loss': 8032.25}, {'val_loss': 8032.248046875}, {'val_loss': 8032.24462890625}, {'val_loss': 8032.24072265625}, {'val_loss': 8032.2373046875}, {'val_loss': 8032.23486328125}, {'val_loss': 8032.232421875}, {'val_loss': 8032.2294921875}, {'val_loss': 8032.22607421875}, {'val_loss': 8032.22265625}, {'val_loss': 8032.2197265625}, {'val_loss': 8032.21630859375}, {'val_loss': 8032.21484375}, {'val_loss': 8032.2099609375}, {'val_loss': 8032.20703125}, {'val_loss': 8032.2041015625}, {'val_loss': 8032.20068359375}, {'val_loss': 8032.19775390625}, {'val_loss': 8032.19384765625}, {'val_loss': 8032.1904296875}, {'val_loss': 8032.1884765625}, {'val_loss': 8032.18505859375}, {'val_loss': 8032.181640625}, {'val_loss': 8032.1787109375}, {'val_loss': 8032.1767578125}, {'val_loss': 8032.171875}, {'val_loss': 8032.1689453125}, {'val_loss': 8032.1669921875}, {'val_loss': 8032.1630859375}, {'val_loss': 8032.16015625}, {'val_loss': 8032.15673828125}, {'val_loss': 8032.1533203125}, {'val_loss': 8032.150390625}, {'val_loss': 8032.1474609375}, {'val_loss': 8032.14404296875}, {'val_loss': 8032.140625}, {'val_loss': 8032.13671875}, {'val_loss': 8032.13330078125}, {'val_loss': 8032.130859375}, {'val_loss': 8032.126953125}, {'val_loss': 8032.12451171875}, {'val_loss': 8032.12109375}, {'val_loss': 8032.1181640625}, {'val_loss': 8032.115234375}, {'val_loss': 8032.1123046875}, {'val_loss': 8032.10888671875}, {'val_loss': 8032.1064453125}, {'val_loss': 8032.1025390625}, {'val_loss': 8032.099609375}, {'val_loss': 8032.0966796875}, {'val_loss': 8032.0927734375}, {'val_loss': 8032.0888671875}, {'val_loss': 8032.0859375}, {'val_loss': 8032.0830078125}, {'val_loss': 8032.07958984375}, {'val_loss': 8032.076171875}, {'val_loss': 8032.072265625}, {'val_loss': 8032.0703125}, {'val_loss': 8032.06640625}, {'val_loss': 8032.064453125}, {'val_loss': 8032.060546875}, {'val_loss': 8032.056640625}, {'val_loss': 8032.05517578125}, {'val_loss': 8032.0498046875}, {'val_loss': 8032.04638671875}, {'val_loss': 8032.04443359375}, {'val_loss': 8032.041015625}, {'val_loss': 8032.03857421875}, {'val_loss': 8032.03515625}, {'val_loss': 8032.0322265625}, {'val_loss': 8032.0302734375}, {'val_loss': 8032.0263671875}, {'val_loss': 8032.0234375}, {'val_loss': 8032.0205078125}, {'val_loss': 8032.015625}, {'val_loss': 8032.01416015625}, {'val_loss': 8032.0107421875}, {'val_loss': 8032.0078125}, {'val_loss': 8032.00390625}, {'val_loss': 8032.0}, {'val_loss': 8031.99755859375}, {'val_loss': 8031.99365234375}, {'val_loss': 8031.990234375}, {'val_loss': 8031.98828125}, {'val_loss': 8031.9833984375}, {'val_loss': 8031.9814453125}, {'val_loss': 8031.9775390625}, {'val_loss': 8031.97412109375}, {'val_loss': 8031.970703125}, {'val_loss': 8031.9677734375}, {'val_loss': 8031.962890625}, {'val_loss': 8031.9609375}, {'val_loss': 8031.95751953125}, {'val_loss': 8031.955078125}, {'val_loss': 8031.95166015625}, {'val_loss': 8031.9482421875}, {'val_loss': 8031.9453125}, {'val_loss': 8031.9423828125}, {'val_loss': 8031.9384765625}, {'val_loss': 8031.935546875}, {'val_loss': 8031.9326171875}, {'val_loss': 8031.93017578125}, {'val_loss': 8031.9248046875}, {'val_loss': 8031.9228515625}, {'val_loss': 8031.9189453125}, {'val_loss': 8031.916015625}, {'val_loss': 8031.9130859375}, {'val_loss': 8031.91015625}, {'val_loss': 8031.90625}, {'val_loss': 8031.904296875}]\n",
            "Epoch [20], val_loss: 8031.8975\n",
            "Epoch [40], val_loss: 8031.8906\n",
            "Epoch [60], val_loss: 8031.8857\n",
            "Epoch [80], val_loss: 8031.8789\n",
            "Epoch [100], val_loss: 8031.8730\n",
            "Epoch [120], val_loss: 8031.8662\n",
            "Epoch [140], val_loss: 8031.8599\n",
            "Epoch [160], val_loss: 8031.8545\n",
            "Epoch [180], val_loss: 8031.8467\n",
            "Epoch [200], val_loss: 8031.8403\n",
            "[{'val_loss': 8031.904296875}, {'val_loss': 8031.9033203125}, {'val_loss': 8031.9033203125}, {'val_loss': 8031.90234375}, {'val_loss': 8031.90234375}, {'val_loss': 8031.90185546875}, {'val_loss': 8031.9013671875}, {'val_loss': 8031.9013671875}, {'val_loss': 8031.900390625}, {'val_loss': 8031.89990234375}, {'val_loss': 8031.89990234375}, {'val_loss': 8031.89990234375}, {'val_loss': 8031.8994140625}, {'val_loss': 8031.8994140625}, {'val_loss': 8031.8994140625}, {'val_loss': 8031.89892578125}, {'val_loss': 8031.8984375}, {'val_loss': 8031.8974609375}, {'val_loss': 8031.8974609375}, {'val_loss': 8031.8974609375}, {'val_loss': 8031.8974609375}, {'val_loss': 8031.896484375}, {'val_loss': 8031.896484375}, {'val_loss': 8031.8955078125}, {'val_loss': 8031.8955078125}, {'val_loss': 8031.89501953125}, {'val_loss': 8031.89501953125}, {'val_loss': 8031.89453125}, {'val_loss': 8031.89453125}, {'val_loss': 8031.89453125}, {'val_loss': 8031.89404296875}, {'val_loss': 8031.8935546875}, {'val_loss': 8031.8935546875}, {'val_loss': 8031.89306640625}, {'val_loss': 8031.892578125}, {'val_loss': 8031.892578125}, {'val_loss': 8031.892578125}, {'val_loss': 8031.89208984375}, {'val_loss': 8031.8916015625}, {'val_loss': 8031.890625}, {'val_loss': 8031.89111328125}, {'val_loss': 8031.89013671875}, {'val_loss': 8031.890625}, {'val_loss': 8031.89013671875}, {'val_loss': 8031.8896484375}, {'val_loss': 8031.88916015625}, {'val_loss': 8031.888671875}, {'val_loss': 8031.888671875}, {'val_loss': 8031.88818359375}, {'val_loss': 8031.888671875}, {'val_loss': 8031.8876953125}, {'val_loss': 8031.8876953125}, {'val_loss': 8031.88720703125}, {'val_loss': 8031.88720703125}, {'val_loss': 8031.88671875}, {'val_loss': 8031.88671875}, {'val_loss': 8031.88623046875}, {'val_loss': 8031.8857421875}, {'val_loss': 8031.88623046875}, {'val_loss': 8031.8857421875}, {'val_loss': 8031.884765625}, {'val_loss': 8031.8837890625}, {'val_loss': 8031.884765625}, {'val_loss': 8031.88427734375}, {'val_loss': 8031.8837890625}, {'val_loss': 8031.88330078125}, {'val_loss': 8031.88232421875}, {'val_loss': 8031.88232421875}, {'val_loss': 8031.8818359375}, {'val_loss': 8031.88134765625}, {'val_loss': 8031.88134765625}, {'val_loss': 8031.880859375}, {'val_loss': 8031.880859375}, {'val_loss': 8031.88037109375}, {'val_loss': 8031.8798828125}, {'val_loss': 8031.8798828125}, {'val_loss': 8031.8798828125}, {'val_loss': 8031.8798828125}, {'val_loss': 8031.87890625}, {'val_loss': 8031.87890625}, {'val_loss': 8031.8779296875}, {'val_loss': 8031.87841796875}, {'val_loss': 8031.87744140625}, {'val_loss': 8031.8779296875}, {'val_loss': 8031.87744140625}, {'val_loss': 8031.87744140625}, {'val_loss': 8031.87646484375}, {'val_loss': 8031.8759765625}, {'val_loss': 8031.87646484375}, {'val_loss': 8031.8759765625}, {'val_loss': 8031.87548828125}, {'val_loss': 8031.875}, {'val_loss': 8031.875}, {'val_loss': 8031.87451171875}, {'val_loss': 8031.8740234375}, {'val_loss': 8031.8740234375}, {'val_loss': 8031.87353515625}, {'val_loss': 8031.873046875}, {'val_loss': 8031.8740234375}, {'val_loss': 8031.873046875}, {'val_loss': 8031.8720703125}, {'val_loss': 8031.8720703125}, {'val_loss': 8031.8720703125}, {'val_loss': 8031.8720703125}, {'val_loss': 8031.87109375}, {'val_loss': 8031.87060546875}, {'val_loss': 8031.8701171875}, {'val_loss': 8031.8701171875}, {'val_loss': 8031.8701171875}, {'val_loss': 8031.86962890625}, {'val_loss': 8031.869140625}, {'val_loss': 8031.86865234375}, {'val_loss': 8031.86865234375}, {'val_loss': 8031.8681640625}, {'val_loss': 8031.8681640625}, {'val_loss': 8031.86767578125}, {'val_loss': 8031.8671875}, {'val_loss': 8031.8671875}, {'val_loss': 8031.8662109375}, {'val_loss': 8031.8662109375}, {'val_loss': 8031.86572265625}, {'val_loss': 8031.8662109375}, {'val_loss': 8031.8662109375}, {'val_loss': 8031.865234375}, {'val_loss': 8031.865234375}, {'val_loss': 8031.8642578125}, {'val_loss': 8031.86376953125}, {'val_loss': 8031.86328125}, {'val_loss': 8031.86279296875}, {'val_loss': 8031.86279296875}, {'val_loss': 8031.8623046875}, {'val_loss': 8031.86181640625}, {'val_loss': 8031.86181640625}, {'val_loss': 8031.86181640625}, {'val_loss': 8031.861328125}, {'val_loss': 8031.86083984375}, {'val_loss': 8031.8603515625}, {'val_loss': 8031.85986328125}, {'val_loss': 8031.859375}, {'val_loss': 8031.85986328125}, {'val_loss': 8031.859375}, {'val_loss': 8031.8583984375}, {'val_loss': 8031.8583984375}, {'val_loss': 8031.85888671875}, {'val_loss': 8031.8583984375}, {'val_loss': 8031.857421875}, {'val_loss': 8031.857421875}, {'val_loss': 8031.85693359375}, {'val_loss': 8031.85693359375}, {'val_loss': 8031.85693359375}, {'val_loss': 8031.8564453125}, {'val_loss': 8031.85595703125}, {'val_loss': 8031.85546875}, {'val_loss': 8031.85546875}, {'val_loss': 8031.85546875}, {'val_loss': 8031.8544921875}, {'val_loss': 8031.85498046875}, {'val_loss': 8031.8544921875}, {'val_loss': 8031.8544921875}, {'val_loss': 8031.8544921875}, {'val_loss': 8031.85400390625}, {'val_loss': 8031.853515625}, {'val_loss': 8031.85302734375}, {'val_loss': 8031.8525390625}, {'val_loss': 8031.85205078125}, {'val_loss': 8031.8515625}, {'val_loss': 8031.8515625}, {'val_loss': 8031.8515625}, {'val_loss': 8031.85107421875}, {'val_loss': 8031.8505859375}, {'val_loss': 8031.8505859375}, {'val_loss': 8031.849609375}, {'val_loss': 8031.849609375}, {'val_loss': 8031.84912109375}, {'val_loss': 8031.84912109375}, {'val_loss': 8031.8486328125}, {'val_loss': 8031.84765625}, {'val_loss': 8031.84716796875}, {'val_loss': 8031.84716796875}, {'val_loss': 8031.8466796875}, {'val_loss': 8031.8466796875}, {'val_loss': 8031.845703125}, {'val_loss': 8031.845703125}, {'val_loss': 8031.845703125}, {'val_loss': 8031.8447265625}, {'val_loss': 8031.84423828125}, {'val_loss': 8031.84375}, {'val_loss': 8031.84375}, {'val_loss': 8031.8447265625}, {'val_loss': 8031.8447265625}, {'val_loss': 8031.84375}, {'val_loss': 8031.8427734375}, {'val_loss': 8031.84326171875}, {'val_loss': 8031.8427734375}, {'val_loss': 8031.8427734375}, {'val_loss': 8031.8408203125}, {'val_loss': 8031.8408203125}, {'val_loss': 8031.8408203125}, {'val_loss': 8031.84033203125}, {'val_loss': 8031.84033203125}]\n"
          ],
          "name": "stdout"
        },
        {
          "output_type": "stream",
          "text": [
            "Epoch [20], val_loss: 8031.8408\n",
            "Epoch [40], val_loss: 8031.8398\n",
            "Epoch [60], val_loss: 8031.8389\n",
            "Epoch [80], val_loss: 8031.8389\n",
            "Epoch [100], val_loss: 8031.8379\n",
            "Epoch [120], val_loss: 8031.8379\n",
            "Epoch [140], val_loss: 8031.8379\n",
            "Epoch [160], val_loss: 8031.8374\n",
            "Epoch [180], val_loss: 8031.8374\n",
            "Epoch [200], val_loss: 8031.8364\n",
            "[{'val_loss': 8031.84033203125}, {'val_loss': 8031.8408203125}, {'val_loss': 8031.8408203125}, {'val_loss': 8031.8408203125}, {'val_loss': 8031.8408203125}, {'val_loss': 8031.8408203125}, {'val_loss': 8031.8408203125}, {'val_loss': 8031.8408203125}, {'val_loss': 8031.8408203125}, {'val_loss': 8031.8408203125}, {'val_loss': 8031.83984375}, {'val_loss': 8031.8408203125}, {'val_loss': 8031.83984375}, {'val_loss': 8031.8408203125}, {'val_loss': 8031.8408203125}, {'val_loss': 8031.8408203125}, {'val_loss': 8031.83984375}, {'val_loss': 8031.84033203125}, {'val_loss': 8031.84033203125}, {'val_loss': 8031.8408203125}, {'val_loss': 8031.84033203125}, {'val_loss': 8031.83984375}, {'val_loss': 8031.8408203125}, {'val_loss': 8031.8408203125}, {'val_loss': 8031.8408203125}, {'val_loss': 8031.8408203125}, {'val_loss': 8031.8408203125}, {'val_loss': 8031.8408203125}, {'val_loss': 8031.83984375}, {'val_loss': 8031.8408203125}, {'val_loss': 8031.8408203125}, {'val_loss': 8031.8408203125}, {'val_loss': 8031.8408203125}, {'val_loss': 8031.84033203125}, {'val_loss': 8031.8408203125}, {'val_loss': 8031.84033203125}, {'val_loss': 8031.83984375}, {'val_loss': 8031.83984375}, {'val_loss': 8031.83984375}, {'val_loss': 8031.83984375}, {'val_loss': 8031.83984375}, {'val_loss': 8031.83984375}, {'val_loss': 8031.83984375}, {'val_loss': 8031.83984375}, {'val_loss': 8031.83984375}, {'val_loss': 8031.83984375}, {'val_loss': 8031.83984375}, {'val_loss': 8031.83984375}, {'val_loss': 8031.83984375}, {'val_loss': 8031.83935546875}, {'val_loss': 8031.83935546875}, {'val_loss': 8031.83935546875}, {'val_loss': 8031.83935546875}, {'val_loss': 8031.83984375}, {'val_loss': 8031.83984375}, {'val_loss': 8031.83935546875}, {'val_loss': 8031.8388671875}, {'val_loss': 8031.8388671875}, {'val_loss': 8031.8388671875}, {'val_loss': 8031.8388671875}, {'val_loss': 8031.8388671875}, {'val_loss': 8031.8388671875}, {'val_loss': 8031.8388671875}, {'val_loss': 8031.8388671875}, {'val_loss': 8031.8388671875}, {'val_loss': 8031.8388671875}, {'val_loss': 8031.8388671875}, {'val_loss': 8031.8388671875}, {'val_loss': 8031.8388671875}, {'val_loss': 8031.8388671875}, {'val_loss': 8031.8388671875}, {'val_loss': 8031.8388671875}, {'val_loss': 8031.8388671875}, {'val_loss': 8031.8388671875}, {'val_loss': 8031.8388671875}, {'val_loss': 8031.8388671875}, {'val_loss': 8031.8388671875}, {'val_loss': 8031.83837890625}, {'val_loss': 8031.8388671875}, {'val_loss': 8031.8388671875}, {'val_loss': 8031.8388671875}, {'val_loss': 8031.8388671875}, {'val_loss': 8031.8388671875}, {'val_loss': 8031.8388671875}, {'val_loss': 8031.8388671875}, {'val_loss': 8031.8388671875}, {'val_loss': 8031.8388671875}, {'val_loss': 8031.8388671875}, {'val_loss': 8031.8388671875}, {'val_loss': 8031.83837890625}, {'val_loss': 8031.8388671875}, {'val_loss': 8031.8388671875}, {'val_loss': 8031.8388671875}, {'val_loss': 8031.8388671875}, {'val_loss': 8031.8388671875}, {'val_loss': 8031.8388671875}, {'val_loss': 8031.837890625}, {'val_loss': 8031.837890625}, {'val_loss': 8031.837890625}, {'val_loss': 8031.837890625}, {'val_loss': 8031.837890625}, {'val_loss': 8031.837890625}, {'val_loss': 8031.837890625}, {'val_loss': 8031.837890625}, {'val_loss': 8031.83837890625}, {'val_loss': 8031.837890625}, {'val_loss': 8031.8388671875}, {'val_loss': 8031.837890625}, {'val_loss': 8031.837890625}, {'val_loss': 8031.837890625}, {'val_loss': 8031.837890625}, {'val_loss': 8031.837890625}, {'val_loss': 8031.83837890625}, {'val_loss': 8031.837890625}, {'val_loss': 8031.8388671875}, {'val_loss': 8031.83837890625}, {'val_loss': 8031.8388671875}, {'val_loss': 8031.83837890625}, {'val_loss': 8031.83837890625}, {'val_loss': 8031.837890625}, {'val_loss': 8031.837890625}, {'val_loss': 8031.83837890625}, {'val_loss': 8031.837890625}, {'val_loss': 8031.837890625}, {'val_loss': 8031.837890625}, {'val_loss': 8031.83740234375}, {'val_loss': 8031.837890625}, {'val_loss': 8031.837890625}, {'val_loss': 8031.837890625}, {'val_loss': 8031.837890625}, {'val_loss': 8031.837890625}, {'val_loss': 8031.837890625}, {'val_loss': 8031.83740234375}, {'val_loss': 8031.837890625}, {'val_loss': 8031.837890625}, {'val_loss': 8031.837890625}, {'val_loss': 8031.837890625}, {'val_loss': 8031.837890625}, {'val_loss': 8031.837890625}, {'val_loss': 8031.837890625}, {'val_loss': 8031.837890625}, {'val_loss': 8031.837890625}, {'val_loss': 8031.837890625}, {'val_loss': 8031.837890625}, {'val_loss': 8031.837890625}, {'val_loss': 8031.837890625}, {'val_loss': 8031.83740234375}, {'val_loss': 8031.837890625}, {'val_loss': 8031.837890625}, {'val_loss': 8031.8369140625}, {'val_loss': 8031.837890625}, {'val_loss': 8031.83740234375}, {'val_loss': 8031.83740234375}, {'val_loss': 8031.83740234375}, {'val_loss': 8031.837890625}, {'val_loss': 8031.837890625}, {'val_loss': 8031.837890625}, {'val_loss': 8031.837890625}, {'val_loss': 8031.83740234375}, {'val_loss': 8031.83740234375}, {'val_loss': 8031.83740234375}, {'val_loss': 8031.83740234375}, {'val_loss': 8031.8369140625}, {'val_loss': 8031.83740234375}, {'val_loss': 8031.83740234375}, {'val_loss': 8031.83740234375}, {'val_loss': 8031.83740234375}, {'val_loss': 8031.8369140625}, {'val_loss': 8031.8369140625}, {'val_loss': 8031.8369140625}, {'val_loss': 8031.837890625}, {'val_loss': 8031.83740234375}, {'val_loss': 8031.837890625}, {'val_loss': 8031.837890625}, {'val_loss': 8031.83740234375}, {'val_loss': 8031.83740234375}, {'val_loss': 8031.83740234375}, {'val_loss': 8031.83740234375}, {'val_loss': 8031.83740234375}, {'val_loss': 8031.83740234375}, {'val_loss': 8031.83740234375}, {'val_loss': 8031.83740234375}, {'val_loss': 8031.83740234375}, {'val_loss': 8031.83740234375}, {'val_loss': 8031.8369140625}, {'val_loss': 8031.83740234375}, {'val_loss': 8031.837890625}, {'val_loss': 8031.83740234375}, {'val_loss': 8031.8369140625}, {'val_loss': 8031.8369140625}, {'val_loss': 8031.8369140625}, {'val_loss': 8031.8369140625}, {'val_loss': 8031.8369140625}, {'val_loss': 8031.8369140625}, {'val_loss': 8031.8369140625}, {'val_loss': 8031.8369140625}, {'val_loss': 8031.8369140625}, {'val_loss': 8031.8369140625}, {'val_loss': 8031.83642578125}, {'val_loss': 8031.83642578125}]\n",
            "Epoch [20], val_loss: 8031.8364\n",
            "Epoch [40], val_loss: 8031.8364\n",
            "Epoch [60], val_loss: 8031.8364\n",
            "Epoch [80], val_loss: 8031.8364\n",
            "Epoch [100], val_loss: 8031.8364\n",
            "Epoch [120], val_loss: 8031.8364\n",
            "Epoch [140], val_loss: 8031.8364\n",
            "Epoch [160], val_loss: 8031.8364\n",
            "Epoch [180], val_loss: 8031.8364\n",
            "Epoch [200], val_loss: 8031.8364\n",
            "[{'val_loss': 8031.83642578125}, {'val_loss': 8031.83642578125}, {'val_loss': 8031.83642578125}, {'val_loss': 8031.83642578125}, {'val_loss': 8031.83642578125}, {'val_loss': 8031.83642578125}, {'val_loss': 8031.83642578125}, {'val_loss': 8031.83642578125}, {'val_loss': 8031.83642578125}, {'val_loss': 8031.83642578125}, {'val_loss': 8031.83642578125}, {'val_loss': 8031.83642578125}, {'val_loss': 8031.83642578125}, {'val_loss': 8031.83642578125}, {'val_loss': 8031.83642578125}, {'val_loss': 8031.83642578125}, {'val_loss': 8031.83642578125}, {'val_loss': 8031.83642578125}, {'val_loss': 8031.83642578125}, {'val_loss': 8031.83642578125}, {'val_loss': 8031.83642578125}, {'val_loss': 8031.83642578125}, {'val_loss': 8031.83642578125}, {'val_loss': 8031.83642578125}, {'val_loss': 8031.83642578125}, {'val_loss': 8031.83642578125}, {'val_loss': 8031.83642578125}, {'val_loss': 8031.83642578125}, {'val_loss': 8031.83642578125}, {'val_loss': 8031.83642578125}, {'val_loss': 8031.83642578125}, {'val_loss': 8031.83642578125}, {'val_loss': 8031.83642578125}, {'val_loss': 8031.83642578125}, {'val_loss': 8031.83642578125}, {'val_loss': 8031.83642578125}, {'val_loss': 8031.83642578125}, {'val_loss': 8031.83642578125}, {'val_loss': 8031.83642578125}, {'val_loss': 8031.83642578125}, {'val_loss': 8031.83642578125}, {'val_loss': 8031.83642578125}, {'val_loss': 8031.83642578125}, {'val_loss': 8031.83642578125}, {'val_loss': 8031.83642578125}, {'val_loss': 8031.83642578125}, {'val_loss': 8031.83642578125}, {'val_loss': 8031.83642578125}, {'val_loss': 8031.83642578125}, {'val_loss': 8031.83642578125}, {'val_loss': 8031.83642578125}, {'val_loss': 8031.83642578125}, {'val_loss': 8031.83642578125}, {'val_loss': 8031.83642578125}, {'val_loss': 8031.83642578125}, {'val_loss': 8031.83642578125}, {'val_loss': 8031.83642578125}, {'val_loss': 8031.83642578125}, {'val_loss': 8031.83642578125}, {'val_loss': 8031.83642578125}, {'val_loss': 8031.83642578125}, {'val_loss': 8031.83642578125}, {'val_loss': 8031.83642578125}, {'val_loss': 8031.83642578125}, {'val_loss': 8031.83642578125}, {'val_loss': 8031.83642578125}, {'val_loss': 8031.83642578125}, {'val_loss': 8031.83642578125}, {'val_loss': 8031.83642578125}, {'val_loss': 8031.83642578125}, {'val_loss': 8031.83642578125}, {'val_loss': 8031.83642578125}, {'val_loss': 8031.83642578125}, {'val_loss': 8031.83642578125}, {'val_loss': 8031.83642578125}, {'val_loss': 8031.83642578125}, {'val_loss': 8031.83642578125}, {'val_loss': 8031.83642578125}, {'val_loss': 8031.83642578125}, {'val_loss': 8031.83642578125}, {'val_loss': 8031.83642578125}, {'val_loss': 8031.83642578125}, {'val_loss': 8031.83642578125}, {'val_loss': 8031.83642578125}, {'val_loss': 8031.83642578125}, {'val_loss': 8031.83642578125}, {'val_loss': 8031.83642578125}, {'val_loss': 8031.83642578125}, {'val_loss': 8031.83642578125}, {'val_loss': 8031.83642578125}, {'val_loss': 8031.83642578125}, {'val_loss': 8031.83642578125}, {'val_loss': 8031.83642578125}, {'val_loss': 8031.83642578125}, {'val_loss': 8031.83642578125}, {'val_loss': 8031.83642578125}, {'val_loss': 8031.83642578125}, {'val_loss': 8031.83642578125}, {'val_loss': 8031.83642578125}, {'val_loss': 8031.83642578125}, {'val_loss': 8031.83642578125}, {'val_loss': 8031.83642578125}, {'val_loss': 8031.83642578125}, {'val_loss': 8031.83642578125}, {'val_loss': 8031.83642578125}, {'val_loss': 8031.83642578125}, {'val_loss': 8031.83642578125}, {'val_loss': 8031.83642578125}, {'val_loss': 8031.83642578125}, {'val_loss': 8031.83642578125}, {'val_loss': 8031.83642578125}, {'val_loss': 8031.83642578125}, {'val_loss': 8031.83642578125}, {'val_loss': 8031.83642578125}, {'val_loss': 8031.83642578125}, {'val_loss': 8031.83642578125}, {'val_loss': 8031.83642578125}, {'val_loss': 8031.83642578125}, {'val_loss': 8031.83642578125}, {'val_loss': 8031.83642578125}, {'val_loss': 8031.83642578125}, {'val_loss': 8031.83642578125}, {'val_loss': 8031.83642578125}, {'val_loss': 8031.83642578125}, {'val_loss': 8031.83642578125}, {'val_loss': 8031.83642578125}, {'val_loss': 8031.83642578125}, {'val_loss': 8031.83642578125}, {'val_loss': 8031.83642578125}, {'val_loss': 8031.83642578125}, {'val_loss': 8031.83642578125}, {'val_loss': 8031.83642578125}, {'val_loss': 8031.83642578125}, {'val_loss': 8031.83642578125}, {'val_loss': 8031.83642578125}, {'val_loss': 8031.83642578125}, {'val_loss': 8031.83642578125}, {'val_loss': 8031.83642578125}, {'val_loss': 8031.83642578125}, {'val_loss': 8031.83642578125}, {'val_loss': 8031.83642578125}, {'val_loss': 8031.83642578125}, {'val_loss': 8031.83642578125}, {'val_loss': 8031.83642578125}, {'val_loss': 8031.83642578125}, {'val_loss': 8031.83642578125}, {'val_loss': 8031.83642578125}, {'val_loss': 8031.83642578125}, {'val_loss': 8031.83642578125}, {'val_loss': 8031.83642578125}, {'val_loss': 8031.83642578125}, {'val_loss': 8031.83642578125}, {'val_loss': 8031.83642578125}, {'val_loss': 8031.83642578125}, {'val_loss': 8031.83642578125}, {'val_loss': 8031.83642578125}, {'val_loss': 8031.83642578125}, {'val_loss': 8031.83642578125}, {'val_loss': 8031.83642578125}, {'val_loss': 8031.83642578125}, {'val_loss': 8031.83642578125}, {'val_loss': 8031.83642578125}, {'val_loss': 8031.83642578125}, {'val_loss': 8031.83642578125}, {'val_loss': 8031.83642578125}, {'val_loss': 8031.83642578125}, {'val_loss': 8031.83642578125}, {'val_loss': 8031.83642578125}, {'val_loss': 8031.83642578125}, {'val_loss': 8031.83642578125}, {'val_loss': 8031.83642578125}, {'val_loss': 8031.83642578125}, {'val_loss': 8031.83642578125}, {'val_loss': 8031.83642578125}, {'val_loss': 8031.83642578125}, {'val_loss': 8031.83642578125}, {'val_loss': 8031.83642578125}, {'val_loss': 8031.83642578125}, {'val_loss': 8031.83642578125}, {'val_loss': 8031.83642578125}, {'val_loss': 8031.83642578125}, {'val_loss': 8031.83642578125}, {'val_loss': 8031.83642578125}, {'val_loss': 8031.83642578125}, {'val_loss': 8031.83642578125}, {'val_loss': 8031.83642578125}, {'val_loss': 8031.83642578125}, {'val_loss': 8031.83642578125}, {'val_loss': 8031.83642578125}, {'val_loss': 8031.83642578125}, {'val_loss': 8031.83642578125}, {'val_loss': 8031.83642578125}, {'val_loss': 8031.83642578125}, {'val_loss': 8031.83642578125}, {'val_loss': 8031.83642578125}, {'val_loss': 8031.83642578125}, {'val_loss': 8031.83642578125}, {'val_loss': 8031.83642578125}, {'val_loss': 8031.83642578125}, {'val_loss': 8031.83642578125}]\n"
          ],
          "name": "stdout"
        },
        {
          "output_type": "stream",
          "text": [
            "Epoch [20], val_loss: 8026.1499\n",
            "Epoch [40], val_loss: 8021.3027\n",
            "Epoch [60], val_loss: 8016.7661\n",
            "Epoch [80], val_loss: 8013.0850\n",
            "Epoch [100], val_loss: 8010.1274\n",
            "Epoch [120], val_loss: 8007.4688\n",
            "Epoch [140], val_loss: 8005.4351\n",
            "Epoch [160], val_loss: 8003.8877\n",
            "Epoch [180], val_loss: 8002.3389\n",
            "Epoch [200], val_loss: 8000.4775\n",
            "Epoch [220], val_loss: 7999.2930\n",
            "Epoch [240], val_loss: 7997.6104\n",
            "Epoch [250], val_loss: 7996.4512\n",
            "[{'val_loss': 8031.533203125}, {'val_loss': 8031.2216796875}, {'val_loss': 8030.9130859375}, {'val_loss': 8030.5986328125}, {'val_loss': 8030.2998046875}, {'val_loss': 8029.9443359375}, {'val_loss': 8029.6513671875}, {'val_loss': 8029.3154296875}, {'val_loss': 8029.013671875}, {'val_loss': 8028.82080078125}, {'val_loss': 8028.48828125}, {'val_loss': 8028.162109375}, {'val_loss': 8027.916015625}, {'val_loss': 8027.64794921875}, {'val_loss': 8027.3837890625}, {'val_loss': 8027.1279296875}, {'val_loss': 8026.9033203125}, {'val_loss': 8026.64208984375}, {'val_loss': 8026.3681640625}, {'val_loss': 8026.14990234375}, {'val_loss': 8025.8955078125}, {'val_loss': 8025.654296875}, {'val_loss': 8025.38427734375}, {'val_loss': 8025.1142578125}, {'val_loss': 8024.8603515625}, {'val_loss': 8024.6044921875}, {'val_loss': 8024.3818359375}, {'val_loss': 8024.140625}, {'val_loss': 8023.93017578125}, {'val_loss': 8023.703125}, {'val_loss': 8023.45703125}, {'val_loss': 8023.19091796875}, {'val_loss': 8022.9609375}, {'val_loss': 8022.720703125}, {'val_loss': 8022.4892578125}, {'val_loss': 8022.26025390625}, {'val_loss': 8022.0234375}, {'val_loss': 8021.78662109375}, {'val_loss': 8021.5546875}, {'val_loss': 8021.302734375}, {'val_loss': 8021.06640625}, {'val_loss': 8020.8515625}, {'val_loss': 8020.62890625}, {'val_loss': 8020.388671875}, {'val_loss': 8020.154296875}, {'val_loss': 8019.91845703125}, {'val_loss': 8019.70703125}, {'val_loss': 8019.4892578125}, {'val_loss': 8019.23046875}, {'val_loss': 8018.99560546875}, {'val_loss': 8018.78076171875}, {'val_loss': 8018.5595703125}, {'val_loss': 8018.33837890625}, {'val_loss': 8018.125}, {'val_loss': 8017.884765625}, {'val_loss': 8017.666015625}, {'val_loss': 8017.51416015625}, {'val_loss': 8017.2734375}, {'val_loss': 8017.0166015625}, {'val_loss': 8016.76611328125}, {'val_loss': 8016.57421875}, {'val_loss': 8016.39501953125}, {'val_loss': 8016.16015625}, {'val_loss': 8016.0185546875}, {'val_loss': 8015.8212890625}, {'val_loss': 8015.7001953125}, {'val_loss': 8015.55224609375}, {'val_loss': 8015.24365234375}, {'val_loss': 8015.00048828125}, {'val_loss': 8014.7900390625}, {'val_loss': 8014.59375}, {'val_loss': 8014.41943359375}, {'val_loss': 8014.2724609375}, {'val_loss': 8014.09375}, {'val_loss': 8013.890625}, {'val_loss': 8013.7958984375}, {'val_loss': 8013.63525390625}, {'val_loss': 8013.47314453125}, {'val_loss': 8013.2744140625}, {'val_loss': 8013.0849609375}, {'val_loss': 8012.9716796875}, {'val_loss': 8012.7255859375}, {'val_loss': 8012.59423828125}, {'val_loss': 8012.3740234375}, {'val_loss': 8012.24169921875}, {'val_loss': 8012.072265625}, {'val_loss': 8011.9765625}, {'val_loss': 8011.8095703125}, {'val_loss': 8011.6826171875}, {'val_loss': 8011.57373046875}, {'val_loss': 8011.49462890625}, {'val_loss': 8011.36767578125}, {'val_loss': 8011.259765625}, {'val_loss': 8011.0859375}, {'val_loss': 8010.9365234375}, {'val_loss': 8010.6728515625}, {'val_loss': 8010.556640625}, {'val_loss': 8010.41455078125}, {'val_loss': 8010.31396484375}, {'val_loss': 8010.12744140625}, {'val_loss': 8009.8779296875}, {'val_loss': 8009.6064453125}, {'val_loss': 8009.4306640625}, {'val_loss': 8009.4482421875}, {'val_loss': 8009.2587890625}, {'val_loss': 8009.111328125}, {'val_loss': 8008.93359375}, {'val_loss': 8008.787109375}, {'val_loss': 8008.72998046875}, {'val_loss': 8008.67138671875}, {'val_loss': 8008.521484375}, {'val_loss': 8008.4365234375}, {'val_loss': 8008.3583984375}, {'val_loss': 8008.1171875}, {'val_loss': 8007.99267578125}, {'val_loss': 8007.939453125}, {'val_loss': 8007.8427734375}, {'val_loss': 8007.6484375}, {'val_loss': 8007.4892578125}, {'val_loss': 8007.46875}, {'val_loss': 8007.3564453125}, {'val_loss': 8007.255859375}, {'val_loss': 8007.27685546875}, {'val_loss': 8007.05859375}, {'val_loss': 8006.849609375}, {'val_loss': 8006.712890625}, {'val_loss': 8006.642578125}, {'val_loss': 8006.501953125}, {'val_loss': 8006.36669921875}, {'val_loss': 8006.234375}, {'val_loss': 8006.1162109375}, {'val_loss': 8005.9375}, {'val_loss': 8005.90234375}, {'val_loss': 8005.8349609375}, {'val_loss': 8005.8154296875}, {'val_loss': 8005.8193359375}, {'val_loss': 8005.7021484375}, {'val_loss': 8005.62890625}, {'val_loss': 8005.59814453125}, {'val_loss': 8005.43505859375}, {'val_loss': 8005.37451171875}, {'val_loss': 8005.13671875}, {'val_loss': 8005.015625}, {'val_loss': 8004.7841796875}, {'val_loss': 8004.6376953125}, {'val_loss': 8004.7255859375}, {'val_loss': 8004.47314453125}, {'val_loss': 8004.5390625}, {'val_loss': 8004.4248046875}, {'val_loss': 8004.49755859375}, {'val_loss': 8004.50341796875}, {'val_loss': 8004.607421875}, {'val_loss': 8004.56787109375}, {'val_loss': 8004.3994140625}, {'val_loss': 8004.28515625}, {'val_loss': 8004.31103515625}, {'val_loss': 8004.173828125}, {'val_loss': 8004.08544921875}, {'val_loss': 8004.0673828125}, {'val_loss': 8003.8876953125}, {'val_loss': 8003.7841796875}, {'val_loss': 8003.783203125}, {'val_loss': 8003.77734375}, {'val_loss': 8003.46923828125}, {'val_loss': 8003.51806640625}, {'val_loss': 8003.48486328125}, {'val_loss': 8003.361328125}, {'val_loss': 8003.15234375}, {'val_loss': 8003.009765625}, {'val_loss': 8002.8720703125}, {'val_loss': 8002.916015625}, {'val_loss': 8002.71435546875}, {'val_loss': 8002.6513671875}, {'val_loss': 8002.666015625}, {'val_loss': 8002.5869140625}, {'val_loss': 8002.654296875}, {'val_loss': 8002.54150390625}, {'val_loss': 8002.55126953125}, {'val_loss': 8002.490234375}, {'val_loss': 8002.3388671875}, {'val_loss': 8002.203125}, {'val_loss': 8002.2626953125}, {'val_loss': 8002.05712890625}, {'val_loss': 8001.90771484375}, {'val_loss': 8001.880859375}, {'val_loss': 8001.7373046875}, {'val_loss': 8001.7001953125}, {'val_loss': 8001.69873046875}, {'val_loss': 8001.4296875}, {'val_loss': 8001.216796875}, {'val_loss': 8001.1162109375}, {'val_loss': 8000.9462890625}, {'val_loss': 8000.9619140625}, {'val_loss': 8000.8671875}, {'val_loss': 8000.7861328125}, {'val_loss': 8000.7841796875}, {'val_loss': 8000.66943359375}, {'val_loss': 8000.6708984375}, {'val_loss': 8000.5791015625}, {'val_loss': 8000.4775390625}, {'val_loss': 8000.51806640625}, {'val_loss': 8000.34765625}, {'val_loss': 8000.28466796875}, {'val_loss': 8000.3720703125}, {'val_loss': 8000.275390625}, {'val_loss': 8000.2470703125}, {'val_loss': 8000.1650390625}, {'val_loss': 8000.1484375}, {'val_loss': 8000.0556640625}, {'val_loss': 8000.1201171875}, {'val_loss': 8000.0302734375}, {'val_loss': 7999.81982421875}, {'val_loss': 7999.56787109375}, {'val_loss': 7999.4013671875}, {'val_loss': 7999.4765625}, {'val_loss': 7999.4833984375}, {'val_loss': 7999.34765625}, {'val_loss': 7999.40478515625}, {'val_loss': 7999.3330078125}, {'val_loss': 7999.29296875}, {'val_loss': 7999.15625}, {'val_loss': 7999.05908203125}, {'val_loss': 7999.0361328125}, {'val_loss': 7998.95263671875}, {'val_loss': 7998.93212890625}, {'val_loss': 7998.92578125}, {'val_loss': 7998.994140625}, {'val_loss': 7998.7607421875}, {'val_loss': 7998.482421875}, {'val_loss': 7998.474609375}, {'val_loss': 7998.076171875}, {'val_loss': 7997.97314453125}, {'val_loss': 7997.83984375}, {'val_loss': 7997.8154296875}, {'val_loss': 7997.75634765625}, {'val_loss': 7997.81201171875}, {'val_loss': 7997.505859375}, {'val_loss': 7997.4873046875}, {'val_loss': 7997.5166015625}, {'val_loss': 7997.6103515625}, {'val_loss': 7997.41796875}, {'val_loss': 7997.275390625}, {'val_loss': 7997.1279296875}, {'val_loss': 7996.8994140625}, {'val_loss': 7997.1044921875}, {'val_loss': 7996.970703125}, {'val_loss': 7996.6484375}, {'val_loss': 7996.3759765625}, {'val_loss': 7996.3896484375}, {'val_loss': 7996.451171875}]\n",
            "Epoch [20], val_loss: 7996.2280\n",
            "Epoch [40], val_loss: 7996.1553\n",
            "Epoch [60], val_loss: 7995.9590\n",
            "Epoch [80], val_loss: 7995.8809\n",
            "Epoch [100], val_loss: 7995.8369\n"
          ],
          "name": "stdout"
        },
        {
          "output_type": "stream",
          "text": [
            "Epoch [120], val_loss: 7995.7949\n",
            "Epoch [140], val_loss: 7995.7295\n",
            "Epoch [160], val_loss: 7995.6699\n",
            "Epoch [180], val_loss: 7995.5518\n",
            "Epoch [200], val_loss: 7995.6279\n",
            "Epoch [220], val_loss: 7995.5850\n",
            "Epoch [240], val_loss: 7995.5996\n",
            "Epoch [250], val_loss: 7995.5156\n",
            "[{'val_loss': 7996.4306640625}, {'val_loss': 7996.404296875}, {'val_loss': 7996.37890625}, {'val_loss': 7996.361328125}, {'val_loss': 7996.3486328125}, {'val_loss': 7996.34375}, {'val_loss': 7996.3505859375}, {'val_loss': 7996.32958984375}, {'val_loss': 7996.34912109375}, {'val_loss': 7996.34716796875}, {'val_loss': 7996.3369140625}, {'val_loss': 7996.3369140625}, {'val_loss': 7996.31640625}, {'val_loss': 7996.296875}, {'val_loss': 7996.28125}, {'val_loss': 7996.2548828125}, {'val_loss': 7996.2548828125}, {'val_loss': 7996.2626953125}, {'val_loss': 7996.2333984375}, {'val_loss': 7996.22802734375}, {'val_loss': 7996.2197265625}, {'val_loss': 7996.21435546875}, {'val_loss': 7996.20751953125}, {'val_loss': 7996.208984375}, {'val_loss': 7996.2099609375}, {'val_loss': 7996.21826171875}, {'val_loss': 7996.2275390625}, {'val_loss': 7996.21142578125}, {'val_loss': 7996.2119140625}, {'val_loss': 7996.201171875}, {'val_loss': 7996.205078125}, {'val_loss': 7996.185546875}, {'val_loss': 7996.1748046875}, {'val_loss': 7996.1884765625}, {'val_loss': 7996.1767578125}, {'val_loss': 7996.158203125}, {'val_loss': 7996.1611328125}, {'val_loss': 7996.1455078125}, {'val_loss': 7996.1669921875}, {'val_loss': 7996.1552734375}, {'val_loss': 7996.1396484375}, {'val_loss': 7996.1259765625}, {'val_loss': 7996.1279296875}, {'val_loss': 7996.0927734375}, {'val_loss': 7996.083984375}, {'val_loss': 7996.0751953125}, {'val_loss': 7996.06640625}, {'val_loss': 7996.0634765625}, {'val_loss': 7996.0478515625}, {'val_loss': 7996.05615234375}, {'val_loss': 7996.0478515625}, {'val_loss': 7996.0341796875}, {'val_loss': 7996.0078125}, {'val_loss': 7995.982421875}, {'val_loss': 7995.97607421875}, {'val_loss': 7995.99560546875}, {'val_loss': 7995.974609375}, {'val_loss': 7995.9677734375}, {'val_loss': 7995.951171875}, {'val_loss': 7995.958984375}, {'val_loss': 7995.9599609375}, {'val_loss': 7995.9453125}, {'val_loss': 7995.91015625}, {'val_loss': 7995.896484375}, {'val_loss': 7995.87646484375}, {'val_loss': 7995.8681640625}, {'val_loss': 7995.87109375}, {'val_loss': 7995.8916015625}, {'val_loss': 7995.8896484375}, {'val_loss': 7995.8818359375}, {'val_loss': 7995.8701171875}, {'val_loss': 7995.8623046875}, {'val_loss': 7995.8359375}, {'val_loss': 7995.8505859375}, {'val_loss': 7995.8583984375}, {'val_loss': 7995.8681640625}, {'val_loss': 7995.86962890625}, {'val_loss': 7995.8564453125}, {'val_loss': 7995.8681640625}, {'val_loss': 7995.880859375}, {'val_loss': 7995.875}, {'val_loss': 7995.8798828125}, {'val_loss': 7995.875}, {'val_loss': 7995.8759765625}, {'val_loss': 7995.85693359375}, {'val_loss': 7995.87109375}, {'val_loss': 7995.86328125}, {'val_loss': 7995.87890625}, {'val_loss': 7995.8828125}, {'val_loss': 7995.8759765625}, {'val_loss': 7995.859375}, {'val_loss': 7995.85546875}, {'val_loss': 7995.83544921875}, {'val_loss': 7995.833984375}, {'val_loss': 7995.84130859375}, {'val_loss': 7995.8505859375}, {'val_loss': 7995.859375}, {'val_loss': 7995.859375}, {'val_loss': 7995.84716796875}, {'val_loss': 7995.8369140625}, {'val_loss': 7995.8466796875}, {'val_loss': 7995.82421875}, {'val_loss': 7995.8271484375}, {'val_loss': 7995.8349609375}, {'val_loss': 7995.837890625}, {'val_loss': 7995.837890625}, {'val_loss': 7995.8447265625}, {'val_loss': 7995.83935546875}, {'val_loss': 7995.818359375}, {'val_loss': 7995.81884765625}, {'val_loss': 7995.8125}, {'val_loss': 7995.8154296875}, {'val_loss': 7995.8046875}, {'val_loss': 7995.8017578125}, {'val_loss': 7995.8056640625}, {'val_loss': 7995.8134765625}, {'val_loss': 7995.79541015625}, {'val_loss': 7995.7998046875}, {'val_loss': 7995.7900390625}, {'val_loss': 7995.794921875}, {'val_loss': 7995.80908203125}, {'val_loss': 7995.80859375}, {'val_loss': 7995.80029296875}, {'val_loss': 7995.8046875}, {'val_loss': 7995.79296875}, {'val_loss': 7995.79931640625}, {'val_loss': 7995.78173828125}, {'val_loss': 7995.759765625}, {'val_loss': 7995.76416015625}, {'val_loss': 7995.76123046875}, {'val_loss': 7995.7548828125}, {'val_loss': 7995.76025390625}, {'val_loss': 7995.76171875}, {'val_loss': 7995.7490234375}, {'val_loss': 7995.73974609375}, {'val_loss': 7995.734375}, {'val_loss': 7995.734375}, {'val_loss': 7995.7333984375}, {'val_loss': 7995.7392578125}, {'val_loss': 7995.7294921875}, {'val_loss': 7995.71484375}, {'val_loss': 7995.71142578125}, {'val_loss': 7995.7158203125}, {'val_loss': 7995.7197265625}, {'val_loss': 7995.71337890625}, {'val_loss': 7995.705078125}, {'val_loss': 7995.7099609375}, {'val_loss': 7995.7099609375}, {'val_loss': 7995.69970703125}, {'val_loss': 7995.69775390625}, {'val_loss': 7995.70166015625}, {'val_loss': 7995.68701171875}, {'val_loss': 7995.6767578125}, {'val_loss': 7995.67578125}, {'val_loss': 7995.67626953125}, {'val_loss': 7995.6865234375}, {'val_loss': 7995.681640625}, {'val_loss': 7995.68701171875}, {'val_loss': 7995.6689453125}, {'val_loss': 7995.669921875}, {'val_loss': 7995.6650390625}, {'val_loss': 7995.65283203125}, {'val_loss': 7995.63427734375}, {'val_loss': 7995.625}, {'val_loss': 7995.62109375}, {'val_loss': 7995.61083984375}, {'val_loss': 7995.5986328125}, {'val_loss': 7995.5849609375}, {'val_loss': 7995.59912109375}, {'val_loss': 7995.5703125}, {'val_loss': 7995.568359375}, {'val_loss': 7995.5556640625}, {'val_loss': 7995.5517578125}, {'val_loss': 7995.5458984375}, {'val_loss': 7995.5322265625}, {'val_loss': 7995.53564453125}, {'val_loss': 7995.5400390625}, {'val_loss': 7995.5517578125}, {'val_loss': 7995.5556640625}, {'val_loss': 7995.5517578125}, {'val_loss': 7995.5673828125}, {'val_loss': 7995.5712890625}, {'val_loss': 7995.5478515625}, {'val_loss': 7995.5625}, {'val_loss': 7995.5703125}, {'val_loss': 7995.572265625}, {'val_loss': 7995.5576171875}, {'val_loss': 7995.5419921875}, {'val_loss': 7995.5361328125}, {'val_loss': 7995.52490234375}, {'val_loss': 7995.546875}, {'val_loss': 7995.5634765625}, {'val_loss': 7995.57177734375}, {'val_loss': 7995.5810546875}, {'val_loss': 7995.59912109375}, {'val_loss': 7995.5966796875}, {'val_loss': 7995.60302734375}, {'val_loss': 7995.6201171875}, {'val_loss': 7995.61328125}, {'val_loss': 7995.6279296875}, {'val_loss': 7995.63330078125}, {'val_loss': 7995.63427734375}, {'val_loss': 7995.63916015625}, {'val_loss': 7995.6435546875}, {'val_loss': 7995.64892578125}, {'val_loss': 7995.6396484375}, {'val_loss': 7995.650390625}, {'val_loss': 7995.6318359375}, {'val_loss': 7995.6259765625}, {'val_loss': 7995.623046875}, {'val_loss': 7995.6171875}, {'val_loss': 7995.6328125}, {'val_loss': 7995.65771484375}, {'val_loss': 7995.65478515625}, {'val_loss': 7995.650390625}, {'val_loss': 7995.64404296875}, {'val_loss': 7995.64990234375}, {'val_loss': 7995.619140625}, {'val_loss': 7995.6025390625}, {'val_loss': 7995.5849609375}, {'val_loss': 7995.6025390625}, {'val_loss': 7995.61376953125}, {'val_loss': 7995.6123046875}, {'val_loss': 7995.603515625}, {'val_loss': 7995.6123046875}, {'val_loss': 7995.611328125}, {'val_loss': 7995.626953125}, {'val_loss': 7995.6103515625}, {'val_loss': 7995.5947265625}, {'val_loss': 7995.6025390625}, {'val_loss': 7995.60888671875}, {'val_loss': 7995.6015625}, {'val_loss': 7995.6259765625}, {'val_loss': 7995.62109375}, {'val_loss': 7995.6396484375}, {'val_loss': 7995.6376953125}, {'val_loss': 7995.6279296875}, {'val_loss': 7995.6201171875}, {'val_loss': 7995.59716796875}, {'val_loss': 7995.599609375}, {'val_loss': 7995.5908203125}, {'val_loss': 7995.5849609375}, {'val_loss': 7995.572265625}, {'val_loss': 7995.5537109375}, {'val_loss': 7995.5361328125}, {'val_loss': 7995.5400390625}, {'val_loss': 7995.5419921875}, {'val_loss': 7995.544921875}, {'val_loss': 7995.5439453125}, {'val_loss': 7995.515625}]\n",
            "Epoch [20], val_loss: 7995.5068\n",
            "Epoch [40], val_loss: 7995.4966\n",
            "Epoch [60], val_loss: 7995.4956\n",
            "Epoch [80], val_loss: 7995.5020\n",
            "Epoch [100], val_loss: 7995.4893\n",
            "Epoch [120], val_loss: 7995.4795\n",
            "Epoch [140], val_loss: 7995.4707\n",
            "Epoch [160], val_loss: 7995.4570\n",
            "Epoch [180], val_loss: 7995.4478\n",
            "Epoch [200], val_loss: 7995.4453\n",
            "Epoch [220], val_loss: 7995.4326\n"
          ],
          "name": "stdout"
        },
        {
          "output_type": "stream",
          "text": [
            "Epoch [240], val_loss: 7995.4326\n",
            "Epoch [250], val_loss: 7995.4287\n",
            "[{'val_loss': 7995.5166015625}, {'val_loss': 7995.51513671875}, {'val_loss': 7995.5146484375}, {'val_loss': 7995.51416015625}, {'val_loss': 7995.513671875}, {'val_loss': 7995.5126953125}, {'val_loss': 7995.5126953125}, {'val_loss': 7995.51171875}, {'val_loss': 7995.5126953125}, {'val_loss': 7995.51171875}, {'val_loss': 7995.51025390625}, {'val_loss': 7995.509765625}, {'val_loss': 7995.50634765625}, {'val_loss': 7995.5068359375}, {'val_loss': 7995.5068359375}, {'val_loss': 7995.50537109375}, {'val_loss': 7995.505859375}, {'val_loss': 7995.505859375}, {'val_loss': 7995.509765625}, {'val_loss': 7995.5068359375}, {'val_loss': 7995.50390625}, {'val_loss': 7995.5029296875}, {'val_loss': 7995.5029296875}, {'val_loss': 7995.50390625}, {'val_loss': 7995.50390625}, {'val_loss': 7995.501953125}, {'val_loss': 7995.5}, {'val_loss': 7995.4990234375}, {'val_loss': 7995.4990234375}, {'val_loss': 7995.4970703125}, {'val_loss': 7995.4970703125}, {'val_loss': 7995.494140625}, {'val_loss': 7995.4931640625}, {'val_loss': 7995.494140625}, {'val_loss': 7995.4951171875}, {'val_loss': 7995.494140625}, {'val_loss': 7995.49365234375}, {'val_loss': 7995.4931640625}, {'val_loss': 7995.49560546875}, {'val_loss': 7995.49658203125}, {'val_loss': 7995.4970703125}, {'val_loss': 7995.4951171875}, {'val_loss': 7995.494140625}, {'val_loss': 7995.4931640625}, {'val_loss': 7995.49169921875}, {'val_loss': 7995.494140625}, {'val_loss': 7995.494140625}, {'val_loss': 7995.494140625}, {'val_loss': 7995.4921875}, {'val_loss': 7995.4931640625}, {'val_loss': 7995.4921875}, {'val_loss': 7995.4921875}, {'val_loss': 7995.494140625}, {'val_loss': 7995.4951171875}, {'val_loss': 7995.4931640625}, {'val_loss': 7995.494140625}, {'val_loss': 7995.494140625}, {'val_loss': 7995.494140625}, {'val_loss': 7995.4931640625}, {'val_loss': 7995.49560546875}, {'val_loss': 7995.494140625}, {'val_loss': 7995.4951171875}, {'val_loss': 7995.49609375}, {'val_loss': 7995.4951171875}, {'val_loss': 7995.49609375}, {'val_loss': 7995.49658203125}, {'val_loss': 7995.4970703125}, {'val_loss': 7995.5}, {'val_loss': 7995.4990234375}, {'val_loss': 7995.4990234375}, {'val_loss': 7995.4990234375}, {'val_loss': 7995.498046875}, {'val_loss': 7995.50048828125}, {'val_loss': 7995.5}, {'val_loss': 7995.5009765625}, {'val_loss': 7995.5}, {'val_loss': 7995.5009765625}, {'val_loss': 7995.5029296875}, {'val_loss': 7995.5009765625}, {'val_loss': 7995.501953125}, {'val_loss': 7995.49951171875}, {'val_loss': 7995.49951171875}, {'val_loss': 7995.498046875}, {'val_loss': 7995.4990234375}, {'val_loss': 7995.50048828125}, {'val_loss': 7995.4990234375}, {'val_loss': 7995.4970703125}, {'val_loss': 7995.4970703125}, {'val_loss': 7995.4970703125}, {'val_loss': 7995.49462890625}, {'val_loss': 7995.49267578125}, {'val_loss': 7995.4912109375}, {'val_loss': 7995.490234375}, {'val_loss': 7995.490234375}, {'val_loss': 7995.4892578125}, {'val_loss': 7995.48876953125}, {'val_loss': 7995.48828125}, {'val_loss': 7995.4892578125}, {'val_loss': 7995.48974609375}, {'val_loss': 7995.4892578125}, {'val_loss': 7995.48876953125}, {'val_loss': 7995.48876953125}, {'val_loss': 7995.490234375}, {'val_loss': 7995.4873046875}, {'val_loss': 7995.48828125}, {'val_loss': 7995.4873046875}, {'val_loss': 7995.4873046875}, {'val_loss': 7995.4853515625}, {'val_loss': 7995.484375}, {'val_loss': 7995.484375}, {'val_loss': 7995.48583984375}, {'val_loss': 7995.48681640625}, {'val_loss': 7995.48828125}, {'val_loss': 7995.486328125}, {'val_loss': 7995.4853515625}, {'val_loss': 7995.482421875}, {'val_loss': 7995.4814453125}, {'val_loss': 7995.4794921875}, {'val_loss': 7995.4794921875}, {'val_loss': 7995.4794921875}, {'val_loss': 7995.48046875}, {'val_loss': 7995.48046875}, {'val_loss': 7995.4814453125}, {'val_loss': 7995.482421875}, {'val_loss': 7995.4814453125}, {'val_loss': 7995.47900390625}, {'val_loss': 7995.478515625}, {'val_loss': 7995.4794921875}, {'val_loss': 7995.47900390625}, {'val_loss': 7995.4775390625}, {'val_loss': 7995.4775390625}, {'val_loss': 7995.47509765625}, {'val_loss': 7995.47412109375}, {'val_loss': 7995.474609375}, {'val_loss': 7995.4736328125}, {'val_loss': 7995.47216796875}, {'val_loss': 7995.47216796875}, {'val_loss': 7995.47265625}, {'val_loss': 7995.470703125}, {'val_loss': 7995.470703125}, {'val_loss': 7995.46875}, {'val_loss': 7995.4658203125}, {'val_loss': 7995.46484375}, {'val_loss': 7995.4638671875}, {'val_loss': 7995.46484375}, {'val_loss': 7995.462890625}, {'val_loss': 7995.46484375}, {'val_loss': 7995.46484375}, {'val_loss': 7995.46337890625}, {'val_loss': 7995.4619140625}, {'val_loss': 7995.4599609375}, {'val_loss': 7995.46142578125}, {'val_loss': 7995.4599609375}, {'val_loss': 7995.45703125}, {'val_loss': 7995.45703125}, {'val_loss': 7995.4580078125}, {'val_loss': 7995.4580078125}, {'val_loss': 7995.458984375}, {'val_loss': 7995.45703125}, {'val_loss': 7995.45703125}, {'val_loss': 7995.4560546875}, {'val_loss': 7995.4560546875}, {'val_loss': 7995.4560546875}, {'val_loss': 7995.4560546875}, {'val_loss': 7995.45654296875}, {'val_loss': 7995.45703125}, {'val_loss': 7995.45751953125}, {'val_loss': 7995.45703125}, {'val_loss': 7995.455078125}, {'val_loss': 7995.4541015625}, {'val_loss': 7995.45458984375}, {'val_loss': 7995.4541015625}, {'val_loss': 7995.4521484375}, {'val_loss': 7995.4501953125}, {'val_loss': 7995.44873046875}, {'val_loss': 7995.44775390625}, {'val_loss': 7995.44921875}, {'val_loss': 7995.4501953125}, {'val_loss': 7995.4482421875}, {'val_loss': 7995.44775390625}, {'val_loss': 7995.447265625}, {'val_loss': 7995.4462890625}, {'val_loss': 7995.4462890625}, {'val_loss': 7995.4462890625}, {'val_loss': 7995.44580078125}, {'val_loss': 7995.4453125}, {'val_loss': 7995.4453125}, {'val_loss': 7995.4453125}, {'val_loss': 7995.4482421875}, {'val_loss': 7995.44677734375}, {'val_loss': 7995.4462890625}, {'val_loss': 7995.4453125}, {'val_loss': 7995.4462890625}, {'val_loss': 7995.4462890625}, {'val_loss': 7995.4462890625}, {'val_loss': 7995.44775390625}, {'val_loss': 7995.447265625}, {'val_loss': 7995.4453125}, {'val_loss': 7995.44482421875}, {'val_loss': 7995.4453125}, {'val_loss': 7995.4443359375}, {'val_loss': 7995.443359375}, {'val_loss': 7995.44189453125}, {'val_loss': 7995.4384765625}, {'val_loss': 7995.4404296875}, {'val_loss': 7995.439453125}, {'val_loss': 7995.4384765625}, {'val_loss': 7995.4365234375}, {'val_loss': 7995.435546875}, {'val_loss': 7995.43408203125}, {'val_loss': 7995.435546875}, {'val_loss': 7995.43359375}, {'val_loss': 7995.43359375}, {'val_loss': 7995.43408203125}, {'val_loss': 7995.43359375}, {'val_loss': 7995.43359375}, {'val_loss': 7995.431640625}, {'val_loss': 7995.431640625}, {'val_loss': 7995.431640625}, {'val_loss': 7995.4326171875}, {'val_loss': 7995.43212890625}, {'val_loss': 7995.431640625}, {'val_loss': 7995.4345703125}, {'val_loss': 7995.4345703125}, {'val_loss': 7995.4326171875}, {'val_loss': 7995.43310546875}, {'val_loss': 7995.43115234375}, {'val_loss': 7995.4306640625}, {'val_loss': 7995.4287109375}, {'val_loss': 7995.4296875}, {'val_loss': 7995.4296875}, {'val_loss': 7995.43212890625}, {'val_loss': 7995.43115234375}, {'val_loss': 7995.43115234375}, {'val_loss': 7995.4306640625}, {'val_loss': 7995.43359375}, {'val_loss': 7995.435546875}, {'val_loss': 7995.4345703125}, {'val_loss': 7995.431640625}, {'val_loss': 7995.4326171875}, {'val_loss': 7995.43359375}, {'val_loss': 7995.43359375}, {'val_loss': 7995.4345703125}, {'val_loss': 7995.43359375}, {'val_loss': 7995.4326171875}, {'val_loss': 7995.431640625}, {'val_loss': 7995.4326171875}, {'val_loss': 7995.4296875}, {'val_loss': 7995.4287109375}, {'val_loss': 7995.4287109375}]\n",
            "Epoch [20], val_loss: 7995.4297\n",
            "Epoch [40], val_loss: 7995.4292\n",
            "Epoch [60], val_loss: 7995.4297\n",
            "Epoch [80], val_loss: 7995.4287\n",
            "Epoch [100], val_loss: 7995.4282\n",
            "Epoch [120], val_loss: 7995.4287\n",
            "Epoch [140], val_loss: 7995.4287\n",
            "Epoch [160], val_loss: 7995.4272\n",
            "Epoch [180], val_loss: 7995.4277\n",
            "Epoch [200], val_loss: 7995.4268\n",
            "Epoch [220], val_loss: 7995.4268\n",
            "Epoch [240], val_loss: 7995.4272\n",
            "Epoch [250], val_loss: 7995.4263\n",
            "[{'val_loss': 7995.42919921875}, {'val_loss': 7995.42919921875}, {'val_loss': 7995.42919921875}, {'val_loss': 7995.4287109375}, {'val_loss': 7995.4287109375}, {'val_loss': 7995.4287109375}, {'val_loss': 7995.4287109375}, {'val_loss': 7995.42919921875}, {'val_loss': 7995.4296875}, {'val_loss': 7995.4296875}, {'val_loss': 7995.4296875}, {'val_loss': 7995.4296875}, {'val_loss': 7995.4287109375}, {'val_loss': 7995.42919921875}, {'val_loss': 7995.4296875}, {'val_loss': 7995.4296875}, {'val_loss': 7995.42919921875}, {'val_loss': 7995.4287109375}, {'val_loss': 7995.4296875}, {'val_loss': 7995.4296875}, {'val_loss': 7995.4287109375}, {'val_loss': 7995.4287109375}, {'val_loss': 7995.4287109375}, {'val_loss': 7995.42919921875}, {'val_loss': 7995.4296875}, {'val_loss': 7995.42919921875}, {'val_loss': 7995.42919921875}, {'val_loss': 7995.42919921875}, {'val_loss': 7995.42919921875}, {'val_loss': 7995.42919921875}, {'val_loss': 7995.42919921875}, {'val_loss': 7995.4287109375}, {'val_loss': 7995.4287109375}, {'val_loss': 7995.4287109375}, {'val_loss': 7995.42919921875}, {'val_loss': 7995.4287109375}, {'val_loss': 7995.4287109375}, {'val_loss': 7995.4287109375}, {'val_loss': 7995.42919921875}, {'val_loss': 7995.42919921875}, {'val_loss': 7995.42919921875}, {'val_loss': 7995.42919921875}, {'val_loss': 7995.4287109375}, {'val_loss': 7995.42919921875}, {'val_loss': 7995.4287109375}, {'val_loss': 7995.4287109375}, {'val_loss': 7995.4287109375}, {'val_loss': 7995.42919921875}, {'val_loss': 7995.4287109375}, {'val_loss': 7995.4287109375}, {'val_loss': 7995.4287109375}, {'val_loss': 7995.42919921875}, {'val_loss': 7995.4287109375}, {'val_loss': 7995.4296875}, {'val_loss': 7995.4296875}, {'val_loss': 7995.4296875}, {'val_loss': 7995.42919921875}, {'val_loss': 7995.4296875}, {'val_loss': 7995.4296875}, {'val_loss': 7995.4296875}, {'val_loss': 7995.42822265625}, {'val_loss': 7995.42822265625}, {'val_loss': 7995.4296875}, {'val_loss': 7995.4287109375}, {'val_loss': 7995.42919921875}, {'val_loss': 7995.4296875}, {'val_loss': 7995.4296875}, {'val_loss': 7995.4296875}, {'val_loss': 7995.4296875}, {'val_loss': 7995.42919921875}, {'val_loss': 7995.43017578125}, {'val_loss': 7995.4296875}, {'val_loss': 7995.4296875}, {'val_loss': 7995.4287109375}, {'val_loss': 7995.4287109375}, {'val_loss': 7995.4287109375}, {'val_loss': 7995.42822265625}, {'val_loss': 7995.4287109375}, {'val_loss': 7995.427734375}, {'val_loss': 7995.4287109375}, {'val_loss': 7995.42822265625}, {'val_loss': 7995.42822265625}, {'val_loss': 7995.4287109375}, {'val_loss': 7995.4287109375}, {'val_loss': 7995.4287109375}, {'val_loss': 7995.4287109375}, {'val_loss': 7995.4287109375}, {'val_loss': 7995.42822265625}, {'val_loss': 7995.427734375}, {'val_loss': 7995.42724609375}, {'val_loss': 7995.427734375}, {'val_loss': 7995.427734375}, {'val_loss': 7995.42822265625}, {'val_loss': 7995.427734375}, {'val_loss': 7995.4267578125}, {'val_loss': 7995.4267578125}, {'val_loss': 7995.42724609375}, {'val_loss': 7995.42822265625}, {'val_loss': 7995.42822265625}, {'val_loss': 7995.42822265625}, {'val_loss': 7995.427734375}, {'val_loss': 7995.427734375}, {'val_loss': 7995.4287109375}, {'val_loss': 7995.4287109375}, {'val_loss': 7995.4287109375}, {'val_loss': 7995.4287109375}, {'val_loss': 7995.427734375}, {'val_loss': 7995.4287109375}, {'val_loss': 7995.427734375}, {'val_loss': 7995.427734375}, {'val_loss': 7995.427734375}, {'val_loss': 7995.427734375}, {'val_loss': 7995.427734375}, {'val_loss': 7995.42822265625}, {'val_loss': 7995.427734375}, {'val_loss': 7995.427734375}, {'val_loss': 7995.427734375}, {'val_loss': 7995.42822265625}, {'val_loss': 7995.4287109375}, {'val_loss': 7995.4287109375}, {'val_loss': 7995.4287109375}, {'val_loss': 7995.4287109375}, {'val_loss': 7995.4287109375}, {'val_loss': 7995.4287109375}, {'val_loss': 7995.4287109375}, {'val_loss': 7995.4287109375}, {'val_loss': 7995.4287109375}, {'val_loss': 7995.4287109375}, {'val_loss': 7995.4287109375}, {'val_loss': 7995.4287109375}, {'val_loss': 7995.4287109375}, {'val_loss': 7995.4287109375}, {'val_loss': 7995.42822265625}, {'val_loss': 7995.427734375}, {'val_loss': 7995.427734375}, {'val_loss': 7995.4287109375}, {'val_loss': 7995.427734375}, {'val_loss': 7995.427734375}, {'val_loss': 7995.4287109375}, {'val_loss': 7995.4287109375}, {'val_loss': 7995.4287109375}, {'val_loss': 7995.4287109375}, {'val_loss': 7995.42822265625}, {'val_loss': 7995.427734375}, {'val_loss': 7995.427734375}, {'val_loss': 7995.427734375}, {'val_loss': 7995.427734375}, {'val_loss': 7995.427734375}, {'val_loss': 7995.4287109375}, {'val_loss': 7995.42822265625}, {'val_loss': 7995.427734375}, {'val_loss': 7995.42822265625}, {'val_loss': 7995.42822265625}, {'val_loss': 7995.427734375}, {'val_loss': 7995.427734375}, {'val_loss': 7995.42822265625}, {'val_loss': 7995.427734375}, {'val_loss': 7995.427734375}, {'val_loss': 7995.427734375}, {'val_loss': 7995.42724609375}, {'val_loss': 7995.427734375}, {'val_loss': 7995.427734375}, {'val_loss': 7995.427734375}, {'val_loss': 7995.427734375}, {'val_loss': 7995.427734375}, {'val_loss': 7995.427734375}, {'val_loss': 7995.427734375}, {'val_loss': 7995.427734375}, {'val_loss': 7995.427734375}, {'val_loss': 7995.427734375}, {'val_loss': 7995.427734375}, {'val_loss': 7995.427734375}, {'val_loss': 7995.427734375}, {'val_loss': 7995.42822265625}, {'val_loss': 7995.427734375}, {'val_loss': 7995.42822265625}, {'val_loss': 7995.427734375}, {'val_loss': 7995.4267578125}, {'val_loss': 7995.427734375}, {'val_loss': 7995.427734375}, {'val_loss': 7995.42822265625}, {'val_loss': 7995.427734375}, {'val_loss': 7995.427734375}, {'val_loss': 7995.42724609375}, {'val_loss': 7995.4267578125}, {'val_loss': 7995.4267578125}, {'val_loss': 7995.4267578125}, {'val_loss': 7995.42724609375}, {'val_loss': 7995.42724609375}, {'val_loss': 7995.42724609375}, {'val_loss': 7995.42724609375}, {'val_loss': 7995.427734375}, {'val_loss': 7995.42724609375}, {'val_loss': 7995.427734375}, {'val_loss': 7995.4267578125}, {'val_loss': 7995.427734375}, {'val_loss': 7995.4267578125}, {'val_loss': 7995.4267578125}, {'val_loss': 7995.42724609375}, {'val_loss': 7995.4267578125}, {'val_loss': 7995.4267578125}, {'val_loss': 7995.4267578125}, {'val_loss': 7995.4267578125}, {'val_loss': 7995.42724609375}, {'val_loss': 7995.427734375}, {'val_loss': 7995.4267578125}, {'val_loss': 7995.42724609375}, {'val_loss': 7995.4267578125}, {'val_loss': 7995.4267578125}, {'val_loss': 7995.42724609375}, {'val_loss': 7995.4267578125}, {'val_loss': 7995.427734375}, {'val_loss': 7995.42724609375}, {'val_loss': 7995.427734375}, {'val_loss': 7995.42724609375}, {'val_loss': 7995.42724609375}, {'val_loss': 7995.42724609375}, {'val_loss': 7995.4267578125}, {'val_loss': 7995.4267578125}, {'val_loss': 7995.4267578125}, {'val_loss': 7995.42724609375}, {'val_loss': 7995.4267578125}, {'val_loss': 7995.427734375}, {'val_loss': 7995.4267578125}, {'val_loss': 7995.42724609375}, {'val_loss': 7995.4267578125}, {'val_loss': 7995.42626953125}, {'val_loss': 7995.42724609375}, {'val_loss': 7995.42724609375}, {'val_loss': 7995.4287109375}, {'val_loss': 7995.4287109375}, {'val_loss': 7995.42822265625}, {'val_loss': 7995.427734375}, {'val_loss': 7995.427734375}, {'val_loss': 7995.42822265625}, {'val_loss': 7995.42724609375}, {'val_loss': 7995.4267578125}, {'val_loss': 7995.42724609375}, {'val_loss': 7995.427734375}, {'val_loss': 7995.42724609375}, {'val_loss': 7995.4267578125}, {'val_loss': 7995.4267578125}, {'val_loss': 7995.4267578125}, {'val_loss': 7995.4267578125}, {'val_loss': 7995.4267578125}, {'val_loss': 7995.42626953125}, {'val_loss': 7995.4267578125}, {'val_loss': 7995.4267578125}, {'val_loss': 7995.42626953125}, {'val_loss': 7995.42626953125}]\n"
          ],
          "name": "stdout"
        },
        {
          "output_type": "stream",
          "text": [
            "Epoch [20], val_loss: 7995.4263\n",
            "Epoch [40], val_loss: 7995.4258\n",
            "Epoch [60], val_loss: 7995.4258\n",
            "Epoch [80], val_loss: 7995.4258\n",
            "Epoch [100], val_loss: 7995.4258\n",
            "Epoch [120], val_loss: 7995.4258\n",
            "Epoch [140], val_loss: 7995.4258\n",
            "Epoch [160], val_loss: 7995.4258\n",
            "Epoch [180], val_loss: 7995.4258\n",
            "Epoch [200], val_loss: 7995.4248\n",
            "Epoch [220], val_loss: 7995.4243\n",
            "Epoch [240], val_loss: 7995.4248\n",
            "Epoch [250], val_loss: 7995.4248\n",
            "[{'val_loss': 7995.42578125}, {'val_loss': 7995.42578125}, {'val_loss': 7995.42578125}, {'val_loss': 7995.42626953125}, {'val_loss': 7995.42626953125}, {'val_loss': 7995.42626953125}, {'val_loss': 7995.42626953125}, {'val_loss': 7995.42626953125}, {'val_loss': 7995.42626953125}, {'val_loss': 7995.42626953125}, {'val_loss': 7995.42626953125}, {'val_loss': 7995.42626953125}, {'val_loss': 7995.4267578125}, {'val_loss': 7995.4267578125}, {'val_loss': 7995.4267578125}, {'val_loss': 7995.4267578125}, {'val_loss': 7995.42626953125}, {'val_loss': 7995.42626953125}, {'val_loss': 7995.42626953125}, {'val_loss': 7995.42626953125}, {'val_loss': 7995.4267578125}, {'val_loss': 7995.42626953125}, {'val_loss': 7995.42626953125}, {'val_loss': 7995.42626953125}, {'val_loss': 7995.42626953125}, {'val_loss': 7995.42626953125}, {'val_loss': 7995.42578125}, {'val_loss': 7995.4267578125}, {'val_loss': 7995.4267578125}, {'val_loss': 7995.4267578125}, {'val_loss': 7995.42578125}, {'val_loss': 7995.42578125}, {'val_loss': 7995.42578125}, {'val_loss': 7995.42578125}, {'val_loss': 7995.42578125}, {'val_loss': 7995.42578125}, {'val_loss': 7995.42578125}, {'val_loss': 7995.42578125}, {'val_loss': 7995.42578125}, {'val_loss': 7995.42578125}, {'val_loss': 7995.42578125}, {'val_loss': 7995.42578125}, {'val_loss': 7995.42578125}, {'val_loss': 7995.42578125}, {'val_loss': 7995.42578125}, {'val_loss': 7995.42578125}, {'val_loss': 7995.42578125}, {'val_loss': 7995.42578125}, {'val_loss': 7995.42626953125}, {'val_loss': 7995.42626953125}, {'val_loss': 7995.42626953125}, {'val_loss': 7995.42578125}, {'val_loss': 7995.42626953125}, {'val_loss': 7995.42626953125}, {'val_loss': 7995.42578125}, {'val_loss': 7995.42578125}, {'val_loss': 7995.42578125}, {'val_loss': 7995.42578125}, {'val_loss': 7995.42578125}, {'val_loss': 7995.42578125}, {'val_loss': 7995.42626953125}, {'val_loss': 7995.42578125}, {'val_loss': 7995.42578125}, {'val_loss': 7995.42626953125}, {'val_loss': 7995.42578125}, {'val_loss': 7995.42578125}, {'val_loss': 7995.42578125}, {'val_loss': 7995.42578125}, {'val_loss': 7995.42626953125}, {'val_loss': 7995.42578125}, {'val_loss': 7995.42626953125}, {'val_loss': 7995.42578125}, {'val_loss': 7995.42626953125}, {'val_loss': 7995.42626953125}, {'val_loss': 7995.42626953125}, {'val_loss': 7995.42626953125}, {'val_loss': 7995.42578125}, {'val_loss': 7995.42578125}, {'val_loss': 7995.42626953125}, {'val_loss': 7995.42578125}, {'val_loss': 7995.42578125}, {'val_loss': 7995.42626953125}, {'val_loss': 7995.42626953125}, {'val_loss': 7995.42626953125}, {'val_loss': 7995.42626953125}, {'val_loss': 7995.42578125}, {'val_loss': 7995.42578125}, {'val_loss': 7995.42626953125}, {'val_loss': 7995.42578125}, {'val_loss': 7995.42578125}, {'val_loss': 7995.42578125}, {'val_loss': 7995.42578125}, {'val_loss': 7995.42578125}, {'val_loss': 7995.42578125}, {'val_loss': 7995.42578125}, {'val_loss': 7995.42578125}, {'val_loss': 7995.42578125}, {'val_loss': 7995.42578125}, {'val_loss': 7995.42578125}, {'val_loss': 7995.42578125}, {'val_loss': 7995.42626953125}, {'val_loss': 7995.42626953125}, {'val_loss': 7995.42626953125}, {'val_loss': 7995.42626953125}, {'val_loss': 7995.42626953125}, {'val_loss': 7995.42626953125}, {'val_loss': 7995.4267578125}, {'val_loss': 7995.4267578125}, {'val_loss': 7995.4267578125}, {'val_loss': 7995.4267578125}, {'val_loss': 7995.42578125}, {'val_loss': 7995.4267578125}, {'val_loss': 7995.42578125}, {'val_loss': 7995.42578125}, {'val_loss': 7995.42578125}, {'val_loss': 7995.42578125}, {'val_loss': 7995.42578125}, {'val_loss': 7995.42578125}, {'val_loss': 7995.42626953125}, {'val_loss': 7995.42578125}, {'val_loss': 7995.42578125}, {'val_loss': 7995.42578125}, {'val_loss': 7995.42578125}, {'val_loss': 7995.42578125}, {'val_loss': 7995.42578125}, {'val_loss': 7995.42578125}, {'val_loss': 7995.42578125}, {'val_loss': 7995.42578125}, {'val_loss': 7995.42578125}, {'val_loss': 7995.42578125}, {'val_loss': 7995.42578125}, {'val_loss': 7995.42578125}, {'val_loss': 7995.42578125}, {'val_loss': 7995.42578125}, {'val_loss': 7995.42578125}, {'val_loss': 7995.42578125}, {'val_loss': 7995.42578125}, {'val_loss': 7995.42578125}, {'val_loss': 7995.42578125}, {'val_loss': 7995.42578125}, {'val_loss': 7995.42578125}, {'val_loss': 7995.42626953125}, {'val_loss': 7995.42626953125}, {'val_loss': 7995.42626953125}, {'val_loss': 7995.42626953125}, {'val_loss': 7995.42626953125}, {'val_loss': 7995.42626953125}, {'val_loss': 7995.42626953125}, {'val_loss': 7995.42626953125}, {'val_loss': 7995.42626953125}, {'val_loss': 7995.42626953125}, {'val_loss': 7995.42626953125}, {'val_loss': 7995.42578125}, {'val_loss': 7995.42578125}, {'val_loss': 7995.42578125}, {'val_loss': 7995.42578125}, {'val_loss': 7995.42578125}, {'val_loss': 7995.42578125}, {'val_loss': 7995.42578125}, {'val_loss': 7995.42578125}, {'val_loss': 7995.42578125}, {'val_loss': 7995.42578125}, {'val_loss': 7995.42578125}, {'val_loss': 7995.42578125}, {'val_loss': 7995.42578125}, {'val_loss': 7995.42578125}, {'val_loss': 7995.42578125}, {'val_loss': 7995.42578125}, {'val_loss': 7995.42578125}, {'val_loss': 7995.42578125}, {'val_loss': 7995.42578125}, {'val_loss': 7995.42578125}, {'val_loss': 7995.42578125}, {'val_loss': 7995.42578125}, {'val_loss': 7995.42578125}, {'val_loss': 7995.42578125}, {'val_loss': 7995.42578125}, {'val_loss': 7995.42578125}, {'val_loss': 7995.42578125}, {'val_loss': 7995.42578125}, {'val_loss': 7995.42578125}, {'val_loss': 7995.42578125}, {'val_loss': 7995.42578125}, {'val_loss': 7995.42578125}, {'val_loss': 7995.42578125}, {'val_loss': 7995.42578125}, {'val_loss': 7995.42578125}, {'val_loss': 7995.42578125}, {'val_loss': 7995.42578125}, {'val_loss': 7995.42578125}, {'val_loss': 7995.42578125}, {'val_loss': 7995.4248046875}, {'val_loss': 7995.4248046875}, {'val_loss': 7995.4248046875}, {'val_loss': 7995.4248046875}, {'val_loss': 7995.4248046875}, {'val_loss': 7995.4248046875}, {'val_loss': 7995.4248046875}, {'val_loss': 7995.4248046875}, {'val_loss': 7995.4248046875}, {'val_loss': 7995.4248046875}, {'val_loss': 7995.4248046875}, {'val_loss': 7995.4248046875}, {'val_loss': 7995.42529296875}, {'val_loss': 7995.42529296875}, {'val_loss': 7995.42529296875}, {'val_loss': 7995.42529296875}, {'val_loss': 7995.42529296875}, {'val_loss': 7995.4248046875}, {'val_loss': 7995.42529296875}, {'val_loss': 7995.42529296875}, {'val_loss': 7995.42529296875}, {'val_loss': 7995.42529296875}, {'val_loss': 7995.42529296875}, {'val_loss': 7995.42529296875}, {'val_loss': 7995.42529296875}, {'val_loss': 7995.4248046875}, {'val_loss': 7995.4248046875}, {'val_loss': 7995.42431640625}, {'val_loss': 7995.42431640625}, {'val_loss': 7995.4248046875}, {'val_loss': 7995.42431640625}, {'val_loss': 7995.42431640625}, {'val_loss': 7995.4248046875}, {'val_loss': 7995.4248046875}, {'val_loss': 7995.4248046875}, {'val_loss': 7995.4248046875}, {'val_loss': 7995.4248046875}, {'val_loss': 7995.4248046875}, {'val_loss': 7995.4248046875}, {'val_loss': 7995.4248046875}, {'val_loss': 7995.4248046875}, {'val_loss': 7995.4248046875}, {'val_loss': 7995.4248046875}, {'val_loss': 7995.4248046875}, {'val_loss': 7995.4248046875}, {'val_loss': 7995.4248046875}, {'val_loss': 7995.4248046875}, {'val_loss': 7995.4248046875}, {'val_loss': 7995.4248046875}, {'val_loss': 7995.4248046875}, {'val_loss': 7995.4248046875}, {'val_loss': 7995.4248046875}, {'val_loss': 7995.4248046875}, {'val_loss': 7995.4248046875}, {'val_loss': 7995.4248046875}, {'val_loss': 7995.4248046875}, {'val_loss': 7995.4248046875}, {'val_loss': 7995.4248046875}, {'val_loss': 7995.4248046875}]\n",
            "Epoch [20], val_loss: 7995.4248\n",
            "Epoch [40], val_loss: 7995.4248\n",
            "Epoch [60], val_loss: 7995.4248\n",
            "Epoch [80], val_loss: 7995.4248\n",
            "Epoch [100], val_loss: 7995.4248\n",
            "Epoch [120], val_loss: 7995.4248\n"
          ],
          "name": "stdout"
        },
        {
          "output_type": "stream",
          "text": [
            "Epoch [140], val_loss: 7995.4248\n",
            "Epoch [160], val_loss: 7995.4248\n",
            "Epoch [180], val_loss: 7995.4248\n",
            "Epoch [200], val_loss: 7995.4248\n",
            "Epoch [220], val_loss: 7995.4248\n",
            "Epoch [240], val_loss: 7995.4248\n",
            "Epoch [250], val_loss: 7995.4248\n",
            "[{'val_loss': 7995.4248046875}, {'val_loss': 7995.4248046875}, {'val_loss': 7995.4248046875}, {'val_loss': 7995.4248046875}, {'val_loss': 7995.4248046875}, {'val_loss': 7995.4248046875}, {'val_loss': 7995.4248046875}, {'val_loss': 7995.4248046875}, {'val_loss': 7995.4248046875}, {'val_loss': 7995.4248046875}, {'val_loss': 7995.4248046875}, {'val_loss': 7995.4248046875}, {'val_loss': 7995.4248046875}, {'val_loss': 7995.4248046875}, {'val_loss': 7995.4248046875}, {'val_loss': 7995.4248046875}, {'val_loss': 7995.4248046875}, {'val_loss': 7995.4248046875}, {'val_loss': 7995.4248046875}, {'val_loss': 7995.4248046875}, {'val_loss': 7995.4248046875}, {'val_loss': 7995.4248046875}, {'val_loss': 7995.4248046875}, {'val_loss': 7995.4248046875}, {'val_loss': 7995.4248046875}, {'val_loss': 7995.4248046875}, {'val_loss': 7995.4248046875}, {'val_loss': 7995.4248046875}, {'val_loss': 7995.4248046875}, {'val_loss': 7995.4248046875}, {'val_loss': 7995.4248046875}, {'val_loss': 7995.4248046875}, {'val_loss': 7995.4248046875}, {'val_loss': 7995.4248046875}, {'val_loss': 7995.4248046875}, {'val_loss': 7995.4248046875}, {'val_loss': 7995.4248046875}, {'val_loss': 7995.4248046875}, {'val_loss': 7995.4248046875}, {'val_loss': 7995.4248046875}, {'val_loss': 7995.4248046875}, {'val_loss': 7995.4248046875}, {'val_loss': 7995.4248046875}, {'val_loss': 7995.4248046875}, {'val_loss': 7995.4248046875}, {'val_loss': 7995.4248046875}, {'val_loss': 7995.4248046875}, {'val_loss': 7995.4248046875}, {'val_loss': 7995.4248046875}, {'val_loss': 7995.4248046875}, {'val_loss': 7995.4248046875}, {'val_loss': 7995.4248046875}, {'val_loss': 7995.4248046875}, {'val_loss': 7995.4248046875}, {'val_loss': 7995.4248046875}, {'val_loss': 7995.4248046875}, {'val_loss': 7995.4248046875}, {'val_loss': 7995.4248046875}, {'val_loss': 7995.4248046875}, {'val_loss': 7995.4248046875}, {'val_loss': 7995.4248046875}, {'val_loss': 7995.4248046875}, {'val_loss': 7995.4248046875}, {'val_loss': 7995.4248046875}, {'val_loss': 7995.4248046875}, {'val_loss': 7995.4248046875}, {'val_loss': 7995.4248046875}, {'val_loss': 7995.4248046875}, {'val_loss': 7995.4248046875}, {'val_loss': 7995.4248046875}, {'val_loss': 7995.4248046875}, {'val_loss': 7995.4248046875}, {'val_loss': 7995.4248046875}, {'val_loss': 7995.4248046875}, {'val_loss': 7995.4248046875}, {'val_loss': 7995.4248046875}, {'val_loss': 7995.4248046875}, {'val_loss': 7995.4248046875}, {'val_loss': 7995.4248046875}, {'val_loss': 7995.4248046875}, {'val_loss': 7995.4248046875}, {'val_loss': 7995.4248046875}, {'val_loss': 7995.4248046875}, {'val_loss': 7995.4248046875}, {'val_loss': 7995.4248046875}, {'val_loss': 7995.4248046875}, {'val_loss': 7995.4248046875}, {'val_loss': 7995.4248046875}, {'val_loss': 7995.4248046875}, {'val_loss': 7995.4248046875}, {'val_loss': 7995.4248046875}, {'val_loss': 7995.4248046875}, {'val_loss': 7995.4248046875}, {'val_loss': 7995.4248046875}, {'val_loss': 7995.4248046875}, {'val_loss': 7995.4248046875}, {'val_loss': 7995.4248046875}, {'val_loss': 7995.4248046875}, {'val_loss': 7995.4248046875}, {'val_loss': 7995.4248046875}, {'val_loss': 7995.4248046875}, {'val_loss': 7995.4248046875}, {'val_loss': 7995.4248046875}, {'val_loss': 7995.4248046875}, {'val_loss': 7995.4248046875}, {'val_loss': 7995.4248046875}, {'val_loss': 7995.4248046875}, {'val_loss': 7995.4248046875}, {'val_loss': 7995.4248046875}, {'val_loss': 7995.4248046875}, {'val_loss': 7995.4248046875}, {'val_loss': 7995.4248046875}, {'val_loss': 7995.4248046875}, {'val_loss': 7995.4248046875}, {'val_loss': 7995.4248046875}, {'val_loss': 7995.4248046875}, {'val_loss': 7995.4248046875}, {'val_loss': 7995.4248046875}, {'val_loss': 7995.4248046875}, {'val_loss': 7995.4248046875}, {'val_loss': 7995.4248046875}, {'val_loss': 7995.4248046875}, {'val_loss': 7995.4248046875}, {'val_loss': 7995.4248046875}, {'val_loss': 7995.4248046875}, {'val_loss': 7995.4248046875}, {'val_loss': 7995.4248046875}, {'val_loss': 7995.4248046875}, {'val_loss': 7995.4248046875}, {'val_loss': 7995.4248046875}, {'val_loss': 7995.4248046875}, {'val_loss': 7995.4248046875}, {'val_loss': 7995.4248046875}, {'val_loss': 7995.4248046875}, {'val_loss': 7995.4248046875}, {'val_loss': 7995.4248046875}, {'val_loss': 7995.4248046875}, {'val_loss': 7995.4248046875}, {'val_loss': 7995.4248046875}, {'val_loss': 7995.4248046875}, {'val_loss': 7995.4248046875}, {'val_loss': 7995.4248046875}, {'val_loss': 7995.4248046875}, {'val_loss': 7995.4248046875}, {'val_loss': 7995.4248046875}, {'val_loss': 7995.4248046875}, {'val_loss': 7995.4248046875}, {'val_loss': 7995.4248046875}, {'val_loss': 7995.4248046875}, {'val_loss': 7995.4248046875}, {'val_loss': 7995.4248046875}, {'val_loss': 7995.4248046875}, {'val_loss': 7995.4248046875}, {'val_loss': 7995.4248046875}, {'val_loss': 7995.4248046875}, {'val_loss': 7995.4248046875}, {'val_loss': 7995.4248046875}, {'val_loss': 7995.4248046875}, {'val_loss': 7995.4248046875}, {'val_loss': 7995.4248046875}, {'val_loss': 7995.4248046875}, {'val_loss': 7995.4248046875}, {'val_loss': 7995.4248046875}, {'val_loss': 7995.4248046875}, {'val_loss': 7995.4248046875}, {'val_loss': 7995.4248046875}, {'val_loss': 7995.4248046875}, {'val_loss': 7995.4248046875}, {'val_loss': 7995.4248046875}, {'val_loss': 7995.4248046875}, {'val_loss': 7995.4248046875}, {'val_loss': 7995.4248046875}, {'val_loss': 7995.4248046875}, {'val_loss': 7995.4248046875}, {'val_loss': 7995.4248046875}, {'val_loss': 7995.4248046875}, {'val_loss': 7995.4248046875}, {'val_loss': 7995.4248046875}, {'val_loss': 7995.4248046875}, {'val_loss': 7995.4248046875}, {'val_loss': 7995.4248046875}, {'val_loss': 7995.4248046875}, {'val_loss': 7995.4248046875}, {'val_loss': 7995.4248046875}, {'val_loss': 7995.4248046875}, {'val_loss': 7995.4248046875}, {'val_loss': 7995.4248046875}, {'val_loss': 7995.4248046875}, {'val_loss': 7995.4248046875}, {'val_loss': 7995.4248046875}, {'val_loss': 7995.4248046875}, {'val_loss': 7995.4248046875}, {'val_loss': 7995.4248046875}, {'val_loss': 7995.4248046875}, {'val_loss': 7995.4248046875}, {'val_loss': 7995.4248046875}, {'val_loss': 7995.4248046875}, {'val_loss': 7995.4248046875}, {'val_loss': 7995.4248046875}, {'val_loss': 7995.4248046875}, {'val_loss': 7995.4248046875}, {'val_loss': 7995.4248046875}, {'val_loss': 7995.4248046875}, {'val_loss': 7995.4248046875}, {'val_loss': 7995.4248046875}, {'val_loss': 7995.4248046875}, {'val_loss': 7995.4248046875}, {'val_loss': 7995.4248046875}, {'val_loss': 7995.4248046875}, {'val_loss': 7995.4248046875}, {'val_loss': 7995.4248046875}, {'val_loss': 7995.4248046875}, {'val_loss': 7995.4248046875}, {'val_loss': 7995.4248046875}, {'val_loss': 7995.4248046875}, {'val_loss': 7995.4248046875}, {'val_loss': 7995.4248046875}, {'val_loss': 7995.4248046875}, {'val_loss': 7995.4248046875}, {'val_loss': 7995.4248046875}, {'val_loss': 7995.4248046875}, {'val_loss': 7995.4248046875}, {'val_loss': 7995.4248046875}, {'val_loss': 7995.4248046875}, {'val_loss': 7995.4248046875}, {'val_loss': 7995.4248046875}, {'val_loss': 7995.4248046875}, {'val_loss': 7995.4248046875}, {'val_loss': 7995.4248046875}, {'val_loss': 7995.4248046875}, {'val_loss': 7995.4248046875}, {'val_loss': 7995.4248046875}, {'val_loss': 7995.4248046875}, {'val_loss': 7995.4248046875}, {'val_loss': 7995.4248046875}, {'val_loss': 7995.4248046875}, {'val_loss': 7995.4248046875}, {'val_loss': 7995.4248046875}, {'val_loss': 7995.4248046875}, {'val_loss': 7995.4248046875}, {'val_loss': 7995.4248046875}, {'val_loss': 7995.4248046875}, {'val_loss': 7995.4248046875}, {'val_loss': 7995.4248046875}, {'val_loss': 7995.4248046875}, {'val_loss': 7995.4248046875}, {'val_loss': 7995.4248046875}, {'val_loss': 7995.4248046875}, {'val_loss': 7995.4248046875}, {'val_loss': 7995.4248046875}]\n",
            "Epoch [20], val_loss: 7995.1738\n",
            "Epoch [40], val_loss: 7995.3057\n",
            "Epoch [60], val_loss: 7993.9785\n",
            "Epoch [80], val_loss: 7993.5396\n",
            "Epoch [100], val_loss: 7993.9395\n",
            "Epoch [120], val_loss: 7993.8408\n",
            "Epoch [140], val_loss: 7994.1514\n"
          ],
          "name": "stdout"
        },
        {
          "output_type": "stream",
          "text": [
            "Epoch [160], val_loss: 7993.7129\n",
            "Epoch [180], val_loss: 7993.5000\n",
            "Epoch [200], val_loss: 7993.1001\n",
            "Epoch [220], val_loss: 7992.8682\n",
            "Epoch [240], val_loss: 7992.8545\n",
            "Epoch [260], val_loss: 7992.1714\n",
            "Epoch [280], val_loss: 7992.7383\n",
            "Epoch [300], val_loss: 7991.8311\n",
            "[{'val_loss': 7995.6220703125}, {'val_loss': 7995.50390625}, {'val_loss': 7995.48828125}, {'val_loss': 7995.2705078125}, {'val_loss': 7995.138671875}, {'val_loss': 7995.1318359375}, {'val_loss': 7995.291015625}, {'val_loss': 7995.19482421875}, {'val_loss': 7994.9716796875}, {'val_loss': 7995.1240234375}, {'val_loss': 7995.1845703125}, {'val_loss': 7995.28125}, {'val_loss': 7995.158203125}, {'val_loss': 7995.07763671875}, {'val_loss': 7995.1328125}, {'val_loss': 7994.9921875}, {'val_loss': 7995.09033203125}, {'val_loss': 7995.0439453125}, {'val_loss': 7995.2353515625}, {'val_loss': 7995.173828125}, {'val_loss': 7995.435546875}, {'val_loss': 7995.44970703125}, {'val_loss': 7995.501953125}, {'val_loss': 7995.70458984375}, {'val_loss': 7995.61669921875}, {'val_loss': 7995.470703125}, {'val_loss': 7995.447265625}, {'val_loss': 7995.3515625}, {'val_loss': 7995.44921875}, {'val_loss': 7995.5185546875}, {'val_loss': 7995.4931640625}, {'val_loss': 7995.4921875}, {'val_loss': 7995.17138671875}, {'val_loss': 7994.93505859375}, {'val_loss': 7995.14111328125}, {'val_loss': 7995.4033203125}, {'val_loss': 7995.29150390625}, {'val_loss': 7995.26318359375}, {'val_loss': 7995.33203125}, {'val_loss': 7995.3056640625}, {'val_loss': 7995.3134765625}, {'val_loss': 7995.1591796875}, {'val_loss': 7995.1416015625}, {'val_loss': 7995.2099609375}, {'val_loss': 7995.2470703125}, {'val_loss': 7995.1767578125}, {'val_loss': 7995.13134765625}, {'val_loss': 7995.0927734375}, {'val_loss': 7994.72509765625}, {'val_loss': 7994.50732421875}, {'val_loss': 7994.5498046875}, {'val_loss': 7994.45556640625}, {'val_loss': 7994.4169921875}, {'val_loss': 7994.43603515625}, {'val_loss': 7994.2783203125}, {'val_loss': 7994.11083984375}, {'val_loss': 7993.798828125}, {'val_loss': 7993.744140625}, {'val_loss': 7993.9794921875}, {'val_loss': 7993.978515625}, {'val_loss': 7994.07568359375}, {'val_loss': 7993.96923828125}, {'val_loss': 7993.81201171875}, {'val_loss': 7993.8232421875}, {'val_loss': 7993.7724609375}, {'val_loss': 7993.89111328125}, {'val_loss': 7993.7998046875}, {'val_loss': 7993.9326171875}, {'val_loss': 7994.0693359375}, {'val_loss': 7993.9296875}, {'val_loss': 7993.99267578125}, {'val_loss': 7994.00048828125}, {'val_loss': 7993.83203125}, {'val_loss': 7993.7265625}, {'val_loss': 7993.6806640625}, {'val_loss': 7993.869140625}, {'val_loss': 7994.01171875}, {'val_loss': 7993.95654296875}, {'val_loss': 7993.7255859375}, {'val_loss': 7993.53955078125}, {'val_loss': 7993.4443359375}, {'val_loss': 7993.419921875}, {'val_loss': 7993.56298828125}, {'val_loss': 7993.4462890625}, {'val_loss': 7993.58984375}, {'val_loss': 7993.6162109375}, {'val_loss': 7993.400390625}, {'val_loss': 7993.3466796875}, {'val_loss': 7993.40869140625}, {'val_loss': 7993.5205078125}, {'val_loss': 7993.44140625}, {'val_loss': 7993.376953125}, {'val_loss': 7993.482421875}, {'val_loss': 7993.6845703125}, {'val_loss': 7993.5595703125}, {'val_loss': 7993.3505859375}, {'val_loss': 7993.52099609375}, {'val_loss': 7993.52978515625}, {'val_loss': 7993.724609375}, {'val_loss': 7993.939453125}, {'val_loss': 7993.7646484375}, {'val_loss': 7993.6943359375}, {'val_loss': 7993.3359375}, {'val_loss': 7993.1611328125}, {'val_loss': 7993.30126953125}, {'val_loss': 7993.7353515625}, {'val_loss': 7993.4599609375}, {'val_loss': 7993.12890625}, {'val_loss': 7993.345703125}, {'val_loss': 7993.4873046875}, {'val_loss': 7992.9716796875}, {'val_loss': 7992.857421875}, {'val_loss': 7992.93798828125}, {'val_loss': 7993.328125}, {'val_loss': 7993.3994140625}, {'val_loss': 7993.32470703125}, {'val_loss': 7993.4189453125}, {'val_loss': 7993.44189453125}, {'val_loss': 7993.7470703125}, {'val_loss': 7993.8408203125}, {'val_loss': 7994.1826171875}, {'val_loss': 7994.1298828125}, {'val_loss': 7993.994140625}, {'val_loss': 7994.2158203125}, {'val_loss': 7994.19921875}, {'val_loss': 7994.3388671875}, {'val_loss': 7994.23046875}, {'val_loss': 7994.1494140625}, {'val_loss': 7994.158203125}, {'val_loss': 7994.2890625}, {'val_loss': 7994.2314453125}, {'val_loss': 7994.1953125}, {'val_loss': 7994.11328125}, {'val_loss': 7994.3525390625}, {'val_loss': 7994.42919921875}, {'val_loss': 7994.25830078125}, {'val_loss': 7994.3974609375}, {'val_loss': 7994.22509765625}, {'val_loss': 7994.02490234375}, {'val_loss': 7994.1513671875}, {'val_loss': 7994.25537109375}, {'val_loss': 7994.201171875}, {'val_loss': 7993.9248046875}, {'val_loss': 7993.9111328125}, {'val_loss': 7994.02294921875}, {'val_loss': 7993.9638671875}, {'val_loss': 7994.29638671875}, {'val_loss': 7994.5302734375}, {'val_loss': 7994.52734375}, {'val_loss': 7994.82275390625}, {'val_loss': 7994.41259765625}, {'val_loss': 7994.130859375}, {'val_loss': 7994.09375}, {'val_loss': 7994.20361328125}, {'val_loss': 7994.17919921875}, {'val_loss': 7994.328125}, {'val_loss': 7994.13671875}, {'val_loss': 7994.20166015625}, {'val_loss': 7994.044921875}, {'val_loss': 7993.712890625}, {'val_loss': 7993.43798828125}, {'val_loss': 7993.4892578125}, {'val_loss': 7993.4072265625}, {'val_loss': 7993.4833984375}, {'val_loss': 7993.5673828125}, {'val_loss': 7993.61572265625}, {'val_loss': 7993.69140625}, {'val_loss': 7993.5791015625}, {'val_loss': 7993.818359375}, {'val_loss': 7993.916015625}, {'val_loss': 7993.6533203125}, {'val_loss': 7993.84375}, {'val_loss': 7994.171875}, {'val_loss': 7994.07080078125}, {'val_loss': 7993.99609375}, {'val_loss': 7993.66015625}, {'val_loss': 7993.251953125}, {'val_loss': 7993.19140625}, {'val_loss': 7993.1025390625}, {'val_loss': 7993.5}, {'val_loss': 7993.412109375}, {'val_loss': 7993.755859375}, {'val_loss': 7993.640625}, {'val_loss': 7993.4287109375}, {'val_loss': 7993.3544921875}, {'val_loss': 7993.0595703125}, {'val_loss': 7993.1650390625}, {'val_loss': 7993.0791015625}, {'val_loss': 7993.55859375}, {'val_loss': 7993.73828125}, {'val_loss': 7993.83154296875}, {'val_loss': 7993.744140625}, {'val_loss': 7993.50146484375}, {'val_loss': 7993.63623046875}, {'val_loss': 7993.4775390625}, {'val_loss': 7993.26318359375}, {'val_loss': 7993.32177734375}, {'val_loss': 7993.314453125}, {'val_loss': 7993.201171875}, {'val_loss': 7993.10009765625}, {'val_loss': 7993.306640625}, {'val_loss': 7993.134765625}, {'val_loss': 7993.1298828125}, {'val_loss': 7992.994140625}, {'val_loss': 7993.1201171875}, {'val_loss': 7993.076171875}, {'val_loss': 7993.083984375}, {'val_loss': 7993.48046875}, {'val_loss': 7993.40283203125}, {'val_loss': 7993.23583984375}, {'val_loss': 7993.3798828125}, {'val_loss': 7993.18798828125}, {'val_loss': 7992.5654296875}, {'val_loss': 7992.55810546875}, {'val_loss': 7992.58984375}, {'val_loss': 7992.6669921875}, {'val_loss': 7992.6689453125}, {'val_loss': 7992.5576171875}, {'val_loss': 7992.763671875}, {'val_loss': 7992.8681640625}, {'val_loss': 7992.7568359375}, {'val_loss': 7992.927734375}, {'val_loss': 7992.9990234375}, {'val_loss': 7992.736328125}, {'val_loss': 7993.0556640625}, {'val_loss': 7993.25}, {'val_loss': 7993.3916015625}, {'val_loss': 7993.47265625}, {'val_loss': 7993.2431640625}, {'val_loss': 7992.94921875}, {'val_loss': 7992.9951171875}, {'val_loss': 7993.0380859375}, {'val_loss': 7992.99462890625}, {'val_loss': 7992.94580078125}, {'val_loss': 7993.2021484375}, {'val_loss': 7992.9677734375}, {'val_loss': 7992.75}, {'val_loss': 7992.8466796875}, {'val_loss': 7992.82080078125}, {'val_loss': 7992.8544921875}, {'val_loss': 7992.884765625}, {'val_loss': 7992.9453125}, {'val_loss': 7992.7978515625}, {'val_loss': 7993.0068359375}, {'val_loss': 7993.2197265625}, {'val_loss': 7993.033203125}, {'val_loss': 7993.0986328125}, {'val_loss': 7993.0078125}, {'val_loss': 7992.95556640625}, {'val_loss': 7992.8359375}, {'val_loss': 7992.771484375}, {'val_loss': 7992.7080078125}, {'val_loss': 7992.431640625}, {'val_loss': 7992.32080078125}, {'val_loss': 7992.357421875}, {'val_loss': 7991.93359375}, {'val_loss': 7992.0830078125}, {'val_loss': 7992.16259765625}, {'val_loss': 7992.009765625}, {'val_loss': 7992.17138671875}, {'val_loss': 7992.169921875}, {'val_loss': 7992.0322265625}, {'val_loss': 7991.9658203125}, {'val_loss': 7992.107421875}, {'val_loss': 7991.93603515625}, {'val_loss': 7992.1064453125}, {'val_loss': 7991.7763671875}, {'val_loss': 7991.92431640625}, {'val_loss': 7991.9716796875}, {'val_loss': 7992.2373046875}, {'val_loss': 7992.37109375}, {'val_loss': 7992.38720703125}, {'val_loss': 7992.41064453125}, {'val_loss': 7992.5458984375}, {'val_loss': 7992.76220703125}, {'val_loss': 7992.5517578125}, {'val_loss': 7992.548828125}, {'val_loss': 7992.71630859375}, {'val_loss': 7992.68212890625}, {'val_loss': 7992.73828125}, {'val_loss': 7992.5517578125}, {'val_loss': 7992.86767578125}, {'val_loss': 7992.6357421875}, {'val_loss': 7992.86962890625}, {'val_loss': 7992.96240234375}, {'val_loss': 7992.767578125}, {'val_loss': 7992.7548828125}, {'val_loss': 7992.64990234375}, {'val_loss': 7992.46875}, {'val_loss': 7992.66796875}, {'val_loss': 7992.6318359375}, {'val_loss': 7992.5947265625}, {'val_loss': 7992.2587890625}, {'val_loss': 7992.015625}, {'val_loss': 7991.7763671875}, {'val_loss': 7991.619140625}, {'val_loss': 7991.927734375}, {'val_loss': 7991.833984375}, {'val_loss': 7991.83740234375}, {'val_loss': 7991.8310546875}]\n"
          ],
          "name": "stdout"
        },
        {
          "output_type": "stream",
          "text": [
            "Epoch [20], val_loss: 7991.9785\n",
            "Epoch [40], val_loss: 7992.1484\n",
            "Epoch [60], val_loss: 7992.1567\n",
            "Epoch [80], val_loss: 7992.2070\n",
            "Epoch [100], val_loss: 7992.3662\n",
            "Epoch [120], val_loss: 7992.2979\n",
            "Epoch [140], val_loss: 7992.3008\n",
            "Epoch [160], val_loss: 7992.3350\n",
            "Epoch [180], val_loss: 7992.2788\n",
            "Epoch [200], val_loss: 7992.3232\n",
            "Epoch [220], val_loss: 7992.2188\n",
            "Epoch [240], val_loss: 7992.1958\n",
            "Epoch [260], val_loss: 7992.1230\n",
            "Epoch [280], val_loss: 7992.0957\n",
            "Epoch [300], val_loss: 7992.0107\n",
            "[{'val_loss': 7991.84912109375}, {'val_loss': 7991.87158203125}, {'val_loss': 7991.890625}, {'val_loss': 7991.8740234375}, {'val_loss': 7991.88720703125}, {'val_loss': 7991.8671875}, {'val_loss': 7991.8642578125}, {'val_loss': 7991.869140625}, {'val_loss': 7991.8818359375}, {'val_loss': 7991.87744140625}, {'val_loss': 7991.89111328125}, {'val_loss': 7991.9326171875}, {'val_loss': 7991.931640625}, {'val_loss': 7991.9384765625}, {'val_loss': 7991.955078125}, {'val_loss': 7991.966796875}, {'val_loss': 7991.9755859375}, {'val_loss': 7991.9755859375}, {'val_loss': 7991.9794921875}, {'val_loss': 7991.978515625}, {'val_loss': 7991.9736328125}, {'val_loss': 7991.966796875}, {'val_loss': 7991.97265625}, {'val_loss': 7991.9794921875}, {'val_loss': 7991.99609375}, {'val_loss': 7992.033203125}, {'val_loss': 7992.0537109375}, {'val_loss': 7992.06640625}, {'val_loss': 7992.0927734375}, {'val_loss': 7992.11865234375}, {'val_loss': 7992.123046875}, {'val_loss': 7992.1474609375}, {'val_loss': 7992.18359375}, {'val_loss': 7992.2060546875}, {'val_loss': 7992.1650390625}, {'val_loss': 7992.17333984375}, {'val_loss': 7992.1943359375}, {'val_loss': 7992.1728515625}, {'val_loss': 7992.16162109375}, {'val_loss': 7992.1484375}, {'val_loss': 7992.158203125}, {'val_loss': 7992.142578125}, {'val_loss': 7992.115234375}, {'val_loss': 7992.1201171875}, {'val_loss': 7992.1279296875}, {'val_loss': 7992.1123046875}, {'val_loss': 7992.1005859375}, {'val_loss': 7992.09228515625}, {'val_loss': 7992.1259765625}, {'val_loss': 7992.1142578125}, {'val_loss': 7992.1201171875}, {'val_loss': 7992.1162109375}, {'val_loss': 7992.1201171875}, {'val_loss': 7992.115234375}, {'val_loss': 7992.111328125}, {'val_loss': 7992.1435546875}, {'val_loss': 7992.14697265625}, {'val_loss': 7992.13671875}, {'val_loss': 7992.1484375}, {'val_loss': 7992.15673828125}, {'val_loss': 7992.150390625}, {'val_loss': 7992.1728515625}, {'val_loss': 7992.17431640625}, {'val_loss': 7992.1875}, {'val_loss': 7992.1923828125}, {'val_loss': 7992.19580078125}, {'val_loss': 7992.216796875}, {'val_loss': 7992.21484375}, {'val_loss': 7992.18994140625}, {'val_loss': 7992.21533203125}, {'val_loss': 7992.23046875}, {'val_loss': 7992.23486328125}, {'val_loss': 7992.21875}, {'val_loss': 7992.22607421875}, {'val_loss': 7992.21435546875}, {'val_loss': 7992.20458984375}, {'val_loss': 7992.18896484375}, {'val_loss': 7992.185546875}, {'val_loss': 7992.19482421875}, {'val_loss': 7992.20703125}, {'val_loss': 7992.2265625}, {'val_loss': 7992.240234375}, {'val_loss': 7992.2392578125}, {'val_loss': 7992.244140625}, {'val_loss': 7992.25390625}, {'val_loss': 7992.2587890625}, {'val_loss': 7992.28857421875}, {'val_loss': 7992.2998046875}, {'val_loss': 7992.310546875}, {'val_loss': 7992.2841796875}, {'val_loss': 7992.30078125}, {'val_loss': 7992.32763671875}, {'val_loss': 7992.345703125}, {'val_loss': 7992.3515625}, {'val_loss': 7992.3447265625}, {'val_loss': 7992.3505859375}, {'val_loss': 7992.310546875}, {'val_loss': 7992.322265625}, {'val_loss': 7992.34228515625}, {'val_loss': 7992.3662109375}, {'val_loss': 7992.337890625}, {'val_loss': 7992.3271484375}, {'val_loss': 7992.3203125}, {'val_loss': 7992.3173828125}, {'val_loss': 7992.3056640625}, {'val_loss': 7992.330078125}, {'val_loss': 7992.31884765625}, {'val_loss': 7992.34228515625}, {'val_loss': 7992.326171875}, {'val_loss': 7992.3603515625}, {'val_loss': 7992.357421875}, {'val_loss': 7992.35009765625}, {'val_loss': 7992.33642578125}, {'val_loss': 7992.3193359375}, {'val_loss': 7992.3154296875}, {'val_loss': 7992.3017578125}, {'val_loss': 7992.3154296875}, {'val_loss': 7992.30419921875}, {'val_loss': 7992.3115234375}, {'val_loss': 7992.2978515625}, {'val_loss': 7992.28759765625}, {'val_loss': 7992.2685546875}, {'val_loss': 7992.28564453125}, {'val_loss': 7992.29345703125}, {'val_loss': 7992.28955078125}, {'val_loss': 7992.3125}, {'val_loss': 7992.30517578125}, {'val_loss': 7992.28857421875}, {'val_loss': 7992.29638671875}, {'val_loss': 7992.298828125}, {'val_loss': 7992.291015625}, {'val_loss': 7992.3125}, {'val_loss': 7992.296875}, {'val_loss': 7992.31298828125}, {'val_loss': 7992.33349609375}, {'val_loss': 7992.3369140625}, {'val_loss': 7992.3232421875}, {'val_loss': 7992.326171875}, {'val_loss': 7992.31982421875}, {'val_loss': 7992.30078125}, {'val_loss': 7992.3134765625}, {'val_loss': 7992.32373046875}, {'val_loss': 7992.33935546875}, {'val_loss': 7992.33935546875}, {'val_loss': 7992.361328125}, {'val_loss': 7992.376953125}, {'val_loss': 7992.3984375}, {'val_loss': 7992.3916015625}, {'val_loss': 7992.4169921875}, {'val_loss': 7992.427734375}, {'val_loss': 7992.35888671875}, {'val_loss': 7992.375}, {'val_loss': 7992.3828125}, {'val_loss': 7992.400390625}, {'val_loss': 7992.4052734375}, {'val_loss': 7992.37109375}, {'val_loss': 7992.37109375}, {'val_loss': 7992.3876953125}, {'val_loss': 7992.390625}, {'val_loss': 7992.3349609375}, {'val_loss': 7992.3173828125}, {'val_loss': 7992.2998046875}, {'val_loss': 7992.2734375}, {'val_loss': 7992.27734375}, {'val_loss': 7992.251953125}, {'val_loss': 7992.2548828125}, {'val_loss': 7992.244140625}, {'val_loss': 7992.2421875}, {'val_loss': 7992.2333984375}, {'val_loss': 7992.2255859375}, {'val_loss': 7992.22265625}, {'val_loss': 7992.2373046875}, {'val_loss': 7992.27197265625}, {'val_loss': 7992.291015625}, {'val_loss': 7992.26123046875}, {'val_loss': 7992.27734375}, {'val_loss': 7992.27734375}, {'val_loss': 7992.27587890625}, {'val_loss': 7992.26806640625}, {'val_loss': 7992.27880859375}, {'val_loss': 7992.28857421875}, {'val_loss': 7992.2734375}, {'val_loss': 7992.2802734375}, {'val_loss': 7992.2880859375}, {'val_loss': 7992.29443359375}, {'val_loss': 7992.27783203125}, {'val_loss': 7992.296875}, {'val_loss': 7992.3046875}, {'val_loss': 7992.3359375}, {'val_loss': 7992.3505859375}, {'val_loss': 7992.33203125}, {'val_loss': 7992.3623046875}, {'val_loss': 7992.3828125}, {'val_loss': 7992.3916015625}, {'val_loss': 7992.37060546875}, {'val_loss': 7992.35546875}, {'val_loss': 7992.34375}, {'val_loss': 7992.35595703125}, {'val_loss': 7992.33984375}, {'val_loss': 7992.3232421875}, {'val_loss': 7992.2978515625}, {'val_loss': 7992.294921875}, {'val_loss': 7992.2685546875}, {'val_loss': 7992.25341796875}, {'val_loss': 7992.2587890625}, {'val_loss': 7992.21533203125}, {'val_loss': 7992.24560546875}, {'val_loss': 7992.22119140625}, {'val_loss': 7992.26171875}, {'val_loss': 7992.240234375}, {'val_loss': 7992.2294921875}, {'val_loss': 7992.2412109375}, {'val_loss': 7992.2216796875}, {'val_loss': 7992.2216796875}, {'val_loss': 7992.2353515625}, {'val_loss': 7992.21142578125}, {'val_loss': 7992.20263671875}, {'val_loss': 7992.2236328125}, {'val_loss': 7992.240234375}, {'val_loss': 7992.21875}, {'val_loss': 7992.23974609375}, {'val_loss': 7992.2216796875}, {'val_loss': 7992.2275390625}, {'val_loss': 7992.21630859375}, {'val_loss': 7992.2353515625}, {'val_loss': 7992.22216796875}, {'val_loss': 7992.2333984375}, {'val_loss': 7992.2607421875}, {'val_loss': 7992.255859375}, {'val_loss': 7992.25341796875}, {'val_loss': 7992.24072265625}, {'val_loss': 7992.2158203125}, {'val_loss': 7992.2138671875}, {'val_loss': 7992.2119140625}, {'val_loss': 7992.193359375}, {'val_loss': 7992.2001953125}, {'val_loss': 7992.1640625}, {'val_loss': 7992.1552734375}, {'val_loss': 7992.1962890625}, {'val_loss': 7992.19580078125}, {'val_loss': 7992.2021484375}, {'val_loss': 7992.20458984375}, {'val_loss': 7992.1953125}, {'val_loss': 7992.185546875}, {'val_loss': 7992.158203125}, {'val_loss': 7992.15283203125}, {'val_loss': 7992.1328125}, {'val_loss': 7992.1201171875}, {'val_loss': 7992.12939453125}, {'val_loss': 7992.1611328125}, {'val_loss': 7992.1513671875}, {'val_loss': 7992.1533203125}, {'val_loss': 7992.15087890625}, {'val_loss': 7992.13671875}, {'val_loss': 7992.12158203125}, {'val_loss': 7992.1064453125}, {'val_loss': 7992.1142578125}, {'val_loss': 7992.08203125}, {'val_loss': 7992.115234375}, {'val_loss': 7992.123046875}, {'val_loss': 7992.12548828125}, {'val_loss': 7992.1416015625}, {'val_loss': 7992.15625}, {'val_loss': 7992.1484375}, {'val_loss': 7992.1494140625}, {'val_loss': 7992.15625}, {'val_loss': 7992.14892578125}, {'val_loss': 7992.150390625}, {'val_loss': 7992.1494140625}, {'val_loss': 7992.1416015625}, {'val_loss': 7992.150390625}, {'val_loss': 7992.1552734375}, {'val_loss': 7992.18359375}, {'val_loss': 7992.19384765625}, {'val_loss': 7992.2001953125}, {'val_loss': 7992.171875}, {'val_loss': 7992.13427734375}, {'val_loss': 7992.1220703125}, {'val_loss': 7992.1005859375}, {'val_loss': 7992.095703125}, {'val_loss': 7992.068359375}, {'val_loss': 7992.10205078125}, {'val_loss': 7992.0986328125}, {'val_loss': 7992.0693359375}, {'val_loss': 7992.056640625}, {'val_loss': 7992.06103515625}, {'val_loss': 7992.05712890625}, {'val_loss': 7992.05908203125}, {'val_loss': 7992.0576171875}, {'val_loss': 7992.033203125}, {'val_loss': 7992.0322265625}, {'val_loss': 7992.0390625}, {'val_loss': 7992.0595703125}, {'val_loss': 7992.04541015625}, {'val_loss': 7992.044921875}, {'val_loss': 7992.0556640625}, {'val_loss': 7992.02099609375}, {'val_loss': 7992.00390625}, {'val_loss': 7992.01806640625}, {'val_loss': 7992.0107421875}]\n"
          ],
          "name": "stdout"
        },
        {
          "output_type": "stream",
          "text": [
            "Epoch [20], val_loss: 7992.0186\n",
            "Epoch [40], val_loss: 7992.0161\n",
            "Epoch [60], val_loss: 7992.0117\n",
            "Epoch [80], val_loss: 7992.0117\n",
            "Epoch [100], val_loss: 7992.0107\n",
            "Epoch [120], val_loss: 7992.0098\n",
            "Epoch [140], val_loss: 7992.0127\n",
            "Epoch [160], val_loss: 7992.0078\n",
            "Epoch [180], val_loss: 7992.0049\n",
            "Epoch [200], val_loss: 7992.0107\n",
            "Epoch [220], val_loss: 7992.0117\n",
            "Epoch [240], val_loss: 7992.0117\n",
            "Epoch [260], val_loss: 7992.0010\n",
            "Epoch [280], val_loss: 7992.0034\n",
            "Epoch [300], val_loss: 7991.9907\n",
            "[{'val_loss': 7992.009765625}, {'val_loss': 7992.009765625}, {'val_loss': 7992.0087890625}, {'val_loss': 7992.009765625}, {'val_loss': 7992.00927734375}, {'val_loss': 7992.01220703125}, {'val_loss': 7992.009765625}, {'val_loss': 7992.00830078125}, {'val_loss': 7992.009765625}, {'val_loss': 7992.01171875}, {'val_loss': 7992.01171875}, {'val_loss': 7992.0146484375}, {'val_loss': 7992.015625}, {'val_loss': 7992.0166015625}, {'val_loss': 7992.01806640625}, {'val_loss': 7992.0166015625}, {'val_loss': 7992.01806640625}, {'val_loss': 7992.01904296875}, {'val_loss': 7992.0185546875}, {'val_loss': 7992.0185546875}, {'val_loss': 7992.017578125}, {'val_loss': 7992.0166015625}, {'val_loss': 7992.017578125}, {'val_loss': 7992.017578125}, {'val_loss': 7992.0185546875}, {'val_loss': 7992.01904296875}, {'val_loss': 7992.0166015625}, {'val_loss': 7992.015625}, {'val_loss': 7992.013671875}, {'val_loss': 7992.0146484375}, {'val_loss': 7992.013671875}, {'val_loss': 7992.0126953125}, {'val_loss': 7992.0146484375}, {'val_loss': 7992.0146484375}, {'val_loss': 7992.0166015625}, {'val_loss': 7992.0166015625}, {'val_loss': 7992.01611328125}, {'val_loss': 7992.0166015625}, {'val_loss': 7992.017578125}, {'val_loss': 7992.01611328125}, {'val_loss': 7992.0146484375}, {'val_loss': 7992.015625}, {'val_loss': 7992.01806640625}, {'val_loss': 7992.0166015625}, {'val_loss': 7992.0166015625}, {'val_loss': 7992.0166015625}, {'val_loss': 7992.0166015625}, {'val_loss': 7992.015625}, {'val_loss': 7992.01171875}, {'val_loss': 7992.00927734375}, {'val_loss': 7992.0107421875}, {'val_loss': 7992.01513671875}, {'val_loss': 7992.013671875}, {'val_loss': 7992.0126953125}, {'val_loss': 7992.01416015625}, {'val_loss': 7992.0126953125}, {'val_loss': 7992.009765625}, {'val_loss': 7992.0126953125}, {'val_loss': 7992.0126953125}, {'val_loss': 7992.01171875}, {'val_loss': 7992.0146484375}, {'val_loss': 7992.0146484375}, {'val_loss': 7992.01171875}, {'val_loss': 7992.01220703125}, {'val_loss': 7992.01171875}, {'val_loss': 7992.0126953125}, {'val_loss': 7992.013671875}, {'val_loss': 7992.01611328125}, {'val_loss': 7992.0126953125}, {'val_loss': 7992.0107421875}, {'val_loss': 7992.009765625}, {'val_loss': 7992.01171875}, {'val_loss': 7992.0107421875}, {'val_loss': 7992.009765625}, {'val_loss': 7992.00830078125}, {'val_loss': 7992.009765625}, {'val_loss': 7992.0087890625}, {'val_loss': 7992.009765625}, {'val_loss': 7992.01171875}, {'val_loss': 7992.01171875}, {'val_loss': 7992.0107421875}, {'val_loss': 7992.01416015625}, {'val_loss': 7992.01220703125}, {'val_loss': 7992.0107421875}, {'val_loss': 7992.0068359375}, {'val_loss': 7992.0087890625}, {'val_loss': 7992.0078125}, {'val_loss': 7992.0078125}, {'val_loss': 7992.01171875}, {'val_loss': 7992.00927734375}, {'val_loss': 7992.009765625}, {'val_loss': 7992.009765625}, {'val_loss': 7992.009765625}, {'val_loss': 7992.009765625}, {'val_loss': 7992.00732421875}, {'val_loss': 7992.0068359375}, {'val_loss': 7992.0078125}, {'val_loss': 7992.009765625}, {'val_loss': 7992.00927734375}, {'val_loss': 7992.0107421875}, {'val_loss': 7992.01416015625}, {'val_loss': 7992.013671875}, {'val_loss': 7992.0166015625}, {'val_loss': 7992.0146484375}, {'val_loss': 7992.0166015625}, {'val_loss': 7992.017578125}, {'val_loss': 7992.0166015625}, {'val_loss': 7992.0185546875}, {'val_loss': 7992.01806640625}, {'val_loss': 7992.0185546875}, {'val_loss': 7992.01708984375}, {'val_loss': 7992.017578125}, {'val_loss': 7992.015625}, {'val_loss': 7992.0166015625}, {'val_loss': 7992.0166015625}, {'val_loss': 7992.0146484375}, {'val_loss': 7992.013671875}, {'val_loss': 7992.01025390625}, {'val_loss': 7992.0107421875}, {'val_loss': 7992.009765625}, {'val_loss': 7992.0087890625}, {'val_loss': 7992.009765625}, {'val_loss': 7992.0107421875}, {'val_loss': 7992.0087890625}, {'val_loss': 7992.0078125}, {'val_loss': 7992.00634765625}, {'val_loss': 7992.0068359375}, {'val_loss': 7992.00634765625}, {'val_loss': 7992.01025390625}, {'val_loss': 7992.0126953125}, {'val_loss': 7992.01220703125}, {'val_loss': 7992.0126953125}, {'val_loss': 7992.01513671875}, {'val_loss': 7992.01318359375}, {'val_loss': 7992.0146484375}, {'val_loss': 7992.013671875}, {'val_loss': 7992.0126953125}, {'val_loss': 7992.01171875}, {'val_loss': 7992.009765625}, {'val_loss': 7992.0126953125}, {'val_loss': 7992.01171875}, {'val_loss': 7992.0078125}, {'val_loss': 7992.00732421875}, {'val_loss': 7992.00732421875}, {'val_loss': 7992.0078125}, {'val_loss': 7992.0107421875}, {'val_loss': 7992.01123046875}, {'val_loss': 7992.01171875}, {'val_loss': 7992.00830078125}, {'val_loss': 7992.005859375}, {'val_loss': 7992.0048828125}, {'val_loss': 7992.005859375}, {'val_loss': 7992.0068359375}, {'val_loss': 7992.009765625}, {'val_loss': 7992.00927734375}, {'val_loss': 7992.0078125}, {'val_loss': 7992.0078125}, {'val_loss': 7992.0068359375}, {'val_loss': 7992.0078125}, {'val_loss': 7992.0078125}, {'val_loss': 7992.0078125}, {'val_loss': 7992.0087890625}, {'val_loss': 7992.0087890625}, {'val_loss': 7992.01123046875}, {'val_loss': 7992.0087890625}, {'val_loss': 7992.0068359375}, {'val_loss': 7992.005859375}, {'val_loss': 7992.0048828125}, {'val_loss': 7992.00439453125}, {'val_loss': 7992.00439453125}, {'val_loss': 7992.0048828125}, {'val_loss': 7992.0048828125}, {'val_loss': 7992.0048828125}, {'val_loss': 7992.0029296875}, {'val_loss': 7992.001953125}, {'val_loss': 7992.00244140625}, {'val_loss': 7992.00244140625}, {'val_loss': 7992.0029296875}, {'val_loss': 7992.005859375}, {'val_loss': 7992.0048828125}, {'val_loss': 7992.005859375}, {'val_loss': 7992.0048828125}, {'val_loss': 7992.0048828125}, {'val_loss': 7992.0068359375}, {'val_loss': 7992.00927734375}, {'val_loss': 7992.0078125}, {'val_loss': 7992.00830078125}, {'val_loss': 7992.00830078125}, {'val_loss': 7992.00634765625}, {'val_loss': 7992.00537109375}, {'val_loss': 7992.005859375}, {'val_loss': 7992.00390625}, {'val_loss': 7992.0048828125}, {'val_loss': 7992.00390625}, {'val_loss': 7992.0048828125}, {'val_loss': 7992.00537109375}, {'val_loss': 7992.00537109375}, {'val_loss': 7992.00732421875}, {'val_loss': 7992.0107421875}, {'val_loss': 7992.0107421875}, {'val_loss': 7992.01318359375}, {'val_loss': 7992.01171875}, {'val_loss': 7992.013671875}, {'val_loss': 7992.013671875}, {'val_loss': 7992.01318359375}, {'val_loss': 7992.0146484375}, {'val_loss': 7992.0146484375}, {'val_loss': 7992.013671875}, {'val_loss': 7992.017578125}, {'val_loss': 7992.01904296875}, {'val_loss': 7992.0166015625}, {'val_loss': 7992.0146484375}, {'val_loss': 7992.009765625}, {'val_loss': 7992.01025390625}, {'val_loss': 7992.0126953125}, {'val_loss': 7992.0126953125}, {'val_loss': 7992.0126953125}, {'val_loss': 7992.009765625}, {'val_loss': 7992.01171875}, {'val_loss': 7992.01171875}, {'val_loss': 7992.01220703125}, {'val_loss': 7992.015625}, {'val_loss': 7992.0146484375}, {'val_loss': 7992.015625}, {'val_loss': 7992.0126953125}, {'val_loss': 7992.01025390625}, {'val_loss': 7992.0146484375}, {'val_loss': 7992.0146484375}, {'val_loss': 7992.013671875}, {'val_loss': 7992.01611328125}, {'val_loss': 7992.015625}, {'val_loss': 7992.017578125}, {'val_loss': 7992.01611328125}, {'val_loss': 7992.013671875}, {'val_loss': 7992.0166015625}, {'val_loss': 7992.01416015625}, {'val_loss': 7992.0126953125}, {'val_loss': 7992.01171875}, {'val_loss': 7992.01171875}, {'val_loss': 7992.01171875}, {'val_loss': 7992.009765625}, {'val_loss': 7992.00634765625}, {'val_loss': 7992.0068359375}, {'val_loss': 7992.00439453125}, {'val_loss': 7992.0068359375}, {'val_loss': 7992.0068359375}, {'val_loss': 7992.005859375}, {'val_loss': 7992.0068359375}, {'val_loss': 7992.0068359375}, {'val_loss': 7992.0068359375}, {'val_loss': 7992.0078125}, {'val_loss': 7992.0107421875}, {'val_loss': 7992.01123046875}, {'val_loss': 7992.0078125}, {'val_loss': 7992.0078125}, {'val_loss': 7992.0078125}, {'val_loss': 7992.009765625}, {'val_loss': 7992.005859375}, {'val_loss': 7992.00244140625}, {'val_loss': 7992.0009765625}, {'val_loss': 7992.001953125}, {'val_loss': 7992.001953125}, {'val_loss': 7992.0009765625}, {'val_loss': 7992.0009765625}, {'val_loss': 7992.0029296875}, {'val_loss': 7992.00390625}, {'val_loss': 7992.00634765625}, {'val_loss': 7992.009765625}, {'val_loss': 7992.0078125}, {'val_loss': 7992.009765625}, {'val_loss': 7992.0126953125}, {'val_loss': 7992.00830078125}, {'val_loss': 7992.0068359375}, {'val_loss': 7992.005859375}, {'val_loss': 7992.005859375}, {'val_loss': 7992.00390625}, {'val_loss': 7992.00439453125}, {'val_loss': 7992.0048828125}, {'val_loss': 7992.0029296875}, {'val_loss': 7992.00341796875}, {'val_loss': 7992.0}, {'val_loss': 7992.00048828125}, {'val_loss': 7992.00048828125}, {'val_loss': 7991.9990234375}, {'val_loss': 7991.9970703125}, {'val_loss': 7991.9990234375}, {'val_loss': 7991.99609375}, {'val_loss': 7991.9951171875}, {'val_loss': 7991.994140625}, {'val_loss': 7991.9912109375}, {'val_loss': 7991.99169921875}, {'val_loss': 7991.99169921875}, {'val_loss': 7991.9912109375}, {'val_loss': 7991.98974609375}, {'val_loss': 7991.9931640625}, {'val_loss': 7991.9931640625}, {'val_loss': 7991.9921875}, {'val_loss': 7991.994140625}, {'val_loss': 7991.99365234375}, {'val_loss': 7991.99072265625}]\n"
          ],
          "name": "stdout"
        },
        {
          "output_type": "stream",
          "text": [
            "Epoch [20], val_loss: 7991.9902\n",
            "Epoch [40], val_loss: 7991.9907\n",
            "Epoch [60], val_loss: 7991.9907\n",
            "Epoch [80], val_loss: 7991.9902\n",
            "Epoch [100], val_loss: 7991.9893\n",
            "Epoch [120], val_loss: 7991.9902\n",
            "Epoch [140], val_loss: 7991.9888\n",
            "Epoch [160], val_loss: 7991.9893\n",
            "Epoch [180], val_loss: 7991.9902\n",
            "Epoch [200], val_loss: 7991.9883\n",
            "Epoch [220], val_loss: 7991.9858\n",
            "Epoch [240], val_loss: 7991.9863\n",
            "Epoch [260], val_loss: 7991.9844\n",
            "Epoch [280], val_loss: 7991.9854\n",
            "Epoch [300], val_loss: 7991.9854\n",
            "[{'val_loss': 7991.99169921875}, {'val_loss': 7991.9921875}, {'val_loss': 7991.99169921875}, {'val_loss': 7991.990234375}, {'val_loss': 7991.990234375}, {'val_loss': 7991.990234375}, {'val_loss': 7991.990234375}, {'val_loss': 7991.990234375}, {'val_loss': 7991.990234375}, {'val_loss': 7991.990234375}, {'val_loss': 7991.990234375}, {'val_loss': 7991.990234375}, {'val_loss': 7991.9912109375}, {'val_loss': 7991.9912109375}, {'val_loss': 7991.990234375}, {'val_loss': 7991.990234375}, {'val_loss': 7991.990234375}, {'val_loss': 7991.990234375}, {'val_loss': 7991.990234375}, {'val_loss': 7991.990234375}, {'val_loss': 7991.990234375}, {'val_loss': 7991.99072265625}, {'val_loss': 7991.990234375}, {'val_loss': 7991.990234375}, {'val_loss': 7991.990234375}, {'val_loss': 7991.9912109375}, {'val_loss': 7991.9912109375}, {'val_loss': 7991.9912109375}, {'val_loss': 7991.9912109375}, {'val_loss': 7991.99169921875}, {'val_loss': 7991.9912109375}, {'val_loss': 7991.99169921875}, {'val_loss': 7991.99169921875}, {'val_loss': 7991.99169921875}, {'val_loss': 7991.99169921875}, {'val_loss': 7991.9912109375}, {'val_loss': 7991.99169921875}, {'val_loss': 7991.9912109375}, {'val_loss': 7991.9912109375}, {'val_loss': 7991.99072265625}, {'val_loss': 7991.99072265625}, {'val_loss': 7991.99072265625}, {'val_loss': 7991.99072265625}, {'val_loss': 7991.9912109375}, {'val_loss': 7991.9912109375}, {'val_loss': 7991.9921875}, {'val_loss': 7991.9921875}, {'val_loss': 7991.9921875}, {'val_loss': 7991.9921875}, {'val_loss': 7991.9921875}, {'val_loss': 7991.9921875}, {'val_loss': 7991.9921875}, {'val_loss': 7991.9912109375}, {'val_loss': 7991.9912109375}, {'val_loss': 7991.9912109375}, {'val_loss': 7991.99169921875}, {'val_loss': 7991.9912109375}, {'val_loss': 7991.99169921875}, {'val_loss': 7991.9912109375}, {'val_loss': 7991.99072265625}, {'val_loss': 7991.9912109375}, {'val_loss': 7991.9912109375}, {'val_loss': 7991.99072265625}, {'val_loss': 7991.99072265625}, {'val_loss': 7991.9912109375}, {'val_loss': 7991.99169921875}, {'val_loss': 7991.9912109375}, {'val_loss': 7991.9912109375}, {'val_loss': 7991.9912109375}, {'val_loss': 7991.9921875}, {'val_loss': 7991.9912109375}, {'val_loss': 7991.9912109375}, {'val_loss': 7991.9912109375}, {'val_loss': 7991.9912109375}, {'val_loss': 7991.9912109375}, {'val_loss': 7991.9912109375}, {'val_loss': 7991.9912109375}, {'val_loss': 7991.9912109375}, {'val_loss': 7991.990234375}, {'val_loss': 7991.990234375}, {'val_loss': 7991.990234375}, {'val_loss': 7991.990234375}, {'val_loss': 7991.990234375}, {'val_loss': 7991.990234375}, {'val_loss': 7991.990234375}, {'val_loss': 7991.990234375}, {'val_loss': 7991.990234375}, {'val_loss': 7991.990234375}, {'val_loss': 7991.990234375}, {'val_loss': 7991.99072265625}, {'val_loss': 7991.990234375}, {'val_loss': 7991.990234375}, {'val_loss': 7991.990234375}, {'val_loss': 7991.990234375}, {'val_loss': 7991.990234375}, {'val_loss': 7991.9892578125}, {'val_loss': 7991.98974609375}, {'val_loss': 7991.98974609375}, {'val_loss': 7991.9892578125}, {'val_loss': 7991.9892578125}, {'val_loss': 7991.9892578125}, {'val_loss': 7991.990234375}, {'val_loss': 7991.990234375}, {'val_loss': 7991.990234375}, {'val_loss': 7991.990234375}, {'val_loss': 7991.990234375}, {'val_loss': 7991.9892578125}, {'val_loss': 7991.9892578125}, {'val_loss': 7991.9892578125}, {'val_loss': 7991.9892578125}, {'val_loss': 7991.9892578125}, {'val_loss': 7991.9892578125}, {'val_loss': 7991.98876953125}, {'val_loss': 7991.9892578125}, {'val_loss': 7991.98974609375}, {'val_loss': 7991.990234375}, {'val_loss': 7991.990234375}, {'val_loss': 7991.990234375}, {'val_loss': 7991.990234375}, {'val_loss': 7991.990234375}, {'val_loss': 7991.98974609375}, {'val_loss': 7991.990234375}, {'val_loss': 7991.990234375}, {'val_loss': 7991.990234375}, {'val_loss': 7991.990234375}, {'val_loss': 7991.9892578125}, {'val_loss': 7991.990234375}, {'val_loss': 7991.990234375}, {'val_loss': 7991.990234375}, {'val_loss': 7991.9892578125}, {'val_loss': 7991.9892578125}, {'val_loss': 7991.990234375}, {'val_loss': 7991.990234375}, {'val_loss': 7991.990234375}, {'val_loss': 7991.990234375}, {'val_loss': 7991.9892578125}, {'val_loss': 7991.98876953125}, {'val_loss': 7991.9892578125}, {'val_loss': 7991.98876953125}, {'val_loss': 7991.98876953125}, {'val_loss': 7991.9892578125}, {'val_loss': 7991.9892578125}, {'val_loss': 7991.9892578125}, {'val_loss': 7991.9892578125}, {'val_loss': 7991.990234375}, {'val_loss': 7991.9892578125}, {'val_loss': 7991.9892578125}, {'val_loss': 7991.990234375}, {'val_loss': 7991.9892578125}, {'val_loss': 7991.990234375}, {'val_loss': 7991.98974609375}, {'val_loss': 7991.98974609375}, {'val_loss': 7991.990234375}, {'val_loss': 7991.990234375}, {'val_loss': 7991.990234375}, {'val_loss': 7991.99072265625}, {'val_loss': 7991.990234375}, {'val_loss': 7991.98974609375}, {'val_loss': 7991.990234375}, {'val_loss': 7991.9892578125}, {'val_loss': 7991.9892578125}, {'val_loss': 7991.9892578125}, {'val_loss': 7991.9892578125}, {'val_loss': 7991.9892578125}, {'val_loss': 7991.9892578125}, {'val_loss': 7991.9892578125}, {'val_loss': 7991.9892578125}, {'val_loss': 7991.9892578125}, {'val_loss': 7991.9892578125}, {'val_loss': 7991.9892578125}, {'val_loss': 7991.9892578125}, {'val_loss': 7991.9892578125}, {'val_loss': 7991.98974609375}, {'val_loss': 7991.98974609375}, {'val_loss': 7991.990234375}, {'val_loss': 7991.990234375}, {'val_loss': 7991.990234375}, {'val_loss': 7991.990234375}, {'val_loss': 7991.990234375}, {'val_loss': 7991.990234375}, {'val_loss': 7991.990234375}, {'val_loss': 7991.990234375}, {'val_loss': 7991.990234375}, {'val_loss': 7991.990234375}, {'val_loss': 7991.990234375}, {'val_loss': 7991.990234375}, {'val_loss': 7991.98974609375}, {'val_loss': 7991.9892578125}, {'val_loss': 7991.9892578125}, {'val_loss': 7991.9892578125}, {'val_loss': 7991.98828125}, {'val_loss': 7991.98876953125}, {'val_loss': 7991.98828125}, {'val_loss': 7991.98828125}, {'val_loss': 7991.98828125}, {'val_loss': 7991.98828125}, {'val_loss': 7991.98828125}, {'val_loss': 7991.98828125}, {'val_loss': 7991.98828125}, {'val_loss': 7991.98828125}, {'val_loss': 7991.98828125}, {'val_loss': 7991.98828125}, {'val_loss': 7991.9873046875}, {'val_loss': 7991.9873046875}, {'val_loss': 7991.98779296875}, {'val_loss': 7991.9873046875}, {'val_loss': 7991.98779296875}, {'val_loss': 7991.98828125}, {'val_loss': 7991.98779296875}, {'val_loss': 7991.9873046875}, {'val_loss': 7991.98779296875}, {'val_loss': 7991.98681640625}, {'val_loss': 7991.98681640625}, {'val_loss': 7991.986328125}, {'val_loss': 7991.986328125}, {'val_loss': 7991.986328125}, {'val_loss': 7991.986328125}, {'val_loss': 7991.986328125}, {'val_loss': 7991.9853515625}, {'val_loss': 7991.98583984375}, {'val_loss': 7991.98583984375}, {'val_loss': 7991.9853515625}, {'val_loss': 7991.986328125}, {'val_loss': 7991.9853515625}, {'val_loss': 7991.986328125}, {'val_loss': 7991.986328125}, {'val_loss': 7991.986328125}, {'val_loss': 7991.986328125}, {'val_loss': 7991.986328125}, {'val_loss': 7991.986328125}, {'val_loss': 7991.98583984375}, {'val_loss': 7991.986328125}, {'val_loss': 7991.986328125}, {'val_loss': 7991.98583984375}, {'val_loss': 7991.986328125}, {'val_loss': 7991.98583984375}, {'val_loss': 7991.986328125}, {'val_loss': 7991.986328125}, {'val_loss': 7991.98583984375}, {'val_loss': 7991.986328125}, {'val_loss': 7991.98583984375}, {'val_loss': 7991.98583984375}, {'val_loss': 7991.9853515625}, {'val_loss': 7991.9853515625}, {'val_loss': 7991.98583984375}, {'val_loss': 7991.98583984375}, {'val_loss': 7991.98583984375}, {'val_loss': 7991.9853515625}, {'val_loss': 7991.98583984375}, {'val_loss': 7991.986328125}, {'val_loss': 7991.986328125}, {'val_loss': 7991.98583984375}, {'val_loss': 7991.98583984375}, {'val_loss': 7991.986328125}, {'val_loss': 7991.986328125}, {'val_loss': 7991.98486328125}, {'val_loss': 7991.984375}, {'val_loss': 7991.984375}, {'val_loss': 7991.984375}, {'val_loss': 7991.984375}, {'val_loss': 7991.984375}, {'val_loss': 7991.984375}, {'val_loss': 7991.984375}, {'val_loss': 7991.986328125}, {'val_loss': 7991.9853515625}, {'val_loss': 7991.9853515625}, {'val_loss': 7991.9853515625}, {'val_loss': 7991.986328125}, {'val_loss': 7991.9853515625}, {'val_loss': 7991.9853515625}, {'val_loss': 7991.9853515625}, {'val_loss': 7991.9853515625}, {'val_loss': 7991.9853515625}, {'val_loss': 7991.9853515625}, {'val_loss': 7991.9853515625}, {'val_loss': 7991.98583984375}, {'val_loss': 7991.9853515625}, {'val_loss': 7991.9853515625}, {'val_loss': 7991.9853515625}, {'val_loss': 7991.9853515625}, {'val_loss': 7991.9853515625}, {'val_loss': 7991.9853515625}, {'val_loss': 7991.9853515625}, {'val_loss': 7991.9853515625}, {'val_loss': 7991.98583984375}, {'val_loss': 7991.986328125}, {'val_loss': 7991.986328125}, {'val_loss': 7991.98681640625}, {'val_loss': 7991.9873046875}, {'val_loss': 7991.9873046875}, {'val_loss': 7991.9873046875}, {'val_loss': 7991.9873046875}, {'val_loss': 7991.9873046875}, {'val_loss': 7991.98681640625}, {'val_loss': 7991.986328125}, {'val_loss': 7991.986328125}, {'val_loss': 7991.9853515625}, {'val_loss': 7991.9853515625}, {'val_loss': 7991.98486328125}, {'val_loss': 7991.9853515625}]\n"
          ],
          "name": "stdout"
        },
        {
          "output_type": "stream",
          "text": [
            "Epoch [20], val_loss: 7991.9844\n",
            "Epoch [40], val_loss: 7991.9844\n",
            "Epoch [60], val_loss: 7991.9844\n",
            "Epoch [80], val_loss: 7991.9849\n",
            "Epoch [100], val_loss: 7991.9844\n",
            "Epoch [120], val_loss: 7991.9844\n",
            "Epoch [140], val_loss: 7991.9844\n",
            "Epoch [160], val_loss: 7991.9844\n",
            "Epoch [180], val_loss: 7991.9844\n",
            "Epoch [200], val_loss: 7991.9844\n",
            "Epoch [220], val_loss: 7991.9844\n",
            "Epoch [240], val_loss: 7991.9844\n",
            "Epoch [260], val_loss: 7991.9844\n",
            "Epoch [280], val_loss: 7991.9844\n",
            "Epoch [300], val_loss: 7991.9844\n",
            "[{'val_loss': 7991.9853515625}, {'val_loss': 7991.984375}, {'val_loss': 7991.984375}, {'val_loss': 7991.984375}, {'val_loss': 7991.984375}, {'val_loss': 7991.9853515625}, {'val_loss': 7991.9853515625}, {'val_loss': 7991.984375}, {'val_loss': 7991.984375}, {'val_loss': 7991.984375}, {'val_loss': 7991.984375}, {'val_loss': 7991.984375}, {'val_loss': 7991.984375}, {'val_loss': 7991.984375}, {'val_loss': 7991.984375}, {'val_loss': 7991.984375}, {'val_loss': 7991.984375}, {'val_loss': 7991.984375}, {'val_loss': 7991.984375}, {'val_loss': 7991.984375}, {'val_loss': 7991.984375}, {'val_loss': 7991.984375}, {'val_loss': 7991.984375}, {'val_loss': 7991.984375}, {'val_loss': 7991.984375}, {'val_loss': 7991.984375}, {'val_loss': 7991.984375}, {'val_loss': 7991.984375}, {'val_loss': 7991.984375}, {'val_loss': 7991.984375}, {'val_loss': 7991.984375}, {'val_loss': 7991.984375}, {'val_loss': 7991.984375}, {'val_loss': 7991.984375}, {'val_loss': 7991.984375}, {'val_loss': 7991.984375}, {'val_loss': 7991.984375}, {'val_loss': 7991.984375}, {'val_loss': 7991.984375}, {'val_loss': 7991.984375}, {'val_loss': 7991.984375}, {'val_loss': 7991.984375}, {'val_loss': 7991.984375}, {'val_loss': 7991.984375}, {'val_loss': 7991.984375}, {'val_loss': 7991.984375}, {'val_loss': 7991.984375}, {'val_loss': 7991.984375}, {'val_loss': 7991.984375}, {'val_loss': 7991.984375}, {'val_loss': 7991.984375}, {'val_loss': 7991.984375}, {'val_loss': 7991.984375}, {'val_loss': 7991.984375}, {'val_loss': 7991.984375}, {'val_loss': 7991.984375}, {'val_loss': 7991.984375}, {'val_loss': 7991.984375}, {'val_loss': 7991.984375}, {'val_loss': 7991.984375}, {'val_loss': 7991.984375}, {'val_loss': 7991.984375}, {'val_loss': 7991.984375}, {'val_loss': 7991.984375}, {'val_loss': 7991.984375}, {'val_loss': 7991.984375}, {'val_loss': 7991.984375}, {'val_loss': 7991.984375}, {'val_loss': 7991.984375}, {'val_loss': 7991.984375}, {'val_loss': 7991.984375}, {'val_loss': 7991.984375}, {'val_loss': 7991.984375}, {'val_loss': 7991.984375}, {'val_loss': 7991.98486328125}, {'val_loss': 7991.98486328125}, {'val_loss': 7991.98486328125}, {'val_loss': 7991.98486328125}, {'val_loss': 7991.98486328125}, {'val_loss': 7991.98486328125}, {'val_loss': 7991.98486328125}, {'val_loss': 7991.98486328125}, {'val_loss': 7991.98486328125}, {'val_loss': 7991.98486328125}, {'val_loss': 7991.98486328125}, {'val_loss': 7991.98486328125}, {'val_loss': 7991.98486328125}, {'val_loss': 7991.98486328125}, {'val_loss': 7991.98486328125}, {'val_loss': 7991.98486328125}, {'val_loss': 7991.98486328125}, {'val_loss': 7991.984375}, {'val_loss': 7991.984375}, {'val_loss': 7991.984375}, {'val_loss': 7991.98486328125}, {'val_loss': 7991.98388671875}, {'val_loss': 7991.984375}, {'val_loss': 7991.984375}, {'val_loss': 7991.984375}, {'val_loss': 7991.984375}, {'val_loss': 7991.984375}, {'val_loss': 7991.984375}, {'val_loss': 7991.98486328125}, {'val_loss': 7991.984375}, {'val_loss': 7991.984375}, {'val_loss': 7991.984375}, {'val_loss': 7991.984375}, {'val_loss': 7991.984375}, {'val_loss': 7991.984375}, {'val_loss': 7991.984375}, {'val_loss': 7991.984375}, {'val_loss': 7991.984375}, {'val_loss': 7991.984375}, {'val_loss': 7991.984375}, {'val_loss': 7991.984375}, {'val_loss': 7991.984375}, {'val_loss': 7991.984375}, {'val_loss': 7991.984375}, {'val_loss': 7991.984375}, {'val_loss': 7991.984375}, {'val_loss': 7991.984375}, {'val_loss': 7991.984375}, {'val_loss': 7991.984375}, {'val_loss': 7991.984375}, {'val_loss': 7991.984375}, {'val_loss': 7991.984375}, {'val_loss': 7991.984375}, {'val_loss': 7991.984375}, {'val_loss': 7991.984375}, {'val_loss': 7991.984375}, {'val_loss': 7991.984375}, {'val_loss': 7991.984375}, {'val_loss': 7991.984375}, {'val_loss': 7991.984375}, {'val_loss': 7991.984375}, {'val_loss': 7991.984375}, {'val_loss': 7991.984375}, {'val_loss': 7991.984375}, {'val_loss': 7991.984375}, {'val_loss': 7991.984375}, {'val_loss': 7991.984375}, {'val_loss': 7991.984375}, {'val_loss': 7991.984375}, {'val_loss': 7991.984375}, {'val_loss': 7991.984375}, {'val_loss': 7991.984375}, {'val_loss': 7991.984375}, {'val_loss': 7991.984375}, {'val_loss': 7991.984375}, {'val_loss': 7991.984375}, {'val_loss': 7991.984375}, {'val_loss': 7991.984375}, {'val_loss': 7991.984375}, {'val_loss': 7991.984375}, {'val_loss': 7991.984375}, {'val_loss': 7991.984375}, {'val_loss': 7991.984375}, {'val_loss': 7991.984375}, {'val_loss': 7991.984375}, {'val_loss': 7991.984375}, {'val_loss': 7991.984375}, {'val_loss': 7991.984375}, {'val_loss': 7991.984375}, {'val_loss': 7991.984375}, {'val_loss': 7991.984375}, {'val_loss': 7991.984375}, {'val_loss': 7991.984375}, {'val_loss': 7991.984375}, {'val_loss': 7991.984375}, {'val_loss': 7991.984375}, {'val_loss': 7991.984375}, {'val_loss': 7991.984375}, {'val_loss': 7991.984375}, {'val_loss': 7991.984375}, {'val_loss': 7991.984375}, {'val_loss': 7991.984375}, {'val_loss': 7991.984375}, {'val_loss': 7991.984375}, {'val_loss': 7991.984375}, {'val_loss': 7991.984375}, {'val_loss': 7991.984375}, {'val_loss': 7991.984375}, {'val_loss': 7991.984375}, {'val_loss': 7991.984375}, {'val_loss': 7991.984375}, {'val_loss': 7991.984375}, {'val_loss': 7991.984375}, {'val_loss': 7991.984375}, {'val_loss': 7991.984375}, {'val_loss': 7991.984375}, {'val_loss': 7991.984375}, {'val_loss': 7991.984375}, {'val_loss': 7991.984375}, {'val_loss': 7991.984375}, {'val_loss': 7991.984375}, {'val_loss': 7991.984375}, {'val_loss': 7991.984375}, {'val_loss': 7991.984375}, {'val_loss': 7991.984375}, {'val_loss': 7991.984375}, {'val_loss': 7991.984375}, {'val_loss': 7991.984375}, {'val_loss': 7991.984375}, {'val_loss': 7991.984375}, {'val_loss': 7991.984375}, {'val_loss': 7991.984375}, {'val_loss': 7991.984375}, {'val_loss': 7991.984375}, {'val_loss': 7991.984375}, {'val_loss': 7991.984375}, {'val_loss': 7991.98388671875}, {'val_loss': 7991.984375}, {'val_loss': 7991.984375}, {'val_loss': 7991.984375}, {'val_loss': 7991.98388671875}, {'val_loss': 7991.98388671875}, {'val_loss': 7991.98388671875}, {'val_loss': 7991.984375}, {'val_loss': 7991.984375}, {'val_loss': 7991.984375}, {'val_loss': 7991.984375}, {'val_loss': 7991.984375}, {'val_loss': 7991.984375}, {'val_loss': 7991.984375}, {'val_loss': 7991.984375}, {'val_loss': 7991.984375}, {'val_loss': 7991.984375}, {'val_loss': 7991.984375}, {'val_loss': 7991.984375}, {'val_loss': 7991.984375}, {'val_loss': 7991.984375}, {'val_loss': 7991.984375}, {'val_loss': 7991.984375}, {'val_loss': 7991.984375}, {'val_loss': 7991.984375}, {'val_loss': 7991.984375}, {'val_loss': 7991.984375}, {'val_loss': 7991.984375}, {'val_loss': 7991.984375}, {'val_loss': 7991.984375}, {'val_loss': 7991.984375}, {'val_loss': 7991.984375}, {'val_loss': 7991.984375}, {'val_loss': 7991.984375}, {'val_loss': 7991.984375}, {'val_loss': 7991.984375}, {'val_loss': 7991.984375}, {'val_loss': 7991.984375}, {'val_loss': 7991.984375}, {'val_loss': 7991.984375}, {'val_loss': 7991.984375}, {'val_loss': 7991.984375}, {'val_loss': 7991.984375}, {'val_loss': 7991.984375}, {'val_loss': 7991.984375}, {'val_loss': 7991.984375}, {'val_loss': 7991.984375}, {'val_loss': 7991.984375}, {'val_loss': 7991.984375}, {'val_loss': 7991.984375}, {'val_loss': 7991.984375}, {'val_loss': 7991.984375}, {'val_loss': 7991.984375}, {'val_loss': 7991.984375}, {'val_loss': 7991.984375}, {'val_loss': 7991.984375}, {'val_loss': 7991.984375}, {'val_loss': 7991.984375}, {'val_loss': 7991.984375}, {'val_loss': 7991.984375}, {'val_loss': 7991.984375}, {'val_loss': 7991.984375}, {'val_loss': 7991.984375}, {'val_loss': 7991.984375}, {'val_loss': 7991.984375}, {'val_loss': 7991.984375}, {'val_loss': 7991.984375}, {'val_loss': 7991.984375}, {'val_loss': 7991.984375}, {'val_loss': 7991.984375}, {'val_loss': 7991.984375}, {'val_loss': 7991.984375}, {'val_loss': 7991.984375}, {'val_loss': 7991.984375}, {'val_loss': 7991.984375}, {'val_loss': 7991.984375}, {'val_loss': 7991.984375}, {'val_loss': 7991.984375}, {'val_loss': 7991.984375}, {'val_loss': 7991.984375}, {'val_loss': 7991.984375}, {'val_loss': 7991.984375}, {'val_loss': 7991.984375}, {'val_loss': 7991.984375}, {'val_loss': 7991.984375}, {'val_loss': 7991.984375}, {'val_loss': 7991.984375}, {'val_loss': 7991.984375}, {'val_loss': 7991.984375}, {'val_loss': 7991.984375}]\n"
          ],
          "name": "stdout"
        },
        {
          "output_type": "stream",
          "text": [
            "Epoch [20], val_loss: 7991.9844\n",
            "Epoch [40], val_loss: 7991.9844\n",
            "Epoch [60], val_loss: 7991.9844\n",
            "Epoch [80], val_loss: 7991.9844\n",
            "Epoch [100], val_loss: 7991.9844\n",
            "Epoch [120], val_loss: 7991.9844\n",
            "Epoch [140], val_loss: 7991.9844\n",
            "Epoch [160], val_loss: 7991.9844\n",
            "Epoch [180], val_loss: 7991.9844\n",
            "Epoch [200], val_loss: 7991.9844\n",
            "Epoch [220], val_loss: 7991.9844\n",
            "Epoch [240], val_loss: 7991.9844\n",
            "Epoch [260], val_loss: 7991.9844\n",
            "Epoch [280], val_loss: 7991.9844\n",
            "Epoch [300], val_loss: 7991.9844\n",
            "[{'val_loss': 7991.984375}, {'val_loss': 7991.984375}, {'val_loss': 7991.984375}, {'val_loss': 7991.984375}, {'val_loss': 7991.984375}, {'val_loss': 7991.984375}, {'val_loss': 7991.984375}, {'val_loss': 7991.984375}, {'val_loss': 7991.984375}, {'val_loss': 7991.984375}, {'val_loss': 7991.984375}, {'val_loss': 7991.984375}, {'val_loss': 7991.984375}, {'val_loss': 7991.984375}, {'val_loss': 7991.984375}, {'val_loss': 7991.984375}, {'val_loss': 7991.984375}, {'val_loss': 7991.984375}, {'val_loss': 7991.984375}, {'val_loss': 7991.984375}, {'val_loss': 7991.984375}, {'val_loss': 7991.984375}, {'val_loss': 7991.984375}, {'val_loss': 7991.984375}, {'val_loss': 7991.984375}, {'val_loss': 7991.984375}, {'val_loss': 7991.984375}, {'val_loss': 7991.984375}, {'val_loss': 7991.984375}, {'val_loss': 7991.984375}, {'val_loss': 7991.984375}, {'val_loss': 7991.984375}, {'val_loss': 7991.984375}, {'val_loss': 7991.984375}, {'val_loss': 7991.984375}, {'val_loss': 7991.984375}, {'val_loss': 7991.984375}, {'val_loss': 7991.984375}, {'val_loss': 7991.984375}, {'val_loss': 7991.984375}, {'val_loss': 7991.984375}, {'val_loss': 7991.984375}, {'val_loss': 7991.984375}, {'val_loss': 7991.984375}, {'val_loss': 7991.984375}, {'val_loss': 7991.984375}, {'val_loss': 7991.984375}, {'val_loss': 7991.984375}, {'val_loss': 7991.984375}, {'val_loss': 7991.984375}, {'val_loss': 7991.984375}, {'val_loss': 7991.984375}, {'val_loss': 7991.984375}, {'val_loss': 7991.984375}, {'val_loss': 7991.984375}, {'val_loss': 7991.984375}, {'val_loss': 7991.984375}, {'val_loss': 7991.984375}, {'val_loss': 7991.984375}, {'val_loss': 7991.984375}, {'val_loss': 7991.984375}, {'val_loss': 7991.984375}, {'val_loss': 7991.984375}, {'val_loss': 7991.984375}, {'val_loss': 7991.984375}, {'val_loss': 7991.984375}, {'val_loss': 7991.984375}, {'val_loss': 7991.984375}, {'val_loss': 7991.984375}, {'val_loss': 7991.984375}, {'val_loss': 7991.984375}, {'val_loss': 7991.984375}, {'val_loss': 7991.984375}, {'val_loss': 7991.984375}, {'val_loss': 7991.984375}, {'val_loss': 7991.984375}, {'val_loss': 7991.984375}, {'val_loss': 7991.984375}, {'val_loss': 7991.984375}, {'val_loss': 7991.984375}, {'val_loss': 7991.984375}, {'val_loss': 7991.984375}, {'val_loss': 7991.984375}, {'val_loss': 7991.984375}, {'val_loss': 7991.984375}, {'val_loss': 7991.984375}, {'val_loss': 7991.984375}, {'val_loss': 7991.984375}, {'val_loss': 7991.984375}, {'val_loss': 7991.984375}, {'val_loss': 7991.984375}, {'val_loss': 7991.984375}, {'val_loss': 7991.984375}, {'val_loss': 7991.984375}, {'val_loss': 7991.984375}, {'val_loss': 7991.984375}, {'val_loss': 7991.984375}, {'val_loss': 7991.984375}, {'val_loss': 7991.984375}, {'val_loss': 7991.984375}, {'val_loss': 7991.984375}, {'val_loss': 7991.984375}, {'val_loss': 7991.984375}, {'val_loss': 7991.984375}, {'val_loss': 7991.984375}, {'val_loss': 7991.984375}, {'val_loss': 7991.984375}, {'val_loss': 7991.984375}, {'val_loss': 7991.984375}, {'val_loss': 7991.984375}, {'val_loss': 7991.984375}, {'val_loss': 7991.984375}, {'val_loss': 7991.984375}, {'val_loss': 7991.984375}, {'val_loss': 7991.984375}, {'val_loss': 7991.984375}, {'val_loss': 7991.984375}, {'val_loss': 7991.984375}, {'val_loss': 7991.984375}, {'val_loss': 7991.984375}, {'val_loss': 7991.984375}, {'val_loss': 7991.984375}, {'val_loss': 7991.984375}, {'val_loss': 7991.984375}, {'val_loss': 7991.984375}, {'val_loss': 7991.984375}, {'val_loss': 7991.984375}, {'val_loss': 7991.984375}, {'val_loss': 7991.984375}, {'val_loss': 7991.984375}, {'val_loss': 7991.984375}, {'val_loss': 7991.984375}, {'val_loss': 7991.984375}, {'val_loss': 7991.984375}, {'val_loss': 7991.984375}, {'val_loss': 7991.984375}, {'val_loss': 7991.984375}, {'val_loss': 7991.984375}, {'val_loss': 7991.984375}, {'val_loss': 7991.984375}, {'val_loss': 7991.984375}, {'val_loss': 7991.984375}, {'val_loss': 7991.984375}, {'val_loss': 7991.984375}, {'val_loss': 7991.984375}, {'val_loss': 7991.984375}, {'val_loss': 7991.984375}, {'val_loss': 7991.984375}, {'val_loss': 7991.984375}, {'val_loss': 7991.984375}, {'val_loss': 7991.984375}, {'val_loss': 7991.984375}, {'val_loss': 7991.984375}, {'val_loss': 7991.984375}, {'val_loss': 7991.984375}, {'val_loss': 7991.984375}, {'val_loss': 7991.984375}, {'val_loss': 7991.984375}, {'val_loss': 7991.984375}, {'val_loss': 7991.984375}, {'val_loss': 7991.984375}, {'val_loss': 7991.984375}, {'val_loss': 7991.984375}, {'val_loss': 7991.984375}, {'val_loss': 7991.984375}, {'val_loss': 7991.984375}, {'val_loss': 7991.984375}, {'val_loss': 7991.984375}, {'val_loss': 7991.984375}, {'val_loss': 7991.984375}, {'val_loss': 7991.984375}, {'val_loss': 7991.984375}, {'val_loss': 7991.984375}, {'val_loss': 7991.984375}, {'val_loss': 7991.984375}, {'val_loss': 7991.984375}, {'val_loss': 7991.984375}, {'val_loss': 7991.984375}, {'val_loss': 7991.984375}, {'val_loss': 7991.984375}, {'val_loss': 7991.984375}, {'val_loss': 7991.984375}, {'val_loss': 7991.984375}, {'val_loss': 7991.984375}, {'val_loss': 7991.984375}, {'val_loss': 7991.984375}, {'val_loss': 7991.984375}, {'val_loss': 7991.984375}, {'val_loss': 7991.984375}, {'val_loss': 7991.984375}, {'val_loss': 7991.984375}, {'val_loss': 7991.984375}, {'val_loss': 7991.984375}, {'val_loss': 7991.984375}, {'val_loss': 7991.984375}, {'val_loss': 7991.984375}, {'val_loss': 7991.984375}, {'val_loss': 7991.984375}, {'val_loss': 7991.984375}, {'val_loss': 7991.984375}, {'val_loss': 7991.984375}, {'val_loss': 7991.984375}, {'val_loss': 7991.984375}, {'val_loss': 7991.984375}, {'val_loss': 7991.984375}, {'val_loss': 7991.984375}, {'val_loss': 7991.984375}, {'val_loss': 7991.984375}, {'val_loss': 7991.984375}, {'val_loss': 7991.984375}, {'val_loss': 7991.984375}, {'val_loss': 7991.984375}, {'val_loss': 7991.984375}, {'val_loss': 7991.984375}, {'val_loss': 7991.984375}, {'val_loss': 7991.984375}, {'val_loss': 7991.984375}, {'val_loss': 7991.984375}, {'val_loss': 7991.984375}, {'val_loss': 7991.984375}, {'val_loss': 7991.984375}, {'val_loss': 7991.984375}, {'val_loss': 7991.984375}, {'val_loss': 7991.984375}, {'val_loss': 7991.984375}, {'val_loss': 7991.984375}, {'val_loss': 7991.984375}, {'val_loss': 7991.984375}, {'val_loss': 7991.984375}, {'val_loss': 7991.984375}, {'val_loss': 7991.984375}, {'val_loss': 7991.984375}, {'val_loss': 7991.984375}, {'val_loss': 7991.984375}, {'val_loss': 7991.984375}, {'val_loss': 7991.984375}, {'val_loss': 7991.984375}, {'val_loss': 7991.984375}, {'val_loss': 7991.984375}, {'val_loss': 7991.984375}, {'val_loss': 7991.984375}, {'val_loss': 7991.984375}, {'val_loss': 7991.984375}, {'val_loss': 7991.984375}, {'val_loss': 7991.984375}, {'val_loss': 7991.984375}, {'val_loss': 7991.984375}, {'val_loss': 7991.984375}, {'val_loss': 7991.984375}, {'val_loss': 7991.984375}, {'val_loss': 7991.984375}, {'val_loss': 7991.984375}, {'val_loss': 7991.984375}, {'val_loss': 7991.984375}, {'val_loss': 7991.984375}, {'val_loss': 7991.984375}, {'val_loss': 7991.984375}, {'val_loss': 7991.984375}, {'val_loss': 7991.984375}, {'val_loss': 7991.984375}, {'val_loss': 7991.984375}, {'val_loss': 7991.984375}, {'val_loss': 7991.984375}, {'val_loss': 7991.984375}, {'val_loss': 7991.984375}, {'val_loss': 7991.984375}, {'val_loss': 7991.984375}, {'val_loss': 7991.984375}, {'val_loss': 7991.984375}, {'val_loss': 7991.984375}, {'val_loss': 7991.984375}, {'val_loss': 7991.984375}, {'val_loss': 7991.984375}, {'val_loss': 7991.984375}, {'val_loss': 7991.984375}, {'val_loss': 7991.984375}, {'val_loss': 7991.984375}, {'val_loss': 7991.984375}, {'val_loss': 7991.984375}, {'val_loss': 7991.984375}, {'val_loss': 7991.984375}, {'val_loss': 7991.984375}, {'val_loss': 7991.984375}, {'val_loss': 7991.984375}, {'val_loss': 7991.984375}, {'val_loss': 7991.984375}, {'val_loss': 7991.984375}, {'val_loss': 7991.984375}, {'val_loss': 7991.984375}, {'val_loss': 7991.984375}, {'val_loss': 7991.984375}, {'val_loss': 7991.984375}, {'val_loss': 7991.984375}, {'val_loss': 7991.984375}, {'val_loss': 7991.984375}, {'val_loss': 7991.984375}, {'val_loss': 7991.984375}, {'val_loss': 7991.984375}, {'val_loss': 7991.984375}, {'val_loss': 7991.984375}]\n"
          ],
          "name": "stdout"
        },
        {
          "output_type": "stream",
          "text": [
            "Epoch [20], val_loss: 7991.9619\n",
            "Epoch [40], val_loss: 7991.3789\n",
            "Epoch [60], val_loss: 7991.3750\n",
            "Epoch [80], val_loss: 7992.2837\n",
            "Epoch [100], val_loss: 7991.6230\n",
            "Epoch [120], val_loss: 7991.3955\n",
            "Epoch [140], val_loss: 7991.7080\n",
            "Epoch [160], val_loss: 7990.7466\n",
            "Epoch [180], val_loss: 7990.6650\n",
            "Epoch [200], val_loss: 7990.3057\n",
            "Epoch [220], val_loss: 7990.1455\n",
            "Epoch [240], val_loss: 7990.7041\n",
            "Epoch [260], val_loss: 7990.7266\n",
            "Epoch [280], val_loss: 7990.7227\n",
            "Epoch [300], val_loss: 7989.4053\n",
            "Epoch [320], val_loss: 7989.8970\n",
            "Epoch [340], val_loss: 7989.5547\n",
            "Epoch [360], val_loss: 7989.1680\n",
            "Epoch [380], val_loss: 7989.5762\n",
            "Epoch [400], val_loss: 7988.8877\n",
            "Epoch [420], val_loss: 7989.6494\n",
            "Epoch [440], val_loss: 7989.6133\n",
            "Epoch [460], val_loss: 7989.1167\n",
            "Epoch [480], val_loss: 7988.5532\n",
            "Epoch [500], val_loss: 7989.1924\n",
            "[{'val_loss': 7991.7958984375}, {'val_loss': 7991.83984375}, {'val_loss': 7991.92626953125}, {'val_loss': 7991.8837890625}, {'val_loss': 7992.0771484375}, {'val_loss': 7991.748046875}, {'val_loss': 7992.11572265625}, {'val_loss': 7992.314453125}, {'val_loss': 7992.419921875}, {'val_loss': 7992.2060546875}, {'val_loss': 7992.40869140625}, {'val_loss': 7992.474609375}, {'val_loss': 7992.37109375}, {'val_loss': 7991.931640625}, {'val_loss': 7991.95703125}, {'val_loss': 7992.47998046875}, {'val_loss': 7992.2138671875}, {'val_loss': 7992.27880859375}, {'val_loss': 7991.99267578125}, {'val_loss': 7991.9619140625}, {'val_loss': 7991.9638671875}, {'val_loss': 7991.751953125}, {'val_loss': 7991.7822265625}, {'val_loss': 7991.775390625}, {'val_loss': 7991.66796875}, {'val_loss': 7991.59765625}, {'val_loss': 7991.580078125}, {'val_loss': 7991.671875}, {'val_loss': 7991.7568359375}, {'val_loss': 7991.66259765625}, {'val_loss': 7991.779296875}, {'val_loss': 7991.935546875}, {'val_loss': 7991.9921875}, {'val_loss': 7991.98095703125}, {'val_loss': 7991.7490234375}, {'val_loss': 7991.822265625}, {'val_loss': 7991.56201171875}, {'val_loss': 7991.5859375}, {'val_loss': 7991.48828125}, {'val_loss': 7991.37890625}, {'val_loss': 7991.1240234375}, {'val_loss': 7991.302734375}, {'val_loss': 7991.4267578125}, {'val_loss': 7991.0859375}, {'val_loss': 7990.7216796875}, {'val_loss': 7990.9111328125}, {'val_loss': 7991.0673828125}, {'val_loss': 7991.19921875}, {'val_loss': 7990.9794921875}, {'val_loss': 7991.0498046875}, {'val_loss': 7990.8955078125}, {'val_loss': 7991.095703125}, {'val_loss': 7991.1591796875}, {'val_loss': 7990.94580078125}, {'val_loss': 7991.005859375}, {'val_loss': 7991.236328125}, {'val_loss': 7991.2314453125}, {'val_loss': 7991.263671875}, {'val_loss': 7991.373046875}, {'val_loss': 7991.375}, {'val_loss': 7991.5244140625}, {'val_loss': 7991.65771484375}, {'val_loss': 7991.36669921875}, {'val_loss': 7991.1318359375}, {'val_loss': 7991.25}, {'val_loss': 7991.37060546875}, {'val_loss': 7991.1376953125}, {'val_loss': 7991.35546875}, {'val_loss': 7991.330078125}, {'val_loss': 7991.421875}, {'val_loss': 7991.462890625}, {'val_loss': 7991.6513671875}, {'val_loss': 7991.4912109375}, {'val_loss': 7991.5595703125}, {'val_loss': 7991.2138671875}, {'val_loss': 7991.6494140625}, {'val_loss': 7991.68359375}, {'val_loss': 7992.0576171875}, {'val_loss': 7992.1640625}, {'val_loss': 7992.28369140625}, {'val_loss': 7992.2412109375}, {'val_loss': 7992.0009765625}, {'val_loss': 7991.69140625}, {'val_loss': 7991.62939453125}, {'val_loss': 7991.4453125}, {'val_loss': 7991.6806640625}, {'val_loss': 7991.43896484375}, {'val_loss': 7991.69482421875}, {'val_loss': 7991.71728515625}, {'val_loss': 7991.41796875}, {'val_loss': 7991.5869140625}, {'val_loss': 7991.5166015625}, {'val_loss': 7991.37890625}, {'val_loss': 7991.3544921875}, {'val_loss': 7991.50048828125}, {'val_loss': 7991.7197265625}, {'val_loss': 7991.4990234375}, {'val_loss': 7991.7197265625}, {'val_loss': 7991.5966796875}, {'val_loss': 7991.623046875}, {'val_loss': 7991.5107421875}, {'val_loss': 7991.580078125}, {'val_loss': 7991.2822265625}, {'val_loss': 7991.5361328125}, {'val_loss': 7991.41015625}, {'val_loss': 7991.4404296875}, {'val_loss': 7992.05322265625}, {'val_loss': 7991.97802734375}, {'val_loss': 7991.94921875}, {'val_loss': 7992.1845703125}, {'val_loss': 7991.73828125}, {'val_loss': 7991.84375}, {'val_loss': 7991.8037109375}, {'val_loss': 7991.58056640625}, {'val_loss': 7991.4873046875}, {'val_loss': 7991.232421875}, {'val_loss': 7991.48291015625}, {'val_loss': 7991.5751953125}, {'val_loss': 7991.32861328125}, {'val_loss': 7991.3955078125}, {'val_loss': 7991.173828125}, {'val_loss': 7990.96435546875}, {'val_loss': 7991.0419921875}, {'val_loss': 7991.3076171875}, {'val_loss': 7991.24462890625}, {'val_loss': 7991.1396484375}, {'val_loss': 7991.2568359375}, {'val_loss': 7991.470703125}, {'val_loss': 7991.4775390625}, {'val_loss': 7991.8310546875}, {'val_loss': 7991.36767578125}, {'val_loss': 7991.048828125}, {'val_loss': 7991.341796875}, {'val_loss': 7991.4462890625}, {'val_loss': 7991.3212890625}, {'val_loss': 7991.34375}, {'val_loss': 7991.48681640625}, {'val_loss': 7991.4794921875}, {'val_loss': 7991.49609375}, {'val_loss': 7991.7080078125}, {'val_loss': 7991.80859375}, {'val_loss': 7991.478515625}, {'val_loss': 7991.185546875}, {'val_loss': 7991.3662109375}, {'val_loss': 7991.494140625}, {'val_loss': 7991.57421875}, {'val_loss': 7991.43896484375}, {'val_loss': 7991.63671875}, {'val_loss': 7991.6796875}, {'val_loss': 7991.51708984375}, {'val_loss': 7991.55615234375}, {'val_loss': 7991.44140625}, {'val_loss': 7991.1298828125}, {'val_loss': 7991.10546875}, {'val_loss': 7991.1357421875}, {'val_loss': 7991.08642578125}, {'val_loss': 7991.1787109375}, {'val_loss': 7991.193359375}, {'val_loss': 7990.9501953125}, {'val_loss': 7990.74658203125}, {'val_loss': 7990.6630859375}, {'val_loss': 7990.61376953125}, {'val_loss': 7990.693359375}, {'val_loss': 7990.5283203125}, {'val_loss': 7990.626953125}, {'val_loss': 7990.69677734375}, {'val_loss': 7990.826171875}, {'val_loss': 7990.86279296875}, {'val_loss': 7991.16357421875}, {'val_loss': 7990.8583984375}, {'val_loss': 7990.86279296875}, {'val_loss': 7991.181640625}, {'val_loss': 7991.009765625}, {'val_loss': 7991.14697265625}, {'val_loss': 7991.0263671875}, {'val_loss': 7991.0009765625}, {'val_loss': 7990.9951171875}, {'val_loss': 7990.515625}, {'val_loss': 7990.65234375}, {'val_loss': 7990.6650390625}, {'val_loss': 7990.89892578125}, {'val_loss': 7991.0078125}, {'val_loss': 7990.9423828125}, {'val_loss': 7991.0517578125}, {'val_loss': 7990.892578125}, {'val_loss': 7990.67724609375}, {'val_loss': 7991.0830078125}, {'val_loss': 7990.94287109375}, {'val_loss': 7991.25390625}, {'val_loss': 7990.94580078125}, {'val_loss': 7990.8427734375}, {'val_loss': 7991.0087890625}, {'val_loss': 7990.984375}, {'val_loss': 7990.9375}, {'val_loss': 7990.9287109375}, {'val_loss': 7990.716796875}, {'val_loss': 7990.8701171875}, {'val_loss': 7990.8828125}, {'val_loss': 7990.68115234375}, {'val_loss': 7990.3056640625}, {'val_loss': 7990.2890625}, {'val_loss': 7990.2666015625}, {'val_loss': 7990.02734375}, {'val_loss': 7989.966796875}, {'val_loss': 7990.15869140625}, {'val_loss': 7989.8857421875}, {'val_loss': 7990.04541015625}, {'val_loss': 7990.021484375}, {'val_loss': 7990.1533203125}, {'val_loss': 7990.177734375}, {'val_loss': 7990.16162109375}, {'val_loss': 7990.18603515625}, {'val_loss': 7990.39111328125}, {'val_loss': 7990.42236328125}, {'val_loss': 7990.1533203125}, {'val_loss': 7990.58740234375}, {'val_loss': 7990.580078125}, {'val_loss': 7990.501953125}, {'val_loss': 7990.134765625}, {'val_loss': 7990.1455078125}, {'val_loss': 7990.38671875}, {'val_loss': 7990.1162109375}, {'val_loss': 7990.1416015625}, {'val_loss': 7990.1708984375}, {'val_loss': 7990.341796875}, {'val_loss': 7990.3388671875}, {'val_loss': 7990.49755859375}, {'val_loss': 7990.6962890625}, {'val_loss': 7990.64892578125}, {'val_loss': 7990.748046875}, {'val_loss': 7991.123046875}, {'val_loss': 7991.02587890625}, {'val_loss': 7990.82421875}, {'val_loss': 7990.7529296875}, {'val_loss': 7990.76953125}, {'val_loss': 7990.73974609375}, {'val_loss': 7990.5654296875}, {'val_loss': 7990.70166015625}, {'val_loss': 7990.59375}, {'val_loss': 7990.7041015625}, {'val_loss': 7990.4521484375}, {'val_loss': 7990.6279296875}, {'val_loss': 7990.53515625}, {'val_loss': 7990.83544921875}, {'val_loss': 7990.7236328125}, {'val_loss': 7990.37548828125}, {'val_loss': 7990.0537109375}, {'val_loss': 7990.1240234375}, {'val_loss': 7990.3505859375}, {'val_loss': 7990.5419921875}, {'val_loss': 7990.4228515625}, {'val_loss': 7990.27099609375}, {'val_loss': 7990.1103515625}, {'val_loss': 7989.8173828125}, {'val_loss': 7989.8359375}, {'val_loss': 7989.8017578125}, {'val_loss': 7990.083984375}, {'val_loss': 7990.2919921875}, {'val_loss': 7990.3369140625}, {'val_loss': 7990.7265625}, {'val_loss': 7990.583984375}, {'val_loss': 7990.375}, {'val_loss': 7990.21240234375}, {'val_loss': 7990.4033203125}, {'val_loss': 7990.365234375}, {'val_loss': 7990.30615234375}, {'val_loss': 7989.978515625}, {'val_loss': 7989.9990234375}, {'val_loss': 7990.2861328125}, {'val_loss': 7990.2431640625}, {'val_loss': 7990.115234375}, {'val_loss': 7990.0009765625}, {'val_loss': 7990.119140625}, {'val_loss': 7990.01708984375}, {'val_loss': 7989.9501953125}, {'val_loss': 7990.15625}, {'val_loss': 7990.2998046875}, {'val_loss': 7990.44970703125}, {'val_loss': 7990.4150390625}, {'val_loss': 7990.72265625}, {'val_loss': 7990.7978515625}, {'val_loss': 7990.68408203125}, {'val_loss': 7990.712890625}, {'val_loss': 7990.8232421875}, {'val_loss': 7990.64111328125}, {'val_loss': 7990.41015625}, {'val_loss': 7990.1552734375}, {'val_loss': 7990.0849609375}, {'val_loss': 7989.9951171875}, {'val_loss': 7989.86669921875}, {'val_loss': 7989.68115234375}, {'val_loss': 7989.630859375}, {'val_loss': 7989.845703125}, {'val_loss': 7989.552734375}, {'val_loss': 7989.7568359375}, {'val_loss': 7989.640625}, {'val_loss': 7989.728515625}, {'val_loss': 7989.63525390625}, {'val_loss': 7989.521484375}, {'val_loss': 7989.4052734375}, {'val_loss': 7989.525390625}, {'val_loss': 7989.470703125}, {'val_loss': 7989.6572265625}, {'val_loss': 7989.6005859375}, {'val_loss': 7989.51171875}, {'val_loss': 7989.43115234375}, {'val_loss': 7989.318359375}, {'val_loss': 7989.4228515625}, {'val_loss': 7989.462890625}, {'val_loss': 7989.60205078125}, {'val_loss': 7989.93408203125}, {'val_loss': 7989.99365234375}, {'val_loss': 7989.828125}, {'val_loss': 7989.62109375}, {'val_loss': 7989.7919921875}, {'val_loss': 7989.7724609375}, {'val_loss': 7989.95361328125}, {'val_loss': 7989.78857421875}, {'val_loss': 7989.8037109375}, {'val_loss': 7989.89697265625}, {'val_loss': 7989.97705078125}, {'val_loss': 7990.1591796875}, {'val_loss': 7990.291015625}, {'val_loss': 7990.193359375}, {'val_loss': 7989.95458984375}, {'val_loss': 7989.81787109375}, {'val_loss': 7989.83203125}, {'val_loss': 7989.50537109375}, {'val_loss': 7989.29296875}, {'val_loss': 7989.2490234375}, {'val_loss': 7989.4755859375}, {'val_loss': 7989.755859375}, {'val_loss': 7989.955078125}, {'val_loss': 7989.6708984375}, {'val_loss': 7989.6787109375}, {'val_loss': 7989.74658203125}, {'val_loss': 7989.30712890625}, {'val_loss': 7989.50048828125}, {'val_loss': 7989.6171875}, {'val_loss': 7989.5546875}, {'val_loss': 7989.5126953125}, {'val_loss': 7989.6171875}, {'val_loss': 7989.91259765625}, {'val_loss': 7989.9208984375}, {'val_loss': 7989.4912109375}, {'val_loss': 7989.53515625}, {'val_loss': 7989.7080078125}, {'val_loss': 7989.8671875}, {'val_loss': 7989.8486328125}, {'val_loss': 7989.705078125}, {'val_loss': 7989.2685546875}, {'val_loss': 7989.13916015625}, {'val_loss': 7989.107421875}, {'val_loss': 7989.421875}, {'val_loss': 7989.15625}, {'val_loss': 7989.2958984375}, {'val_loss': 7989.220703125}, {'val_loss': 7989.16259765625}, {'val_loss': 7989.2421875}, {'val_loss': 7989.16796875}, {'val_loss': 7989.1435546875}, {'val_loss': 7989.306640625}, {'val_loss': 7989.0537109375}, {'val_loss': 7989.13427734375}, {'val_loss': 7989.2548828125}, {'val_loss': 7989.2607421875}, {'val_loss': 7989.216796875}, {'val_loss': 7989.21044921875}, {'val_loss': 7989.06103515625}, {'val_loss': 7989.5244140625}, {'val_loss': 7989.611328125}, {'val_loss': 7989.4580078125}, {'val_loss': 7989.505859375}, {'val_loss': 7989.24609375}, {'val_loss': 7989.162109375}, {'val_loss': 7989.173828125}, {'val_loss': 7989.3486328125}, {'val_loss': 7989.5}, {'val_loss': 7989.4951171875}, {'val_loss': 7989.576171875}, {'val_loss': 7989.33544921875}, {'val_loss': 7989.173828125}, {'val_loss': 7989.431640625}, {'val_loss': 7989.41796875}, {'val_loss': 7989.43994140625}, {'val_loss': 7989.09912109375}, {'val_loss': 7989.05810546875}, {'val_loss': 7989.32470703125}, {'val_loss': 7989.1494140625}, {'val_loss': 7989.2236328125}, {'val_loss': 7989.26708984375}, {'val_loss': 7989.1064453125}, {'val_loss': 7988.9287109375}, {'val_loss': 7988.8759765625}, {'val_loss': 7988.7431640625}, {'val_loss': 7989.13671875}, {'val_loss': 7989.02197265625}, {'val_loss': 7988.96484375}, {'val_loss': 7988.9755859375}, {'val_loss': 7988.8876953125}, {'val_loss': 7988.8720703125}, {'val_loss': 7988.646484375}, {'val_loss': 7988.4677734375}, {'val_loss': 7988.5625}, {'val_loss': 7988.5537109375}, {'val_loss': 7988.4072265625}, {'val_loss': 7988.81494140625}, {'val_loss': 7988.99462890625}, {'val_loss': 7989.0771484375}, {'val_loss': 7989.3525390625}, {'val_loss': 7989.400390625}, {'val_loss': 7989.541015625}, {'val_loss': 7989.166015625}, {'val_loss': 7989.06689453125}, {'val_loss': 7989.25390625}, {'val_loss': 7989.39697265625}, {'val_loss': 7989.3212890625}, {'val_loss': 7989.447265625}, {'val_loss': 7989.7587890625}, {'val_loss': 7989.6494140625}, {'val_loss': 7989.3349609375}, {'val_loss': 7988.978515625}, {'val_loss': 7988.67041015625}, {'val_loss': 7988.53515625}, {'val_loss': 7988.439453125}, {'val_loss': 7988.26171875}, {'val_loss': 7988.5185546875}, {'val_loss': 7988.8291015625}, {'val_loss': 7988.68359375}, {'val_loss': 7988.8486328125}, {'val_loss': 7989.11328125}, {'val_loss': 7988.8818359375}, {'val_loss': 7988.9990234375}, {'val_loss': 7989.1865234375}, {'val_loss': 7989.37158203125}, {'val_loss': 7989.72119140625}, {'val_loss': 7989.8017578125}, {'val_loss': 7989.525390625}, {'val_loss': 7989.47607421875}, {'val_loss': 7989.61328125}, {'val_loss': 7989.5888671875}, {'val_loss': 7989.51416015625}, {'val_loss': 7989.5673828125}, {'val_loss': 7989.52685546875}, {'val_loss': 7989.5615234375}, {'val_loss': 7989.650390625}, {'val_loss': 7989.58837890625}, {'val_loss': 7989.27734375}, {'val_loss': 7989.2861328125}, {'val_loss': 7989.2236328125}, {'val_loss': 7988.9365234375}, {'val_loss': 7989.08984375}, {'val_loss': 7988.9921875}, {'val_loss': 7989.26904296875}, {'val_loss': 7989.18310546875}, {'val_loss': 7989.1416015625}, {'val_loss': 7989.263671875}, {'val_loss': 7989.12939453125}, {'val_loss': 7989.0712890625}, {'val_loss': 7989.11669921875}, {'val_loss': 7989.2548828125}, {'val_loss': 7988.982421875}, {'val_loss': 7989.107421875}, {'val_loss': 7988.91943359375}, {'val_loss': 7988.90380859375}, {'val_loss': 7988.75830078125}, {'val_loss': 7988.45947265625}, {'val_loss': 7988.248046875}, {'val_loss': 7988.59814453125}, {'val_loss': 7988.7724609375}, {'val_loss': 7988.5703125}, {'val_loss': 7988.69140625}, {'val_loss': 7988.56298828125}, {'val_loss': 7988.5546875}, {'val_loss': 7988.44677734375}, {'val_loss': 7988.19140625}, {'val_loss': 7988.42578125}, {'val_loss': 7988.26171875}, {'val_loss': 7988.29052734375}, {'val_loss': 7988.55322265625}, {'val_loss': 7988.8779296875}, {'val_loss': 7988.607421875}, {'val_loss': 7988.6953125}, {'val_loss': 7988.525390625}, {'val_loss': 7988.57958984375}, {'val_loss': 7988.55810546875}, {'val_loss': 7988.4658203125}, {'val_loss': 7988.5810546875}, {'val_loss': 7988.759765625}, {'val_loss': 7989.01171875}, {'val_loss': 7988.9208984375}, {'val_loss': 7988.8994140625}, {'val_loss': 7988.9716796875}, {'val_loss': 7989.3603515625}, {'val_loss': 7989.18115234375}, {'val_loss': 7989.40625}, {'val_loss': 7989.443359375}, {'val_loss': 7989.369140625}, {'val_loss': 7989.2568359375}, {'val_loss': 7989.1923828125}]\n"
          ],
          "name": "stdout"
        },
        {
          "output_type": "stream",
          "text": [
            "Epoch [20], val_loss: 7989.0059\n",
            "Epoch [40], val_loss: 7988.9062\n",
            "Epoch [60], val_loss: 7988.8359\n",
            "Epoch [80], val_loss: 7988.7109\n",
            "Epoch [100], val_loss: 7988.6021\n",
            "Epoch [120], val_loss: 7988.4336\n",
            "Epoch [140], val_loss: 7988.3818\n",
            "Epoch [160], val_loss: 7988.3804\n",
            "Epoch [180], val_loss: 7988.4932\n",
            "Epoch [200], val_loss: 7988.4531\n",
            "Epoch [220], val_loss: 7988.3853\n",
            "Epoch [240], val_loss: 7988.2710\n",
            "Epoch [260], val_loss: 7988.2344\n",
            "Epoch [280], val_loss: 7988.2275\n",
            "Epoch [300], val_loss: 7988.2671\n",
            "Epoch [320], val_loss: 7988.1733\n",
            "Epoch [340], val_loss: 7988.2944\n",
            "Epoch [360], val_loss: 7988.2305\n",
            "Epoch [380], val_loss: 7988.2295\n",
            "Epoch [400], val_loss: 7988.2720\n",
            "Epoch [420], val_loss: 7988.4023\n",
            "Epoch [440], val_loss: 7988.2329\n",
            "Epoch [460], val_loss: 7988.2095\n",
            "Epoch [480], val_loss: 7988.1099\n",
            "Epoch [500], val_loss: 7987.9863\n",
            "[{'val_loss': 7989.21630859375}, {'val_loss': 7989.1669921875}, {'val_loss': 7989.158203125}, {'val_loss': 7989.15625}, {'val_loss': 7989.1474609375}, {'val_loss': 7989.1318359375}, {'val_loss': 7989.109375}, {'val_loss': 7989.09765625}, {'val_loss': 7989.0556640625}, {'val_loss': 7989.06640625}, {'val_loss': 7989.08203125}, {'val_loss': 7989.0703125}, {'val_loss': 7989.052734375}, {'val_loss': 7989.04296875}, {'val_loss': 7989.02197265625}, {'val_loss': 7989.025390625}, {'val_loss': 7989.04296875}, {'val_loss': 7989.025390625}, {'val_loss': 7989.04248046875}, {'val_loss': 7989.005859375}, {'val_loss': 7988.9794921875}, {'val_loss': 7988.99365234375}, {'val_loss': 7989.0}, {'val_loss': 7988.982421875}, {'val_loss': 7988.97509765625}, {'val_loss': 7988.96875}, {'val_loss': 7988.9404296875}, {'val_loss': 7988.9091796875}, {'val_loss': 7988.9150390625}, {'val_loss': 7988.947265625}, {'val_loss': 7988.9287109375}, {'val_loss': 7988.90869140625}, {'val_loss': 7988.92626953125}, {'val_loss': 7988.9287109375}, {'val_loss': 7988.9208984375}, {'val_loss': 7988.9169921875}, {'val_loss': 7988.90869140625}, {'val_loss': 7988.916015625}, {'val_loss': 7988.9287109375}, {'val_loss': 7988.90625}, {'val_loss': 7988.8984375}, {'val_loss': 7988.8916015625}, {'val_loss': 7988.87744140625}, {'val_loss': 7988.8896484375}, {'val_loss': 7988.896484375}, {'val_loss': 7988.908203125}, {'val_loss': 7988.88671875}, {'val_loss': 7988.8603515625}, {'val_loss': 7988.87890625}, {'val_loss': 7988.892578125}, {'val_loss': 7988.884765625}, {'val_loss': 7988.87890625}, {'val_loss': 7988.8701171875}, {'val_loss': 7988.845703125}, {'val_loss': 7988.8505859375}, {'val_loss': 7988.8544921875}, {'val_loss': 7988.85546875}, {'val_loss': 7988.84765625}, {'val_loss': 7988.8291015625}, {'val_loss': 7988.8359375}, {'val_loss': 7988.818359375}, {'val_loss': 7988.7919921875}, {'val_loss': 7988.77783203125}, {'val_loss': 7988.7919921875}, {'val_loss': 7988.791015625}, {'val_loss': 7988.7744140625}, {'val_loss': 7988.73828125}, {'val_loss': 7988.7412109375}, {'val_loss': 7988.7275390625}, {'val_loss': 7988.73046875}, {'val_loss': 7988.740234375}, {'val_loss': 7988.7578125}, {'val_loss': 7988.75}, {'val_loss': 7988.7216796875}, {'val_loss': 7988.697265625}, {'val_loss': 7988.7109375}, {'val_loss': 7988.7001953125}, {'val_loss': 7988.705078125}, {'val_loss': 7988.7119140625}, {'val_loss': 7988.7109375}, {'val_loss': 7988.728515625}, {'val_loss': 7988.7451171875}, {'val_loss': 7988.75}, {'val_loss': 7988.7421875}, {'val_loss': 7988.7509765625}, {'val_loss': 7988.7421875}, {'val_loss': 7988.74267578125}, {'val_loss': 7988.73828125}, {'val_loss': 7988.7294921875}, {'val_loss': 7988.73828125}, {'val_loss': 7988.71923828125}, {'val_loss': 7988.7021484375}, {'val_loss': 7988.6669921875}, {'val_loss': 7988.65673828125}, {'val_loss': 7988.66845703125}, {'val_loss': 7988.6455078125}, {'val_loss': 7988.63916015625}, {'val_loss': 7988.63037109375}, {'val_loss': 7988.6337890625}, {'val_loss': 7988.60205078125}, {'val_loss': 7988.611328125}, {'val_loss': 7988.603515625}, {'val_loss': 7988.57666015625}, {'val_loss': 7988.5927734375}, {'val_loss': 7988.595703125}, {'val_loss': 7988.58154296875}, {'val_loss': 7988.56640625}, {'val_loss': 7988.5615234375}, {'val_loss': 7988.5498046875}, {'val_loss': 7988.53759765625}, {'val_loss': 7988.51806640625}, {'val_loss': 7988.5087890625}, {'val_loss': 7988.51123046875}, {'val_loss': 7988.486328125}, {'val_loss': 7988.4599609375}, {'val_loss': 7988.423828125}, {'val_loss': 7988.4228515625}, {'val_loss': 7988.431640625}, {'val_loss': 7988.400390625}, {'val_loss': 7988.43359375}, {'val_loss': 7988.43115234375}, {'val_loss': 7988.42138671875}, {'val_loss': 7988.404296875}, {'val_loss': 7988.388671875}, {'val_loss': 7988.3876953125}, {'val_loss': 7988.375}, {'val_loss': 7988.39599609375}, {'val_loss': 7988.3896484375}, {'val_loss': 7988.3837890625}, {'val_loss': 7988.37744140625}, {'val_loss': 7988.3759765625}, {'val_loss': 7988.3857421875}, {'val_loss': 7988.3642578125}, {'val_loss': 7988.34033203125}, {'val_loss': 7988.3447265625}, {'val_loss': 7988.37109375}, {'val_loss': 7988.36279296875}, {'val_loss': 7988.3720703125}, {'val_loss': 7988.376953125}, {'val_loss': 7988.3818359375}, {'val_loss': 7988.3974609375}, {'val_loss': 7988.4013671875}, {'val_loss': 7988.400390625}, {'val_loss': 7988.40771484375}, {'val_loss': 7988.39453125}, {'val_loss': 7988.39453125}, {'val_loss': 7988.392578125}, {'val_loss': 7988.39697265625}, {'val_loss': 7988.39794921875}, {'val_loss': 7988.40771484375}, {'val_loss': 7988.3994140625}, {'val_loss': 7988.35888671875}, {'val_loss': 7988.36083984375}, {'val_loss': 7988.3525390625}, {'val_loss': 7988.3828125}, {'val_loss': 7988.384765625}, {'val_loss': 7988.3701171875}, {'val_loss': 7988.37451171875}, {'val_loss': 7988.380859375}, {'val_loss': 7988.38037109375}, {'val_loss': 7988.36328125}, {'val_loss': 7988.3828125}, {'val_loss': 7988.37890625}, {'val_loss': 7988.3994140625}, {'val_loss': 7988.40185546875}, {'val_loss': 7988.4111328125}, {'val_loss': 7988.4365234375}, {'val_loss': 7988.4287109375}, {'val_loss': 7988.45703125}, {'val_loss': 7988.47509765625}, {'val_loss': 7988.49658203125}, {'val_loss': 7988.50537109375}, {'val_loss': 7988.484375}, {'val_loss': 7988.46923828125}, {'val_loss': 7988.4384765625}, {'val_loss': 7988.4423828125}, {'val_loss': 7988.46142578125}, {'val_loss': 7988.4541015625}, {'val_loss': 7988.47900390625}, {'val_loss': 7988.4931640625}, {'val_loss': 7988.478515625}, {'val_loss': 7988.47998046875}, {'val_loss': 7988.47265625}, {'val_loss': 7988.47509765625}, {'val_loss': 7988.462890625}, {'val_loss': 7988.46484375}, {'val_loss': 7988.4658203125}, {'val_loss': 7988.455078125}, {'val_loss': 7988.455078125}, {'val_loss': 7988.45068359375}, {'val_loss': 7988.4638671875}, {'val_loss': 7988.43212890625}, {'val_loss': 7988.412109375}, {'val_loss': 7988.416015625}, {'val_loss': 7988.4296875}, {'val_loss': 7988.4208984375}, {'val_loss': 7988.43310546875}, {'val_loss': 7988.43310546875}, {'val_loss': 7988.431640625}, {'val_loss': 7988.453125}, {'val_loss': 7988.451171875}, {'val_loss': 7988.427734375}, {'val_loss': 7988.4296875}, {'val_loss': 7988.4189453125}, {'val_loss': 7988.396484375}, {'val_loss': 7988.39697265625}, {'val_loss': 7988.38134765625}, {'val_loss': 7988.40234375}, {'val_loss': 7988.3935546875}, {'val_loss': 7988.4365234375}, {'val_loss': 7988.4033203125}, {'val_loss': 7988.375}, {'val_loss': 7988.40283203125}, {'val_loss': 7988.4111328125}, {'val_loss': 7988.4228515625}, {'val_loss': 7988.376953125}, {'val_loss': 7988.373046875}, {'val_loss': 7988.3583984375}, {'val_loss': 7988.3544921875}, {'val_loss': 7988.38525390625}, {'val_loss': 7988.3671875}, {'val_loss': 7988.3447265625}, {'val_loss': 7988.3505859375}, {'val_loss': 7988.3525390625}, {'val_loss': 7988.3486328125}, {'val_loss': 7988.34521484375}, {'val_loss': 7988.3330078125}, {'val_loss': 7988.3203125}, {'val_loss': 7988.3369140625}, {'val_loss': 7988.32958984375}, {'val_loss': 7988.2841796875}, {'val_loss': 7988.298828125}, {'val_loss': 7988.2998046875}, {'val_loss': 7988.3056640625}, {'val_loss': 7988.2939453125}, {'val_loss': 7988.2861328125}, {'val_loss': 7988.28662109375}, {'val_loss': 7988.3056640625}, {'val_loss': 7988.2861328125}, {'val_loss': 7988.27099609375}, {'val_loss': 7988.2587890625}, {'val_loss': 7988.26318359375}, {'val_loss': 7988.26171875}, {'val_loss': 7988.24609375}, {'val_loss': 7988.25634765625}, {'val_loss': 7988.2451171875}, {'val_loss': 7988.251953125}, {'val_loss': 7988.24609375}, {'val_loss': 7988.2470703125}, {'val_loss': 7988.2138671875}, {'val_loss': 7988.21337890625}, {'val_loss': 7988.203125}, {'val_loss': 7988.2177734375}, {'val_loss': 7988.2275390625}, {'val_loss': 7988.20654296875}, {'val_loss': 7988.2412109375}, {'val_loss': 7988.2431640625}, {'val_loss': 7988.2685546875}, {'val_loss': 7988.26220703125}, {'val_loss': 7988.234375}, {'val_loss': 7988.24169921875}, {'val_loss': 7988.2412109375}, {'val_loss': 7988.21728515625}, {'val_loss': 7988.2314453125}, {'val_loss': 7988.234375}, {'val_loss': 7988.26171875}, {'val_loss': 7988.2568359375}, {'val_loss': 7988.24609375}, {'val_loss': 7988.2353515625}, {'val_loss': 7988.23095703125}, {'val_loss': 7988.2509765625}, {'val_loss': 7988.25}, {'val_loss': 7988.25927734375}, {'val_loss': 7988.2529296875}, {'val_loss': 7988.23388671875}, {'val_loss': 7988.26953125}, {'val_loss': 7988.25927734375}, {'val_loss': 7988.255859375}, {'val_loss': 7988.23486328125}, {'val_loss': 7988.2275390625}, {'val_loss': 7988.20703125}, {'val_loss': 7988.2099609375}, {'val_loss': 7988.20458984375}, {'val_loss': 7988.20703125}, {'val_loss': 7988.21533203125}, {'val_loss': 7988.22412109375}, {'val_loss': 7988.23388671875}, {'val_loss': 7988.23046875}, {'val_loss': 7988.23828125}, {'val_loss': 7988.2529296875}, {'val_loss': 7988.2490234375}, {'val_loss': 7988.21923828125}, {'val_loss': 7988.1953125}, {'val_loss': 7988.1982421875}, {'val_loss': 7988.197265625}, {'val_loss': 7988.20166015625}, {'val_loss': 7988.224609375}, {'val_loss': 7988.236328125}, {'val_loss': 7988.255859375}, {'val_loss': 7988.26708984375}, {'val_loss': 7988.263671875}, {'val_loss': 7988.25048828125}, {'val_loss': 7988.2607421875}, {'val_loss': 7988.2373046875}, {'val_loss': 7988.240234375}, {'val_loss': 7988.2392578125}, {'val_loss': 7988.22998046875}, {'val_loss': 7988.22998046875}, {'val_loss': 7988.2001953125}, {'val_loss': 7988.21533203125}, {'val_loss': 7988.21484375}, {'val_loss': 7988.203125}, {'val_loss': 7988.177734375}, {'val_loss': 7988.2080078125}, {'val_loss': 7988.2177734375}, {'val_loss': 7988.216796875}, {'val_loss': 7988.216796875}, {'val_loss': 7988.23095703125}, {'val_loss': 7988.21484375}, {'val_loss': 7988.17333984375}, {'val_loss': 7988.1796875}, {'val_loss': 7988.140625}, {'val_loss': 7988.1572265625}, {'val_loss': 7988.16357421875}, {'val_loss': 7988.1748046875}, {'val_loss': 7988.1962890625}, {'val_loss': 7988.18359375}, {'val_loss': 7988.181640625}, {'val_loss': 7988.21826171875}, {'val_loss': 7988.189453125}, {'val_loss': 7988.193359375}, {'val_loss': 7988.193359375}, {'val_loss': 7988.1943359375}, {'val_loss': 7988.2099609375}, {'val_loss': 7988.208984375}, {'val_loss': 7988.22021484375}, {'val_loss': 7988.2373046875}, {'val_loss': 7988.2822265625}, {'val_loss': 7988.28125}, {'val_loss': 7988.29443359375}, {'val_loss': 7988.29345703125}, {'val_loss': 7988.310546875}, {'val_loss': 7988.2919921875}, {'val_loss': 7988.28271484375}, {'val_loss': 7988.265625}, {'val_loss': 7988.2587890625}, {'val_loss': 7988.2568359375}, {'val_loss': 7988.23828125}, {'val_loss': 7988.232421875}, {'val_loss': 7988.248046875}, {'val_loss': 7988.24951171875}, {'val_loss': 7988.2236328125}, {'val_loss': 7988.234375}, {'val_loss': 7988.25390625}, {'val_loss': 7988.2470703125}, {'val_loss': 7988.2568359375}, {'val_loss': 7988.2421875}, {'val_loss': 7988.208984375}, {'val_loss': 7988.2177734375}, {'val_loss': 7988.23046875}, {'val_loss': 7988.2294921875}, {'val_loss': 7988.248046875}, {'val_loss': 7988.24853515625}, {'val_loss': 7988.251953125}, {'val_loss': 7988.265625}, {'val_loss': 7988.2578125}, {'val_loss': 7988.25830078125}, {'val_loss': 7988.2802734375}, {'val_loss': 7988.29833984375}, {'val_loss': 7988.27197265625}, {'val_loss': 7988.29248046875}, {'val_loss': 7988.28857421875}, {'val_loss': 7988.287109375}, {'val_loss': 7988.2412109375}, {'val_loss': 7988.2392578125}, {'val_loss': 7988.22412109375}, {'val_loss': 7988.220703125}, {'val_loss': 7988.232421875}, {'val_loss': 7988.22216796875}, {'val_loss': 7988.2294921875}, {'val_loss': 7988.2314453125}, {'val_loss': 7988.2392578125}, {'val_loss': 7988.2509765625}, {'val_loss': 7988.240234375}, {'val_loss': 7988.275390625}, {'val_loss': 7988.267578125}, {'val_loss': 7988.28662109375}, {'val_loss': 7988.2705078125}, {'val_loss': 7988.265625}, {'val_loss': 7988.2548828125}, {'val_loss': 7988.26171875}, {'val_loss': 7988.24462890625}, {'val_loss': 7988.2548828125}, {'val_loss': 7988.2626953125}, {'val_loss': 7988.263671875}, {'val_loss': 7988.28125}, {'val_loss': 7988.28466796875}, {'val_loss': 7988.28515625}, {'val_loss': 7988.248046875}, {'val_loss': 7988.27197265625}, {'val_loss': 7988.24658203125}, {'val_loss': 7988.23583984375}, {'val_loss': 7988.2431640625}, {'val_loss': 7988.22412109375}, {'val_loss': 7988.2275390625}, {'val_loss': 7988.2392578125}, {'val_loss': 7988.2587890625}, {'val_loss': 7988.251953125}, {'val_loss': 7988.271484375}, {'val_loss': 7988.25146484375}, {'val_loss': 7988.2578125}, {'val_loss': 7988.28515625}, {'val_loss': 7988.29345703125}, {'val_loss': 7988.30712890625}, {'val_loss': 7988.33837890625}, {'val_loss': 7988.357421875}, {'val_loss': 7988.3466796875}, {'val_loss': 7988.349609375}, {'val_loss': 7988.3916015625}, {'val_loss': 7988.40234375}, {'val_loss': 7988.35546875}, {'val_loss': 7988.3447265625}, {'val_loss': 7988.3291015625}, {'val_loss': 7988.3525390625}, {'val_loss': 7988.333984375}, {'val_loss': 7988.30078125}, {'val_loss': 7988.296875}, {'val_loss': 7988.283203125}, {'val_loss': 7988.2939453125}, {'val_loss': 7988.310546875}, {'val_loss': 7988.2802734375}, {'val_loss': 7988.2685546875}, {'val_loss': 7988.2412109375}, {'val_loss': 7988.25634765625}, {'val_loss': 7988.2744140625}, {'val_loss': 7988.2666015625}, {'val_loss': 7988.259765625}, {'val_loss': 7988.2587890625}, {'val_loss': 7988.2607421875}, {'val_loss': 7988.23291015625}, {'val_loss': 7988.2412109375}, {'val_loss': 7988.259765625}, {'val_loss': 7988.2607421875}, {'val_loss': 7988.263671875}, {'val_loss': 7988.24951171875}, {'val_loss': 7988.275390625}, {'val_loss': 7988.2509765625}, {'val_loss': 7988.255859375}, {'val_loss': 7988.2392578125}, {'val_loss': 7988.25}, {'val_loss': 7988.255859375}, {'val_loss': 7988.24365234375}, {'val_loss': 7988.2294921875}, {'val_loss': 7988.2099609375}, {'val_loss': 7988.2158203125}, {'val_loss': 7988.205078125}, {'val_loss': 7988.1826171875}, {'val_loss': 7988.19921875}, {'val_loss': 7988.19921875}, {'val_loss': 7988.20947265625}, {'val_loss': 7988.2138671875}, {'val_loss': 7988.185546875}, {'val_loss': 7988.1796875}, {'val_loss': 7988.1474609375}, {'val_loss': 7988.16162109375}, {'val_loss': 7988.1611328125}, {'val_loss': 7988.16455078125}, {'val_loss': 7988.1669921875}, {'val_loss': 7988.16650390625}, {'val_loss': 7988.1494140625}, {'val_loss': 7988.146484375}, {'val_loss': 7988.109375}, {'val_loss': 7988.0849609375}, {'val_loss': 7988.10546875}, {'val_loss': 7988.087890625}, {'val_loss': 7988.11083984375}, {'val_loss': 7988.126953125}, {'val_loss': 7988.10888671875}, {'val_loss': 7988.1064453125}, {'val_loss': 7988.10986328125}, {'val_loss': 7988.08544921875}, {'val_loss': 7988.0498046875}, {'val_loss': 7988.06396484375}, {'val_loss': 7988.0615234375}, {'val_loss': 7988.0517578125}, {'val_loss': 7988.041015625}, {'val_loss': 7988.06005859375}, {'val_loss': 7988.07568359375}, {'val_loss': 7988.095703125}, {'val_loss': 7988.08935546875}, {'val_loss': 7988.07763671875}, {'val_loss': 7988.0849609375}, {'val_loss': 7988.07958984375}, {'val_loss': 7988.07763671875}, {'val_loss': 7988.0341796875}, {'val_loss': 7988.04736328125}, {'val_loss': 7988.0244140625}, {'val_loss': 7987.99267578125}, {'val_loss': 7988.001953125}, {'val_loss': 7987.986328125}]\n",
            "Epoch [20], val_loss: 7987.9795\n"
          ],
          "name": "stdout"
        },
        {
          "output_type": "stream",
          "text": [
            "Epoch [40], val_loss: 7987.9849\n",
            "Epoch [60], val_loss: 7987.9858\n",
            "Epoch [80], val_loss: 7987.9980\n",
            "Epoch [100], val_loss: 7988.0078\n",
            "Epoch [120], val_loss: 7988.0068\n",
            "Epoch [140], val_loss: 7988.0146\n",
            "Epoch [160], val_loss: 7988.0225\n",
            "Epoch [180], val_loss: 7988.0190\n",
            "Epoch [200], val_loss: 7988.0195\n",
            "Epoch [220], val_loss: 7988.0283\n",
            "Epoch [240], val_loss: 7988.0410\n",
            "Epoch [260], val_loss: 7988.0415\n",
            "Epoch [280], val_loss: 7988.0264\n",
            "Epoch [300], val_loss: 7988.0400\n",
            "Epoch [320], val_loss: 7988.0410\n",
            "Epoch [340], val_loss: 7988.0405\n",
            "Epoch [360], val_loss: 7988.0400\n",
            "Epoch [380], val_loss: 7988.0420\n",
            "Epoch [400], val_loss: 7988.0381\n",
            "Epoch [420], val_loss: 7988.0430\n",
            "Epoch [440], val_loss: 7988.0488\n",
            "Epoch [460], val_loss: 7988.0337\n",
            "Epoch [480], val_loss: 7988.0352\n",
            "Epoch [500], val_loss: 7988.0469\n",
            "[{'val_loss': 7987.9853515625}, {'val_loss': 7987.986328125}, {'val_loss': 7987.984375}, {'val_loss': 7987.984375}, {'val_loss': 7987.9853515625}, {'val_loss': 7987.986328125}, {'val_loss': 7987.986328125}, {'val_loss': 7987.986328125}, {'val_loss': 7987.9853515625}, {'val_loss': 7987.98681640625}, {'val_loss': 7987.986328125}, {'val_loss': 7987.98486328125}, {'val_loss': 7987.98193359375}, {'val_loss': 7987.98193359375}, {'val_loss': 7987.982421875}, {'val_loss': 7987.982421875}, {'val_loss': 7987.978515625}, {'val_loss': 7987.9794921875}, {'val_loss': 7987.9775390625}, {'val_loss': 7987.9794921875}, {'val_loss': 7987.97900390625}, {'val_loss': 7987.9833984375}, {'val_loss': 7987.982421875}, {'val_loss': 7987.9814453125}, {'val_loss': 7987.97900390625}, {'val_loss': 7987.98046875}, {'val_loss': 7987.982421875}, {'val_loss': 7987.9833984375}, {'val_loss': 7987.982421875}, {'val_loss': 7987.982421875}, {'val_loss': 7987.9833984375}, {'val_loss': 7987.98486328125}, {'val_loss': 7987.98291015625}, {'val_loss': 7987.982421875}, {'val_loss': 7987.9814453125}, {'val_loss': 7987.98486328125}, {'val_loss': 7987.98486328125}, {'val_loss': 7987.984375}, {'val_loss': 7987.984375}, {'val_loss': 7987.98486328125}, {'val_loss': 7987.98388671875}, {'val_loss': 7987.984375}, {'val_loss': 7987.982421875}, {'val_loss': 7987.9814453125}, {'val_loss': 7987.9814453125}, {'val_loss': 7987.982421875}, {'val_loss': 7987.986328125}, {'val_loss': 7987.986328125}, {'val_loss': 7987.9873046875}, {'val_loss': 7987.98828125}, {'val_loss': 7987.99072265625}, {'val_loss': 7987.98828125}, {'val_loss': 7987.98681640625}, {'val_loss': 7987.9873046875}, {'val_loss': 7987.98828125}, {'val_loss': 7987.9892578125}, {'val_loss': 7987.9873046875}, {'val_loss': 7987.982421875}, {'val_loss': 7987.9853515625}, {'val_loss': 7987.98583984375}, {'val_loss': 7987.984375}, {'val_loss': 7987.9833984375}, {'val_loss': 7987.986328125}, {'val_loss': 7987.98828125}, {'val_loss': 7987.9912109375}, {'val_loss': 7987.99072265625}, {'val_loss': 7987.9921875}, {'val_loss': 7987.98876953125}, {'val_loss': 7987.98876953125}, {'val_loss': 7987.990234375}, {'val_loss': 7987.9892578125}, {'val_loss': 7987.98828125}, {'val_loss': 7987.9892578125}, {'val_loss': 7987.98828125}, {'val_loss': 7987.9931640625}, {'val_loss': 7987.994140625}, {'val_loss': 7987.99609375}, {'val_loss': 7987.998046875}, {'val_loss': 7988.0}, {'val_loss': 7987.998046875}, {'val_loss': 7987.99755859375}, {'val_loss': 7988.00146484375}, {'val_loss': 7988.001953125}, {'val_loss': 7987.99951171875}, {'val_loss': 7987.9990234375}, {'val_loss': 7988.001953125}, {'val_loss': 7988.00341796875}, {'val_loss': 7988.00390625}, {'val_loss': 7988.00341796875}, {'val_loss': 7988.00390625}, {'val_loss': 7988.005859375}, {'val_loss': 7988.00390625}, {'val_loss': 7988.005859375}, {'val_loss': 7988.00634765625}, {'val_loss': 7988.005859375}, {'val_loss': 7988.00390625}, {'val_loss': 7988.0029296875}, {'val_loss': 7988.0048828125}, {'val_loss': 7988.005859375}, {'val_loss': 7988.0078125}, {'val_loss': 7988.0107421875}, {'val_loss': 7988.0107421875}, {'val_loss': 7988.0107421875}, {'val_loss': 7988.01171875}, {'val_loss': 7988.01171875}, {'val_loss': 7988.0126953125}, {'val_loss': 7988.0126953125}, {'val_loss': 7988.0107421875}, {'val_loss': 7988.009765625}, {'val_loss': 7988.00732421875}, {'val_loss': 7988.009765625}, {'val_loss': 7988.0078125}, {'val_loss': 7988.00634765625}, {'val_loss': 7988.0068359375}, {'val_loss': 7988.0068359375}, {'val_loss': 7988.0068359375}, {'val_loss': 7988.0068359375}, {'val_loss': 7988.00927734375}, {'val_loss': 7988.0078125}, {'val_loss': 7988.0068359375}, {'val_loss': 7988.005859375}, {'val_loss': 7988.005859375}, {'val_loss': 7988.0048828125}, {'val_loss': 7988.005859375}, {'val_loss': 7988.00146484375}, {'val_loss': 7988.00390625}, {'val_loss': 7988.0048828125}, {'val_loss': 7988.0078125}, {'val_loss': 7988.00634765625}, {'val_loss': 7988.005859375}, {'val_loss': 7988.0068359375}, {'val_loss': 7988.0078125}, {'val_loss': 7988.009765625}, {'val_loss': 7988.01171875}, {'val_loss': 7988.01123046875}, {'val_loss': 7988.0107421875}, {'val_loss': 7988.009765625}, {'val_loss': 7988.0126953125}, {'val_loss': 7988.0126953125}, {'val_loss': 7988.0146484375}, {'val_loss': 7988.0146484375}, {'val_loss': 7988.013671875}, {'val_loss': 7988.0146484375}, {'val_loss': 7988.0146484375}, {'val_loss': 7988.013671875}, {'val_loss': 7988.01220703125}, {'val_loss': 7988.013671875}, {'val_loss': 7988.015625}, {'val_loss': 7988.01171875}, {'val_loss': 7988.01318359375}, {'val_loss': 7988.0146484375}, {'val_loss': 7988.013671875}, {'val_loss': 7988.0146484375}, {'val_loss': 7988.017578125}, {'val_loss': 7988.01806640625}, {'val_loss': 7988.0185546875}, {'val_loss': 7988.01904296875}, {'val_loss': 7988.01904296875}, {'val_loss': 7988.0244140625}, {'val_loss': 7988.0224609375}, {'val_loss': 7988.0205078125}, {'val_loss': 7988.0224609375}, {'val_loss': 7988.0244140625}, {'val_loss': 7988.0234375}, {'val_loss': 7988.02197265625}, {'val_loss': 7988.01953125}, {'val_loss': 7988.01953125}, {'val_loss': 7988.021484375}, {'val_loss': 7988.021484375}, {'val_loss': 7988.0224609375}, {'val_loss': 7988.0244140625}, {'val_loss': 7988.0244140625}, {'val_loss': 7988.0224609375}, {'val_loss': 7988.0205078125}, {'val_loss': 7988.02001953125}, {'val_loss': 7988.021484375}, {'val_loss': 7988.0234375}, {'val_loss': 7988.021484375}, {'val_loss': 7988.01953125}, {'val_loss': 7988.01904296875}, {'val_loss': 7988.0185546875}, {'val_loss': 7988.0185546875}, {'val_loss': 7988.0166015625}, {'val_loss': 7988.0185546875}, {'val_loss': 7988.0185546875}, {'val_loss': 7988.02099609375}, {'val_loss': 7988.0205078125}, {'val_loss': 7988.0166015625}, {'val_loss': 7988.01611328125}, {'val_loss': 7988.015625}, {'val_loss': 7988.015625}, {'val_loss': 7988.015625}, {'val_loss': 7988.015625}, {'val_loss': 7988.0185546875}, {'val_loss': 7988.015625}, {'val_loss': 7988.015625}, {'val_loss': 7988.015625}, {'val_loss': 7988.017578125}, {'val_loss': 7988.01953125}, {'val_loss': 7988.01953125}, {'val_loss': 7988.01953125}, {'val_loss': 7988.02197265625}, {'val_loss': 7988.0234375}, {'val_loss': 7988.0244140625}, {'val_loss': 7988.0224609375}, {'val_loss': 7988.0224609375}, {'val_loss': 7988.0244140625}, {'val_loss': 7988.025390625}, {'val_loss': 7988.0263671875}, {'val_loss': 7988.025390625}, {'val_loss': 7988.0244140625}, {'val_loss': 7988.0263671875}, {'val_loss': 7988.02978515625}, {'val_loss': 7988.0263671875}, {'val_loss': 7988.0263671875}, {'val_loss': 7988.0283203125}, {'val_loss': 7988.029296875}, {'val_loss': 7988.03125}, {'val_loss': 7988.02880859375}, {'val_loss': 7988.0283203125}, {'val_loss': 7988.02734375}, {'val_loss': 7988.0263671875}, {'val_loss': 7988.025390625}, {'val_loss': 7988.0302734375}, {'val_loss': 7988.029296875}, {'val_loss': 7988.0302734375}, {'val_loss': 7988.03076171875}, {'val_loss': 7988.029296875}, {'val_loss': 7988.0283203125}, {'val_loss': 7988.03173828125}, {'val_loss': 7988.03271484375}, {'val_loss': 7988.033203125}, {'val_loss': 7988.03515625}, {'val_loss': 7988.037109375}, {'val_loss': 7988.037109375}, {'val_loss': 7988.03515625}, {'val_loss': 7988.03515625}, {'val_loss': 7988.03759765625}, {'val_loss': 7988.041015625}, {'val_loss': 7988.041015625}, {'val_loss': 7988.041015625}, {'val_loss': 7988.04150390625}, {'val_loss': 7988.0400390625}, {'val_loss': 7988.04052734375}, {'val_loss': 7988.04150390625}, {'val_loss': 7988.041015625}, {'val_loss': 7988.0400390625}, {'val_loss': 7988.041015625}, {'val_loss': 7988.0390625}, {'val_loss': 7988.03662109375}, {'val_loss': 7988.03466796875}, {'val_loss': 7988.0361328125}, {'val_loss': 7988.03466796875}, {'val_loss': 7988.03564453125}, {'val_loss': 7988.0400390625}, {'val_loss': 7988.041015625}, {'val_loss': 7988.0400390625}, {'val_loss': 7988.0390625}, {'val_loss': 7988.03857421875}, {'val_loss': 7988.04150390625}, {'val_loss': 7988.0390625}, {'val_loss': 7988.03857421875}, {'val_loss': 7988.03857421875}, {'val_loss': 7988.03515625}, {'val_loss': 7988.0361328125}, {'val_loss': 7988.0341796875}, {'val_loss': 7988.0341796875}, {'val_loss': 7988.03369140625}, {'val_loss': 7988.03173828125}, {'val_loss': 7988.03076171875}, {'val_loss': 7988.029296875}, {'val_loss': 7988.02880859375}, {'val_loss': 7988.0283203125}, {'val_loss': 7988.0263671875}, {'val_loss': 7988.02734375}, {'val_loss': 7988.025390625}, {'val_loss': 7988.025390625}, {'val_loss': 7988.0234375}, {'val_loss': 7988.02587890625}, {'val_loss': 7988.0263671875}, {'val_loss': 7988.02783203125}, {'val_loss': 7988.02734375}, {'val_loss': 7988.025390625}, {'val_loss': 7988.02734375}, {'val_loss': 7988.0283203125}, {'val_loss': 7988.0302734375}, {'val_loss': 7988.0322265625}, {'val_loss': 7988.033203125}, {'val_loss': 7988.033203125}, {'val_loss': 7988.033203125}, {'val_loss': 7988.0322265625}, {'val_loss': 7988.0302734375}, {'val_loss': 7988.03271484375}, {'val_loss': 7988.03515625}, {'val_loss': 7988.03466796875}, {'val_loss': 7988.0361328125}, {'val_loss': 7988.03564453125}, {'val_loss': 7988.0390625}, {'val_loss': 7988.04052734375}, {'val_loss': 7988.0400390625}, {'val_loss': 7988.041015625}, {'val_loss': 7988.0419921875}, {'val_loss': 7988.0390625}, {'val_loss': 7988.037109375}, {'val_loss': 7988.0400390625}, {'val_loss': 7988.041015625}, {'val_loss': 7988.0390625}, {'val_loss': 7988.0400390625}, {'val_loss': 7988.04052734375}, {'val_loss': 7988.0380859375}, {'val_loss': 7988.0361328125}, {'val_loss': 7988.03759765625}, {'val_loss': 7988.03515625}, {'val_loss': 7988.03515625}, {'val_loss': 7988.0380859375}, {'val_loss': 7988.03857421875}, {'val_loss': 7988.041015625}, {'val_loss': 7988.03759765625}, {'val_loss': 7988.041015625}, {'val_loss': 7988.041015625}, {'val_loss': 7988.0390625}, {'val_loss': 7988.0390625}, {'val_loss': 7988.0380859375}, {'val_loss': 7988.03466796875}, {'val_loss': 7988.03857421875}, {'val_loss': 7988.03857421875}, {'val_loss': 7988.0390625}, {'val_loss': 7988.041015625}, {'val_loss': 7988.0400390625}, {'val_loss': 7988.03759765625}, {'val_loss': 7988.0400390625}, {'val_loss': 7988.041015625}, {'val_loss': 7988.04150390625}, {'val_loss': 7988.04296875}, {'val_loss': 7988.0400390625}, {'val_loss': 7988.04052734375}, {'val_loss': 7988.041015625}, {'val_loss': 7988.041015625}, {'val_loss': 7988.041015625}, {'val_loss': 7988.04052734375}, {'val_loss': 7988.041015625}, {'val_loss': 7988.04248046875}, {'val_loss': 7988.04443359375}, {'val_loss': 7988.044921875}, {'val_loss': 7988.041015625}, {'val_loss': 7988.0400390625}, {'val_loss': 7988.04052734375}, {'val_loss': 7988.0419921875}, {'val_loss': 7988.04345703125}, {'val_loss': 7988.04248046875}, {'val_loss': 7988.04296875}, {'val_loss': 7988.0419921875}, {'val_loss': 7988.041015625}, {'val_loss': 7988.04150390625}, {'val_loss': 7988.03955078125}, {'val_loss': 7988.041015625}, {'val_loss': 7988.0419921875}, {'val_loss': 7988.0400390625}, {'val_loss': 7988.0400390625}, {'val_loss': 7988.0400390625}, {'val_loss': 7988.0380859375}, {'val_loss': 7988.0390625}, {'val_loss': 7988.0390625}, {'val_loss': 7988.04052734375}, {'val_loss': 7988.0400390625}, {'val_loss': 7988.0400390625}, {'val_loss': 7988.0380859375}, {'val_loss': 7988.03759765625}, {'val_loss': 7988.037109375}, {'val_loss': 7988.04248046875}, {'val_loss': 7988.04150390625}, {'val_loss': 7988.041015625}, {'val_loss': 7988.03955078125}, {'val_loss': 7988.041015625}, {'val_loss': 7988.0419921875}, {'val_loss': 7988.04296875}, {'val_loss': 7988.041015625}, {'val_loss': 7988.0390625}, {'val_loss': 7988.03857421875}, {'val_loss': 7988.0419921875}, {'val_loss': 7988.04296875}, {'val_loss': 7988.041015625}, {'val_loss': 7988.0390625}, {'val_loss': 7988.0380859375}, {'val_loss': 7988.037109375}, {'val_loss': 7988.0380859375}, {'val_loss': 7988.0390625}, {'val_loss': 7988.0390625}, {'val_loss': 7988.04150390625}, {'val_loss': 7988.04150390625}, {'val_loss': 7988.041015625}, {'val_loss': 7988.0400390625}, {'val_loss': 7988.0400390625}, {'val_loss': 7988.041015625}, {'val_loss': 7988.0400390625}, {'val_loss': 7988.04052734375}, {'val_loss': 7988.0419921875}, {'val_loss': 7988.0419921875}, {'val_loss': 7988.0380859375}, {'val_loss': 7988.0380859375}, {'val_loss': 7988.037109375}, {'val_loss': 7988.03759765625}, {'val_loss': 7988.0390625}, {'val_loss': 7988.0419921875}, {'val_loss': 7988.04248046875}, {'val_loss': 7988.041015625}, {'val_loss': 7988.0400390625}, {'val_loss': 7988.04296875}, {'val_loss': 7988.0439453125}, {'val_loss': 7988.0439453125}, {'val_loss': 7988.0439453125}, {'val_loss': 7988.0439453125}, {'val_loss': 7988.04541015625}, {'val_loss': 7988.0439453125}, {'val_loss': 7988.0419921875}, {'val_loss': 7988.04345703125}, {'val_loss': 7988.0419921875}, {'val_loss': 7988.0439453125}, {'val_loss': 7988.04296875}, {'val_loss': 7988.04296875}, {'val_loss': 7988.0439453125}, {'val_loss': 7988.04296875}, {'val_loss': 7988.04296875}, {'val_loss': 7988.044921875}, {'val_loss': 7988.046875}, {'val_loss': 7988.0458984375}, {'val_loss': 7988.046875}, {'val_loss': 7988.0439453125}, {'val_loss': 7988.0458984375}, {'val_loss': 7988.0478515625}, {'val_loss': 7988.044921875}, {'val_loss': 7988.0458984375}, {'val_loss': 7988.046875}, {'val_loss': 7988.0458984375}, {'val_loss': 7988.04736328125}, {'val_loss': 7988.046875}, {'val_loss': 7988.0478515625}, {'val_loss': 7988.0478515625}, {'val_loss': 7988.048828125}, {'val_loss': 7988.048828125}, {'val_loss': 7988.048828125}, {'val_loss': 7988.04931640625}, {'val_loss': 7988.048828125}, {'val_loss': 7988.048828125}, {'val_loss': 7988.04833984375}, {'val_loss': 7988.048828125}, {'val_loss': 7988.046875}, {'val_loss': 7988.0439453125}, {'val_loss': 7988.04296875}, {'val_loss': 7988.04296875}, {'val_loss': 7988.041015625}, {'val_loss': 7988.0400390625}, {'val_loss': 7988.03857421875}, {'val_loss': 7988.0400390625}, {'val_loss': 7988.0380859375}, {'val_loss': 7988.0361328125}, {'val_loss': 7988.0361328125}, {'val_loss': 7988.03515625}, {'val_loss': 7988.0361328125}, {'val_loss': 7988.03369140625}, {'val_loss': 7988.033203125}, {'val_loss': 7988.03369140625}, {'val_loss': 7988.0322265625}, {'val_loss': 7988.03173828125}, {'val_loss': 7988.03271484375}, {'val_loss': 7988.03271484375}, {'val_loss': 7988.0302734375}, {'val_loss': 7988.03125}, {'val_loss': 7988.0322265625}, {'val_loss': 7988.0322265625}, {'val_loss': 7988.03125}, {'val_loss': 7988.029296875}, {'val_loss': 7988.0302734375}, {'val_loss': 7988.0322265625}, {'val_loss': 7988.03271484375}, {'val_loss': 7988.033203125}, {'val_loss': 7988.0322265625}, {'val_loss': 7988.03515625}, {'val_loss': 7988.03515625}, {'val_loss': 7988.03515625}, {'val_loss': 7988.0380859375}, {'val_loss': 7988.03857421875}, {'val_loss': 7988.0390625}, {'val_loss': 7988.0380859375}, {'val_loss': 7988.04296875}, {'val_loss': 7988.0400390625}, {'val_loss': 7988.0380859375}, {'val_loss': 7988.0400390625}, {'val_loss': 7988.0400390625}, {'val_loss': 7988.04248046875}, {'val_loss': 7988.0419921875}, {'val_loss': 7988.0419921875}, {'val_loss': 7988.044921875}, {'val_loss': 7988.0478515625}, {'val_loss': 7988.04736328125}, {'val_loss': 7988.044921875}, {'val_loss': 7988.0458984375}, {'val_loss': 7988.04345703125}, {'val_loss': 7988.04638671875}, {'val_loss': 7988.046875}]\n"
          ],
          "name": "stdout"
        },
        {
          "output_type": "stream",
          "text": [
            "Epoch [20], val_loss: 7988.0459\n",
            "Epoch [40], val_loss: 7988.0464\n",
            "Epoch [60], val_loss: 7988.0454\n",
            "Epoch [80], val_loss: 7988.0449\n",
            "Epoch [100], val_loss: 7988.0464\n",
            "Epoch [120], val_loss: 7988.0474\n",
            "Epoch [140], val_loss: 7988.0479\n",
            "Epoch [160], val_loss: 7988.0483\n",
            "Epoch [180], val_loss: 7988.0488\n",
            "Epoch [200], val_loss: 7988.0503\n",
            "Epoch [220], val_loss: 7988.0493\n",
            "Epoch [240], val_loss: 7988.0493\n",
            "Epoch [260], val_loss: 7988.0479\n",
            "Epoch [280], val_loss: 7988.0488\n",
            "Epoch [300], val_loss: 7988.0493\n",
            "Epoch [320], val_loss: 7988.0488\n",
            "Epoch [340], val_loss: 7988.0479\n",
            "Epoch [360], val_loss: 7988.0483\n",
            "Epoch [380], val_loss: 7988.0498\n",
            "Epoch [400], val_loss: 7988.0508\n",
            "Epoch [420], val_loss: 7988.0488\n",
            "Epoch [440], val_loss: 7988.0518\n",
            "Epoch [460], val_loss: 7988.0508\n",
            "Epoch [480], val_loss: 7988.0498\n",
            "Epoch [500], val_loss: 7988.0508\n",
            "[{'val_loss': 7988.04638671875}, {'val_loss': 7988.04638671875}, {'val_loss': 7988.0458984375}, {'val_loss': 7988.0458984375}, {'val_loss': 7988.0458984375}, {'val_loss': 7988.0458984375}, {'val_loss': 7988.046875}, {'val_loss': 7988.0458984375}, {'val_loss': 7988.0458984375}, {'val_loss': 7988.046875}, {'val_loss': 7988.046875}, {'val_loss': 7988.046875}, {'val_loss': 7988.04638671875}, {'val_loss': 7988.04638671875}, {'val_loss': 7988.0458984375}, {'val_loss': 7988.0458984375}, {'val_loss': 7988.0458984375}, {'val_loss': 7988.0458984375}, {'val_loss': 7988.0458984375}, {'val_loss': 7988.0458984375}, {'val_loss': 7988.0458984375}, {'val_loss': 7988.0458984375}, {'val_loss': 7988.0458984375}, {'val_loss': 7988.0458984375}, {'val_loss': 7988.0458984375}, {'val_loss': 7988.0458984375}, {'val_loss': 7988.0458984375}, {'val_loss': 7988.0458984375}, {'val_loss': 7988.0458984375}, {'val_loss': 7988.0458984375}, {'val_loss': 7988.0458984375}, {'val_loss': 7988.0458984375}, {'val_loss': 7988.0458984375}, {'val_loss': 7988.04541015625}, {'val_loss': 7988.0458984375}, {'val_loss': 7988.046875}, {'val_loss': 7988.046875}, {'val_loss': 7988.0458984375}, {'val_loss': 7988.04638671875}, {'val_loss': 7988.04638671875}, {'val_loss': 7988.04638671875}, {'val_loss': 7988.04638671875}, {'val_loss': 7988.04638671875}, {'val_loss': 7988.0458984375}, {'val_loss': 7988.04638671875}, {'val_loss': 7988.04638671875}, {'val_loss': 7988.04638671875}, {'val_loss': 7988.046875}, {'val_loss': 7988.0458984375}, {'val_loss': 7988.0458984375}, {'val_loss': 7988.0458984375}, {'val_loss': 7988.044921875}, {'val_loss': 7988.044921875}, {'val_loss': 7988.0458984375}, {'val_loss': 7988.044921875}, {'val_loss': 7988.0458984375}, {'val_loss': 7988.0458984375}, {'val_loss': 7988.04541015625}, {'val_loss': 7988.044921875}, {'val_loss': 7988.04541015625}, {'val_loss': 7988.044921875}, {'val_loss': 7988.04443359375}, {'val_loss': 7988.044921875}, {'val_loss': 7988.044921875}, {'val_loss': 7988.044921875}, {'val_loss': 7988.044921875}, {'val_loss': 7988.044921875}, {'val_loss': 7988.04443359375}, {'val_loss': 7988.0439453125}, {'val_loss': 7988.0439453125}, {'val_loss': 7988.0439453125}, {'val_loss': 7988.0439453125}, {'val_loss': 7988.0439453125}, {'val_loss': 7988.044921875}, {'val_loss': 7988.044921875}, {'val_loss': 7988.044921875}, {'val_loss': 7988.044921875}, {'val_loss': 7988.044921875}, {'val_loss': 7988.044921875}, {'val_loss': 7988.044921875}, {'val_loss': 7988.04638671875}, {'val_loss': 7988.0458984375}, {'val_loss': 7988.0458984375}, {'val_loss': 7988.0458984375}, {'val_loss': 7988.0458984375}, {'val_loss': 7988.0458984375}, {'val_loss': 7988.0458984375}, {'val_loss': 7988.0458984375}, {'val_loss': 7988.04638671875}, {'val_loss': 7988.04638671875}, {'val_loss': 7988.0458984375}, {'val_loss': 7988.0458984375}, {'val_loss': 7988.04638671875}, {'val_loss': 7988.0458984375}, {'val_loss': 7988.046875}, {'val_loss': 7988.046875}, {'val_loss': 7988.046875}, {'val_loss': 7988.04638671875}, {'val_loss': 7988.046875}, {'val_loss': 7988.04638671875}, {'val_loss': 7988.04638671875}, {'val_loss': 7988.04638671875}, {'val_loss': 7988.04638671875}, {'val_loss': 7988.046875}, {'val_loss': 7988.04638671875}, {'val_loss': 7988.046875}, {'val_loss': 7988.04638671875}, {'val_loss': 7988.046875}, {'val_loss': 7988.046875}, {'val_loss': 7988.0478515625}, {'val_loss': 7988.046875}, {'val_loss': 7988.046875}, {'val_loss': 7988.0478515625}, {'val_loss': 7988.046875}, {'val_loss': 7988.046875}, {'val_loss': 7988.0478515625}, {'val_loss': 7988.046875}, {'val_loss': 7988.0478515625}, {'val_loss': 7988.046875}, {'val_loss': 7988.04736328125}, {'val_loss': 7988.046875}, {'val_loss': 7988.046875}, {'val_loss': 7988.046875}, {'val_loss': 7988.046875}, {'val_loss': 7988.0458984375}, {'val_loss': 7988.0458984375}, {'val_loss': 7988.04638671875}, {'val_loss': 7988.04638671875}, {'val_loss': 7988.046875}, {'val_loss': 7988.0458984375}, {'val_loss': 7988.04638671875}, {'val_loss': 7988.0478515625}, {'val_loss': 7988.046875}, {'val_loss': 7988.0478515625}, {'val_loss': 7988.046875}, {'val_loss': 7988.0478515625}, {'val_loss': 7988.046875}, {'val_loss': 7988.046875}, {'val_loss': 7988.0478515625}, {'val_loss': 7988.0478515625}, {'val_loss': 7988.04833984375}, {'val_loss': 7988.04833984375}, {'val_loss': 7988.0478515625}, {'val_loss': 7988.04833984375}, {'val_loss': 7988.048828125}, {'val_loss': 7988.0478515625}, {'val_loss': 7988.0478515625}, {'val_loss': 7988.0478515625}, {'val_loss': 7988.04833984375}, {'val_loss': 7988.048828125}, {'val_loss': 7988.0478515625}, {'val_loss': 7988.0478515625}, {'val_loss': 7988.0478515625}, {'val_loss': 7988.0478515625}, {'val_loss': 7988.0478515625}, {'val_loss': 7988.0478515625}, {'val_loss': 7988.0478515625}, {'val_loss': 7988.0478515625}, {'val_loss': 7988.0478515625}, {'val_loss': 7988.04833984375}, {'val_loss': 7988.04833984375}, {'val_loss': 7988.0478515625}, {'val_loss': 7988.0478515625}, {'val_loss': 7988.0478515625}, {'val_loss': 7988.0478515625}, {'val_loss': 7988.0478515625}, {'val_loss': 7988.0478515625}, {'val_loss': 7988.0478515625}, {'val_loss': 7988.0478515625}, {'val_loss': 7988.048828125}, {'val_loss': 7988.0478515625}, {'val_loss': 7988.04833984375}, {'val_loss': 7988.04833984375}, {'val_loss': 7988.04833984375}, {'val_loss': 7988.048828125}, {'val_loss': 7988.04931640625}, {'val_loss': 7988.0498046875}, {'val_loss': 7988.0498046875}, {'val_loss': 7988.0498046875}, {'val_loss': 7988.048828125}, {'val_loss': 7988.0498046875}, {'val_loss': 7988.05029296875}, {'val_loss': 7988.0498046875}, {'val_loss': 7988.05029296875}, {'val_loss': 7988.0498046875}, {'val_loss': 7988.0498046875}, {'val_loss': 7988.0498046875}, {'val_loss': 7988.0498046875}, {'val_loss': 7988.0498046875}, {'val_loss': 7988.0498046875}, {'val_loss': 7988.05078125}, {'val_loss': 7988.0498046875}, {'val_loss': 7988.0498046875}, {'val_loss': 7988.05029296875}, {'val_loss': 7988.0498046875}, {'val_loss': 7988.05029296875}, {'val_loss': 7988.0498046875}, {'val_loss': 7988.0498046875}, {'val_loss': 7988.05029296875}, {'val_loss': 7988.05029296875}, {'val_loss': 7988.0498046875}, {'val_loss': 7988.0498046875}, {'val_loss': 7988.0498046875}, {'val_loss': 7988.0498046875}, {'val_loss': 7988.0498046875}, {'val_loss': 7988.0498046875}, {'val_loss': 7988.0498046875}, {'val_loss': 7988.0498046875}, {'val_loss': 7988.0498046875}, {'val_loss': 7988.0498046875}, {'val_loss': 7988.048828125}, {'val_loss': 7988.04931640625}, {'val_loss': 7988.0498046875}, {'val_loss': 7988.0498046875}, {'val_loss': 7988.0498046875}, {'val_loss': 7988.0498046875}, {'val_loss': 7988.048828125}, {'val_loss': 7988.04931640625}, {'val_loss': 7988.048828125}, {'val_loss': 7988.04931640625}, {'val_loss': 7988.04931640625}, {'val_loss': 7988.05029296875}, {'val_loss': 7988.048828125}, {'val_loss': 7988.04931640625}, {'val_loss': 7988.04931640625}, {'val_loss': 7988.0498046875}, {'val_loss': 7988.04931640625}, {'val_loss': 7988.0498046875}, {'val_loss': 7988.048828125}, {'val_loss': 7988.0498046875}, {'val_loss': 7988.048828125}, {'val_loss': 7988.04931640625}, {'val_loss': 7988.0498046875}, {'val_loss': 7988.04931640625}, {'val_loss': 7988.04931640625}, {'val_loss': 7988.04931640625}, {'val_loss': 7988.0498046875}, {'val_loss': 7988.0498046875}, {'val_loss': 7988.0498046875}, {'val_loss': 7988.04931640625}, {'val_loss': 7988.0498046875}, {'val_loss': 7988.048828125}, {'val_loss': 7988.048828125}, {'val_loss': 7988.048828125}, {'val_loss': 7988.048828125}, {'val_loss': 7988.048828125}, {'val_loss': 7988.048828125}, {'val_loss': 7988.048828125}, {'val_loss': 7988.048828125}, {'val_loss': 7988.048828125}, {'val_loss': 7988.048828125}, {'val_loss': 7988.048828125}, {'val_loss': 7988.048828125}, {'val_loss': 7988.048828125}, {'val_loss': 7988.048828125}, {'val_loss': 7988.04833984375}, {'val_loss': 7988.0478515625}, {'val_loss': 7988.0478515625}, {'val_loss': 7988.0478515625}, {'val_loss': 7988.0478515625}, {'val_loss': 7988.0478515625}, {'val_loss': 7988.0478515625}, {'val_loss': 7988.04736328125}, {'val_loss': 7988.046875}, {'val_loss': 7988.0478515625}, {'val_loss': 7988.048828125}, {'val_loss': 7988.048828125}, {'val_loss': 7988.0478515625}, {'val_loss': 7988.0478515625}, {'val_loss': 7988.048828125}, {'val_loss': 7988.04833984375}, {'val_loss': 7988.04931640625}, {'val_loss': 7988.048828125}, {'val_loss': 7988.048828125}, {'val_loss': 7988.04931640625}, {'val_loss': 7988.04931640625}, {'val_loss': 7988.04931640625}, {'val_loss': 7988.048828125}, {'val_loss': 7988.048828125}, {'val_loss': 7988.048828125}, {'val_loss': 7988.048828125}, {'val_loss': 7988.04931640625}, {'val_loss': 7988.048828125}, {'val_loss': 7988.04931640625}, {'val_loss': 7988.0498046875}, {'val_loss': 7988.04931640625}, {'val_loss': 7988.048828125}, {'val_loss': 7988.04931640625}, {'val_loss': 7988.048828125}, {'val_loss': 7988.048828125}, {'val_loss': 7988.048828125}, {'val_loss': 7988.04931640625}, {'val_loss': 7988.048828125}, {'val_loss': 7988.048828125}, {'val_loss': 7988.048828125}, {'val_loss': 7988.04931640625}, {'val_loss': 7988.048828125}, {'val_loss': 7988.048828125}, {'val_loss': 7988.04931640625}, {'val_loss': 7988.04931640625}, {'val_loss': 7988.0498046875}, {'val_loss': 7988.048828125}, {'val_loss': 7988.04931640625}, {'val_loss': 7988.04833984375}, {'val_loss': 7988.048828125}, {'val_loss': 7988.048828125}, {'val_loss': 7988.048828125}, {'val_loss': 7988.048828125}, {'val_loss': 7988.048828125}, {'val_loss': 7988.048828125}, {'val_loss': 7988.048828125}, {'val_loss': 7988.0498046875}, {'val_loss': 7988.0498046875}, {'val_loss': 7988.04833984375}, {'val_loss': 7988.0498046875}, {'val_loss': 7988.048828125}, {'val_loss': 7988.048828125}, {'val_loss': 7988.048828125}, {'val_loss': 7988.04833984375}, {'val_loss': 7988.048828125}, {'val_loss': 7988.048828125}, {'val_loss': 7988.048828125}, {'val_loss': 7988.048828125}, {'val_loss': 7988.04833984375}, {'val_loss': 7988.0478515625}, {'val_loss': 7988.0478515625}, {'val_loss': 7988.048828125}, {'val_loss': 7988.0478515625}, {'val_loss': 7988.0478515625}, {'val_loss': 7988.0478515625}, {'val_loss': 7988.0478515625}, {'val_loss': 7988.0478515625}, {'val_loss': 7988.0478515625}, {'val_loss': 7988.0478515625}, {'val_loss': 7988.0478515625}, {'val_loss': 7988.0478515625}, {'val_loss': 7988.0478515625}, {'val_loss': 7988.0478515625}, {'val_loss': 7988.0478515625}, {'val_loss': 7988.0478515625}, {'val_loss': 7988.0478515625}, {'val_loss': 7988.0478515625}, {'val_loss': 7988.0478515625}, {'val_loss': 7988.04736328125}, {'val_loss': 7988.046875}, {'val_loss': 7988.0478515625}, {'val_loss': 7988.0478515625}, {'val_loss': 7988.0478515625}, {'val_loss': 7988.0478515625}, {'val_loss': 7988.0478515625}, {'val_loss': 7988.0478515625}, {'val_loss': 7988.0478515625}, {'val_loss': 7988.0478515625}, {'val_loss': 7988.0478515625}, {'val_loss': 7988.0478515625}, {'val_loss': 7988.04833984375}, {'val_loss': 7988.048828125}, {'val_loss': 7988.048828125}, {'val_loss': 7988.0478515625}, {'val_loss': 7988.04833984375}, {'val_loss': 7988.0478515625}, {'val_loss': 7988.048828125}, {'val_loss': 7988.04833984375}, {'val_loss': 7988.048828125}, {'val_loss': 7988.0478515625}, {'val_loss': 7988.048828125}, {'val_loss': 7988.048828125}, {'val_loss': 7988.048828125}, {'val_loss': 7988.048828125}, {'val_loss': 7988.04833984375}, {'val_loss': 7988.048828125}, {'val_loss': 7988.0478515625}, {'val_loss': 7988.048828125}, {'val_loss': 7988.04931640625}, {'val_loss': 7988.048828125}, {'val_loss': 7988.0498046875}, {'val_loss': 7988.05078125}, {'val_loss': 7988.05078125}, {'val_loss': 7988.05078125}, {'val_loss': 7988.0498046875}, {'val_loss': 7988.0498046875}, {'val_loss': 7988.04931640625}, {'val_loss': 7988.0498046875}, {'val_loss': 7988.05078125}, {'val_loss': 7988.0498046875}, {'val_loss': 7988.05029296875}, {'val_loss': 7988.0498046875}, {'val_loss': 7988.0498046875}, {'val_loss': 7988.05078125}, {'val_loss': 7988.05078125}, {'val_loss': 7988.05078125}, {'val_loss': 7988.05078125}, {'val_loss': 7988.05078125}, {'val_loss': 7988.05078125}, {'val_loss': 7988.05078125}, {'val_loss': 7988.05029296875}, {'val_loss': 7988.0498046875}, {'val_loss': 7988.0498046875}, {'val_loss': 7988.05029296875}, {'val_loss': 7988.05078125}, {'val_loss': 7988.05029296875}, {'val_loss': 7988.0498046875}, {'val_loss': 7988.0498046875}, {'val_loss': 7988.0498046875}, {'val_loss': 7988.05029296875}, {'val_loss': 7988.0498046875}, {'val_loss': 7988.05029296875}, {'val_loss': 7988.05029296875}, {'val_loss': 7988.05029296875}, {'val_loss': 7988.04931640625}, {'val_loss': 7988.0498046875}, {'val_loss': 7988.0498046875}, {'val_loss': 7988.0498046875}, {'val_loss': 7988.0498046875}, {'val_loss': 7988.0498046875}, {'val_loss': 7988.0498046875}, {'val_loss': 7988.0498046875}, {'val_loss': 7988.0498046875}, {'val_loss': 7988.048828125}, {'val_loss': 7988.048828125}, {'val_loss': 7988.048828125}, {'val_loss': 7988.04931640625}, {'val_loss': 7988.048828125}, {'val_loss': 7988.05029296875}, {'val_loss': 7988.0498046875}, {'val_loss': 7988.05078125}, {'val_loss': 7988.0498046875}, {'val_loss': 7988.0498046875}, {'val_loss': 7988.05078125}, {'val_loss': 7988.05078125}, {'val_loss': 7988.05078125}, {'val_loss': 7988.05029296875}, {'val_loss': 7988.0498046875}, {'val_loss': 7988.0498046875}, {'val_loss': 7988.05078125}, {'val_loss': 7988.05029296875}, {'val_loss': 7988.05078125}, {'val_loss': 7988.05029296875}, {'val_loss': 7988.05126953125}, {'val_loss': 7988.0517578125}, {'val_loss': 7988.0517578125}, {'val_loss': 7988.0517578125}, {'val_loss': 7988.0517578125}, {'val_loss': 7988.0517578125}, {'val_loss': 7988.05126953125}, {'val_loss': 7988.05078125}, {'val_loss': 7988.05126953125}, {'val_loss': 7988.0517578125}, {'val_loss': 7988.0517578125}, {'val_loss': 7988.05126953125}, {'val_loss': 7988.05126953125}, {'val_loss': 7988.0517578125}, {'val_loss': 7988.0517578125}, {'val_loss': 7988.0517578125}, {'val_loss': 7988.0517578125}, {'val_loss': 7988.05126953125}, {'val_loss': 7988.0517578125}, {'val_loss': 7988.05126953125}, {'val_loss': 7988.05078125}, {'val_loss': 7988.05078125}, {'val_loss': 7988.05078125}, {'val_loss': 7988.05078125}, {'val_loss': 7988.05078125}, {'val_loss': 7988.05126953125}, {'val_loss': 7988.05078125}, {'val_loss': 7988.05078125}, {'val_loss': 7988.05078125}, {'val_loss': 7988.05078125}, {'val_loss': 7988.0498046875}, {'val_loss': 7988.0498046875}, {'val_loss': 7988.05029296875}, {'val_loss': 7988.0498046875}, {'val_loss': 7988.0498046875}, {'val_loss': 7988.0498046875}, {'val_loss': 7988.0498046875}, {'val_loss': 7988.05078125}, {'val_loss': 7988.05126953125}, {'val_loss': 7988.05126953125}, {'val_loss': 7988.05078125}, {'val_loss': 7988.0498046875}, {'val_loss': 7988.0498046875}, {'val_loss': 7988.0498046875}, {'val_loss': 7988.05126953125}, {'val_loss': 7988.05078125}, {'val_loss': 7988.0517578125}, {'val_loss': 7988.05078125}, {'val_loss': 7988.05126953125}, {'val_loss': 7988.05126953125}, {'val_loss': 7988.05078125}, {'val_loss': 7988.05126953125}, {'val_loss': 7988.05126953125}, {'val_loss': 7988.05029296875}, {'val_loss': 7988.05029296875}, {'val_loss': 7988.0498046875}, {'val_loss': 7988.05029296875}, {'val_loss': 7988.05029296875}, {'val_loss': 7988.05078125}, {'val_loss': 7988.0498046875}, {'val_loss': 7988.05078125}, {'val_loss': 7988.05078125}]\n"
          ],
          "name": "stdout"
        },
        {
          "output_type": "stream",
          "text": [
            "Epoch [20], val_loss: 7988.0508\n",
            "Epoch [40], val_loss: 7988.0508\n",
            "Epoch [60], val_loss: 7988.0508\n",
            "Epoch [80], val_loss: 7988.0508\n",
            "Epoch [100], val_loss: 7988.0508\n",
            "Epoch [120], val_loss: 7988.0513\n",
            "Epoch [140], val_loss: 7988.0508\n",
            "Epoch [160], val_loss: 7988.0513\n",
            "Epoch [180], val_loss: 7988.0508\n",
            "Epoch [200], val_loss: 7988.0508\n",
            "Epoch [220], val_loss: 7988.0508\n",
            "Epoch [240], val_loss: 7988.0508\n",
            "Epoch [260], val_loss: 7988.0508\n",
            "Epoch [280], val_loss: 7988.0513\n",
            "Epoch [300], val_loss: 7988.0513\n",
            "Epoch [320], val_loss: 7988.0508\n",
            "Epoch [340], val_loss: 7988.0508\n",
            "Epoch [360], val_loss: 7988.0508\n",
            "Epoch [380], val_loss: 7988.0508\n",
            "Epoch [400], val_loss: 7988.0508\n",
            "Epoch [420], val_loss: 7988.0508\n",
            "Epoch [440], val_loss: 7988.0508\n",
            "Epoch [460], val_loss: 7988.0508\n",
            "Epoch [480], val_loss: 7988.0508\n",
            "Epoch [500], val_loss: 7988.0508\n",
            "[{'val_loss': 7988.05078125}, {'val_loss': 7988.05126953125}, {'val_loss': 7988.05078125}, {'val_loss': 7988.05126953125}, {'val_loss': 7988.05126953125}, {'val_loss': 7988.05126953125}, {'val_loss': 7988.05126953125}, {'val_loss': 7988.05126953125}, {'val_loss': 7988.05078125}, {'val_loss': 7988.05078125}, {'val_loss': 7988.05078125}, {'val_loss': 7988.05078125}, {'val_loss': 7988.05078125}, {'val_loss': 7988.05078125}, {'val_loss': 7988.05078125}, {'val_loss': 7988.05078125}, {'val_loss': 7988.05078125}, {'val_loss': 7988.05078125}, {'val_loss': 7988.05078125}, {'val_loss': 7988.05078125}, {'val_loss': 7988.05078125}, {'val_loss': 7988.05078125}, {'val_loss': 7988.05078125}, {'val_loss': 7988.05078125}, {'val_loss': 7988.05078125}, {'val_loss': 7988.05078125}, {'val_loss': 7988.05078125}, {'val_loss': 7988.05078125}, {'val_loss': 7988.05078125}, {'val_loss': 7988.05078125}, {'val_loss': 7988.05078125}, {'val_loss': 7988.05078125}, {'val_loss': 7988.05078125}, {'val_loss': 7988.05078125}, {'val_loss': 7988.05078125}, {'val_loss': 7988.05078125}, {'val_loss': 7988.05078125}, {'val_loss': 7988.05078125}, {'val_loss': 7988.05078125}, {'val_loss': 7988.05078125}, {'val_loss': 7988.05078125}, {'val_loss': 7988.05078125}, {'val_loss': 7988.05078125}, {'val_loss': 7988.05078125}, {'val_loss': 7988.05078125}, {'val_loss': 7988.05078125}, {'val_loss': 7988.05078125}, {'val_loss': 7988.05078125}, {'val_loss': 7988.05126953125}, {'val_loss': 7988.05126953125}, {'val_loss': 7988.05126953125}, {'val_loss': 7988.05078125}, {'val_loss': 7988.05078125}, {'val_loss': 7988.05078125}, {'val_loss': 7988.05078125}, {'val_loss': 7988.05078125}, {'val_loss': 7988.05078125}, {'val_loss': 7988.05078125}, {'val_loss': 7988.05078125}, {'val_loss': 7988.05078125}, {'val_loss': 7988.05078125}, {'val_loss': 7988.05078125}, {'val_loss': 7988.05078125}, {'val_loss': 7988.05078125}, {'val_loss': 7988.05078125}, {'val_loss': 7988.05078125}, {'val_loss': 7988.05078125}, {'val_loss': 7988.05078125}, {'val_loss': 7988.05078125}, {'val_loss': 7988.05078125}, {'val_loss': 7988.05078125}, {'val_loss': 7988.05078125}, {'val_loss': 7988.05126953125}, {'val_loss': 7988.05126953125}, {'val_loss': 7988.05126953125}, {'val_loss': 7988.05126953125}, {'val_loss': 7988.05078125}, {'val_loss': 7988.05078125}, {'val_loss': 7988.05078125}, {'val_loss': 7988.05078125}, {'val_loss': 7988.05126953125}, {'val_loss': 7988.05078125}, {'val_loss': 7988.05126953125}, {'val_loss': 7988.05126953125}, {'val_loss': 7988.05126953125}, {'val_loss': 7988.05078125}, {'val_loss': 7988.05078125}, {'val_loss': 7988.05078125}, {'val_loss': 7988.05078125}, {'val_loss': 7988.05078125}, {'val_loss': 7988.05078125}, {'val_loss': 7988.05078125}, {'val_loss': 7988.05078125}, {'val_loss': 7988.05078125}, {'val_loss': 7988.05078125}, {'val_loss': 7988.05078125}, {'val_loss': 7988.05078125}, {'val_loss': 7988.05078125}, {'val_loss': 7988.05078125}, {'val_loss': 7988.05078125}, {'val_loss': 7988.05126953125}, {'val_loss': 7988.05078125}, {'val_loss': 7988.05078125}, {'val_loss': 7988.05078125}, {'val_loss': 7988.05078125}, {'val_loss': 7988.05078125}, {'val_loss': 7988.05078125}, {'val_loss': 7988.05078125}, {'val_loss': 7988.05078125}, {'val_loss': 7988.05126953125}, {'val_loss': 7988.05126953125}, {'val_loss': 7988.05126953125}, {'val_loss': 7988.05126953125}, {'val_loss': 7988.05078125}, {'val_loss': 7988.05078125}, {'val_loss': 7988.05078125}, {'val_loss': 7988.05078125}, {'val_loss': 7988.05078125}, {'val_loss': 7988.05078125}, {'val_loss': 7988.05126953125}, {'val_loss': 7988.05126953125}, {'val_loss': 7988.05078125}, {'val_loss': 7988.05078125}, {'val_loss': 7988.05078125}, {'val_loss': 7988.05078125}, {'val_loss': 7988.05078125}, {'val_loss': 7988.05078125}, {'val_loss': 7988.05078125}, {'val_loss': 7988.05078125}, {'val_loss': 7988.05078125}, {'val_loss': 7988.05078125}, {'val_loss': 7988.05078125}, {'val_loss': 7988.05078125}, {'val_loss': 7988.05126953125}, {'val_loss': 7988.05126953125}, {'val_loss': 7988.05126953125}, {'val_loss': 7988.05126953125}, {'val_loss': 7988.05126953125}, {'val_loss': 7988.05078125}, {'val_loss': 7988.05078125}, {'val_loss': 7988.05078125}, {'val_loss': 7988.05078125}, {'val_loss': 7988.05078125}, {'val_loss': 7988.05078125}, {'val_loss': 7988.05078125}, {'val_loss': 7988.05126953125}, {'val_loss': 7988.05126953125}, {'val_loss': 7988.05078125}, {'val_loss': 7988.05078125}, {'val_loss': 7988.05078125}, {'val_loss': 7988.05078125}, {'val_loss': 7988.05078125}, {'val_loss': 7988.05078125}, {'val_loss': 7988.05078125}, {'val_loss': 7988.05126953125}, {'val_loss': 7988.05078125}, {'val_loss': 7988.05126953125}, {'val_loss': 7988.05126953125}, {'val_loss': 7988.05126953125}, {'val_loss': 7988.05126953125}, {'val_loss': 7988.05126953125}, {'val_loss': 7988.05126953125}, {'val_loss': 7988.05126953125}, {'val_loss': 7988.05126953125}, {'val_loss': 7988.05126953125}, {'val_loss': 7988.05126953125}, {'val_loss': 7988.05126953125}, {'val_loss': 7988.05078125}, {'val_loss': 7988.05078125}, {'val_loss': 7988.05078125}, {'val_loss': 7988.05078125}, {'val_loss': 7988.05078125}, {'val_loss': 7988.05078125}, {'val_loss': 7988.05126953125}, {'val_loss': 7988.05126953125}, {'val_loss': 7988.05126953125}, {'val_loss': 7988.05126953125}, {'val_loss': 7988.05126953125}, {'val_loss': 7988.05126953125}, {'val_loss': 7988.05078125}, {'val_loss': 7988.05078125}, {'val_loss': 7988.05078125}, {'val_loss': 7988.05078125}, {'val_loss': 7988.05078125}, {'val_loss': 7988.05078125}, {'val_loss': 7988.05078125}, {'val_loss': 7988.05078125}, {'val_loss': 7988.05078125}, {'val_loss': 7988.05126953125}, {'val_loss': 7988.05126953125}, {'val_loss': 7988.05126953125}, {'val_loss': 7988.05078125}, {'val_loss': 7988.05078125}, {'val_loss': 7988.05126953125}, {'val_loss': 7988.05078125}, {'val_loss': 7988.05078125}, {'val_loss': 7988.05078125}, {'val_loss': 7988.05078125}, {'val_loss': 7988.05078125}, {'val_loss': 7988.05078125}, {'val_loss': 7988.05078125}, {'val_loss': 7988.05078125}, {'val_loss': 7988.05078125}, {'val_loss': 7988.05078125}, {'val_loss': 7988.05126953125}, {'val_loss': 7988.05078125}, {'val_loss': 7988.05126953125}, {'val_loss': 7988.05126953125}, {'val_loss': 7988.05126953125}, {'val_loss': 7988.05126953125}, {'val_loss': 7988.05126953125}, {'val_loss': 7988.05126953125}, {'val_loss': 7988.05078125}, {'val_loss': 7988.05078125}, {'val_loss': 7988.05126953125}, {'val_loss': 7988.05126953125}, {'val_loss': 7988.05078125}, {'val_loss': 7988.05078125}, {'val_loss': 7988.05126953125}, {'val_loss': 7988.05078125}, {'val_loss': 7988.05126953125}, {'val_loss': 7988.05126953125}, {'val_loss': 7988.05126953125}, {'val_loss': 7988.05126953125}, {'val_loss': 7988.05126953125}, {'val_loss': 7988.05126953125}, {'val_loss': 7988.05078125}, {'val_loss': 7988.05078125}, {'val_loss': 7988.05126953125}, {'val_loss': 7988.05126953125}, {'val_loss': 7988.05126953125}, {'val_loss': 7988.05126953125}, {'val_loss': 7988.05078125}, {'val_loss': 7988.05126953125}, {'val_loss': 7988.05126953125}, {'val_loss': 7988.05126953125}, {'val_loss': 7988.05126953125}, {'val_loss': 7988.05126953125}, {'val_loss': 7988.05078125}, {'val_loss': 7988.05078125}, {'val_loss': 7988.05078125}, {'val_loss': 7988.05078125}, {'val_loss': 7988.05078125}, {'val_loss': 7988.05126953125}, {'val_loss': 7988.05126953125}, {'val_loss': 7988.05126953125}, {'val_loss': 7988.05126953125}, {'val_loss': 7988.05126953125}, {'val_loss': 7988.05126953125}, {'val_loss': 7988.05126953125}, {'val_loss': 7988.05126953125}, {'val_loss': 7988.05126953125}, {'val_loss': 7988.05126953125}, {'val_loss': 7988.05126953125}, {'val_loss': 7988.05078125}, {'val_loss': 7988.05078125}, {'val_loss': 7988.05078125}, {'val_loss': 7988.05078125}, {'val_loss': 7988.05078125}, {'val_loss': 7988.05078125}, {'val_loss': 7988.05078125}, {'val_loss': 7988.05078125}, {'val_loss': 7988.05078125}, {'val_loss': 7988.05126953125}, {'val_loss': 7988.05126953125}, {'val_loss': 7988.05126953125}, {'val_loss': 7988.05078125}, {'val_loss': 7988.05078125}, {'val_loss': 7988.05078125}, {'val_loss': 7988.05078125}, {'val_loss': 7988.05078125}, {'val_loss': 7988.05078125}, {'val_loss': 7988.05078125}, {'val_loss': 7988.05078125}, {'val_loss': 7988.05078125}, {'val_loss': 7988.05078125}, {'val_loss': 7988.05078125}, {'val_loss': 7988.05078125}, {'val_loss': 7988.05126953125}, {'val_loss': 7988.05126953125}, {'val_loss': 7988.05126953125}, {'val_loss': 7988.05126953125}, {'val_loss': 7988.05126953125}, {'val_loss': 7988.05126953125}, {'val_loss': 7988.05126953125}, {'val_loss': 7988.05078125}, {'val_loss': 7988.05126953125}, {'val_loss': 7988.05126953125}, {'val_loss': 7988.05078125}, {'val_loss': 7988.05078125}, {'val_loss': 7988.05078125}, {'val_loss': 7988.05126953125}, {'val_loss': 7988.05078125}, {'val_loss': 7988.05126953125}, {'val_loss': 7988.05126953125}, {'val_loss': 7988.05126953125}, {'val_loss': 7988.05126953125}, {'val_loss': 7988.05126953125}, {'val_loss': 7988.05126953125}, {'val_loss': 7988.05126953125}, {'val_loss': 7988.05078125}, {'val_loss': 7988.05078125}, {'val_loss': 7988.05078125}, {'val_loss': 7988.05078125}, {'val_loss': 7988.05078125}, {'val_loss': 7988.05078125}, {'val_loss': 7988.05078125}, {'val_loss': 7988.05078125}, {'val_loss': 7988.05078125}, {'val_loss': 7988.05078125}, {'val_loss': 7988.05078125}, {'val_loss': 7988.05078125}, {'val_loss': 7988.05078125}, {'val_loss': 7988.05078125}, {'val_loss': 7988.05078125}, {'val_loss': 7988.05078125}, {'val_loss': 7988.05078125}, {'val_loss': 7988.05078125}, {'val_loss': 7988.05078125}, {'val_loss': 7988.05078125}, {'val_loss': 7988.05078125}, {'val_loss': 7988.05078125}, {'val_loss': 7988.05078125}, {'val_loss': 7988.05078125}, {'val_loss': 7988.05078125}, {'val_loss': 7988.05078125}, {'val_loss': 7988.05078125}, {'val_loss': 7988.05078125}, {'val_loss': 7988.05078125}, {'val_loss': 7988.05078125}, {'val_loss': 7988.05078125}, {'val_loss': 7988.05078125}, {'val_loss': 7988.05078125}, {'val_loss': 7988.05078125}, {'val_loss': 7988.05078125}, {'val_loss': 7988.05078125}, {'val_loss': 7988.05078125}, {'val_loss': 7988.05078125}, {'val_loss': 7988.05078125}, {'val_loss': 7988.05078125}, {'val_loss': 7988.05078125}, {'val_loss': 7988.05078125}, {'val_loss': 7988.05078125}, {'val_loss': 7988.05078125}, {'val_loss': 7988.05078125}, {'val_loss': 7988.05078125}, {'val_loss': 7988.05078125}, {'val_loss': 7988.05078125}, {'val_loss': 7988.05078125}, {'val_loss': 7988.05078125}, {'val_loss': 7988.05078125}, {'val_loss': 7988.05078125}, {'val_loss': 7988.05078125}, {'val_loss': 7988.05078125}, {'val_loss': 7988.05078125}, {'val_loss': 7988.05078125}, {'val_loss': 7988.05078125}, {'val_loss': 7988.05078125}, {'val_loss': 7988.05078125}, {'val_loss': 7988.05078125}, {'val_loss': 7988.05078125}, {'val_loss': 7988.05078125}, {'val_loss': 7988.05078125}, {'val_loss': 7988.05078125}, {'val_loss': 7988.05078125}, {'val_loss': 7988.05078125}, {'val_loss': 7988.05078125}, {'val_loss': 7988.05078125}, {'val_loss': 7988.05078125}, {'val_loss': 7988.05078125}, {'val_loss': 7988.05078125}, {'val_loss': 7988.05078125}, {'val_loss': 7988.05078125}, {'val_loss': 7988.05078125}, {'val_loss': 7988.05078125}, {'val_loss': 7988.05078125}, {'val_loss': 7988.05078125}, {'val_loss': 7988.05078125}, {'val_loss': 7988.05078125}, {'val_loss': 7988.05078125}, {'val_loss': 7988.05078125}, {'val_loss': 7988.05078125}, {'val_loss': 7988.05078125}, {'val_loss': 7988.05078125}, {'val_loss': 7988.05078125}, {'val_loss': 7988.05078125}, {'val_loss': 7988.05078125}, {'val_loss': 7988.05078125}, {'val_loss': 7988.05078125}, {'val_loss': 7988.05078125}, {'val_loss': 7988.05078125}, {'val_loss': 7988.05078125}, {'val_loss': 7988.05078125}, {'val_loss': 7988.05078125}, {'val_loss': 7988.05078125}, {'val_loss': 7988.05078125}, {'val_loss': 7988.05078125}, {'val_loss': 7988.05078125}, {'val_loss': 7988.05078125}, {'val_loss': 7988.05078125}, {'val_loss': 7988.05078125}, {'val_loss': 7988.05078125}, {'val_loss': 7988.05078125}, {'val_loss': 7988.05078125}, {'val_loss': 7988.05078125}, {'val_loss': 7988.05078125}, {'val_loss': 7988.05078125}, {'val_loss': 7988.05078125}, {'val_loss': 7988.05078125}, {'val_loss': 7988.05078125}, {'val_loss': 7988.05078125}, {'val_loss': 7988.05078125}, {'val_loss': 7988.05078125}, {'val_loss': 7988.05078125}, {'val_loss': 7988.05078125}, {'val_loss': 7988.05078125}, {'val_loss': 7988.05078125}, {'val_loss': 7988.05078125}, {'val_loss': 7988.05078125}, {'val_loss': 7988.05078125}, {'val_loss': 7988.05078125}, {'val_loss': 7988.05078125}, {'val_loss': 7988.05078125}, {'val_loss': 7988.05078125}, {'val_loss': 7988.05078125}, {'val_loss': 7988.05029296875}, {'val_loss': 7988.05029296875}, {'val_loss': 7988.05078125}, {'val_loss': 7988.05029296875}, {'val_loss': 7988.05078125}, {'val_loss': 7988.05029296875}, {'val_loss': 7988.05029296875}, {'val_loss': 7988.05078125}, {'val_loss': 7988.05078125}, {'val_loss': 7988.05078125}, {'val_loss': 7988.05078125}, {'val_loss': 7988.05078125}, {'val_loss': 7988.05078125}, {'val_loss': 7988.05078125}, {'val_loss': 7988.05078125}, {'val_loss': 7988.05078125}, {'val_loss': 7988.05078125}, {'val_loss': 7988.05078125}, {'val_loss': 7988.05078125}, {'val_loss': 7988.05078125}, {'val_loss': 7988.05078125}, {'val_loss': 7988.05078125}, {'val_loss': 7988.05078125}, {'val_loss': 7988.05078125}, {'val_loss': 7988.05078125}, {'val_loss': 7988.05078125}, {'val_loss': 7988.05078125}, {'val_loss': 7988.05078125}, {'val_loss': 7988.05078125}, {'val_loss': 7988.05078125}, {'val_loss': 7988.05078125}, {'val_loss': 7988.05078125}, {'val_loss': 7988.05078125}, {'val_loss': 7988.05078125}, {'val_loss': 7988.05078125}, {'val_loss': 7988.05078125}, {'val_loss': 7988.05078125}, {'val_loss': 7988.05078125}, {'val_loss': 7988.05078125}, {'val_loss': 7988.05078125}, {'val_loss': 7988.05078125}, {'val_loss': 7988.05078125}, {'val_loss': 7988.05078125}, {'val_loss': 7988.05078125}, {'val_loss': 7988.05078125}, {'val_loss': 7988.05078125}, {'val_loss': 7988.05078125}, {'val_loss': 7988.05078125}, {'val_loss': 7988.05078125}, {'val_loss': 7988.05078125}, {'val_loss': 7988.05078125}, {'val_loss': 7988.05078125}, {'val_loss': 7988.05078125}, {'val_loss': 7988.05078125}, {'val_loss': 7988.05078125}, {'val_loss': 7988.05029296875}, {'val_loss': 7988.05029296875}, {'val_loss': 7988.05078125}, {'val_loss': 7988.05126953125}, {'val_loss': 7988.05078125}, {'val_loss': 7988.0498046875}, {'val_loss': 7988.05078125}, {'val_loss': 7988.05078125}, {'val_loss': 7988.05078125}, {'val_loss': 7988.0498046875}, {'val_loss': 7988.05078125}, {'val_loss': 7988.0498046875}, {'val_loss': 7988.05078125}, {'val_loss': 7988.05078125}, {'val_loss': 7988.05078125}, {'val_loss': 7988.05078125}, {'val_loss': 7988.05078125}, {'val_loss': 7988.05078125}, {'val_loss': 7988.05078125}, {'val_loss': 7988.05078125}]\n"
          ],
          "name": "stdout"
        },
        {
          "output_type": "stream",
          "text": [
            "Epoch [20], val_loss: 7988.0508\n",
            "Epoch [40], val_loss: 7988.0508\n",
            "Epoch [60], val_loss: 7988.0508\n",
            "Epoch [80], val_loss: 7988.0508\n",
            "Epoch [100], val_loss: 7988.0508\n",
            "Epoch [120], val_loss: 7988.0508\n",
            "Epoch [140], val_loss: 7988.0508\n",
            "Epoch [160], val_loss: 7988.0508\n",
            "Epoch [180], val_loss: 7988.0508\n",
            "Epoch [200], val_loss: 7988.0508\n",
            "Epoch [220], val_loss: 7988.0508\n",
            "Epoch [240], val_loss: 7988.0508\n",
            "Epoch [260], val_loss: 7988.0508\n",
            "Epoch [280], val_loss: 7988.0508\n",
            "Epoch [300], val_loss: 7988.0508\n",
            "Epoch [320], val_loss: 7988.0508\n",
            "Epoch [340], val_loss: 7988.0508\n",
            "Epoch [360], val_loss: 7988.0508\n",
            "Epoch [380], val_loss: 7988.0508\n",
            "Epoch [400], val_loss: 7988.0508\n",
            "Epoch [420], val_loss: 7988.0508\n",
            "Epoch [440], val_loss: 7988.0508\n",
            "Epoch [460], val_loss: 7988.0508\n",
            "Epoch [480], val_loss: 7988.0508\n",
            "Epoch [500], val_loss: 7988.0508\n",
            "[{'val_loss': 7988.05078125}, {'val_loss': 7988.05078125}, {'val_loss': 7988.05078125}, {'val_loss': 7988.05078125}, {'val_loss': 7988.05078125}, {'val_loss': 7988.05078125}, {'val_loss': 7988.05078125}, {'val_loss': 7988.05078125}, {'val_loss': 7988.05078125}, {'val_loss': 7988.05078125}, {'val_loss': 7988.05078125}, {'val_loss': 7988.05078125}, {'val_loss': 7988.05078125}, {'val_loss': 7988.05078125}, {'val_loss': 7988.05078125}, {'val_loss': 7988.05078125}, {'val_loss': 7988.05078125}, {'val_loss': 7988.05078125}, {'val_loss': 7988.05078125}, {'val_loss': 7988.05078125}, {'val_loss': 7988.05078125}, {'val_loss': 7988.05078125}, {'val_loss': 7988.05078125}, {'val_loss': 7988.05078125}, {'val_loss': 7988.05078125}, {'val_loss': 7988.05078125}, {'val_loss': 7988.05078125}, {'val_loss': 7988.05078125}, {'val_loss': 7988.05078125}, {'val_loss': 7988.05078125}, {'val_loss': 7988.05078125}, {'val_loss': 7988.05078125}, {'val_loss': 7988.05078125}, {'val_loss': 7988.05078125}, {'val_loss': 7988.05078125}, {'val_loss': 7988.05078125}, {'val_loss': 7988.05078125}, {'val_loss': 7988.05078125}, {'val_loss': 7988.05078125}, {'val_loss': 7988.05078125}, {'val_loss': 7988.05078125}, {'val_loss': 7988.05078125}, {'val_loss': 7988.05078125}, {'val_loss': 7988.05078125}, {'val_loss': 7988.05078125}, {'val_loss': 7988.05078125}, {'val_loss': 7988.05078125}, {'val_loss': 7988.05078125}, {'val_loss': 7988.05078125}, {'val_loss': 7988.05078125}, {'val_loss': 7988.05078125}, {'val_loss': 7988.05078125}, {'val_loss': 7988.05078125}, {'val_loss': 7988.05078125}, {'val_loss': 7988.05078125}, {'val_loss': 7988.05078125}, {'val_loss': 7988.05078125}, {'val_loss': 7988.05078125}, {'val_loss': 7988.05078125}, {'val_loss': 7988.05078125}, {'val_loss': 7988.05078125}, {'val_loss': 7988.05078125}, {'val_loss': 7988.05078125}, {'val_loss': 7988.05078125}, {'val_loss': 7988.05078125}, {'val_loss': 7988.05078125}, {'val_loss': 7988.05078125}, {'val_loss': 7988.05078125}, {'val_loss': 7988.05078125}, {'val_loss': 7988.05078125}, {'val_loss': 7988.05078125}, {'val_loss': 7988.05078125}, {'val_loss': 7988.05078125}, {'val_loss': 7988.05078125}, {'val_loss': 7988.05078125}, {'val_loss': 7988.05078125}, {'val_loss': 7988.05078125}, {'val_loss': 7988.05078125}, {'val_loss': 7988.05078125}, {'val_loss': 7988.05078125}, {'val_loss': 7988.05078125}, {'val_loss': 7988.05078125}, {'val_loss': 7988.05078125}, {'val_loss': 7988.05078125}, {'val_loss': 7988.05078125}, {'val_loss': 7988.05078125}, {'val_loss': 7988.05078125}, {'val_loss': 7988.05078125}, {'val_loss': 7988.05078125}, {'val_loss': 7988.05078125}, {'val_loss': 7988.05078125}, {'val_loss': 7988.05078125}, {'val_loss': 7988.05078125}, {'val_loss': 7988.05078125}, {'val_loss': 7988.05078125}, {'val_loss': 7988.05078125}, {'val_loss': 7988.05078125}, {'val_loss': 7988.05078125}, {'val_loss': 7988.05078125}, {'val_loss': 7988.05078125}, {'val_loss': 7988.05078125}, {'val_loss': 7988.05078125}, {'val_loss': 7988.05078125}, {'val_loss': 7988.05078125}, {'val_loss': 7988.05078125}, {'val_loss': 7988.05078125}, {'val_loss': 7988.05078125}, {'val_loss': 7988.05078125}, {'val_loss': 7988.05078125}, {'val_loss': 7988.05078125}, {'val_loss': 7988.05078125}, {'val_loss': 7988.05078125}, {'val_loss': 7988.05078125}, {'val_loss': 7988.05078125}, {'val_loss': 7988.05078125}, {'val_loss': 7988.05078125}, {'val_loss': 7988.05078125}, {'val_loss': 7988.05078125}, {'val_loss': 7988.05078125}, {'val_loss': 7988.05078125}, {'val_loss': 7988.05078125}, {'val_loss': 7988.05078125}, {'val_loss': 7988.05078125}, {'val_loss': 7988.05078125}, {'val_loss': 7988.05078125}, {'val_loss': 7988.05078125}, {'val_loss': 7988.05078125}, {'val_loss': 7988.05078125}, {'val_loss': 7988.05078125}, {'val_loss': 7988.05078125}, {'val_loss': 7988.05078125}, {'val_loss': 7988.05078125}, {'val_loss': 7988.05078125}, {'val_loss': 7988.05078125}, {'val_loss': 7988.05078125}, {'val_loss': 7988.05078125}, {'val_loss': 7988.05078125}, {'val_loss': 7988.05078125}, {'val_loss': 7988.05078125}, {'val_loss': 7988.05078125}, {'val_loss': 7988.05078125}, {'val_loss': 7988.05078125}, {'val_loss': 7988.05078125}, {'val_loss': 7988.05078125}, {'val_loss': 7988.05078125}, {'val_loss': 7988.05078125}, {'val_loss': 7988.05078125}, {'val_loss': 7988.05078125}, {'val_loss': 7988.05078125}, {'val_loss': 7988.05078125}, {'val_loss': 7988.05078125}, {'val_loss': 7988.05078125}, {'val_loss': 7988.05078125}, {'val_loss': 7988.05078125}, {'val_loss': 7988.05078125}, {'val_loss': 7988.05078125}, {'val_loss': 7988.05078125}, {'val_loss': 7988.05078125}, {'val_loss': 7988.05078125}, {'val_loss': 7988.05078125}, {'val_loss': 7988.05078125}, {'val_loss': 7988.05078125}, {'val_loss': 7988.05078125}, {'val_loss': 7988.05078125}, {'val_loss': 7988.05078125}, {'val_loss': 7988.05078125}, {'val_loss': 7988.05078125}, {'val_loss': 7988.05078125}, {'val_loss': 7988.05078125}, {'val_loss': 7988.05078125}, {'val_loss': 7988.05078125}, {'val_loss': 7988.05078125}, {'val_loss': 7988.05078125}, {'val_loss': 7988.05078125}, {'val_loss': 7988.05078125}, {'val_loss': 7988.05078125}, {'val_loss': 7988.05078125}, {'val_loss': 7988.05078125}, {'val_loss': 7988.05078125}, {'val_loss': 7988.05078125}, {'val_loss': 7988.05078125}, {'val_loss': 7988.05078125}, {'val_loss': 7988.05078125}, {'val_loss': 7988.05078125}, {'val_loss': 7988.05078125}, {'val_loss': 7988.05078125}, {'val_loss': 7988.05078125}, {'val_loss': 7988.05078125}, {'val_loss': 7988.05078125}, {'val_loss': 7988.05078125}, {'val_loss': 7988.05078125}, {'val_loss': 7988.05078125}, {'val_loss': 7988.05078125}, {'val_loss': 7988.05078125}, {'val_loss': 7988.05078125}, {'val_loss': 7988.05078125}, {'val_loss': 7988.05078125}, {'val_loss': 7988.05078125}, {'val_loss': 7988.05078125}, {'val_loss': 7988.05078125}, {'val_loss': 7988.05078125}, {'val_loss': 7988.05078125}, {'val_loss': 7988.05078125}, {'val_loss': 7988.05078125}, {'val_loss': 7988.05078125}, {'val_loss': 7988.05078125}, {'val_loss': 7988.05078125}, {'val_loss': 7988.05078125}, {'val_loss': 7988.05078125}, {'val_loss': 7988.05078125}, {'val_loss': 7988.05078125}, {'val_loss': 7988.05078125}, {'val_loss': 7988.05078125}, {'val_loss': 7988.05078125}, {'val_loss': 7988.05078125}, {'val_loss': 7988.05078125}, {'val_loss': 7988.05078125}, {'val_loss': 7988.05078125}, {'val_loss': 7988.05078125}, {'val_loss': 7988.05078125}, {'val_loss': 7988.05078125}, {'val_loss': 7988.05078125}, {'val_loss': 7988.05078125}, {'val_loss': 7988.05078125}, {'val_loss': 7988.05078125}, {'val_loss': 7988.05078125}, {'val_loss': 7988.05078125}, {'val_loss': 7988.05078125}, {'val_loss': 7988.05078125}, {'val_loss': 7988.05078125}, {'val_loss': 7988.05078125}, {'val_loss': 7988.05078125}, {'val_loss': 7988.05078125}, {'val_loss': 7988.05078125}, {'val_loss': 7988.05078125}, {'val_loss': 7988.05078125}, {'val_loss': 7988.05078125}, {'val_loss': 7988.05078125}, {'val_loss': 7988.05078125}, {'val_loss': 7988.05078125}, {'val_loss': 7988.05078125}, {'val_loss': 7988.05078125}, {'val_loss': 7988.05078125}, {'val_loss': 7988.05078125}, {'val_loss': 7988.05078125}, {'val_loss': 7988.05078125}, {'val_loss': 7988.05078125}, {'val_loss': 7988.05078125}, {'val_loss': 7988.05078125}, {'val_loss': 7988.05078125}, {'val_loss': 7988.05078125}, {'val_loss': 7988.05078125}, {'val_loss': 7988.05078125}, {'val_loss': 7988.05078125}, {'val_loss': 7988.05078125}, {'val_loss': 7988.05078125}, {'val_loss': 7988.05078125}, {'val_loss': 7988.05078125}, {'val_loss': 7988.05078125}, {'val_loss': 7988.05078125}, {'val_loss': 7988.05078125}, {'val_loss': 7988.05078125}, {'val_loss': 7988.05078125}, {'val_loss': 7988.05078125}, {'val_loss': 7988.05078125}, {'val_loss': 7988.05078125}, {'val_loss': 7988.05078125}, {'val_loss': 7988.05078125}, {'val_loss': 7988.05078125}, {'val_loss': 7988.05078125}, {'val_loss': 7988.05078125}, {'val_loss': 7988.05078125}, {'val_loss': 7988.05078125}, {'val_loss': 7988.05078125}, {'val_loss': 7988.05078125}, {'val_loss': 7988.05078125}, {'val_loss': 7988.05078125}, {'val_loss': 7988.05078125}, {'val_loss': 7988.05078125}, {'val_loss': 7988.05078125}, {'val_loss': 7988.05078125}, {'val_loss': 7988.05078125}, {'val_loss': 7988.05078125}, {'val_loss': 7988.05078125}, {'val_loss': 7988.05078125}, {'val_loss': 7988.05078125}, {'val_loss': 7988.05078125}, {'val_loss': 7988.05078125}, {'val_loss': 7988.05078125}, {'val_loss': 7988.05078125}, {'val_loss': 7988.05078125}, {'val_loss': 7988.05078125}, {'val_loss': 7988.05078125}, {'val_loss': 7988.05078125}, {'val_loss': 7988.05078125}, {'val_loss': 7988.05078125}, {'val_loss': 7988.05078125}, {'val_loss': 7988.05078125}, {'val_loss': 7988.05078125}, {'val_loss': 7988.05078125}, {'val_loss': 7988.05078125}, {'val_loss': 7988.05078125}, {'val_loss': 7988.05078125}, {'val_loss': 7988.05078125}, {'val_loss': 7988.05078125}, {'val_loss': 7988.05078125}, {'val_loss': 7988.05078125}, {'val_loss': 7988.05078125}, {'val_loss': 7988.05078125}, {'val_loss': 7988.05078125}, {'val_loss': 7988.05078125}, {'val_loss': 7988.05078125}, {'val_loss': 7988.05078125}, {'val_loss': 7988.05078125}, {'val_loss': 7988.05078125}, {'val_loss': 7988.05078125}, {'val_loss': 7988.05078125}, {'val_loss': 7988.05078125}, {'val_loss': 7988.05078125}, {'val_loss': 7988.05078125}, {'val_loss': 7988.05078125}, {'val_loss': 7988.05078125}, {'val_loss': 7988.05078125}, {'val_loss': 7988.05078125}, {'val_loss': 7988.05078125}, {'val_loss': 7988.05078125}, {'val_loss': 7988.05078125}, {'val_loss': 7988.05078125}, {'val_loss': 7988.05078125}, {'val_loss': 7988.05078125}, {'val_loss': 7988.05078125}, {'val_loss': 7988.05078125}, {'val_loss': 7988.05078125}, {'val_loss': 7988.05078125}, {'val_loss': 7988.05078125}, {'val_loss': 7988.05078125}, {'val_loss': 7988.05078125}, {'val_loss': 7988.05078125}, {'val_loss': 7988.05078125}, {'val_loss': 7988.05078125}, {'val_loss': 7988.05078125}, {'val_loss': 7988.05078125}, {'val_loss': 7988.05078125}, {'val_loss': 7988.05078125}, {'val_loss': 7988.05078125}, {'val_loss': 7988.05078125}, {'val_loss': 7988.05078125}, {'val_loss': 7988.05078125}, {'val_loss': 7988.05078125}, {'val_loss': 7988.05078125}, {'val_loss': 7988.05078125}, {'val_loss': 7988.05078125}, {'val_loss': 7988.05078125}, {'val_loss': 7988.05078125}, {'val_loss': 7988.05078125}, {'val_loss': 7988.05078125}, {'val_loss': 7988.05078125}, {'val_loss': 7988.05078125}, {'val_loss': 7988.05078125}, {'val_loss': 7988.05078125}, {'val_loss': 7988.05078125}, {'val_loss': 7988.05078125}, {'val_loss': 7988.05078125}, {'val_loss': 7988.05078125}, {'val_loss': 7988.05078125}, {'val_loss': 7988.05078125}, {'val_loss': 7988.05078125}, {'val_loss': 7988.05078125}, {'val_loss': 7988.05078125}, {'val_loss': 7988.05078125}, {'val_loss': 7988.05078125}, {'val_loss': 7988.05078125}, {'val_loss': 7988.05078125}, {'val_loss': 7988.05078125}, {'val_loss': 7988.05078125}, {'val_loss': 7988.05078125}, {'val_loss': 7988.05078125}, {'val_loss': 7988.05078125}, {'val_loss': 7988.05078125}, {'val_loss': 7988.05078125}, {'val_loss': 7988.05078125}, {'val_loss': 7988.05078125}, {'val_loss': 7988.05078125}, {'val_loss': 7988.05078125}, {'val_loss': 7988.05078125}, {'val_loss': 7988.05078125}, {'val_loss': 7988.05078125}, {'val_loss': 7988.05078125}, {'val_loss': 7988.05078125}, {'val_loss': 7988.05078125}, {'val_loss': 7988.05078125}, {'val_loss': 7988.05078125}, {'val_loss': 7988.05078125}, {'val_loss': 7988.05078125}, {'val_loss': 7988.05078125}, {'val_loss': 7988.05078125}, {'val_loss': 7988.05078125}, {'val_loss': 7988.05078125}, {'val_loss': 7988.05078125}, {'val_loss': 7988.05078125}, {'val_loss': 7988.05078125}, {'val_loss': 7988.05078125}, {'val_loss': 7988.05078125}, {'val_loss': 7988.05078125}, {'val_loss': 7988.05078125}, {'val_loss': 7988.05078125}, {'val_loss': 7988.05078125}, {'val_loss': 7988.05078125}, {'val_loss': 7988.05078125}, {'val_loss': 7988.05078125}, {'val_loss': 7988.05078125}, {'val_loss': 7988.05078125}, {'val_loss': 7988.05078125}, {'val_loss': 7988.05078125}, {'val_loss': 7988.05078125}, {'val_loss': 7988.05078125}, {'val_loss': 7988.05078125}, {'val_loss': 7988.05078125}, {'val_loss': 7988.05078125}, {'val_loss': 7988.05078125}, {'val_loss': 7988.05078125}, {'val_loss': 7988.05078125}, {'val_loss': 7988.05078125}, {'val_loss': 7988.05078125}, {'val_loss': 7988.05078125}, {'val_loss': 7988.05078125}, {'val_loss': 7988.05078125}, {'val_loss': 7988.05078125}, {'val_loss': 7988.05078125}, {'val_loss': 7988.05078125}, {'val_loss': 7988.05078125}, {'val_loss': 7988.05078125}, {'val_loss': 7988.05078125}, {'val_loss': 7988.05078125}, {'val_loss': 7988.05078125}, {'val_loss': 7988.05078125}, {'val_loss': 7988.05078125}, {'val_loss': 7988.05078125}, {'val_loss': 7988.05078125}, {'val_loss': 7988.05078125}, {'val_loss': 7988.05078125}, {'val_loss': 7988.05078125}, {'val_loss': 7988.05078125}, {'val_loss': 7988.05078125}, {'val_loss': 7988.05078125}, {'val_loss': 7988.05078125}, {'val_loss': 7988.05078125}, {'val_loss': 7988.05078125}, {'val_loss': 7988.05078125}, {'val_loss': 7988.05078125}, {'val_loss': 7988.05078125}, {'val_loss': 7988.05078125}, {'val_loss': 7988.05078125}, {'val_loss': 7988.05078125}, {'val_loss': 7988.05078125}, {'val_loss': 7988.05078125}, {'val_loss': 7988.05078125}, {'val_loss': 7988.05078125}, {'val_loss': 7988.05078125}, {'val_loss': 7988.05078125}, {'val_loss': 7988.05078125}, {'val_loss': 7988.05078125}, {'val_loss': 7988.05078125}, {'val_loss': 7988.05078125}, {'val_loss': 7988.05078125}, {'val_loss': 7988.05078125}, {'val_loss': 7988.05078125}, {'val_loss': 7988.05078125}, {'val_loss': 7988.05078125}, {'val_loss': 7988.05078125}, {'val_loss': 7988.05078125}, {'val_loss': 7988.05078125}, {'val_loss': 7988.05078125}, {'val_loss': 7988.05078125}, {'val_loss': 7988.05078125}, {'val_loss': 7988.05078125}, {'val_loss': 7988.05078125}, {'val_loss': 7988.05078125}, {'val_loss': 7988.05078125}, {'val_loss': 7988.05078125}, {'val_loss': 7988.05078125}, {'val_loss': 7988.05078125}, {'val_loss': 7988.05078125}, {'val_loss': 7988.05078125}, {'val_loss': 7988.05078125}, {'val_loss': 7988.05078125}, {'val_loss': 7988.05078125}, {'val_loss': 7988.05078125}, {'val_loss': 7988.05078125}, {'val_loss': 7988.05078125}, {'val_loss': 7988.05078125}, {'val_loss': 7988.05078125}, {'val_loss': 7988.05078125}, {'val_loss': 7988.05078125}, {'val_loss': 7988.05078125}, {'val_loss': 7988.05078125}, {'val_loss': 7988.05078125}, {'val_loss': 7988.05078125}, {'val_loss': 7988.05078125}, {'val_loss': 7988.05078125}]\n"
          ],
          "name": "stdout"
        }
      ]
    },
    {
      "cell_type": "code",
      "metadata": {
        "id": "7bVxp9u_b2Px",
        "colab_type": "code",
        "colab": {},
        "outputId": "73532be0-6c12-4661-f38f-a34103860c27"
      },
      "source": [
        "epochs = 100\n",
        "lr = 1e-2\n",
        "history1 = fit(epochs, lr, model, train_loader, val_loader)\n"
      ],
      "execution_count": 0,
      "outputs": [
        {
          "output_type": "stream",
          "text": [
            "Epoch [20], val_loss: 11075.8164\n",
            "Epoch [40], val_loss: 9181.5977\n",
            "Epoch [60], val_loss: 8662.1504\n",
            "Epoch [80], val_loss: 8529.6396\n",
            "Epoch [100], val_loss: 8473.2852\n"
          ],
          "name": "stdout"
        },
        {
          "output_type": "execute_result",
          "data": {
            "text/plain": [
              "'\\ne=[50,100,150,200,250,300,500]\\nl=[1e-2,1e-3,1e-4,1e-5,1e-6,1e-7]\\nfor epochs in e:\\n    for lr in l:\\n        h = fit(epochs, lr, model, train_loader, val_loader)\\n        print(h)\\n'"
            ]
          },
          "metadata": {
            "tags": []
          },
          "execution_count": 47
        }
      ]
    },
    {
      "cell_type": "code",
      "metadata": {
        "id": "3pbVz6RBb2P1",
        "colab_type": "code",
        "colab": {},
        "outputId": "240abe10-f108-4478-d2a7-6d3da2c86666"
      },
      "source": [
        "epochs = 100\n",
        "lr = 1e-3\n",
        "history2 = fit(epochs, lr, model, train_loader, val_loader)"
      ],
      "execution_count": 0,
      "outputs": [
        {
          "output_type": "stream",
          "text": [
            "Epoch [20], val_loss: 8469.4746\n",
            "Epoch [40], val_loss: 8465.9443\n",
            "Epoch [60], val_loss: 8462.5049\n",
            "Epoch [80], val_loss: 8459.2051\n",
            "Epoch [100], val_loss: 8456.1533\n"
          ],
          "name": "stdout"
        }
      ]
    },
    {
      "cell_type": "code",
      "metadata": {
        "id": "w_QQB-eib2P8",
        "colab_type": "code",
        "colab": {},
        "outputId": "db326fca-8dc0-4e8e-eb26-ec192ff6ad82"
      },
      "source": [
        "epochs = 200\n",
        "lr = 1e-4\n",
        "history3 = fit(epochs, lr, model, train_loader, val_loader)"
      ],
      "execution_count": 0,
      "outputs": [
        {
          "output_type": "stream",
          "text": [
            "Epoch [20], val_loss: 8455.8701\n",
            "Epoch [40], val_loss: 8455.5684\n",
            "Epoch [60], val_loss: 8455.2715\n",
            "Epoch [80], val_loss: 8454.9961\n",
            "Epoch [100], val_loss: 8454.6914\n",
            "Epoch [120], val_loss: 8454.3906\n",
            "Epoch [140], val_loss: 8454.1064\n",
            "Epoch [160], val_loss: 8453.8105\n",
            "Epoch [180], val_loss: 8453.4961\n",
            "Epoch [200], val_loss: 8453.1973\n"
          ],
          "name": "stdout"
        }
      ]
    },
    {
      "cell_type": "code",
      "metadata": {
        "id": "UEx4JdQEb2QD",
        "colab_type": "code",
        "colab": {},
        "outputId": "080a0a88-cd37-4d3f-ad2a-6beec01b63f2"
      },
      "source": [
        "epochs = 300\n",
        "lr = 1e-5\n",
        "history4 = fit(epochs, lr, model, train_loader, val_loader)"
      ],
      "execution_count": 0,
      "outputs": [
        {
          "output_type": "stream",
          "text": [
            "Epoch [20], val_loss: 8453.1699\n",
            "Epoch [40], val_loss: 8453.1406\n",
            "Epoch [60], val_loss: 8453.1123\n",
            "Epoch [80], val_loss: 8453.0850\n",
            "Epoch [100], val_loss: 8453.0566\n",
            "Epoch [120], val_loss: 8453.0273\n",
            "Epoch [140], val_loss: 8452.9980\n",
            "Epoch [160], val_loss: 8452.9697\n",
            "Epoch [180], val_loss: 8452.9395\n",
            "Epoch [200], val_loss: 8452.9082\n",
            "Epoch [220], val_loss: 8452.8809\n",
            "Epoch [240], val_loss: 8452.8506\n",
            "Epoch [260], val_loss: 8452.8223\n",
            "Epoch [280], val_loss: 8452.7930\n",
            "Epoch [300], val_loss: 8452.7617\n"
          ],
          "name": "stdout"
        }
      ]
    },
    {
      "cell_type": "code",
      "metadata": {
        "id": "Bzz-yse7b2QJ",
        "colab_type": "code",
        "colab": {},
        "outputId": "0fc04d55-d170-4e6b-f1c3-5a4c4f6f047b"
      },
      "source": [
        "epochs = 500\n",
        "lr = 1e-6\n",
        "history5 = fit(epochs, lr, model, train_loader, val_loader)"
      ],
      "execution_count": 0,
      "outputs": [
        {
          "output_type": "stream",
          "text": [
            "Epoch [20], val_loss: 8452.7607\n",
            "Epoch [40], val_loss: 8452.7598\n",
            "Epoch [60], val_loss: 8452.7588\n",
            "Epoch [80], val_loss: 8452.7578\n",
            "Epoch [100], val_loss: 8452.7559\n",
            "Epoch [120], val_loss: 8452.7559\n",
            "Epoch [140], val_loss: 8452.7539\n",
            "Epoch [160], val_loss: 8452.7529\n",
            "Epoch [180], val_loss: 8452.7529\n",
            "Epoch [200], val_loss: 8452.7520\n",
            "Epoch [220], val_loss: 8452.7520\n",
            "Epoch [240], val_loss: 8452.7490\n",
            "Epoch [260], val_loss: 8452.7480\n",
            "Epoch [280], val_loss: 8452.7471\n",
            "Epoch [300], val_loss: 8452.7461\n",
            "Epoch [320], val_loss: 8452.7441\n",
            "Epoch [340], val_loss: 8452.7432\n",
            "Epoch [360], val_loss: 8452.7402\n",
            "Epoch [380], val_loss: 8452.7402\n",
            "Epoch [400], val_loss: 8452.7402\n",
            "Epoch [420], val_loss: 8452.7383\n",
            "Epoch [440], val_loss: 8452.7373\n",
            "Epoch [460], val_loss: 8452.7354\n",
            "Epoch [480], val_loss: 8452.7344\n",
            "Epoch [500], val_loss: 8452.7344\n"
          ],
          "name": "stdout"
        }
      ]
    },
    {
      "cell_type": "markdown",
      "metadata": {
        "id": "ijkCl3cZb2QM",
        "colab_type": "text"
      },
      "source": [
        "**Q: What is the final validation loss of your model?**"
      ]
    },
    {
      "cell_type": "code",
      "metadata": {
        "id": "RcuhZxrRb2QM",
        "colab_type": "code",
        "colab": {},
        "outputId": "69c683b3-d6a1-4117-93ad-3f12aa36fdaf"
      },
      "source": [
        "val_loss = evaluate(model, val_loader)\n",
        "print(val_loss)\n",
        "val_loss_history = [result] + history1 + history2 + history3 + history4 + history5\n",
        "val_loss_list = [vl['val_loss'] for vl in val_loss_history]\n",
        "plt.plot(val_loss_list, '-g')\n",
        "plt.xlabel('epochs')\n",
        "plt.ylabel('val_loss')\n",
        "plt.title('Val_loss vs. training epochs')\n",
        "#printing the graph was taken from othe person's notebook on forum, dont remeber the name though"
      ],
      "execution_count": 0,
      "outputs": [
        {
          "output_type": "stream",
          "text": [
            "{'val_loss': 8452.734375}\n"
          ],
          "name": "stdout"
        },
        {
          "output_type": "execute_result",
          "data": {
            "text/plain": [
              "Text(0.5, 1.0, 'Val_loss vs. training epochs')"
            ]
          },
          "metadata": {
            "tags": []
          },
          "execution_count": 52
        },
        {
          "output_type": "display_data",
          "data": {
            "image/png": "[encoded data removed]",
            "text/plain": [
              "<Figure size 432x288 with 1 Axes>"
            ]
          },
          "metadata": {
            "tags": []
          }
        }
      ]
    },
    {
      "cell_type": "code",
      "metadata": {
        "id": "g19jGJXZb2QS",
        "colab_type": "code",
        "colab": {}
      },
      "source": [
        "# val_loss = evaluate(model, val_loader)\n",
        "# print(val_loss)\n",
        "# val_loss_history = [result] +[i for i in a]\n",
        "# val_loss_list = [vl['val_loss'] for vl in val_loss_history]\n",
        "# plt.plot(val_loss_list, '-g')\n",
        "# plt.xlabel('epochs')\n",
        "# plt.ylabel('val_loss')\n",
        "# plt.title('Val_loss vs. training epochs')\n",
        "#printing the graph was taken from othe person's notebook on forum, dont remeber the name though"
      ],
      "execution_count": 0,
      "outputs": []
    },
    {
      "cell_type": "markdown",
      "metadata": {
        "id": "fH9S8d9Ob2QX",
        "colab_type": "text"
      },
      "source": [
        "Let's log the final validation loss to Jovian and commit the notebook"
      ]
    },
    {
      "cell_type": "code",
      "metadata": {
        "id": "fWcHTga9b2QY",
        "colab_type": "code",
        "colab": {},
        "outputId": "b2a469ba-052a-4e09-d13a-e35eb2334ef1"
      },
      "source": [
        "jovian.log_metrics(val_loss=val_loss)"
      ],
      "execution_count": 0,
      "outputs": [
        {
          "output_type": "stream",
          "text": [
            "[jovian] Metrics logged.\u001b[0m\n"
          ],
          "name": "stdout"
        }
      ]
    },
    {
      "cell_type": "code",
      "metadata": {
        "id": "nFjXkGCCb2Qc",
        "colab_type": "code",
        "colab": {},
        "outputId": "2f6e2884-a520-4d40-818f-4258946ba1e6"
      },
      "source": [
        "jovian.commit(project=project_name, environment=None)"
      ],
      "execution_count": 0,
      "outputs": [
        {
          "output_type": "display_data",
          "data": {
            "application/javascript": [
              "window.require && require([\"base/js/namespace\"],function(Jupyter){Jupyter.notebook.save_checkpoint()})"
            ],
            "text/plain": [
              "<IPython.core.display.Javascript object>"
            ]
          },
          "metadata": {
            "tags": []
          }
        },
        {
          "output_type": "stream",
          "text": [
            "[jovian] Attempting to save notebook..\u001b[0m\n",
            "[jovian] Updating notebook \"abhi050/02-insurance-linear-regression\" on https://jovian.ml/\u001b[0m\n",
            "[jovian] Uploading notebook..\u001b[0m\n",
            "[jovian] Attaching records (metrics, hyperparameters, dataset etc.)\u001b[0m\n",
            "[jovian] Committed successfully! https://jovian.ml/abhi050/02-insurance-linear-regression\u001b[0m\n"
          ],
          "name": "stdout"
        },
        {
          "output_type": "execute_result",
          "data": {
            "text/plain": [
              "'https://jovian.ml/abhi050/02-insurance-linear-regression'"
            ]
          },
          "metadata": {
            "tags": []
          },
          "execution_count": 57
        }
      ]
    },
    {
      "cell_type": "markdown",
      "metadata": {
        "id": "BXGxO2pdb2Qg",
        "colab_type": "text"
      },
      "source": [
        "Now scroll back up, re-initialize the model, and try different set of values for batch size, number of epochs, learning rate etc. Commit each experiment and use the \"Compare\" and \"View Diff\" options on Jovian to compare the different results."
      ]
    },
    {
      "cell_type": "markdown",
      "metadata": {
        "id": "B6cm20H6b2Qh",
        "colab_type": "text"
      },
      "source": [
        "## Step 5: Make predictions using the trained model\n",
        "\n",
        "**Q: Complete the following function definition to make predictions on a single input**"
      ]
    },
    {
      "cell_type": "code",
      "metadata": {
        "id": "fNen1nEIb2Qi",
        "colab_type": "code",
        "colab": {}
      },
      "source": [
        "def predict_single(input, target, model):\n",
        "    inputs = input.unsqueeze(0)\n",
        "    predictions = model(input)                # fill this\n",
        "    prediction = predictions[0].detach()\n",
        "    print(\"Input:\", input)\n",
        "    print(\"Target:\", target)\n",
        "    print(\"Prediction:\", prediction)"
      ],
      "execution_count": 0,
      "outputs": []
    },
    {
      "cell_type": "code",
      "metadata": {
        "id": "_0NVTCCOb2Qo",
        "colab_type": "code",
        "colab": {},
        "outputId": "416bd411-3005-4bb8-c49e-5fd0e2df2fb1"
      },
      "source": [
        "input, target = val_ds[0]\n",
        "predict_single(input, target, model)"
      ],
      "execution_count": 0,
      "outputs": [
        {
          "output_type": "stream",
          "text": [
            "Input: tensor([31.0000,  0.0000, 28.6748,  1.0000,  0.0000])\n",
            "Target: tensor([4524.5352])\n",
            "Prediction: tensor(5797.0928)\n"
          ],
          "name": "stdout"
        }
      ]
    },
    {
      "cell_type": "code",
      "metadata": {
        "id": "XWZ7BF0jb2Qs",
        "colab_type": "code",
        "colab": {},
        "outputId": "dbfb7870-3f7f-4b70-ae4d-b18c039066ba"
      },
      "source": [
        "input, target = val_ds[10]\n",
        "predict_single(input, target, model)"
      ],
      "execution_count": 0,
      "outputs": [
        {
          "output_type": "stream",
          "text": [
            "Input: tensor([18.0000,  0.0000, 21.2268,  0.0000,  1.0000])\n",
            "Target: tensor([14854.7979])\n",
            "Prediction: tensor(2977.0378)\n"
          ],
          "name": "stdout"
        }
      ]
    },
    {
      "cell_type": "code",
      "metadata": {
        "id": "OkhlYlCsb2Qz",
        "colab_type": "code",
        "colab": {},
        "outputId": "f125e580-db11-401c-c730-c2e4a4514001"
      },
      "source": [
        "input, target = val_ds[23]\n",
        "predict_single(input, target, model)"
      ],
      "execution_count": 0,
      "outputs": [
        {
          "output_type": "stream",
          "text": [
            "Input: tensor([61.0000,  0.0000, 43.1200,  0.0000,  0.0000])\n",
            "Target: tensor([13586.4385])\n",
            "Prediction: tensor(12483.5000)\n"
          ],
          "name": "stdout"
        }
      ]
    },
    {
      "cell_type": "markdown",
      "metadata": {
        "id": "tWbVvoJHb2Q3",
        "colab_type": "text"
      },
      "source": [
        "Are you happy with your model's predictions? Try to improve them further."
      ]
    },
    {
      "cell_type": "markdown",
      "metadata": {
        "id": "jO8yQOhLb2Q4",
        "colab_type": "text"
      },
      "source": [
        "## (Optional) Step 6: Try another dataset & blog about it\n",
        "\n",
        "While this last step is optional for the submission of your assignment, we highly recommend that you do it. Try to clean up & replicate this notebook (or [this one](https://jovian.ml/aakashns/housing-linear-minimal), or [this one](https://jovian.ml/aakashns/mnist-logistic-minimal) ) for a different linear regression or logistic regression problem. This will help solidify your understanding, and give you a chance to differentiate the generic patters in machine learning from problem-specific details.\n",
        "\n",
        "Here are some sources to find good datasets:\n",
        "\n",
        "- https://lionbridge.ai/datasets/10-open-datasets-for-linear-regression/\n",
        "- https://www.kaggle.com/rtatman/datasets-for-regression-analysis\n",
        "- https://archive.ics.uci.edu/ml/datasets.php?format=&task=reg&att=&area=&numAtt=&numIns=&type=&sort=nameUp&view=table\n",
        "- https://people.sc.fsu.edu/~jburkardt/datasets/regression/regression.html\n",
        "- https://archive.ics.uci.edu/ml/datasets/wine+quality\n",
        "- https://pytorch.org/docs/stable/torchvision/datasets.html\n",
        "\n",
        "We also recommend that you write a blog about your approach to the problem. Here is a suggested structure for your post (feel free to experiment with it):\n",
        "\n",
        "- Interesting title & subtitle\n",
        "- Overview of what the blog covers (which dataset, linear regression or logistic regression, intro to PyTorch)\n",
        "- Downloading & exploring the data\n",
        "- Preparing the data for training\n",
        "- Creating a model using PyTorch\n",
        "- Training the model to fit the data\n",
        "- Your thoughts on how to experiment with different hyperparmeters to reduce loss\n",
        "- Making predictions using the model\n",
        "\n",
        "As with the previous assignment, you can [embed Juptyer notebook cells & outputs from Jovian](https://medium.com/jovianml/share-and-embed-jupyter-notebooks-online-with-jovian-ml-df709a03064e) into your blog. \n",
        "\n",
        "Don't forget to share your work on the forum: https://jovian.ml/forum/t/share-your-work-here-assignment-2/4931"
      ]
    },
    {
      "cell_type": "code",
      "metadata": {
        "id": "b2E67SLzb2Q4",
        "colab_type": "code",
        "colab": {},
        "outputId": "549f97b7-c618-4ec3-9392-b6d6cad153d6"
      },
      "source": [
        "jovian.commit(project=project_name, environment=None)\n",
        "jovian.commit(project=project_name, environment=None) # try again, kaggle fails sometimes"
      ],
      "execution_count": 0,
      "outputs": [
        {
          "output_type": "display_data",
          "data": {
            "application/javascript": [
              "window.require && require([\"base/js/namespace\"],function(Jupyter){Jupyter.notebook.save_checkpoint()})"
            ],
            "text/plain": [
              "<IPython.core.display.Javascript object>"
            ]
          },
          "metadata": {
            "tags": []
          }
        },
        {
          "output_type": "stream",
          "text": [
            "[jovian] Attempting to save notebook..\u001b[0m\n",
            "[jovian] Updating notebook \"abhi050/02-insurance-linear-regression\" on https://jovian.ml/\u001b[0m\n",
            "[jovian] Uploading notebook..\u001b[0m\n",
            "[jovian] Attaching records (metrics, hyperparameters, dataset etc.)\u001b[0m\n",
            "[jovian] Committed successfully! https://jovian.ml/abhi050/02-insurance-linear-regression\u001b[0m\n"
          ],
          "name": "stdout"
        },
        {
          "output_type": "display_data",
          "data": {
            "application/javascript": [
              "window.require && require([\"base/js/namespace\"],function(Jupyter){Jupyter.notebook.save_checkpoint()})"
            ],
            "text/plain": [
              "<IPython.core.display.Javascript object>"
            ]
          },
          "metadata": {
            "tags": []
          }
        },
        {
          "output_type": "stream",
          "text": [
            "[jovian] Attempting to save notebook..\u001b[0m\n"
          ],
          "name": "stdout"
        }
      ]
    },
    {
      "cell_type": "code",
      "metadata": {
        "id": "nCnxH4Vhb2Q_",
        "colab_type": "code",
        "colab": {}
      },
      "source": [
        ""
      ],
      "execution_count": 0,
      "outputs": []
    }
  ]
}